{
 "cells": [
  {
   "cell_type": "markdown",
   "metadata": {},
   "source": [
    "# Model crazy beliefs with Gaussian mixture models"
   ]
  },
  {
   "cell_type": "markdown",
   "metadata": {},
   "source": [
    "Useful documents:\n",
    "\n",
    "https://cran.r-project.org/web/packages/bgmm/bgmm.pdf\n",
    "\n",
    "http://bgmm.molgen.mpg.de/\n",
    "\n",
    "https://www.jstatsoft.org/article/view/v047i03/v47i03.pdf"
   ]
  },
  {
   "cell_type": "markdown",
   "metadata": {},
   "source": [
    "## Load packages"
   ]
  },
  {
   "cell_type": "code",
   "execution_count": 312,
   "metadata": {
    "scrolled": true
   },
   "outputs": [],
   "source": [
    "library(bgmm)"
   ]
  },
  {
   "cell_type": "markdown",
   "metadata": {},
   "source": [
    "This package offers the following model-fitting functions:\n",
    "\n",
    "supervised -- for supervised learning, where all examples have a label guaranteed to be true\n",
    "unsupervised -- for unsupervised learning, where there are no labels for any examples\n",
    "semisupervised --  for semi-supervised learning, where examples either have (a) a certain label or (b) no label at all. There are no uncertain labels\n",
    "soft -- for \"soft\" semi-supervised learning: for examples that have labels, these are specified as probabilities over all possible labels.\n",
    "belief -- for \"belief-based\" partially supervised learning: for examples that have labels, these are specified as probabilities over all possible labels.\n",
    "\n",
    "*NB the difference between soft and belief-based learning are not clear to me yet.*\n",
    "\n",
    "**General arguments for all methods:**\n",
    "\n",
    "*knowns:* a matrix of coordinates for each labeled item (ie, how \"spiky\" or \"smooth\" each labeled fruit example is). Each row is one item, each column is one feature dimension. For our study there is only one feature dimension (spiky/smooth) so examples are specified as a column vector, with one element for each labeled item in the experiment.\n",
    "\n",
    "*x:* a matrix indicating the coordinates for all *unlabeled* items. In our studies, the unlabeled items are just the items used for grid test 1 and grid test 2.\n",
    "\n",
    "*class:* for supervised and semisupervised learning, this is a vector indicating the true class label for each item denoted in \"knowns\"\n",
    "\n",
    "*P or B:* For partially supervised learning (soft or belief), this is a matrix indicating, for each item listed in \"knowns\", the probability that the item has each possible label. P / B are specified as a matrix with each row corresponding to one item (as denoted in \"knowns\") and each column corresponding to one possible label. In our study there are two possible labels (\"Raw\",\"Cooked\"), so this would be a matrix with two columns. For a given row, the first column indicates the probability that the item has label 1 (\"Raw\") and the second indicates the probability that the item has lable 2 (\"Cooked\")."
   ]
  },
  {
   "cell_type": "markdown",
   "metadata": {},
   "source": [
    "## Some example uses of the package for supervised and semi-supervised learning"
   ]
  },
  {
   "cell_type": "markdown",
   "metadata": {},
   "source": [
    "**Example: Fitting a supervised model.**\n",
    "\n",
    "The models are fit by calling the function with the required parameters specified and storing the result. Here is an example for a fully supervised model, which only needs (1) the coordinates of the stimuli and (2) the true class labels for each."
   ]
  },
  {
   "cell_type": "code",
   "execution_count": 313,
   "metadata": {},
   "outputs": [
    {
     "data": {
      "image/png": "[encoded data removed]",
      "text/plain": [
       "plot without title"
      ]
     },
     "metadata": {},
     "output_type": "display_data"
    }
   ],
   "source": [
    "k <- c(1:300) #x values for training data\n",
    "cl <- c(rep(1, times = 100), rep(0, times = 200)) #Vector of labels for supervised items\n",
    "sup.mod <- supervised(knowns = k, class=cl) #Fit supervised mixture model\n",
    "plot(sup.mod) #Plot fitted model"
   ]
  },
  {
   "cell_type": "markdown",
   "metadata": {},
   "source": [
    "**Example: Fitting a semi-supervised model where the true class label is known for only a few items**\n",
    "\n",
    "Example assumes items 51-60 get label 1 and items 251-260 get label 2\n",
    "\n",
    "\n"
   ]
  },
  {
   "cell_type": "code",
   "execution_count": 314,
   "metadata": {},
   "outputs": [
    {
     "data": {
      "image/png": "[encoded data removed]",
      "text/plain": [
       "plot without title"
      ]
     },
     "metadata": {},
     "output_type": "display_data"
    }
   ],
   "source": [
    "k <- c(51:60, 251:260) #vector indicating labeled example x values.\n",
    "cl <- c(rep(1, times = 10), rep(2, times = 10))  #True class labels for the items denoted in k\n",
    "uk <- c(1:300) #Unlabeled items\n",
    "\n",
    "semi.mod <- semisupervised(knowns = k, X = uk, class =cl)   #Fit model\n",
    "plot(semi.mod)"
   ]
  },
  {
   "cell_type": "markdown",
   "metadata": {},
   "source": [
    "You can look at all model parameters using the *summary(semi.mod)* command, which returns the following information, each a different field in the model object:\n",
    "\n",
    "- pi: Probability of sampling from each of the 2 components\n",
    "- mu: Estimated mean of each component\n",
    "- cvar: Estimated variance and covariances of the components\n",
    "- P: The P matrix for the labeled items (estimated from the \"class\" argument above)\n",
    "- m: The number of labeled items\n",
    "- n: Total number of items seen during learning (labeled and unlabeled)\n",
    "- k: Total number of possible classes / components in mixture\n",
    "- d: Not sure!\n",
    "- likelihood: Log likelihood of the data given the model\n",
    "- n.steps: Number of steps in the EM-algorithm (I think)\n",
    "- tij: Matrix providing, for each item in the training set (rows) and each label - (cols), the probability that the item gets that label\n",
    "- X: Coordinates of unlabeled items\n",
    "- knowns: Coordinates of labeled items\n",
    "- model.structure: Not sure!\n",
    "- dof: Degrees of freedom for fitting the model\n",
    "- class: Labels provided for the labeled items"
   ]
  },
  {
   "cell_type": "code",
   "execution_count": 315,
   "metadata": {},
   "outputs": [
    {
     "data": {
      "text/plain": [
       "                  Length Class  Mode   \n",
       "pi                  2    -none- numeric\n",
       "mu                  2    -none- numeric\n",
       "cvar                2    -none- numeric\n",
       "P                  40    -none- numeric\n",
       "m                   1    -none- numeric\n",
       "n                   1    -none- numeric\n",
       "k                   1    -none- numeric\n",
       "d                   1    -none- numeric\n",
       "likelihood          1    -none- numeric\n",
       "n.steps             1    -none- numeric\n",
       "tij               640    -none- numeric\n",
       "X                 300    -none- numeric\n",
       "knowns             20    -none- numeric\n",
       "model.structure     4    -none- list   \n",
       "dof                 1    -none- numeric\n",
       "pca.dim.reduction   1    -none- numeric\n",
       "class              20    -none- numeric"
      ]
     },
     "metadata": {},
     "output_type": "display_data"
    }
   ],
   "source": [
    "summary(semi.mod)"
   ]
  },
  {
   "cell_type": "markdown",
   "metadata": {},
   "source": [
    "The model can be used to predict the label probabilities for new observations using the predict function:"
   ]
  },
  {
   "cell_type": "code",
   "execution_count": 316,
   "metadata": {},
   "outputs": [
    {
     "data": {
      "text/plain": [
       "             Length Class  Mode   \n",
       "tij.X        600    -none- numeric\n",
       "tij.knowns     0    -none- NULL   \n",
       "class.X      300    -none- numeric\n",
       "class.knowns   0    -none- NULL   "
      ]
     },
     "metadata": {},
     "output_type": "display_data"
    }
   ],
   "source": [
    "newx <- c(0:299) + .5 #Some new values for X\n",
    "p <- predict(semi.mod, newx) #Predict labels for newx using semi.mod\n",
    "summary(p)"
   ]
  },
  {
   "cell_type": "markdown",
   "metadata": {},
   "source": [
    "Predict returns the following fields:\n",
    "\n",
    "- tij.X: For each item predicted (rows), probability of each label (cols)\n",
    "- tij.knowns: Empty strings (no knowns provided for predicting!)\n",
    "- class.X: The most likely category label for each predicted item\n",
    "- class.knowns: Empty strings (no knowns when predicting!)\n",
    "\n",
    "The most interesting output is tij, the predicted probability of each label for the new observations, which can be plotted as follows:"
   ]
  },
  {
   "cell_type": "code",
   "execution_count": 317,
   "metadata": {},
   "outputs": [
    {
     "data": {
      "image/png": "[encoded data removed]",
      "text/plain": [
       "plot without title"
      ]
     },
     "metadata": {},
     "output_type": "display_data"
    }
   ],
   "source": [
    "plot(newx, p$tij.X[,1], type = \"l\")  #plots probability of getting label 1 for each value of spikiness listed in xnew"
   ]
  },
  {
   "cell_type": "markdown",
   "metadata": {},
   "source": [
    "# Simulating the experiments"
   ]
  },
  {
   "cell_type": "markdown",
   "metadata": {},
   "source": [
    "### Functions"
   ]
  },
  {
   "cell_type": "markdown",
   "metadata": {},
   "source": [
    "Function to get weight for farther source."
   ]
  },
  {
   "cell_type": "code",
   "execution_count": 318,
   "metadata": {},
   "outputs": [],
   "source": [
    "get.pwt <- function(s, f, c){\n",
    "    #Return proportion of weight given to far source, given\n",
    "    #c = distance between initial boundary and close source\n",
    "    #f = distance between initial boundary and far source\n",
    "    #s = amount of shift\n",
    "    \n",
    "    (s-c)/(f-c)\n",
    "}"
   ]
  },
  {
   "cell_type": "code",
   "execution_count": 319,
   "metadata": {},
   "outputs": [],
   "source": [
    "#Function to fit weighted Gaussian mixture models with online learning\n",
    "plt.wgmm.seq <- dget(\"plot_wgmm_seq.R\")"
   ]
  },
  {
   "cell_type": "markdown",
   "metadata": {},
   "source": [
    "## Equal weight to both sources"
   ]
  },
  {
   "cell_type": "markdown",
   "metadata": {},
   "source": [
    "### Experiment 1\n",
    "\n",
    "In our study there are 20 labelled trials (2 items each repeated 10 times in random order, labeled by the \"Captain\"), followed by 40 unlabeled trials (grid test 1), followed by 301 trials labeled by the two sources, followed by 40 unlabeled items in grid test 2. We want to model learning using partially-supervised algorithms (soft or belief), which allow us to indicate the uncertainty that comes with two sources who disagree. To do this we need to indicate the set of stimulus items that appear with labels, the set of items that appear without labels, and the degree of label certainty associated with each labeled item.\n",
    "\n",
    "**NOTE**: In standard use the algorithm doesn't care about the order in which items are encountered--a single model is fit to all data. (For online trust updating this will be different.) With this in mind, the unlabeled items are those appearing in grid test 1 and grid test 2, which range from 60 to 240 in steps of 10, with each appearing twice in each of the 2 grid tests. So unlabelled items can be encoded in the following vector:"
   ]
  },
  {
   "cell_type": "code",
   "execution_count": 320,
   "metadata": {},
   "outputs": [],
   "source": [
    "tmp <- c(6:24)*10 #temporary vector counting from 60 to 240 in steps of 10\n",
    "uk <- c(tmp, tmp, tmp, tmp)  #vector of \"unknowns\" that includes 4 repetitions of the grid"
   ]
  },
  {
   "cell_type": "markdown",
   "metadata": {},
   "source": [
    "The labeled items include (1) 10 repetitions each of the 2 captain-labeled items, and (2) items 0-300 each appearing once and labeled by the 2 sources. So we create a vector to hold the spikiness values for these items as follows:"
   ]
  },
  {
   "cell_type": "code",
   "execution_count": 321,
   "metadata": {},
   "outputs": [],
   "source": [
    "k <- c(rep(100, times = 10), rep(200, times = 10), 0:300) "
   ]
  },
  {
   "cell_type": "markdown",
   "metadata": {},
   "source": [
    "We then need a third data structure to store the labels provided for each of these items. Since this is partially-supervised learning, we want a matrix with 321 rows (one for each element of k) and 2 columns (one for each possible label, raw or cooked). The numbers in this matrix will indicate, for each item in k, the probability that it should be \"raw\" (column 1) or \"cooked\" (column 2) based on the labels provided by the sources. For the first 20 items, these probabilities will be certain (0 or 1) since the Captain is providing them. Let's make a vector for the captain's labels, assuming the lower numbers get the label 1 and the higher numbers get the label 0:"
   ]
  },
  {
   "cell_type": "code",
   "execution_count": 322,
   "metadata": {},
   "outputs": [],
   "source": [
    "clab <- c(rep(1, times = 10), rep(0, times = 10)) #Captain gives first 10 items in k label 1 and second 10 items label 0."
   ]
  },
  {
   "cell_type": "markdown",
   "metadata": {},
   "source": [
    "This simulation assumes the two sources always get equal weighting--thus for the remaining 301 items, the probabilities will be the mean of the labels provided by the 2 sources: certain where the 2 sources agree, and 0.5 for items where they disagree. One easy way to make these \"soft\" probabilities is to begin with the labels that are provided by each source, coding one label with 1 and the other with 0. Source 1 has a boundary at 50 while source 2 has a boundary at 165 so the relevant labels and associated probability can be computed as follows:"
   ]
  },
  {
   "cell_type": "code",
   "execution_count": 323,
   "metadata": {},
   "outputs": [],
   "source": [
    "s1 <- c(rep(1, times = 51), rep(0, times = 250))  #Source 1 labels\n",
    "s2 <- c(rep(1, times = 166), rep(0, times = 135))  #Source 2 labels        "
   ]
  },
  {
   "cell_type": "markdown",
   "metadata": {},
   "source": [
    "For these 301 items, the probability that each gets label 1 is just the mean of these two vectors. For values from 0-50, both sources have a 1 so the mean will be 1 for each. For values from 51-176, s1 has a 0 and s2 has a 1 so the mean will b 0.5. For the remaining items, both sources have a 0, so the mean will be 0 for each. So we can specify the probability of getting label 1 for the 20 items labeled by the captain and the 301 items labeled by the 2 sources as follows:"
   ]
  },
  {
   "cell_type": "code",
   "execution_count": 324,
   "metadata": {},
   "outputs": [],
   "source": [
    "plab1 <- c(clab, (s1 + s2)/2)  #captain's labels followed by mean of s1 and s2 labels"
   ]
  },
  {
   "cell_type": "markdown",
   "metadata": {},
   "source": [
    "Since this is binary classification, the probability of the other label is just $1 - plab1$. We can compute this, then bind the two vectors together to provide a matrix of \"soft\" labels:"
   ]
  },
  {
   "cell_type": "code",
   "execution_count": 325,
   "metadata": {},
   "outputs": [],
   "source": [
    "plab2 <- 1 - plab1\n",
    "b <- cbind(plab1, plab2)   #bind the two vectors describing label probabilities into a single 2-column matrix."
   ]
  },
  {
   "cell_type": "markdown",
   "metadata": {},
   "source": [
    "Now we have all the elements we need to fit and investigate the model. First we want to see what the model looks like after learning from *just* the captain and the initial grid, before exposure to the 2 companions. At this point there are 20 \"known\" items (the ones labeled by the captain) and 40 \"unknowns\" (the one encountered during the grid test). Then we want to see what the model looks like after being fitted to all data. We can fit the two models and plot them as follows:\n"
   ]
  },
  {
   "cell_type": "code",
   "execution_count": 326,
   "metadata": {},
   "outputs": [
    {
     "data": {
      "image/png": "[encoded data removed]",
      "text/plain": [
       "plot without title"
      ]
     },
     "metadata": {},
     "output_type": "display_data"
    }
   ],
   "source": [
    "mod1 <- soft(knowns = k[1:20], X = uk[1:38], P = b[1:20,]) #First 20 knowns and first 38 unknowns, on the grid\n",
    "mod2 <- soft(knowns = k, X = uk, P = b) #All knowns, unknowns, and soft labels\n",
    "\n",
    "xnew <- c(0:3000)/10\n",
    "m1pred <- predict(mod1, xnew)\n",
    "m2pred <- predict(mod2, xnew)\n",
    "\n",
    "pdiff1 <- abs(m1pred$tij.X[,1] - m1pred$tij.X[,2])\n",
    "b1 <- xnew[pdiff1==min(pdiff1)]\n",
    "\n",
    "pdiff2 <- abs(m2pred$tij.X[,1] - m2pred$tij.X[,2])\n",
    "b2 <- xnew[pdiff2==min(pdiff2)]\n",
    "\n",
    "par(mfrow = c(2,1), mar = c(2,3,2,3)) #Plot a 2-row panel figure with margins set according to mar\n",
    "plot(mod1); abline(v = b1, lty = 3)     #Plot model 1 in the first panel and add a vertical dotted line at X = 150\n",
    "plot(mod2); abline(v = b2, lty = 3)     #Plot model 2 in the second panel and add a vertical dotted line at X = 150"
   ]
  },
  {
   "cell_type": "code",
   "execution_count": 327,
   "metadata": {},
   "outputs": [
    {
     "data": {
      "text/html": [
       "<strong>png:</strong> 2"
      ],
      "text/latex": [
       "\\textbf{png:} 2"
      ],
      "text/markdown": [
       "**png:** 2"
      ],
      "text/plain": [
       "png \n",
       "  2 "
      ]
     },
     "metadata": {},
     "output_type": "display_data"
    }
   ],
   "source": [
    "pdf(\"exp1_gmm_fw.pdf\", width=8, height=8)\n",
    "par(mfrow = c(2,1), mar = c(2,3,2,3)) #Plot a 2-row panel figure with margins set according to mar\n",
    "plot(mod1); abline(v = b1, lty = 3)     #Plot model 1 in the first panel and add a vertical dotted line at X = 150\n",
    "plot(mod2); abline(v = b2, lty = 3)     #Plot model 2 in the second panel and add a vertical dotted line at X = 150\n",
    "dev.off()"
   ]
  },
  {
   "cell_type": "markdown",
   "metadata": {},
   "source": [
    "The boundary begins at 150 (top) and shifts slightly toward the far source (left). How can we figure out where the boundary is? One way is to use the fitted model to predict probabilities for the two labels and find the value of X for which the two probabilities are equal:"
   ]
  },
  {
   "cell_type": "code",
   "execution_count": 328,
   "metadata": {},
   "outputs": [
    {
     "data": {
      "text/html": [
       "<ol class=list-inline>\n",
       "\t<li>150</li>\n",
       "\t<li>136.5</li>\n",
       "\t<li>-13.5</li>\n",
       "</ol>\n"
      ],
      "text/latex": [
       "\\begin{enumerate*}\n",
       "\\item 150\n",
       "\\item 136.5\n",
       "\\item -13.5\n",
       "\\end{enumerate*}\n"
      ],
      "text/markdown": [
       "1. 150\n",
       "2. 136.5\n",
       "3. -13.5\n",
       "\n",
       "\n"
      ],
      "text/plain": [
       "[1] 150.0 136.5 -13.5"
      ]
     },
     "metadata": {},
     "output_type": "display_data"
    }
   ],
   "source": [
    "c(b1, b2, b2-b1)\n"
   ]
  },
  {
   "cell_type": "markdown",
   "metadata": {},
   "source": [
    "So boundary shifts toward the far source, comparable to the experiment."
   ]
  },
  {
   "cell_type": "markdown",
   "metadata": {},
   "source": [
    "## Remaining studies"
   ]
  },
  {
   "cell_type": "markdown",
   "metadata": {},
   "source": [
    "Read in data structures to simulate experiments (copied from discriminative model notebook)"
   ]
  },
  {
   "cell_type": "code",
   "execution_count": 329,
   "metadata": {},
   "outputs": [],
   "source": [
    "#All studies\n",
    "x <- 0:300 #Set of stimulus items\n",
    "gtest <- c(6:24)*10 #grid test items\n",
    "\n",
    "#Experiment 1\n",
    "citems <- c(rep(100, times = 10), rep(200, times = 10)) #Captain-labelled items\n",
    "citems <- citems + ((runif(20)*2) - 1)  #Add small amount of noise to captain-labeled items\n",
    "clabs <- c(rep(1, times = 10), rep(0, times = 10))      #Category labels for captain-labelled items\n",
    "\n",
    "is <- rep(0, times = 301) #initialize source with zeros\n",
    "e1s1 <- is; e1s2 <- is    #initalize experiment 1 sources\n",
    "e1s1[1:51] <- 1           #Source 1 labels items 0-50 with 1 \n",
    "e1s2[1:166] <- 1          #Source 2 labels itesm 0-165 with 1\n",
    "\n",
    "#Experiment 2\n",
    "e2s1 <- e1s2              #Source 1 (fixed) is the same as source 2 in experiment 1\n",
    "\n",
    "e2s2 <- matrix(0, 15, 301)  #Source 2 boundary varies across learners in this experiment;\n",
    "                            #We will simulate 15 different far sources\n",
    "for(i1 in c(1:15)) e2s2[i1, c(1:(i1*10))] <- 1 #Source 2 labels for 15 source\n",
    "\n",
    "#Experiment 3\n",
    "e3citems <- c(rep(30, times = 10), rep(170, times = 10))    #For experiment 3, captain-labeled items are at 30 and 170\n",
    "e3citems <- e3citems + ((runif(20)*2) - 1)  #Add small amount of noise to captain-labeled items\n",
    "e3s1 <- is; e3s2 <- is    #initalize experiment 3 sources\n",
    "e3s1[1:101] <- 1           #Source 1 labels items 0-100 with 1 \n",
    "e3s2[1:201] <- 1          #Source 2 labels itesm 0-200 with 1\n",
    "\n",
    "#Experiment 4\n",
    "e4citems <- c(30, 170)    #For experiment 4, captain-labeled items are at 30 and 170\n",
    "\n",
    "#Source labels for experiment 4\n",
    "e4has1 <- is; e4has1[1:126] <- 1               #High agreement\n",
    "e4has2 <- is; e4has2[1:176] <- 1               \n",
    "e4mas1 <- is; e4mas1[1:101] <- 1               #moderate agreement\n",
    "e4mas2 <- is; e4mas2[1:201] <- 1               \n",
    "e4mds1 <- is; e4mds1[1:76] <- 1               #moderate disagreement\n",
    "e4mds2 <- is; e4mds2[1:226] <- 1               \n",
    "e4hds1 <- is; e4hds1[1:51] <- 1               #high disagreement\n",
    "e4hds2 <- is; e4hds2[1:251] <- 1               \n",
    "\n"
   ]
  },
  {
   "cell_type": "markdown",
   "metadata": {},
   "source": [
    "### Experiment 2"
   ]
  },
  {
   "cell_type": "markdown",
   "metadata": {},
   "source": [
    "In study 2 the initial learning (model 1) is the same a Experiment 1, so we will re-use here. Each participant sees different feedback information during the multiple-supervision phase, so we will fit a separate model-2 for each simulated participant. Rather than randomly sampling these we will just compute model predictions for an equally-spaced range of values."
   ]
  },
  {
   "cell_type": "code",
   "execution_count": 330,
   "metadata": {},
   "outputs": [
    {
     "data": {
      "text/html": [
       "<ol class=list-inline>\n",
       "\t<li>-14.4</li>\n",
       "\t<li>-14.3</li>\n",
       "\t<li>-13.9</li>\n",
       "\t<li>-13.8</li>\n",
       "\t<li>-13.6</li>\n",
       "\t<li>-13.3</li>\n",
       "\t<li>-12.5</li>\n",
       "\t<li>-12</li>\n",
       "\t<li>-10.8</li>\n",
       "\t<li>-9.30000000000001</li>\n",
       "\t<li>-7.30000000000001</li>\n",
       "\t<li>-4.69999999999999</li>\n",
       "\t<li>-1.59999999999999</li>\n",
       "\t<li>1.80000000000001</li>\n",
       "\t<li>6.30000000000001</li>\n",
       "</ol>\n"
      ],
      "text/latex": [
       "\\begin{enumerate*}\n",
       "\\item -14.4\n",
       "\\item -14.3\n",
       "\\item -13.9\n",
       "\\item -13.8\n",
       "\\item -13.6\n",
       "\\item -13.3\n",
       "\\item -12.5\n",
       "\\item -12\n",
       "\\item -10.8\n",
       "\\item -9.30000000000001\n",
       "\\item -7.30000000000001\n",
       "\\item -4.69999999999999\n",
       "\\item -1.59999999999999\n",
       "\\item 1.80000000000001\n",
       "\\item 6.30000000000001\n",
       "\\end{enumerate*}\n"
      ],
      "text/markdown": [
       "1. -14.4\n",
       "2. -14.3\n",
       "3. -13.9\n",
       "4. -13.8\n",
       "5. -13.6\n",
       "6. -13.3\n",
       "7. -12.5\n",
       "8. -12\n",
       "9. -10.8\n",
       "10. -9.30000000000001\n",
       "11. -7.30000000000001\n",
       "12. -4.69999999999999\n",
       "13. -1.59999999999999\n",
       "14. 1.80000000000001\n",
       "15. 6.30000000000001\n",
       "\n",
       "\n"
      ],
      "text/plain": [
       " [1] -14.4 -14.3 -13.9 -13.8 -13.6 -13.3 -12.5 -12.0 -10.8  -9.3  -7.3  -4.7\n",
       "[13]  -1.6   1.8   6.3"
      ]
     },
     "metadata": {},
     "output_type": "display_data"
    }
   ],
   "source": [
    "nsjs <- dim(e2s2)[1] #Number of simulated subjects\n",
    "\n",
    "xnew <- c(0:3000)/10 #Grid points to find boundary\n",
    "\n",
    "b2 <- rep(NA, times = nsjs) #Initialize vector for boundary-2\n",
    "\n",
    "for(i1 in c(1:nsjs)){\n",
    "    #For each subject\n",
    "    plab1 <- c(clab, (e2s1 + e2s2[i1,])/2)  #captain's labels followed by mean of s1 and s2 labels\n",
    "    plab2 <- 1 - plab1\n",
    "    b <- cbind(plab1, plab2) #Soft labels\n",
    "    \n",
    "    #Fit model 2\n",
    "    mod2 <- soft(knowns = k, X = uk, P = b)\n",
    "\n",
    "    p <- predict(mod2, xnew)\n",
    "    pdiff <- abs(p$tij.X[,1] - p$tij.X[,2])\n",
    "    b2[i1] <- xnew[pdiff==min(pdiff)]\n",
    "    }\n",
    "\n",
    "\n",
    "bshift <- b2 - b1\n",
    "bshift"
   ]
  },
  {
   "cell_type": "code",
   "execution_count": 331,
   "metadata": {},
   "outputs": [
    {
     "data": {
      "text/plain": [
       "\n",
       "\tOne Sample t-test\n",
       "\n",
       "data:  bshift\n",
       "t = -5.2824, df = 14, p-value = 0.0001158\n",
       "alternative hypothesis: true mean is not equal to 0\n",
       "95 percent confidence interval:\n",
       " -12.504243  -5.282424\n",
       "sample estimates:\n",
       "mean of x \n",
       "-8.893333 \n"
      ]
     },
     "metadata": {},
     "output_type": "display_data"
    }
   ],
   "source": [
    "t.test(bshift)"
   ]
  },
  {
   "cell_type": "markdown",
   "metadata": {},
   "source": [
    "Boundary shifts significantly toward far source."
   ]
  },
  {
   "cell_type": "code",
   "execution_count": 332,
   "metadata": {},
   "outputs": [],
   "source": [
    "pwt <- rep(0, times = nsjs)\n",
    "s <- b2 - b1   #Amount of shift\n",
    "f <- rowSums(e2s2) - b1  #Distance of variable source to initial boundary\n",
    "c <- sum(e2s1) - b1      #Distance of fixed source to initial boundary\n",
    "\n",
    "for(i1 in c(1:15)) pwt[i1] <- get.pwt(s[i1], f[i1], c)"
   ]
  },
  {
   "cell_type": "code",
   "execution_count": 333,
   "metadata": {},
   "outputs": [
    {
     "data": {
      "image/png": "[encoded data removed]",
      "text/plain": [
       "plot without title"
      ]
     },
     "metadata": {},
     "output_type": "display_data"
    }
   ],
   "source": [
    "par(mfrow = c(1,2), mar = c(10,4,10,2))\n",
    "plot(150 - rowSums(e2s2), b2- b1, type = \"o\", ylab = \"Boundary shift\", xlab = \"Variable source distance\")\n",
    "plot(150 - rowSums(e2s2), pwt, type = \"o\", ylab = \"p(source)\", xlab = \"Variable source distance\",\n",
    "    ylim = c(0,1))"
   ]
  },
  {
   "cell_type": "code",
   "execution_count": 334,
   "metadata": {},
   "outputs": [
    {
     "data": {
      "text/html": [
       "<strong>png:</strong> 2"
      ],
      "text/latex": [
       "\\textbf{png:} 2"
      ],
      "text/markdown": [
       "**png:** 2"
      ],
      "text/plain": [
       "png \n",
       "  2 "
      ]
     },
     "metadata": {},
     "output_type": "display_data"
    }
   ],
   "source": [
    "postscript(\"e2_gmm_fixwt.ps\", width=8, height=8)\n",
    "par(mar = c(4,3,2,2))\n",
    "plot(150 - rowSums(e2s2), pwt, type = \"o\", ylab = \"p(source)\", xlab = \"Variable source distance\",\n",
    "    ylim = c(0,1), pch=16)\n",
    "dev.off()"
   ]
  },
  {
   "cell_type": "markdown",
   "metadata": {},
   "source": [
    "Boundary shift declines nonlinearly with distance of far source, as does estimate of weight given to far source, but still not with nonlinear characteristic of data."
   ]
  },
  {
   "cell_type": "markdown",
   "metadata": {},
   "source": [
    "### Experiment 3"
   ]
  },
  {
   "cell_type": "markdown",
   "metadata": {},
   "source": [
    "In experiment 3, the Captain provided labels at 70, 130, promoting an initial boundary near 100. Source 1 then used a boundary at 100, and source 2 a boundary at 200. We can simualte this study using the same code as experiment 1, but changing the fully-supervised (Captain's) labels, and using the experiment 3 labels for S1 and S2."
   ]
  },
  {
   "cell_type": "code",
   "execution_count": 335,
   "metadata": {},
   "outputs": [],
   "source": [
    "k[1:20] <- e3citems #Replace items labelled by captain\n",
    "plab1 <- c(clab, (e3s1 + e3s2)/2) #Probability of label 1\n",
    "plab2 <- 1 - plab1                #Probability of label 2\n",
    "b <- cbind(plab1, plab2)          #Label probability matrix\n",
    "mod1 <- soft(knowns=k[1:20], X=uk[1:38], P=b[1:20,]) #Fit initial model\n",
    "mod2 <- soft(knowns = k, X = uk, P = b) #Fit model 2 "
   ]
  },
  {
   "cell_type": "code",
   "execution_count": 336,
   "metadata": {},
   "outputs": [
    {
     "data": {
      "image/png": "[encoded data removed]",
      "text/plain": [
       "plot without title"
      ]
     },
     "metadata": {},
     "output_type": "display_data"
    }
   ],
   "source": [
    "xnew <- c(0:3000)/10\n",
    "m1pred <- predict(mod1, xnew)\n",
    "m2pred <- predict(mod2, xnew)\n",
    "\n",
    "pdiff1 <- abs(m1pred$tij.X[,1] - m1pred$tij.X[,2])\n",
    "b1 <- xnew[pdiff1==min(pdiff1)]\n",
    "\n",
    "pdiff2 <- abs(m2pred$tij.X[,1] - m2pred$tij.X[,2])\n",
    "b2 <- xnew[pdiff2==min(pdiff2)]\n",
    "\n",
    "par(mfrow = c(2,1), mar = c(2,3,2,3)) #Plot a 2-row panel figure with margins set according to mar\n",
    "plot(mod1); abline(v = b1, lty = 3)     #Plot model 1 in the first panel and add a vertical dotted line at X = 150\n",
    "plot(mod2); abline(v = b2, lty = 3)     #Plot model 2 in the second panel and add a vertical dotted line at X = 150"
   ]
  },
  {
   "cell_type": "code",
   "execution_count": 337,
   "metadata": {},
   "outputs": [
    {
     "data": {
      "text/html": [
       "<strong>png:</strong> 2"
      ],
      "text/latex": [
       "\\textbf{png:} 2"
      ],
      "text/markdown": [
       "**png:** 2"
      ],
      "text/plain": [
       "png \n",
       "  2 "
      ]
     },
     "metadata": {},
     "output_type": "display_data"
    }
   ],
   "source": [
    "postscript(\"e3_gmm_fixwt.ps\", width=8, height=8)\n",
    "par(mfrow = c(2,1), mar = c(2,3,2,3)) #Plot a 2-row panel figure with margins set according to mar\n",
    "plot(mod1); abline(v = b1, lty = 3)     #Plot model 1 in the first panel and add a vertical dotted line at X = 150\n",
    "plot(mod2); abline(v = b2, lty = 3)     #Plot model 2 in the second panel and add a vertical dotted line at X = 150\n",
    "dev.off()"
   ]
  },
  {
   "cell_type": "code",
   "execution_count": 338,
   "metadata": {},
   "outputs": [
    {
     "data": {
      "text/html": [
       "<ol class=list-inline>\n",
       "\t<li>97.3</li>\n",
       "\t<li>135.8</li>\n",
       "\t<li>38.5</li>\n",
       "</ol>\n"
      ],
      "text/latex": [
       "\\begin{enumerate*}\n",
       "\\item 97.3\n",
       "\\item 135.8\n",
       "\\item 38.5\n",
       "\\end{enumerate*}\n"
      ],
      "text/markdown": [
       "1. 97.3\n",
       "2. 135.8\n",
       "3. 38.5\n",
       "\n",
       "\n"
      ],
      "text/plain": [
       "[1]  97.3 135.8  38.5"
      ]
     },
     "metadata": {},
     "output_type": "display_data"
    }
   ],
   "source": [
    "xnew <- c(0:3000)/10\n",
    "m1pred <- predict(mod1, xnew)\n",
    "m2pred <- predict(mod2, xnew)\n",
    "\n",
    "pdiff1 <- abs(m1pred$tij.X[,1] - m1pred$tij.X[,2])\n",
    "b1 <- xnew[pdiff1==min(pdiff1)]\n",
    "\n",
    "pdiff2 <- abs(m2pred$tij.X[,1] - m2pred$tij.X[,2])\n",
    "b2 <- xnew[pdiff2==min(pdiff2)]\n",
    "\n",
    "c(b1, b2, b2-b1)"
   ]
  },
  {
   "cell_type": "markdown",
   "metadata": {},
   "source": [
    "Predicts large shift toward midline"
   ]
  },
  {
   "cell_type": "code",
   "execution_count": 339,
   "metadata": {},
   "outputs": [
    {
     "data": {
      "text/html": [
       "0.378435517970402"
      ],
      "text/latex": [
       "0.378435517970402"
      ],
      "text/markdown": [
       "0.378435517970402"
      ],
      "text/plain": [
       "[1] 0.3784355"
      ]
     },
     "metadata": {},
     "output_type": "display_data"
    }
   ],
   "source": [
    "get.pwt(b2-b1, b1, abs(100-b1))"
   ]
  },
  {
   "cell_type": "markdown",
   "metadata": {},
   "source": [
    "Less weight given to far source"
   ]
  },
  {
   "cell_type": "markdown",
   "metadata": {},
   "source": [
    "### Experiment 4"
   ]
  },
  {
   "cell_type": "markdown",
   "metadata": {},
   "source": [
    "In this experiment the Captain provides the same labels as Experiment 3, and the two sources again provide labels based on boundaries equidistant from the range midpoint at 150. Different conditions vary *how far* from the midpoint the two source boundaries are (high agreement, moderate agreement, moderate disagreement, high disagreement). This block will therefore fit four different \"after\" models and compute the boundary shift for each."
   ]
  },
  {
   "cell_type": "code",
   "execution_count": 340,
   "metadata": {},
   "outputs": [],
   "source": [
    "bshift <- rep(NA, times = 4) #Initialize vector to hold boundary shift results\n",
    "xnew <- c(0:3000)/10 #Grid to find boundary\n",
    "\n",
    "#High agreement condition\n",
    "plab1 <- c(clab, (e4has1 + e4has2)/2) #Probability of label 1\n",
    "plab2 <- 1 - plab1                #Probability of label 2\n",
    "b <- cbind(plab1, plab2)          #Label probability matrix\n",
    "modha <- soft(knowns = k, X = uk, P = b) #Fit high agreement model\n",
    "p <- predict(modha, xnew)\n",
    "pdiff <- abs(p$tij.X[,1] - p$tij.X[,2])\n",
    "b2 <- xnew[pdiff==min(pdiff)]\n",
    "bshift[1] <- b2 - 100\n",
    "\n",
    "#Moderate agreement condition\n",
    "plab1 <- c(clab, (e4mas1 + e4mas2)/2) #Probability of label 1\n",
    "plab2 <- 1 - plab1                #Probability of label 2\n",
    "b <- cbind(plab1, plab2)          #Label probability matrix\n",
    "modma <- soft(knowns = k, X = uk, P = b) #Fit moderate agreement model\n",
    "p <- predict(modma, xnew)\n",
    "pdiff <- abs(p$tij.X[,1] - p$tij.X[,2])\n",
    "b2 <- xnew[pdiff==min(pdiff)]\n",
    "bshift[2] <- b2 - 100\n",
    "\n",
    "#Moderate disagreement condition\n",
    "plab1 <- c(clab, (e4mds1 + e4mds2)/2) #Probability of label 1\n",
    "plab2 <- 1 - plab1                #Probability of label 2\n",
    "b <- cbind(plab1, plab2)          #Label probability matrix\n",
    "modmd <- soft(knowns = k, X = uk, P = b) #Fit moderate disagreement model\n",
    "p <- predict(modmd, xnew)\n",
    "pdiff <- abs(p$tij.X[,1] - p$tij.X[,2])\n",
    "b2 <- xnew[pdiff==min(pdiff)]\n",
    "bshift[3] <- b2 - 100\n",
    "\n",
    "#High disagreement condition\n",
    "plab1 <- c(clab, (e4hds1 + e4hds2)/2) #Probability of label 1\n",
    "plab2 <- 1 - plab1                #Probability of label 2\n",
    "b <- cbind(plab1, plab2)          #Label probability matrix\n",
    "modhd <- soft(knowns = k, X = uk, P = b) #Fit high disagreement model\n",
    "p <- predict(modhd, xnew)\n",
    "pdiff <- abs(p$tij.X[,1] - p$tij.X[,2])\n",
    "b2 <- xnew[pdiff==min(pdiff)]\n",
    "bshift[4] <- b2 - 100\n",
    "\n"
   ]
  },
  {
   "cell_type": "code",
   "execution_count": 341,
   "metadata": {
    "scrolled": false
   },
   "outputs": [
    {
     "data": {
      "image/png": "[encoded data removed]",
      "text/plain": [
       "plot without title"
      ]
     },
     "metadata": {},
     "output_type": "display_data"
    }
   ],
   "source": [
    "barplot(bshift, names=c(\"HA\",\"MA\",\"MD\", \"HD\"))"
   ]
  },
  {
   "cell_type": "markdown",
   "metadata": {},
   "source": [
    "All models shift toward the midpoint, with stronger shift for higher agreement between sources."
   ]
  },
  {
   "cell_type": "code",
   "execution_count": 342,
   "metadata": {
    "scrolled": false
   },
   "outputs": [
    {
     "data": {
      "image/png": "[encoded data removed]",
      "text/plain": [
       "Plot with title \"High disagreement\""
      ]
     },
     "metadata": {},
     "output_type": "display_data"
    }
   ],
   "source": [
    "xnew <- c(0:3000)/10\n",
    "m1pred <- predict(modha, xnew)\n",
    "m2pred <- predict(modhd, xnew)\n",
    "\n",
    "pdiff1 <- abs(m1pred$tij.X[,1] - m1pred$tij.X[,2])\n",
    "b1 <- xnew[pdiff1==min(pdiff1)]\n",
    "\n",
    "pdiff2 <- abs(m2pred$tij.X[,1] - m2pred$tij.X[,2])\n",
    "b2 <- xnew[pdiff2==min(pdiff2)]\n",
    "\n",
    "par(mfrow = c(2,1))\n",
    "plot(modha); title(\"High agreement\"); abline(v=b1, lty = 3)\n",
    "plot(modhd); title(\"High disagreement\"); abline(v=b2, lty = 3)"
   ]
  },
  {
   "cell_type": "markdown",
   "metadata": {},
   "source": [
    "# Oracle-weighted models"
   ]
  },
  {
   "cell_type": "markdown",
   "metadata": {},
   "source": [
    "In these simulations we use the initial model formed from captain-labeled items and the first grid test to determine soft weights for items labeled from the two sources. When both sources agree, the model is given probabilities of 1 for the corresponding label. When they disagree, however, the weight given to Label A is exactly the probability that the item has label A according to the initial model, and same for B. **Note** that, since the same initial model is used to weight all subsequent observations, the model can be fit as a full batch, rather than getting updated online. Thus the order in which the items are encountered doesn't matter. Batch-trained models are faster to fit, so here is raw code to do this:"
   ]
  },
  {
   "cell_type": "code",
   "execution_count": 343,
   "metadata": {},
   "outputs": [],
   "source": [
    "k <- c(rep(100, times = 10), rep(200, times = 10), 0:300) \n",
    "clab <- c(rep(1, times = 10), rep(0, times = 10)) #Captain gives first 10 items in k label 1 and second 10 items label 0.\n",
    "\n",
    "s1 <- c(rep(1, times = 51), rep(0, times = 250))  #Source 1 labels\n",
    "s2 <- c(rep(1, times = 166), rep(0, times = 135))  #Source 2 labels      \n",
    "\n",
    "#Fit initial model:\n",
    "mod1 <- soft(knowns = k[1:20], X = uk[1:38], P = b[1:20,]) #First 20 knowns and first 38 unknowns, on the grid\n",
    "\n",
    "#Probability label=1\n",
    "agree <- s1==s2 #Logical indicating where sources agree\n",
    "plab1 <- (s1 + s2)/2 #Initialize with mean of two sources \n",
    "owt <- predict(mod1, x)$tij.X[,1] #Oracle-weighted probabilty stimulus is 1\n",
    "plab1[!agree] <- owt[!agree] #Where they disagree, replace plab1 with oracle-weighted probability\n",
    "plab1 <- c(clab, plab1)  #append captain's labels followed by mean of s1 and s2 labels\n",
    "\n",
    "plab2 <- 1 - plab1\n",
    "b <- cbind(plab1, plab2)\n",
    "mod2 <- soft(knowns = k, X = uk, P = b) #Fit second model\n"
   ]
  },
  {
   "cell_type": "code",
   "execution_count": 344,
   "metadata": {},
   "outputs": [
    {
     "data": {
      "image/png": "[encoded data removed]",
      "text/plain": [
       "plot without title"
      ]
     },
     "metadata": {},
     "output_type": "display_data"
    }
   ],
   "source": [
    "xnew <- c(0:3000)/10\n",
    "m1pred <- predict(mod1, xnew)\n",
    "m2pred <- predict(mod2, xnew)\n",
    "\n",
    "pdiff1 <- abs(m1pred$tij.X[,1] - m1pred$tij.X[,2])\n",
    "b1 <- xnew[pdiff1==min(pdiff1)]\n",
    "\n",
    "pdiff2 <- abs(m2pred$tij.X[,1] - m2pred$tij.X[,2])\n",
    "b2 <- xnew[pdiff2==min(pdiff2)]\n",
    "\n",
    "par(mfrow = c(2,1), mar = c(2,3,2,3)) #Plot a 2-row panel figure with margins set according to mar\n",
    "plot(mod1); abline(v = b1, lty = 3)     #Plot model 1 in the first panel and add a vertical dotted line at X = 150\n",
    "plot(mod2); abline(v = b2, lty = 3)     #Plot model 2 in the second panel and add a vertical dotted line at X = 150"
   ]
  },
  {
   "cell_type": "code",
   "execution_count": 262,
   "metadata": {},
   "outputs": [
    {
     "data": {
      "text/html": [
       "<strong>png:</strong> 2"
      ],
      "text/latex": [
       "\\textbf{png:} 2"
      ],
      "text/markdown": [
       "**png:** 2"
      ],
      "text/plain": [
       "png \n",
       "  2 "
      ]
     },
     "metadata": {},
     "output_type": "display_data"
    }
   ],
   "source": [
    "pdf(\"e2_gmm_owt.pdf\", w=8, h=8)\n",
    "par(mfrow = c(2,1), mar = c(2,3,2,3)) #Plot a 2-row panel figure with margins set according to mar\n",
    "plot(mod1); abline(v = b1, lty = 3)     #Plot model 1 in the first panel and add a vertical dotted line at X = 150\n",
    "plot(mod2); abline(v = b2, lty = 3)     #Plot model 2 in the second panel and add a vertical dotted line at X = 150\n",
    "dev.off()"
   ]
  },
  {
   "cell_type": "markdown",
   "metadata": {},
   "source": [
    "Compute the mean shift for the batch-fit model:"
   ]
  },
  {
   "cell_type": "code",
   "execution_count": 345,
   "metadata": {},
   "outputs": [
    {
     "data": {
      "text/html": [
       "-0.1"
      ],
      "text/latex": [
       "-0.1"
      ],
      "text/markdown": [
       "-0.1"
      ],
      "text/plain": [
       "[1] -0.1"
      ]
     },
     "metadata": {},
     "output_type": "display_data"
    }
   ],
   "source": [
    "xnew = c(0:3000)/10\n",
    "p <- predict(mod1, xnew)\n",
    "diff = abs(p$tij.X[,1] - p$tij.X[,2])\n",
    "b1 <- xnew[diff==min(diff)]\n",
    "\n",
    "xnew = c(0:3000)/10\n",
    "p <- predict(mod2, xnew)\n",
    "diff = abs(p$tij.X[,1] - p$tij.X[,2])\n",
    "b2 <- xnew[diff==min(diff)]\n",
    "\n",
    "round(b2-b1, 2)"
   ]
  },
  {
   "cell_type": "markdown",
   "metadata": {},
   "source": [
    "No shift to the boundary."
   ]
  },
  {
   "cell_type": "markdown",
   "metadata": {},
   "source": [
    "Alternatively one could use the plt.wgmm.seq function loaded above to fit a sequence of models with online learning. Setting update=F means the initial model will be used to compute weights for all learning examples. The code then shuffles the sequence of training items and fits a new model with each new training item. The outcome is the same and it takes longer, but here is the code to do it that way:"
   ]
  },
  {
   "cell_type": "code",
   "execution_count": 305,
   "metadata": {},
   "outputs": [
    {
     "name": "stderr",
     "output_type": "stream",
     "text": [
      "Warning message in if (is.na(k)) k <- c(rep(100, times = 10), rep(200, times = 10)):\n",
      "\"the condition has length > 1 and only the first element will be used\""
     ]
    },
    {
     "data": {
      "image/png": "[encoded data removed]",
      "text/plain": [
       "plot without title"
      ]
     },
     "metadata": {},
     "output_type": "display_data"
    }
   ],
   "source": [
    "k <- c(rep(100, times = 10), rep(200, times = 10)) #Captain-labeled items \n",
    "clab <- c(rep(1, times = 10), rep(0, times = 10)) #Captain gives first 10 items in k label 1 and second 10 items label 0.\n",
    "\n",
    "s1 <- c(rep(1, times = 51), rep(0, times = 250))  #Source 1 labels\n",
    "s2 <- c(rep(1, times = 166), rep(0, times = 135))  #Source 2 labels      \n",
    "\n",
    "mods <- plt.wgmm.seq(x=c(0:300), s1=s1, s2=s2, k=k, update = F) #Fit and plot models"
   ]
  },
  {
   "cell_type": "markdown",
   "metadata": {},
   "source": [
    "Results are the same so we will use batch-fit model in rest of simulations."
   ]
  },
  {
   "cell_type": "markdown",
   "metadata": {},
   "source": [
    "### Experiment 2"
   ]
  },
  {
   "cell_type": "markdown",
   "metadata": {},
   "source": [
    "In study 2 the initial learning (model 1) is the same a Experiment 1, so we will re-use here to generate weightings for the two-source learning phase. Specifically, we will use the initial model 1 as a model of the oracle and for each new item labeled by two sources, we will provide a weight of 1 to the provided label when the two sources agree, and a weight determined by the model 1 posterior probability curve when the two sources disagree:\n"
   ]
  },
  {
   "cell_type": "code",
   "execution_count": 346,
   "metadata": {},
   "outputs": [
    {
     "data": {
      "image/png": "[encoded data removed]",
      "text/plain": [
       "plot without title"
      ]
     },
     "metadata": {},
     "output_type": "display_data"
    }
   ],
   "source": [
    "p <- predict(mod1, c(0:300))$tij.X[,1]\n",
    "plot(c(0:300), p, type = \"l\")"
   ]
  },
  {
   "cell_type": "markdown",
   "metadata": {},
   "source": [
    "In the experiment, each subject gets a different source-2 boundary, which varies across subjects in distance from the midpoint. So we will fit a separate model for each subject, systematically varying the distance of the second source. For each simulated subject, we use the initial and final models to estimate the boundary shift, and from this we compute the estimated weight $\\theta$ given to the variable source as described in the paper. We then plot the estimate of $\\theta$ against the distance of the varying source."
   ]
  },
  {
   "cell_type": "code",
   "execution_count": 347,
   "metadata": {},
   "outputs": [
    {
     "data": {
      "text/html": [
       "<ol class=list-inline>\n",
       "\t<li>-0.1</li>\n",
       "\t<li>-0.1</li>\n",
       "\t<li>-0.1</li>\n",
       "\t<li>-0.1</li>\n",
       "\t<li>-0.1</li>\n",
       "\t<li>-0.1</li>\n",
       "\t<li>-0.1</li>\n",
       "\t<li>-0.1</li>\n",
       "\t<li>-0.1</li>\n",
       "\t<li>-0.1</li>\n",
       "\t<li>-0.1</li>\n",
       "\t<li>-0.1</li>\n",
       "\t<li>-0.1</li>\n",
       "\t<li>0.2</li>\n",
       "\t<li>2.4</li>\n",
       "</ol>\n"
      ],
      "text/latex": [
       "\\begin{enumerate*}\n",
       "\\item -0.1\n",
       "\\item -0.1\n",
       "\\item -0.1\n",
       "\\item -0.1\n",
       "\\item -0.1\n",
       "\\item -0.1\n",
       "\\item -0.1\n",
       "\\item -0.1\n",
       "\\item -0.1\n",
       "\\item -0.1\n",
       "\\item -0.1\n",
       "\\item -0.1\n",
       "\\item -0.1\n",
       "\\item 0.2\n",
       "\\item 2.4\n",
       "\\end{enumerate*}\n"
      ],
      "text/markdown": [
       "1. -0.1\n",
       "2. -0.1\n",
       "3. -0.1\n",
       "4. -0.1\n",
       "5. -0.1\n",
       "6. -0.1\n",
       "7. -0.1\n",
       "8. -0.1\n",
       "9. -0.1\n",
       "10. -0.1\n",
       "11. -0.1\n",
       "12. -0.1\n",
       "13. -0.1\n",
       "14. 0.2\n",
       "15. 2.4\n",
       "\n",
       "\n"
      ],
      "text/plain": [
       " [1] -0.1 -0.1 -0.1 -0.1 -0.1 -0.1 -0.1 -0.1 -0.1 -0.1 -0.1 -0.1 -0.1  0.2  2.4"
      ]
     },
     "metadata": {},
     "output_type": "display_data"
    }
   ],
   "source": [
    "nsjs <- dim(e2s2)[1] #Number of simulated subjects\n",
    "\n",
    "xnew <- c(0:3000)/10 #Grid points to find boundary\n",
    "\n",
    "b2 <- rep(NA, times = nsjs) #Initialize vector for boundary-2\n",
    "\n",
    "#Weight predicted by model of oracle\n",
    "owt <- predict(mod1, c(0:300))$tij.X[,1]\n",
    "\n",
    "for(i1 in c(1:nsjs)){\n",
    "    #For each subject\n",
    "    #probability that item gets label 1:\n",
    "    agree <- e2s1==e2s2[i1,] #logical vector indicating where 2 source agree\n",
    "    plab1 <- (e2s1 + e2s2[i1,])/2 #initialize with mean of source labels\n",
    "    plab1[!agree] <- owt[!agree] #Where they disagree, replace with predicted prob given by mod1\n",
    "    plab1 <- c(clab, plab1) #Append certain labels to beginning\n",
    "    \n",
    "    plab2 <- 1 - plab1  #Probability of other label is 1-plab1\n",
    "    b <- cbind(plab1, plab2) #Bind into matrix\n",
    "    \n",
    "    #Fit model 2\n",
    "    mod2 <- soft(knowns = k, X = uk, P = b)\n",
    "\n",
    "    p <- predict(mod2, xnew)\n",
    "    pdiff <- abs(p$tij.X[,1] - p$tij.X[,2])\n",
    "    b2[i1] <- xnew[pdiff==min(pdiff)]\n",
    "    }\n",
    "\n",
    "\n",
    "bshift <- b2 - b1\n",
    "round(bshift, 2)"
   ]
  },
  {
   "cell_type": "code",
   "execution_count": 348,
   "metadata": {},
   "outputs": [
    {
     "data": {
      "text/plain": [
       "\n",
       "\tOne Sample t-test\n",
       "\n",
       "data:  bshift\n",
       "t = 0.52071, df = 14, p-value = 0.6107\n",
       "alternative hypothesis: true mean is not equal to 0\n",
       "95 percent confidence interval:\n",
       " -0.2703072  0.4436405\n",
       "sample estimates:\n",
       " mean of x \n",
       "0.08666667 \n"
      ]
     },
     "metadata": {},
     "output_type": "display_data"
    }
   ],
   "source": [
    "t.test(bshift)"
   ]
  },
  {
   "cell_type": "markdown",
   "metadata": {},
   "source": [
    "On average boundary does not shift."
   ]
  },
  {
   "cell_type": "code",
   "execution_count": 349,
   "metadata": {},
   "outputs": [],
   "source": [
    "pwt <- rep(0, times = nsjs)\n",
    "s <- b2 - b1   #Amount of shift\n",
    "f <- rowSums(e2s2) - b1[1]  #Distance of variable source to initial boundary\n",
    "c <- sum(e2s1) - b1[1]      #Distance of fixed source to initial boundary\n",
    "\n",
    "for(i1 in c(1:15)) pwt[i1] <- get.pwt(s[i1], f[i1], c)"
   ]
  },
  {
   "cell_type": "code",
   "execution_count": 350,
   "metadata": {},
   "outputs": [
    {
     "data": {
      "image/png": "[encoded data removed]",
      "text/plain": [
       "plot without title"
      ]
     },
     "metadata": {},
     "output_type": "display_data"
    }
   ],
   "source": [
    "par(mfrow = c(1,2), mar = c(10,4,10,2))\n",
    "plot(150 - rowSums(e2s2), b2- b1, type = \"o\", ylab = \"Boundary shift\", xlab = \"Variable source distance\")\n",
    "plot(150 - rowSums(e2s2), pwt, type = \"o\", ylab = \"p(source)\", xlab = \"Variable source distance\",\n",
    "    ylim = c(0,1))"
   ]
  },
  {
   "cell_type": "code",
   "execution_count": 351,
   "metadata": {},
   "outputs": [
    {
     "data": {
      "text/html": [
       "<strong>png:</strong> 2"
      ],
      "text/latex": [
       "\\textbf{png:} 2"
      ],
      "text/markdown": [
       "**png:** 2"
      ],
      "text/plain": [
       "png \n",
       "  2 "
      ]
     },
     "metadata": {},
     "output_type": "display_data"
    }
   ],
   "source": [
    "postscript(\"e2_gmm_owt.ps\", width=8, height=8)\n",
    "par(mar = c(4,3,2,2))\n",
    "plot(150 - rowSums(e2s2), pwt, type = \"o\", ylab = \"p(source)\", xlab = \"Variable source distance\",\n",
    "    ylim = c(0,1), pch=16)\n",
    "dev.off()"
   ]
  },
  {
   "cell_type": "markdown",
   "metadata": {},
   "source": [
    "Curve begins to look similar to experiment but still not as steep, and boundary does not shift at all."
   ]
  },
  {
   "cell_type": "markdown",
   "metadata": {},
   "source": [
    "### Experiment 3"
   ]
  },
  {
   "cell_type": "markdown",
   "metadata": {},
   "source": [
    "In experiment 3, the Captain provided labels at 70, 130, promoting an initial boundary near 100. Source 1 then used a boundary at 100, and source 2 a boundary at 200. We can simualte this study using the same code as experiment 1, but changing the fully-supervised (Captain's) labels, and using the experiment 3 labels for S1 and S2."
   ]
  },
  {
   "cell_type": "code",
   "execution_count": 352,
   "metadata": {},
   "outputs": [],
   "source": [
    "rm(mod1, mod2)"
   ]
  },
  {
   "cell_type": "code",
   "execution_count": 355,
   "metadata": {},
   "outputs": [],
   "source": [
    "k <- e3citems #Replace items labelled by captain\n",
    "b <- cbind(clab, 1-clab) #Certain labels for initial model\n",
    "mod1 <- soft(knowns=k, X=uk[1:38], P=b) #Fit initial model\n",
    "\n",
    "#Probability of label 1:\n",
    "agree <- e3s1==e3s2 #Logical indicating where they agree\n",
    "owt <- predict(mod1, x)$tij.X[,1] #Oracle-based probabilities\n",
    "plab1 <-(e3s1 + e3s2)/2 #Initialize with mean of source labels\n",
    "plab1[!agree] <- owt[!agree] #Where sources disagree, replace with oracle-based probabilities\n",
    "plab1 <- c(clab, plab1) #append certain labels\n",
    "\n",
    "plab2 <- 1 - plab1                #Probability of label 2\n",
    "\n",
    "b <- cbind(plab1, plab2)          #Label probability matrix\n",
    "k <- c(k, x)\n",
    "mod2 <- soft(knowns = k, X = uk, P = b) #Fit model 2 "
   ]
  },
  {
   "cell_type": "code",
   "execution_count": 356,
   "metadata": {},
   "outputs": [
    {
     "data": {
      "image/png": "[encoded data removed]",
      "text/plain": [
       "Plot with title \"Final\""
      ]
     },
     "metadata": {},
     "output_type": "display_data"
    }
   ],
   "source": [
    "par(mfrow = c(2,1), mar = c(2,3,2,3)) #Plot a 2-row panel figure with margins set according to mar\n",
    "\n",
    "#Mod1 boundary\n",
    "bp <- predict(mod1, xnew)$tij.X\n",
    "diff <- abs(bp[,1] - bp[,2])\n",
    "b1 <- xnew[diff==min(diff)]\n",
    "\n",
    "#Mod2 boundary\n",
    "bp <- predict(mod2, xnew)$tij.X\n",
    "diff <- abs(bp[,1] - bp[,2])\n",
    "b2 <- xnew[diff==min(diff)]\n",
    "\n",
    "par(mfrow = c(2,1))\n",
    "plot(mod1); title(\"Initial\"); abline(v=b1, lty = 3)\n",
    "plot(mod2); title(\"Final\"); abline(v=b2, lty = 3)\n"
   ]
  },
  {
   "cell_type": "code",
   "execution_count": 357,
   "metadata": {},
   "outputs": [
    {
     "data": {
      "text/html": [
       "<strong>png:</strong> 2"
      ],
      "text/latex": [
       "\\textbf{png:} 2"
      ],
      "text/markdown": [
       "**png:** 2"
      ],
      "text/plain": [
       "png \n",
       "  2 "
      ]
     },
     "metadata": {},
     "output_type": "display_data"
    }
   ],
   "source": [
    "pdf(\"e3_gmm_owt.pdf\", w=8, h=8)\n",
    "par(mfrow = c(2,1), mar = c(2,3,2,3)) #Plot a 2-row panel figure with margins set according to mar\n",
    "plot(mod1); abline(v = b1, lty = 3)     #Plot model 1 in the first panel and add a vertical dotted line at X = 150\n",
    "plot(mod2); abline(v = b2, lty = 3)     #Plot model 2 in the second panel and add a vertical dotted line at X = 150\n",
    "dev.off()"
   ]
  },
  {
   "cell_type": "code",
   "execution_count": 358,
   "metadata": {},
   "outputs": [
    {
     "data": {
      "text/html": [
       "<ol class=list-inline>\n",
       "\t<li>97.4</li>\n",
       "\t<li>103.4</li>\n",
       "\t<li>6</li>\n",
       "</ol>\n"
      ],
      "text/latex": [
       "\\begin{enumerate*}\n",
       "\\item 97.4\n",
       "\\item 103.4\n",
       "\\item 6\n",
       "\\end{enumerate*}\n"
      ],
      "text/markdown": [
       "1. 97.4\n",
       "2. 103.4\n",
       "3. 6\n",
       "\n",
       "\n"
      ],
      "text/plain": [
       "[1]  97.4 103.4   6.0"
      ]
     },
     "metadata": {},
     "output_type": "display_data"
    }
   ],
   "source": [
    "round(c(bm1, bm2, bm2-bm1),2)"
   ]
  },
  {
   "cell_type": "markdown",
   "metadata": {},
   "source": [
    "Small shift toward midline"
   ]
  },
  {
   "cell_type": "code",
   "execution_count": 359,
   "metadata": {},
   "outputs": [
    {
     "data": {
      "text/html": [
       "0.0358649789029536"
      ],
      "text/latex": [
       "0.0358649789029536"
      ],
      "text/markdown": [
       "0.0358649789029536"
      ],
      "text/plain": [
       "[1] 0.03586498"
      ]
     },
     "metadata": {},
     "output_type": "display_data"
    }
   ],
   "source": [
    "get.pwt(bm2-bm1, bm1, abs(100-bm1))"
   ]
  },
  {
   "cell_type": "markdown",
   "metadata": {},
   "source": [
    "Much less weight given to far source"
   ]
  },
  {
   "cell_type": "markdown",
   "metadata": {},
   "source": [
    "### Experiment 4"
   ]
  },
  {
   "cell_type": "markdown",
   "metadata": {},
   "source": [
    "In this experiment the Captain provides the same labels as Experiment 3, and the two sources again provide labels based on boundaries equidistant from the range midpoint at 150. Different conditions vary *how far* from the midpoint the two source boundaries are (high agreement, moderate agreement, moderate disagreement, high disagreement). This block will therefore fit four different \"after\" models and compute the boundary shift for each."
   ]
  },
  {
   "cell_type": "code",
   "execution_count": 360,
   "metadata": {},
   "outputs": [],
   "source": [
    "x=c(0:300)\n",
    "bshift <- rep(NA, times = 4) #Initialize vector to hold boundary shift results\n",
    "xnew <- c(0:3000)/10 #Grid to find boundary\n",
    "\n",
    "#High agreement condition\n",
    "agree <- e4has1==e4has2 #Logical indicating where they agree\n",
    "owt <- predict(mod1, x)$tij.X[,1] #Oracle-based probabilities\n",
    "plab1 <-(e4has1 + e4has2)/2 #Initialize with mean of source labels\n",
    "plab1[!agree] <- owt[!agree] #Where sources disagree, replace with oracle-based probabilities\n",
    "plab1 <- c(clab, plab1) #append certain labels\n",
    "plab2 <- 1 - plab1                #Probability of label 2\n",
    "b <- cbind(plab1, plab2)          #Label probability matrix\n",
    "modha <- soft(knowns = k, X = uk, P = b) #Fit high agreement model\n",
    "p <- predict(modha, xnew)\n",
    "pdiff <- abs(p$tij.X[,1] - p$tij.X[,2])\n",
    "b2 <- xnew[pdiff==min(pdiff)]\n",
    "bshift[1] <- b2 - 100\n",
    "\n",
    "#Moderate agreement condition\n",
    "agree <- e4mas1==e4mas2 #Logical indicating where they agree\n",
    "owt <- predict(mod1, x)$tij.X[,1] #Oracle-based probabilities\n",
    "plab1 <-(e3s1 + e3s2)/2 #Initialize with mean of source labels\n",
    "plab1[!agree] <- owt[!agree] #Where sources disagree, replace with oracle-based probabilities\n",
    "plab1 <- c(clab, plab1) #append certain labels\n",
    "plab2 <- 1 - plab1                #Probability of label 2\n",
    "b <- cbind(plab1, plab2)          #Label probability matrix\n",
    "modma <- soft(knowns = k, X = uk, P = b) #Fit moderate agreement model\n",
    "p <- predict(modma, xnew)\n",
    "pdiff <- abs(p$tij.X[,1] - p$tij.X[,2])\n",
    "b2 <- xnew[pdiff==min(pdiff)]\n",
    "bshift[2] <- b2 - 100\n",
    "\n",
    "#Moderate disagreement condition\n",
    "agree <- e4mds1==e4mds2 #Logical indicating where they agree\n",
    "owt <- predict(mod1, x)$tij.X[,1] #Oracle-based probabilities\n",
    "plab1 <-(e3s1 + e3s2)/2 #Initialize with mean of source labels\n",
    "plab1[!agree] <- owt[!agree] #Where sources disagree, replace with oracle-based probabilities\n",
    "plab1 <- c(clab, plab1) #append certain labels\n",
    "plab2 <- 1 - plab1                #Probability of label 2\n",
    "b <- cbind(plab1, plab2)          #Label probability matrix\n",
    "modmd <- soft(knowns = k, X = uk, P = b) #Fit moderate disagreement model\n",
    "p <- predict(modmd, xnew)\n",
    "pdiff <- abs(p$tij.X[,1] - p$tij.X[,2])\n",
    "b2 <- xnew[pdiff==min(pdiff)]\n",
    "bshift[3] <- b2 - 100\n",
    "\n",
    "#High disagreement condition\n",
    "agree <- e4hds1==e4hds2 #Logical indicating where they agree\n",
    "owt <- predict(mod1, x)$tij.X[,1] #Oracle-based probabilities\n",
    "plab1 <-(e3s1 + e3s2)/2 #Initialize with mean of source labels\n",
    "plab1[!agree] <- owt[!agree] #Where sources disagree, replace with oracle-based probabilities\n",
    "plab1 <- c(clab, plab1) #append certain labels\n",
    "plab2 <- 1 - plab1                #Probability of label 2\n",
    "b <- cbind(plab1, plab2)          #Label probability matrix\n",
    "modhd <- soft(knowns = k, X = uk, P = b) #Fit high disagreement model\n",
    "p <- predict(modhd, xnew)\n",
    "pdiff <- abs(p$tij.X[,1] - p$tij.X[,2])\n",
    "b2 <- xnew[pdiff==min(pdiff)]\n",
    "bshift[4] <- b2 - 100\n",
    "\n"
   ]
  },
  {
   "cell_type": "code",
   "execution_count": 362,
   "metadata": {
    "scrolled": false
   },
   "outputs": [
    {
     "data": {
      "image/png": "[encoded data removed]",
      "text/plain": [
       "plot without title"
      ]
     },
     "metadata": {},
     "output_type": "display_data"
    }
   ],
   "source": [
    "barplot(bshift, names=c(\"HA\",\"MA\",\"MD\", \"HD\"), ylim = c(-10,40))"
   ]
  },
  {
   "cell_type": "markdown",
   "metadata": {},
   "source": [
    "All models shift toward the midpoint, with stronger shift for higher agreement between sources."
   ]
  },
  {
   "cell_type": "code",
   "execution_count": 363,
   "metadata": {
    "scrolled": false
   },
   "outputs": [
    {
     "data": {
      "image/png": "[encoded data removed]",
      "text/plain": [
       "Plot with title \"High disagreement\""
      ]
     },
     "metadata": {},
     "output_type": "display_data"
    }
   ],
   "source": [
    "#HA boundary\n",
    "bp <- predict(modha, xnew)$tij.X\n",
    "diff <- abs(bp[,1] - bp[,2])\n",
    "bha <- xnew[diff==min(diff)]\n",
    "\n",
    "#HD boundary\n",
    "bp <- predict(modhd, xnew)$tij.X\n",
    "diff <- abs(bp[,1] - bp[,2])\n",
    "bhd <- xnew[diff==min(diff)]\n",
    "\n",
    "par(mfrow = c(2,1))\n",
    "plot(modha); title(\"High agreement\"); abline(v=bha, lty = 3)\n",
    "plot(modhd); title(\"High disagreement\"); abline(v=bhd, lty = 3)"
   ]
  },
  {
   "cell_type": "markdown",
   "metadata": {},
   "source": [
    "# Learner-weighted models"
   ]
  },
  {
   "cell_type": "markdown",
   "metadata": {},
   "source": [
    "In these simulations we use the learner's current model to determine soft weights for items labeled from the two sources. When both sources agree, the model is given probabilities of 1 for the corresponding label. When they disagree, however, the weight given to Label A is exactly the probability that the item has label A according to the learner's current model, and same for B. **Note** that, since weights are given according to the learner's model, and this model changes over time, the model must be fit online rather than getting updated once as a batch. Thus the order in which the items are encountered matters.\n",
    "\n",
    "The function plot_wgmm_seq.R scrambles the order of items, then fits a sequence of gmms online with each new item, and computes boundary estimates at each iteration."
   ]
  },
  {
   "cell_type": "markdown",
   "metadata": {},
   "source": [
    "## Experiment 1"
   ]
  },
  {
   "cell_type": "code",
   "execution_count": 364,
   "metadata": {},
   "outputs": [
    {
     "data": {
      "image/png": "[encoded data removed]",
      "text/plain": [
       "plot without title"
      ]
     },
     "metadata": {},
     "output_type": "display_data"
    }
   ],
   "source": [
    "x <- c(0:300)\n",
    "s1 <- c(rep(1, times = 51), rep(0, times = 250))  #Source 1 labels\n",
    "s2 <- c(rep(1, times = 166), rep(0, times = 135))  #Source 2 labels      \n",
    "\n",
    "bseq <- plt.wgmm.seq(x, s1, s2)"
   ]
  },
  {
   "cell_type": "code",
   "execution_count": 365,
   "metadata": {},
   "outputs": [
    {
     "data": {
      "image/png": "[encoded data removed]",
      "text/plain": [
       "plot without title"
      ]
     },
     "metadata": {},
     "output_type": "display_data"
    }
   ],
   "source": [
    "plot(0:301, bseq[[3]], ylim = c(0,300), type = \"l\"); abline(h=150, lty=2)"
   ]
  },
  {
   "cell_type": "code",
   "execution_count": 366,
   "metadata": {},
   "outputs": [
    {
     "data": {
      "text/html": [
       "-0.699999999999989"
      ],
      "text/latex": [
       "-0.699999999999989"
      ],
      "text/markdown": [
       "-0.699999999999989"
      ],
      "text/plain": [
       "[1] -0.7"
      ]
     },
     "metadata": {},
     "output_type": "display_data"
    }
   ],
   "source": [
    "bseq <- bseq[[3]]\n",
    "bseq[1] - bseq[length(bseq)]"
   ]
  },
  {
   "cell_type": "markdown",
   "metadata": {},
   "source": [
    "Essentially no change in boundary location."
   ]
  },
  {
   "cell_type": "markdown",
   "metadata": {},
   "source": [
    "## Experiment 2"
   ]
  },
  {
   "cell_type": "markdown",
   "metadata": {},
   "source": [
    "In the experiment, each subject gets a different source-2 boundary, which varies across subjects in distance from the midpoint. So we will fit a separate model for each subject, systematically varying the distance of the second source. For each simulated subject, we use the initial and final models to estimate the boundary shift, and from this we compute the estimated weight $\\theta$ given to the variable source as described in the paper. We then plot the estimate of $\\theta$ against the distance of the varying source.\n",
    "\n",
    "**Note** this takes awhile as we are doing online learning---that is, fitting 301 models per subject."
   ]
  },
  {
   "cell_type": "code",
   "execution_count": 371,
   "metadata": {},
   "outputs": [
    {
     "data": {
      "text/html": [
       "<ol class=list-inline>\n",
       "\t<li>1.5</li>\n",
       "\t<li>0.599999999999994</li>\n",
       "\t<li>-1.09999999999999</li>\n",
       "\t<li>0.699999999999989</li>\n",
       "\t<li>2.5</li>\n",
       "\t<li>-0.599999999999994</li>\n",
       "\t<li>-1.30000000000001</li>\n",
       "\t<li>1.5</li>\n",
       "\t<li>-2.19999999999999</li>\n",
       "\t<li>-3.5</li>\n",
       "\t<li>-2.69999999999999</li>\n",
       "\t<li>7.19999999999999</li>\n",
       "\t<li>4.90000000000001</li>\n",
       "\t<li>0.800000000000011</li>\n",
       "\t<li>5</li>\n",
       "</ol>\n"
      ],
      "text/latex": [
       "\\begin{enumerate*}\n",
       "\\item 1.5\n",
       "\\item 0.599999999999994\n",
       "\\item -1.09999999999999\n",
       "\\item 0.699999999999989\n",
       "\\item 2.5\n",
       "\\item -0.599999999999994\n",
       "\\item -1.30000000000001\n",
       "\\item 1.5\n",
       "\\item -2.19999999999999\n",
       "\\item -3.5\n",
       "\\item -2.69999999999999\n",
       "\\item 7.19999999999999\n",
       "\\item 4.90000000000001\n",
       "\\item 0.800000000000011\n",
       "\\item 5\n",
       "\\end{enumerate*}\n"
      ],
      "text/markdown": [
       "1. 1.5\n",
       "2. 0.599999999999994\n",
       "3. -1.09999999999999\n",
       "4. 0.699999999999989\n",
       "5. 2.5\n",
       "6. -0.599999999999994\n",
       "7. -1.30000000000001\n",
       "8. 1.5\n",
       "9. -2.19999999999999\n",
       "10. -3.5\n",
       "11. -2.69999999999999\n",
       "12. 7.19999999999999\n",
       "13. 4.90000000000001\n",
       "14. 0.800000000000011\n",
       "15. 5\n",
       "\n",
       "\n"
      ],
      "text/plain": [
       " [1]  1.5  0.6 -1.1  0.7  2.5 -0.6 -1.3  1.5 -2.2 -3.5 -2.7  7.2  4.9  0.8  5.0"
      ]
     },
     "metadata": {},
     "output_type": "display_data"
    }
   ],
   "source": [
    "nsjs <- dim(e2s2)[1] #Number of simulated subjects\n",
    "\n",
    "xnew <- c(0:3000)/10 #Grid points to find boundary\n",
    "\n",
    "b1 <- rep(NA, times = nsjs) #Initialize vector for boundary-1\n",
    "b2 <- rep(NA, times = nsjs) #Initialize vector for boundary-2\n",
    "\n",
    "for(i1 in c(1:nsjs)){\n",
    "    #For each subject\n",
    "    #probability that item gets label 1:\n",
    "    sjbnd <- plt.wgmm.seq(c(0:300), e2s1, e2s2[i1,], pl=F)[[3]]\n",
    "    b1[i1] <- sjbnd[1] #Initial boundary for this subject\n",
    "    b2[i1] <- sjbnd[length(sjbnd)] #Final boundary for this subject\n",
    "}\n",
    "\n",
    "\n",
    "bshift <- b2 - b1\n",
    "bshift"
   ]
  },
  {
   "cell_type": "code",
   "execution_count": 372,
   "metadata": {
    "scrolled": true
   },
   "outputs": [
    {
     "data": {
      "text/plain": [
       "\n",
       "\tOne Sample t-test\n",
       "\n",
       "data:  bshift\n",
       "t = 1.1316, df = 14, p-value = 0.2768\n",
       "alternative hypothesis: true mean is not equal to 0\n",
       "95 percent confidence interval:\n",
       " -0.7939312  2.5672645\n",
       "sample estimates:\n",
       "mean of x \n",
       "0.8866667 \n"
      ]
     },
     "metadata": {},
     "output_type": "display_data"
    }
   ],
   "source": [
    "t.test(bshift)"
   ]
  },
  {
   "cell_type": "markdown",
   "metadata": {},
   "source": [
    "Boundary does not shift"
   ]
  },
  {
   "cell_type": "code",
   "execution_count": 373,
   "metadata": {},
   "outputs": [],
   "source": [
    "pwt <- rep(0, times = nsjs)\n",
    "s <- b2 - b1   #Amount of shift\n",
    "f <- rowSums(e2s2) - b1[1]  #Distance of variable source to initial boundary\n",
    "c <- sum(e2s1) - b1[1]      #Distance of fixed source to initial boundary\n",
    "\n",
    "for(i1 in c(1:15)) pwt[i1] <- get.pwt(s[i1], f[i1], c)"
   ]
  },
  {
   "cell_type": "code",
   "execution_count": 374,
   "metadata": {},
   "outputs": [
    {
     "data": {
      "image/png": "[encoded data removed]",
      "text/plain": [
       "plot without title"
      ]
     },
     "metadata": {},
     "output_type": "display_data"
    }
   ],
   "source": [
    "par(mfrow = c(1,2), mar = c(10,4,10,2))\n",
    "plot(150 - rowSums(e2s2), b2- b1, type = \"o\", ylab = \"Boundary shift\", xlab = \"Variable source distance\")\n",
    "plot(150 - rowSums(e2s2), pwt, type = \"o\", ylab = \"p(source)\", xlab = \"Variable source distance\",\n",
    "    ylim = c(0,1))"
   ]
  },
  {
   "cell_type": "code",
   "execution_count": 375,
   "metadata": {},
   "outputs": [
    {
     "data": {
      "text/html": [
       "<strong>png:</strong> 2"
      ],
      "text/latex": [
       "\\textbf{png:} 2"
      ],
      "text/markdown": [
       "**png:** 2"
      ],
      "text/plain": [
       "png \n",
       "  2 "
      ]
     },
     "metadata": {},
     "output_type": "display_data"
    }
   ],
   "source": [
    "postscript(\"e2_gmm_lwt.ps\", width=8, height=8)\n",
    "par(mar = c(4,3,2,2))\n",
    "plot(150 - rowSums(e2s2), pwt, type = \"o\", ylab = \"p(source)\", xlab = \"Variable source distance\",\n",
    "    ylim = c(0,1), pch=16)\n",
    "dev.off()"
   ]
  },
  {
   "cell_type": "markdown",
   "metadata": {},
   "source": [
    "Curve doesn't resemble data"
   ]
  },
  {
   "cell_type": "markdown",
   "metadata": {},
   "source": [
    "### Experiment 3"
   ]
  },
  {
   "cell_type": "markdown",
   "metadata": {},
   "source": [
    "In experiment 3, the Captain provided labels at 70, 130, promoting an initial boundary near 100. Source 1 then used a boundary at 100, and source 2 a boundary at 200. We can simualte this study using the same code as experiment 1, but changing the fully-supervised (Captain's) labels, and using the experiment 3 labels for S1 and S2."
   ]
  },
  {
   "cell_type": "code",
   "execution_count": 376,
   "metadata": {},
   "outputs": [
    {
     "name": "stderr",
     "output_type": "stream",
     "text": [
      "Warning message in if (is.na(k)) k <- c(rep(100, times = 10), rep(200, times = 10)):\n",
      "\"the condition has length > 1 and only the first element will be used\""
     ]
    },
    {
     "data": {
      "image/png": "[encoded data removed]",
      "text/plain": [
       "plot without title"
      ]
     },
     "metadata": {},
     "output_type": "display_data"
    }
   ],
   "source": [
    "bseq <- plt.wgmm.seq(x=c(0:300), k = e3citems, s1 = e3s1, s2 = e3s2)"
   ]
  },
  {
   "cell_type": "code",
   "execution_count": 379,
   "metadata": {},
   "outputs": [
    {
     "name": "stderr",
     "output_type": "stream",
     "text": [
      "Warning message in if (is.na(k)) k <- c(rep(100, times = 10), rep(200, times = 10)):\n",
      "\"the condition has length > 1 and only the first element will be used\""
     ]
    },
    {
     "data": {
      "text/html": [
       "<strong>png:</strong> 2"
      ],
      "text/latex": [
       "\\textbf{png:} 2"
      ],
      "text/markdown": [
       "**png:** 2"
      ],
      "text/plain": [
       "png \n",
       "  2 "
      ]
     },
     "metadata": {},
     "output_type": "display_data"
    }
   ],
   "source": [
    "pdf(\"e3_gmm_lwt.pdf\", w=8,h=8)\n",
    "par(mar = c(2,3,2,3)) #Plot a 2-row panel figure with margins set according to mar\n",
    "bseq <- plt.wgmm.seq(x=c(0:300), k = e3citems, s1 = e3s1, s2 = e3s2)\n",
    "dev.off()"
   ]
  },
  {
   "cell_type": "markdown",
   "metadata": {},
   "source": [
    "Note the boundary is offset from the crossing point between distributions b/c, when initial boundary is offset from midpoint, there is a higher prior on category 2 (green)--so it remains a bit more probable even when probability density function for category 1 is a bit higher."
   ]
  },
  {
   "cell_type": "code",
   "execution_count": 380,
   "metadata": {},
   "outputs": [
    {
     "data": {
      "text/html": [
       "6.8"
      ],
      "text/latex": [
       "6.8"
      ],
      "text/markdown": [
       "6.8"
      ],
      "text/plain": [
       "[1] 6.8"
      ]
     },
     "metadata": {},
     "output_type": "display_data"
    }
   ],
   "source": [
    "bseq <- bseq[[3]]\n",
    "s <- bseq[length(bseq)] - bseq[1]\n",
    "s"
   ]
  },
  {
   "cell_type": "markdown",
   "metadata": {},
   "source": [
    "Small shift toward midline"
   ]
  },
  {
   "cell_type": "code",
   "execution_count": 381,
   "metadata": {},
   "outputs": [
    {
     "data": {
      "text/html": [
       "0.0433403805496828"
      ],
      "text/latex": [
       "0.0433403805496828"
      ],
      "text/markdown": [
       "0.0433403805496828"
      ],
      "text/plain": [
       "[1] 0.04334038"
      ]
     },
     "metadata": {},
     "output_type": "display_data"
    }
   ],
   "source": [
    "get.pwt(s, bseq[1], abs(100-bseq[1]))"
   ]
  },
  {
   "cell_type": "markdown",
   "metadata": {},
   "source": [
    "Much less weight given to far source"
   ]
  },
  {
   "cell_type": "markdown",
   "metadata": {},
   "source": [
    "### Experiment 4"
   ]
  },
  {
   "cell_type": "markdown",
   "metadata": {},
   "source": [
    "In this experiment the Captain provides the same labels as Experiment 3, and the two sources again provide labels based on boundaries equidistant from the range midpoint at 150. Different conditions vary *how far* from the midpoint the two source boundaries are (high agreement, moderate agreement, moderate disagreement, high disagreement). This block will therefore fit four different \"after\" models and compute the boundary shift for each."
   ]
  },
  {
   "cell_type": "code",
   "execution_count": 382,
   "metadata": {},
   "outputs": [
    {
     "name": "stderr",
     "output_type": "stream",
     "text": [
      "Warning message in if (is.na(k)) k <- c(rep(100, times = 10), rep(200, times = 10)):\n",
      "\"the condition has length > 1 and only the first element will be used\"Warning message in if (is.na(k)) k <- c(rep(100, times = 10), rep(200, times = 10)):\n",
      "\"the condition has length > 1 and only the first element will be used\"Warning message in if (is.na(k)) k <- c(rep(100, times = 10), rep(200, times = 10)):\n",
      "\"the condition has length > 1 and only the first element will be used\"Warning message in if (is.na(k)) k <- c(rep(100, times = 10), rep(200, times = 10)):\n",
      "\"the condition has length > 1 and only the first element will be used\""
     ]
    }
   ],
   "source": [
    "bshift <- rep(NA, times = 4) #Initialize vector to hold boundary shift results\n",
    "\n",
    "#High agreement condition\n",
    "mods <- plt.wgmm.seq(x=c(0:300), s1=e4has1, s2=e4has2, k=e3citems, pl=F)\n",
    "bseq <- mods[[3]]\n",
    "bshift[1] <- bseq[length(bseq)] - bseq[1]\n",
    "modha <- mods[[2]]\n",
    "\n",
    "#Moderate agreement condition\n",
    "mods <- plt.wgmm.seq(x=c(0:300), s1=e4mas1, s2=e4mas2, k=e3citems,  pl=F)\n",
    "bseq <- mods[[3]]\n",
    "bshift[2] <- bseq[length(bseq)] - bseq[1]\n",
    "modma <- mods[[2]]\n",
    "\n",
    "#Moderate disagreement condition\n",
    "mods <- plt.wgmm.seq(x=c(0:300), s1=e4mds1, s2=e4mds2, k=e3citems,  pl=F)\n",
    "bseq <- mods[[3]]\n",
    "bshift[3] <- bseq[length(bseq)] - bseq[1]\n",
    "modmd <- mods[[2]]\n",
    "\n",
    "#High disagreement condition\n",
    "mods <- plt.wgmm.seq(x=c(0:300), s1=e4hds1, s2=e4hds2, k=e3citems,  pl=F)\n",
    "bseq <- mods[[3]]\n",
    "bshift[4] <- bseq[length(bseq)] - bseq[1]\n",
    "modhd <- mods[[2]]\n"
   ]
  },
  {
   "cell_type": "code",
   "execution_count": 388,
   "metadata": {
    "scrolled": false
   },
   "outputs": [
    {
     "data": {
      "image/png": "[encoded data removed]",
      "text/plain": [
       "plot without title"
      ]
     },
     "metadata": {},
     "output_type": "display_data"
    }
   ],
   "source": [
    "barplot(bshift, names=c(\"HA\",\"MA\",\"MD\", \"HD\"), ylim = c(-40,40))"
   ]
  },
  {
   "cell_type": "markdown",
   "metadata": {},
   "source": [
    "Closer sources produce shift toward midline; farther sources produce shift toward poles"
   ]
  },
  {
   "cell_type": "code",
   "execution_count": 385,
   "metadata": {
    "scrolled": false
   },
   "outputs": [
    {
     "data": {
      "image/png": "[encoded data removed]",
      "text/plain": [
       "Plot with title \"High disagreement\""
      ]
     },
     "metadata": {},
     "output_type": "display_data"
    }
   ],
   "source": [
    "#HA boundary\n",
    "bp <- predict(modha, xnew)$tij.X\n",
    "diff <- abs(bp[,1] - bp[,2])\n",
    "bha <- xnew[diff==min(diff)]\n",
    "\n",
    "#HD boundary\n",
    "bp <- predict(modhd, xnew)$tij.X\n",
    "diff <- abs(bp[,1] - bp[,2])\n",
    "bhd <- xnew[diff==min(diff)]\n",
    "\n",
    "par(mfrow = c(2,1))\n",
    "plot(modha); title(\"High agreement\"); abline(v=bha, lty = 3)\n",
    "plot(modhd); title(\"High disagreement\"); abline(v=bhd, lty = 3)"
   ]
  },
  {
   "cell_type": "markdown",
   "metadata": {},
   "source": [
    "## Scratch"
   ]
  },
  {
   "cell_type": "code",
   "execution_count": null,
   "metadata": {},
   "outputs": [],
   "source": [
    "k <- c(rep(100, times = 10), rep(200, times = 10), 0:300) \n",
    "clab <- c(rep(1, times = 10), rep(0, times = 10)) #Captain gives first 10 items in k label 1 and second 10 items label 0.\n",
    "\n",
    "s1 <- c(rep(1, times = 51), rep(0, times = 250))  #Source 1 labels\n",
    "s2 <- c(rep(1, times = 166), rep(0, times = 135))  #Source 2 labels        \n",
    "\n",
    "lmod <- soft(knowns = k[1:20], X = uk[1:38], P = b[1:20,]) #First 20 knowns and first 38 unknowns, on the grid\n",
    "s1mod <-supervised (knowns=k, class=2 - c(clabs, s1))\n",
    "s2mod <-supervised (knowns=k, class=2 - c(clabs, s2))\n"
   ]
  },
  {
   "cell_type": "code",
   "execution_count": null,
   "metadata": {},
   "outputs": [],
   "source": [
    "plot(lmod)"
   ]
  },
  {
   "cell_type": "code",
   "execution_count": null,
   "metadata": {},
   "outputs": [],
   "source": []
  },
  {
   "cell_type": "code",
   "execution_count": null,
   "metadata": {},
   "outputs": [],
   "source": []
  }
 ],
 "metadata": {
  "kernelspec": {
   "display_name": "R",
   "language": "R",
   "name": "ir"
  },
  "language_info": {
   "codemirror_mode": "r",
   "file_extension": ".r",
   "mimetype": "text/x-r-source",
   "name": "R",
   "pygments_lexer": "r",
   "version": "3.6.1"
  }
 },
 "nbformat": 4,
 "nbformat_minor": 2
}
