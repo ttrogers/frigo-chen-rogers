{
 "cells": [
  {
   "cell_type": "markdown",
   "metadata": {},
   "source": [
    "# Experiment 4 analyses"
   ]
  },
  {
   "cell_type": "markdown",
   "metadata": {},
   "source": [
    "## Study description"
   ]
  },
  {
   "cell_type": "markdown",
   "metadata": {},
   "source": [
    "This study was conducted from Fall 2015 - Fall 2016.\n",
    "\n",
    "The goal was to assess how proximity of the sources to the range midpoint influences \n",
    "boundary shift. In prior experiments we observed:\n",
    "\n",
    "1) When the close source was fixed and a second source varied in its location across subjects,\n",
    "the weight given to the far source declined nonlinearly with its distance from the initial\n",
    "boundary. Participants gave the varying source all of the weight when it was very near their\n",
    "initial boundary, but this weight value declined steeply, then flattened out without dropping to\n",
    "zero (see Experiment 2).\n",
    "\n",
    "2) When two groups begin with different initial boundaries, and when they receive labels\n",
    "from two sources each aligning with the boundary from one group but not the other, \n",
    "then neither group shifts their belief, and the two groups give *opposite* ratings of the source \n",
    "reliability.\n",
    "\n",
    "These two observations suggest that a given group's belief should *stay put* when one source exactly \n",
    "agrees with them but should move toward the *far* source when the two sources both get \n",
    "further away.\n",
    "\n",
    "To test this prediction, we ran the following study:\n",
    "\n",
    "- Two initial groups\n",
    "    - Left-shift has labeled items at 50 and 150, midpoint at 100\n",
    "    - Right-shift has labeled items at 150 and 250, midpoint at 200\n",
    "- 4 source conditions:\n",
    "  - \"Close\": two sources have boundaries near the midline (125 and 175)\n",
    "  - \"Dead\": two sources align with initially learned boundaries for LS and RS groups (100, 200)\n",
    "  - \"Mid\": two sources are closer to extremes than initial boundaries (75, 225)\n",
    "  - \"Far\": two sources are even closer to extremes (50, 250)\n",
    "\n",
    "The nonlinear weighting function from Experiment 2 predicts that participants will move toward the\n",
    "midline in *both* Close and Far conditions, but will show little or no movement in Dead and Mid conditions.\n",
    "\n",
    "NB the \"dead\" condition is an exact replication of Experiment 3 (\"DiffInitialBound\").\n",
    "\n"
   ]
  },
  {
   "cell_type": "markdown",
   "metadata": {},
   "source": [
    "## Useful functions"
   ]
  },
  {
   "cell_type": "code",
   "execution_count": 10,
   "metadata": {},
   "outputs": [],
   "source": [
    "get.data <- dget(\"get_data.r\") #Function to read individual data files\n",
    "get.pars <- dget(\"get_pars.r\") #Function to calculate test 1 and test 2 boundary parameters\n",
    "plot.finalb <- dget(\"plot_finalb.r\") #Function to plot locations of final boundaries across conditions for each group\n",
    "\n",
    "zscore <- function(v){\n",
    "    (v - mean(v))/sqrt(var(v))\n",
    "}\n",
    "\n",
    "plot.cis <- dget(\"plot_cis.r\")"
   ]
  },
  {
   "cell_type": "markdown",
   "metadata": {},
   "source": [
    "Set Zscore threshold for outlier removal."
   ]
  },
  {
   "cell_type": "code",
   "execution_count": 34,
   "metadata": {},
   "outputs": [],
   "source": [
    "zthresh <- 2.0"
   ]
  },
  {
   "cell_type": "markdown",
   "metadata": {},
   "source": [
    "## Read in data"
   ]
  },
  {
   "cell_type": "code",
   "execution_count": 2,
   "metadata": {},
   "outputs": [
    {
     "data": {
      "text/html": [
       "6"
      ],
      "text/latex": [
       "6"
      ],
      "text/markdown": [
       "6"
      ],
      "text/plain": [
       "[1] 6"
      ]
     },
     "metadata": {},
     "output_type": "display_data"
    }
   ],
   "source": [
    "p <- \"./FinalData/\" #Path to data files\n",
    "\n",
    "#create vector dfiles containing all *.scv file names in the path\n",
    "dfiles <- paste(p, list.files(path=p, pattern=\"*.csv\"), sep=\"\") #\n",
    "\n",
    "tmp <- get.data(dfiles[1]) #Read in first file\n",
    "length(tmp) #Check length to make sure it worked---there should be 6 items in the tmp objects"
   ]
  },
  {
   "cell_type": "code",
   "execution_count": 3,
   "metadata": {},
   "outputs": [
    {
     "data": {
      "text/html": [
       "159"
      ],
      "text/latex": [
       "159"
      ],
      "text/markdown": [
       "159"
      ],
      "text/plain": [
       "[1] 159"
      ]
     },
     "metadata": {},
     "output_type": "display_data"
    }
   ],
   "source": [
    "#NOTE this block may take up to a minute to run\n",
    "alldat <- list(tmp) #Create list for holding all data, initialized with the first file already read in\n",
    "\n",
    "#Loop over remaining file names, reading in the data and adding the result to the list\n",
    "for(i1 in c(2:length(dfiles))) alldat[[i1]] <- get.data(dfiles[i1])\n",
    "\n",
    "#Check how many subjects total have been read in--should be 159\n",
    "length(alldat)"
   ]
  },
  {
   "cell_type": "markdown",
   "metadata": {},
   "source": [
    "Now compute the initial and final test boundaries and associated data for all subjects. You will observe several warnings for subjects with perfect (non-noisy) category decisions--these can be safely ignored."
   ]
  },
  {
   "cell_type": "code",
   "execution_count": 4,
   "metadata": {},
   "outputs": [
    {
     "name": "stderr",
     "output_type": "stream",
     "text": [
      "Warning message:\n",
      "\"glm.fit: fitted probabilities numerically 0 or 1 occurred\""
     ]
    },
    {
     "name": "stdout",
     "output_type": "stream",
     "text": [
      "[1] 1\n",
      "[1] 2\n",
      "[1] 3\n"
     ]
    },
    {
     "name": "stderr",
     "output_type": "stream",
     "text": [
      "Warning message:\n",
      "\"glm.fit: algorithm did not converge\"Warning message:\n",
      "\"glm.fit: fitted probabilities numerically 0 or 1 occurred\"Warning message:\n",
      "\"glm.fit: algorithm did not converge\"Warning message:\n",
      "\"glm.fit: fitted probabilities numerically 0 or 1 occurred\""
     ]
    },
    {
     "name": "stdout",
     "output_type": "stream",
     "text": [
      "[1] 4\n"
     ]
    },
    {
     "name": "stderr",
     "output_type": "stream",
     "text": [
      "Warning message:\n",
      "\"glm.fit: fitted probabilities numerically 0 or 1 occurred\""
     ]
    },
    {
     "name": "stdout",
     "output_type": "stream",
     "text": [
      "[1] 5\n",
      "[1] 6\n"
     ]
    },
    {
     "name": "stderr",
     "output_type": "stream",
     "text": [
      "Warning message:\n",
      "\"glm.fit: algorithm did not converge\"Warning message:\n",
      "\"glm.fit: fitted probabilities numerically 0 or 1 occurred\""
     ]
    },
    {
     "name": "stdout",
     "output_type": "stream",
     "text": [
      "[1] 7\n",
      "[1] 8\n",
      "[1] 9\n",
      "[1] 10\n",
      "[1] 11\n"
     ]
    },
    {
     "name": "stderr",
     "output_type": "stream",
     "text": [
      "Warning message:\n",
      "\"glm.fit: fitted probabilities numerically 0 or 1 occurred\"Warning message:\n",
      "\"glm.fit: fitted probabilities numerically 0 or 1 occurred\""
     ]
    },
    {
     "name": "stdout",
     "output_type": "stream",
     "text": [
      "[1] 12\n"
     ]
    },
    {
     "name": "stderr",
     "output_type": "stream",
     "text": [
      "Warning message:\n",
      "\"glm.fit: algorithm did not converge\"Warning message:\n",
      "\"glm.fit: fitted probabilities numerically 0 or 1 occurred\""
     ]
    },
    {
     "name": "stdout",
     "output_type": "stream",
     "text": [
      "[1] 13\n",
      "[1] 14\n",
      "[1] 15\n"
     ]
    },
    {
     "name": "stderr",
     "output_type": "stream",
     "text": [
      "Warning message:\n",
      "\"glm.fit: fitted probabilities numerically 0 or 1 occurred\""
     ]
    },
    {
     "name": "stdout",
     "output_type": "stream",
     "text": [
      "[1] 16\n"
     ]
    },
    {
     "name": "stderr",
     "output_type": "stream",
     "text": [
      "Warning message:\n",
      "\"glm.fit: fitted probabilities numerically 0 or 1 occurred\""
     ]
    },
    {
     "name": "stdout",
     "output_type": "stream",
     "text": [
      "[1] 17\n",
      "[1] 18\n"
     ]
    },
    {
     "name": "stderr",
     "output_type": "stream",
     "text": [
      "Warning message:\n",
      "\"glm.fit: fitted probabilities numerically 0 or 1 occurred\""
     ]
    },
    {
     "name": "stdout",
     "output_type": "stream",
     "text": [
      "[1] 19\n",
      "[1] 20\n",
      "[1] 21\n"
     ]
    },
    {
     "name": "stderr",
     "output_type": "stream",
     "text": [
      "Warning message:\n",
      "\"glm.fit: algorithm did not converge\"Warning message:\n",
      "\"glm.fit: fitted probabilities numerically 0 or 1 occurred\""
     ]
    },
    {
     "name": "stdout",
     "output_type": "stream",
     "text": [
      "[1] 22\n",
      "[1] 23\n",
      "[1] 24\n",
      "[1] 25\n",
      "[1] 26\n",
      "[1] 27\n",
      "[1] 28\n"
     ]
    },
    {
     "name": "stderr",
     "output_type": "stream",
     "text": [
      "Warning message:\n",
      "\"glm.fit: fitted probabilities numerically 0 or 1 occurred\""
     ]
    },
    {
     "name": "stdout",
     "output_type": "stream",
     "text": [
      "[1] 29\n",
      "[1] 30\n"
     ]
    },
    {
     "name": "stderr",
     "output_type": "stream",
     "text": [
      "Warning message:\n",
      "\"glm.fit: fitted probabilities numerically 0 or 1 occurred\""
     ]
    },
    {
     "name": "stdout",
     "output_type": "stream",
     "text": [
      "[1] 31\n"
     ]
    },
    {
     "name": "stderr",
     "output_type": "stream",
     "text": [
      "Warning message:\n",
      "\"glm.fit: algorithm did not converge\"Warning message:\n",
      "\"glm.fit: fitted probabilities numerically 0 or 1 occurred\""
     ]
    },
    {
     "name": "stdout",
     "output_type": "stream",
     "text": [
      "[1] 32\n"
     ]
    },
    {
     "name": "stderr",
     "output_type": "stream",
     "text": [
      "Warning message:\n",
      "\"glm.fit: algorithm did not converge\"Warning message:\n",
      "\"glm.fit: fitted probabilities numerically 0 or 1 occurred\""
     ]
    },
    {
     "name": "stdout",
     "output_type": "stream",
     "text": [
      "[1] 33\n",
      "[1] 34\n",
      "[1] 35\n"
     ]
    },
    {
     "name": "stderr",
     "output_type": "stream",
     "text": [
      "Warning message:\n",
      "\"glm.fit: fitted probabilities numerically 0 or 1 occurred\""
     ]
    },
    {
     "name": "stdout",
     "output_type": "stream",
     "text": [
      "[1] 36\n",
      "[1] 37\n"
     ]
    },
    {
     "name": "stderr",
     "output_type": "stream",
     "text": [
      "Warning message:\n",
      "\"glm.fit: algorithm did not converge\"Warning message:\n",
      "\"glm.fit: fitted probabilities numerically 0 or 1 occurred\""
     ]
    },
    {
     "name": "stdout",
     "output_type": "stream",
     "text": [
      "[1] 38\n",
      "[1] 39\n"
     ]
    },
    {
     "name": "stderr",
     "output_type": "stream",
     "text": [
      "Warning message:\n",
      "\"glm.fit: algorithm did not converge\"Warning message:\n",
      "\"glm.fit: fitted probabilities numerically 0 or 1 occurred\""
     ]
    },
    {
     "name": "stdout",
     "output_type": "stream",
     "text": [
      "[1] 40\n"
     ]
    },
    {
     "name": "stderr",
     "output_type": "stream",
     "text": [
      "Warning message:\n",
      "\"glm.fit: fitted probabilities numerically 0 or 1 occurred\""
     ]
    },
    {
     "name": "stdout",
     "output_type": "stream",
     "text": [
      "[1] 41\n",
      "[1] 42\n",
      "[1] 43\n",
      "[1] 44\n",
      "[1] 45\n",
      "[1] 46\n",
      "[1] 47\n",
      "[1] 48\n",
      "[1] 49\n",
      "[1] 50\n",
      "[1] 51\n"
     ]
    },
    {
     "name": "stderr",
     "output_type": "stream",
     "text": [
      "Warning message:\n",
      "\"glm.fit: algorithm did not converge\"Warning message:\n",
      "\"glm.fit: fitted probabilities numerically 0 or 1 occurred\"Warning message:\n",
      "\"glm.fit: fitted probabilities numerically 0 or 1 occurred\""
     ]
    },
    {
     "name": "stdout",
     "output_type": "stream",
     "text": [
      "[1] 52\n",
      "[1] 53\n",
      "[1] 54\n",
      "[1] 55\n"
     ]
    },
    {
     "name": "stderr",
     "output_type": "stream",
     "text": [
      "Warning message:\n",
      "\"glm.fit: algorithm did not converge\"Warning message:\n",
      "\"glm.fit: fitted probabilities numerically 0 or 1 occurred\""
     ]
    },
    {
     "name": "stdout",
     "output_type": "stream",
     "text": [
      "[1] 56\n"
     ]
    },
    {
     "name": "stderr",
     "output_type": "stream",
     "text": [
      "Warning message:\n",
      "\"glm.fit: algorithm did not converge\"Warning message:\n",
      "\"glm.fit: fitted probabilities numerically 0 or 1 occurred\""
     ]
    },
    {
     "name": "stdout",
     "output_type": "stream",
     "text": [
      "[1] 57\n"
     ]
    },
    {
     "name": "stderr",
     "output_type": "stream",
     "text": [
      "Warning message:\n",
      "\"glm.fit: fitted probabilities numerically 0 or 1 occurred\""
     ]
    },
    {
     "name": "stdout",
     "output_type": "stream",
     "text": [
      "[1] 58\n",
      "[1] 59\n",
      "[1] 60\n",
      "[1] 61\n",
      "[1] 62\n",
      "[1] 63\n",
      "[1] 64\n",
      "[1] 65\n",
      "[1] 66\n",
      "[1] 67\n",
      "[1] 68\n",
      "[1] 69\n",
      "[1] 70\n",
      "[1] 71\n",
      "[1] 72\n",
      "[1] 73\n"
     ]
    },
    {
     "name": "stderr",
     "output_type": "stream",
     "text": [
      "Warning message:\n",
      "\"glm.fit: fitted probabilities numerically 0 or 1 occurred\""
     ]
    },
    {
     "name": "stdout",
     "output_type": "stream",
     "text": [
      "[1] 74\n",
      "[1] 75\n",
      "[1] 76\n",
      "[1] 77\n"
     ]
    },
    {
     "name": "stderr",
     "output_type": "stream",
     "text": [
      "Warning message:\n",
      "\"glm.fit: algorithm did not converge\"Warning message:\n",
      "\"glm.fit: fitted probabilities numerically 0 or 1 occurred\""
     ]
    },
    {
     "name": "stdout",
     "output_type": "stream",
     "text": [
      "[1] 78\n",
      "[1] 79\n",
      "[1] 80\n",
      "[1] 81\n",
      "[1] 82\n",
      "[1] 83\n"
     ]
    },
    {
     "name": "stderr",
     "output_type": "stream",
     "text": [
      "Warning message:\n",
      "\"glm.fit: fitted probabilities numerically 0 or 1 occurred\"Warning message:\n",
      "\"glm.fit: algorithm did not converge\"Warning message:\n",
      "\"glm.fit: fitted probabilities numerically 0 or 1 occurred\""
     ]
    },
    {
     "name": "stdout",
     "output_type": "stream",
     "text": [
      "[1] 84\n",
      "[1] 85\n",
      "[1] 86\n",
      "[1] 87\n",
      "[1] 88\n",
      "[1] 89\n",
      "[1] 90\n",
      "[1] 91\n",
      "[1] 92\n",
      "[1] 93\n",
      "[1] 94\n"
     ]
    },
    {
     "name": "stderr",
     "output_type": "stream",
     "text": [
      "Warning message:\n",
      "\"glm.fit: algorithm did not converge\"Warning message:\n",
      "\"glm.fit: fitted probabilities numerically 0 or 1 occurred\""
     ]
    },
    {
     "name": "stdout",
     "output_type": "stream",
     "text": [
      "[1] 95\n",
      "[1] 96\n",
      "[1] 97\n",
      "[1] 98\n",
      "[1] 99\n",
      "[1] 100\n",
      "[1] 101\n"
     ]
    },
    {
     "name": "stderr",
     "output_type": "stream",
     "text": [
      "Warning message:\n",
      "\"glm.fit: fitted probabilities numerically 0 or 1 occurred\""
     ]
    },
    {
     "name": "stdout",
     "output_type": "stream",
     "text": [
      "[1] 102\n"
     ]
    },
    {
     "name": "stderr",
     "output_type": "stream",
     "text": [
      "Warning message:\n",
      "\"glm.fit: fitted probabilities numerically 0 or 1 occurred\""
     ]
    },
    {
     "name": "stdout",
     "output_type": "stream",
     "text": [
      "[1] 103\n"
     ]
    },
    {
     "name": "stderr",
     "output_type": "stream",
     "text": [
      "Warning message:\n",
      "\"glm.fit: fitted probabilities numerically 0 or 1 occurred\""
     ]
    },
    {
     "name": "stdout",
     "output_type": "stream",
     "text": [
      "[1] 104\n",
      "[1] 105\n",
      "[1] 106\n"
     ]
    },
    {
     "name": "stderr",
     "output_type": "stream",
     "text": [
      "Warning message:\n",
      "\"glm.fit: fitted probabilities numerically 0 or 1 occurred\""
     ]
    },
    {
     "name": "stdout",
     "output_type": "stream",
     "text": [
      "[1] 107\n"
     ]
    },
    {
     "name": "stderr",
     "output_type": "stream",
     "text": [
      "Warning message:\n",
      "\"glm.fit: fitted probabilities numerically 0 or 1 occurred\""
     ]
    },
    {
     "name": "stdout",
     "output_type": "stream",
     "text": [
      "[1] 108\n",
      "[1] 109\n",
      "[1] 110\n"
     ]
    },
    {
     "name": "stderr",
     "output_type": "stream",
     "text": [
      "Warning message:\n",
      "\"glm.fit: algorithm did not converge\"Warning message:\n",
      "\"glm.fit: fitted probabilities numerically 0 or 1 occurred\""
     ]
    },
    {
     "name": "stdout",
     "output_type": "stream",
     "text": [
      "[1] 111\n",
      "[1] 112\n",
      "[1] 113\n",
      "[1] 114\n"
     ]
    },
    {
     "name": "stderr",
     "output_type": "stream",
     "text": [
      "Warning message:\n",
      "\"glm.fit: fitted probabilities numerically 0 or 1 occurred\""
     ]
    },
    {
     "name": "stdout",
     "output_type": "stream",
     "text": [
      "[1] 115\n",
      "[1] 116\n"
     ]
    },
    {
     "name": "stderr",
     "output_type": "stream",
     "text": [
      "Warning message:\n",
      "\"glm.fit: fitted probabilities numerically 0 or 1 occurred\""
     ]
    },
    {
     "name": "stdout",
     "output_type": "stream",
     "text": [
      "[1] 117\n",
      "[1] 118\n",
      "[1] 119\n",
      "[1] 120\n",
      "[1] 121\n",
      "[1] 122\n",
      "[1] 123\n"
     ]
    },
    {
     "name": "stderr",
     "output_type": "stream",
     "text": [
      "Warning message:\n",
      "\"glm.fit: algorithm did not converge\"Warning message:\n",
      "\"glm.fit: fitted probabilities numerically 0 or 1 occurred\"Warning message:\n",
      "\"glm.fit: algorithm did not converge\"Warning message:\n",
      "\"glm.fit: fitted probabilities numerically 0 or 1 occurred\""
     ]
    },
    {
     "name": "stdout",
     "output_type": "stream",
     "text": [
      "[1] 124\n",
      "[1] 125\n"
     ]
    },
    {
     "name": "stderr",
     "output_type": "stream",
     "text": [
      "Warning message:\n",
      "\"glm.fit: fitted probabilities numerically 0 or 1 occurred\"Warning message:\n",
      "\"glm.fit: fitted probabilities numerically 0 or 1 occurred\""
     ]
    },
    {
     "name": "stdout",
     "output_type": "stream",
     "text": [
      "[1] 126\n",
      "[1] 127\n"
     ]
    },
    {
     "name": "stderr",
     "output_type": "stream",
     "text": [
      "Warning message:\n",
      "\"glm.fit: fitted probabilities numerically 0 or 1 occurred\"Warning message:\n",
      "\"glm.fit: algorithm did not converge\"Warning message:\n",
      "\"glm.fit: fitted probabilities numerically 0 or 1 occurred\""
     ]
    },
    {
     "name": "stdout",
     "output_type": "stream",
     "text": [
      "[1] 128\n"
     ]
    },
    {
     "name": "stderr",
     "output_type": "stream",
     "text": [
      "Warning message:\n",
      "\"glm.fit: algorithm did not converge\"Warning message:\n",
      "\"glm.fit: fitted probabilities numerically 0 or 1 occurred\""
     ]
    },
    {
     "name": "stdout",
     "output_type": "stream",
     "text": [
      "[1] 129\n",
      "[1] 130\n",
      "[1] 131\n",
      "[1] 132\n",
      "[1] 133\n",
      "[1] 134\n",
      "[1] 135\n",
      "[1] 136\n",
      "[1] 137\n",
      "[1] 138\n",
      "[1] 139\n"
     ]
    },
    {
     "name": "stderr",
     "output_type": "stream",
     "text": [
      "Warning message:\n",
      "\"glm.fit: algorithm did not converge\"Warning message:\n",
      "\"glm.fit: fitted probabilities numerically 0 or 1 occurred\""
     ]
    },
    {
     "name": "stdout",
     "output_type": "stream",
     "text": [
      "[1] 140\n",
      "[1] 141\n",
      "[1] 142\n",
      "[1] 143\n",
      "[1] 144\n",
      "[1] 145\n",
      "[1] 146\n",
      "[1] 147\n",
      "[1] 148\n"
     ]
    },
    {
     "name": "stderr",
     "output_type": "stream",
     "text": [
      "Warning message:\n",
      "\"glm.fit: fitted probabilities numerically 0 or 1 occurred\"Warning message:\n",
      "\"glm.fit: fitted probabilities numerically 0 or 1 occurred\""
     ]
    },
    {
     "name": "stdout",
     "output_type": "stream",
     "text": [
      "[1] 149\n",
      "[1] 150\n",
      "[1] 151\n",
      "[1] 152\n"
     ]
    },
    {
     "name": "stderr",
     "output_type": "stream",
     "text": [
      "Warning message:\n",
      "\"glm.fit: algorithm did not converge\"Warning message:\n",
      "\"glm.fit: fitted probabilities numerically 0 or 1 occurred\""
     ]
    },
    {
     "name": "stdout",
     "output_type": "stream",
     "text": [
      "[1] 153\n",
      "[1] 154\n",
      "[1] 155\n"
     ]
    },
    {
     "name": "stderr",
     "output_type": "stream",
     "text": [
      "Warning message:\n",
      "\"glm.fit: algorithm did not converge\"Warning message:\n",
      "\"glm.fit: fitted probabilities numerically 0 or 1 occurred\""
     ]
    },
    {
     "name": "stdout",
     "output_type": "stream",
     "text": [
      "[1] 156\n",
      "[1] 157\n",
      "[1] 158\n",
      "[1] 159\n"
     ]
    },
    {
     "data": {
      "text/html": [
       "<ol class=list-inline>\n",
       "\t<li>159</li>\n",
       "\t<li>15</li>\n",
       "</ol>\n"
      ],
      "text/latex": [
       "\\begin{enumerate*}\n",
       "\\item 159\n",
       "\\item 15\n",
       "\\end{enumerate*}\n"
      ],
      "text/markdown": [
       "1. 159\n",
       "2. 15\n",
       "\n",
       "\n"
      ],
      "text/plain": [
       "[1] 159  15"
      ]
     },
     "metadata": {},
     "output_type": "display_data"
    }
   ],
   "source": [
    "allpars <- get.pars(alldat)\n",
    "dim(allpars)"
   ]
  },
  {
   "cell_type": "markdown",
   "metadata": {},
   "source": [
    "Now create a unique identifier for each subject, add to the allpars object, and look at the header information"
   ]
  },
  {
   "cell_type": "code",
   "execution_count": 5,
   "metadata": {
    "scrolled": true
   },
   "outputs": [
    {
     "data": {
      "text/html": [
       "<table>\n",
       "<thead><tr><th scope=col>pid</th><th scope=col>axlab</th><th scope=col>group</th><th scope=col>bounds</th><th scope=col>sno</th><th scope=col>FaceLeft</th><th scope=col>t1int</th><th scope=col>t1slope</th><th scope=col>t1bound</th><th scope=col>t2int</th><th scope=col>t2slope</th><th scope=col>t2bound</th><th scope=col>bshift</th><th scope=col>midshift</th><th scope=col>Zmidshift</th><th scope=col>Zmsbycond</th></tr></thead>\n",
       "<tbody>\n",
       "\t<tr><td>./FinalData/SP-C_LB_Close_1   </td><td>./FinalData/SP-C              </td><td>LB                            </td><td>Close                         </td><td>1                             </td><td>1                             </td><td> 13.255315                    </td><td>-0.10604706                   </td><td>124.99465                     </td><td>331.883309                    </td><td>-2.07427068                   </td><td>160.0000                      </td><td> 35.005351                    </td><td> 35.005351                    </td><td>0.07930516                    </td><td> 0.41753304                   </td></tr>\n",
       "\t<tr><td>./FinalData/SP-C_LB_Close_2   </td><td>./FinalData/SP-C              </td><td>LB                            </td><td>Close                         </td><td>2                             </td><td>2                             </td><td> 11.370928                    </td><td>-0.06685196                   </td><td>170.09117                     </td><td>  6.164781                    </td><td>-0.04109854                   </td><td>150.0000                      </td><td>-20.091171                    </td><td>-20.091171                    </td><td>0.07930516                    </td><td>-0.38656462                   </td></tr>\n",
       "\t<tr><td>./FinalData/SP-C_LB_Close_41  </td><td>./FinalData/SP-C              </td><td>LB                            </td><td>Close                         </td><td>41                            </td><td>1                             </td><td> 12.725637                    </td><td>-0.07952961                   </td><td>160.01131                     </td><td> 28.549615                    </td><td>-0.16793889                   </td><td>170.0000                      </td><td>  9.988705                    </td><td>  9.988705                    </td><td>0.07930516                    </td><td> 0.05243147                   </td></tr>\n",
       "\t<tr><td>./FinalData/SP-C_LB_Control_10</td><td>./FinalData/SP-C              </td><td>LB                            </td><td>Control                       </td><td>10                            </td><td>2                             </td><td>601.980550                    </td><td>-4.15156952                   </td><td>145.00072                     </td><td>559.102995                    </td><td>-4.14144147                   </td><td>135.0020                      </td><td> -9.998688                    </td><td> -9.998688                    </td><td>0.07930516                    </td><td>-0.49786671                   </td></tr>\n",
       "\t<tr><td>./FinalData/SP-C_LB_Control_49</td><td>./FinalData/SP-C              </td><td>LB                            </td><td>Control                       </td><td>49                            </td><td>1                             </td><td> 12.315345                    </td><td>-0.12969024                   </td><td> 94.95969                     </td><td>246.761529                    </td><td>-2.05634607                   </td><td>120.0000                      </td><td> 25.040309                    </td><td> 25.040309                    </td><td>0.07930516                    </td><td> 0.56085103                   </td></tr>\n",
       "\t<tr><td>./FinalData/SP-C_LB_Control_9 </td><td>./FinalData/SP-C              </td><td>LB                            </td><td>Control                       </td><td>9                             </td><td>1                             </td><td>  9.399524                    </td><td>-0.06715669                   </td><td>139.96409                     </td><td>  7.595619                    </td><td>-0.05851355                   </td><td>129.8096                      </td><td>-10.154504                    </td><td>-10.154504                    </td><td>0.07930516                    </td><td>-0.50257474                   </td></tr>\n",
       "</tbody>\n",
       "</table>\n"
      ],
      "text/latex": [
       "\\begin{tabular}{r|llllllllllllllll}\n",
       " pid & axlab & group & bounds & sno & FaceLeft & t1int & t1slope & t1bound & t2int & t2slope & t2bound & bshift & midshift & Zmidshift & Zmsbycond\\\\\n",
       "\\hline\n",
       "\t ./FinalData/SP-C\\_LB\\_Close\\_1    & ./FinalData/SP-C                     & LB                                   & Close                                & 1                                    & 1                                    &  13.255315                           & -0.10604706                          & 124.99465                            & 331.883309                           & -2.07427068                          & 160.0000                             &  35.005351                           &  35.005351                           & 0.07930516                           &  0.41753304                         \\\\\n",
       "\t ./FinalData/SP-C\\_LB\\_Close\\_2    & ./FinalData/SP-C                     & LB                                   & Close                                & 2                                    & 2                                    &  11.370928                           & -0.06685196                          & 170.09117                            &   6.164781                           & -0.04109854                          & 150.0000                             & -20.091171                           & -20.091171                           & 0.07930516                           & -0.38656462                         \\\\\n",
       "\t ./FinalData/SP-C\\_LB\\_Close\\_41   & ./FinalData/SP-C                     & LB                                   & Close                                & 41                                   & 1                                    &  12.725637                           & -0.07952961                          & 160.01131                            &  28.549615                           & -0.16793889                          & 170.0000                             &   9.988705                           &   9.988705                           & 0.07930516                           &  0.05243147                         \\\\\n",
       "\t ./FinalData/SP-C\\_LB\\_Control\\_10 & ./FinalData/SP-C                     & LB                                   & Control                              & 10                                   & 2                                    & 601.980550                           & -4.15156952                          & 145.00072                            & 559.102995                           & -4.14144147                          & 135.0020                             &  -9.998688                           &  -9.998688                           & 0.07930516                           & -0.49786671                         \\\\\n",
       "\t ./FinalData/SP-C\\_LB\\_Control\\_49 & ./FinalData/SP-C                     & LB                                   & Control                              & 49                                   & 1                                    &  12.315345                           & -0.12969024                          &  94.95969                            & 246.761529                           & -2.05634607                          & 120.0000                             &  25.040309                           &  25.040309                           & 0.07930516                           &  0.56085103                         \\\\\n",
       "\t ./FinalData/SP-C\\_LB\\_Control\\_9  & ./FinalData/SP-C                     & LB                                   & Control                              & 9                                    & 1                                    &   9.399524                           & -0.06715669                          & 139.96409                            &   7.595619                           & -0.05851355                          & 129.8096                             & -10.154504                           & -10.154504                           & 0.07930516                           & -0.50257474                         \\\\\n",
       "\\end{tabular}\n"
      ],
      "text/markdown": [
       "\n",
       "| pid | axlab | group | bounds | sno | FaceLeft | t1int | t1slope | t1bound | t2int | t2slope | t2bound | bshift | midshift | Zmidshift | Zmsbycond |\n",
       "|---|---|---|---|---|---|---|---|---|---|---|---|---|---|---|---|\n",
       "| ./FinalData/SP-C_LB_Close_1    | ./FinalData/SP-C               | LB                             | Close                          | 1                              | 1                              |  13.255315                     | -0.10604706                    | 124.99465                      | 331.883309                     | -2.07427068                    | 160.0000                       |  35.005351                     |  35.005351                     | 0.07930516                     |  0.41753304                    |\n",
       "| ./FinalData/SP-C_LB_Close_2    | ./FinalData/SP-C               | LB                             | Close                          | 2                              | 2                              |  11.370928                     | -0.06685196                    | 170.09117                      |   6.164781                     | -0.04109854                    | 150.0000                       | -20.091171                     | -20.091171                     | 0.07930516                     | -0.38656462                    |\n",
       "| ./FinalData/SP-C_LB_Close_41   | ./FinalData/SP-C               | LB                             | Close                          | 41                             | 1                              |  12.725637                     | -0.07952961                    | 160.01131                      |  28.549615                     | -0.16793889                    | 170.0000                       |   9.988705                     |   9.988705                     | 0.07930516                     |  0.05243147                    |\n",
       "| ./FinalData/SP-C_LB_Control_10 | ./FinalData/SP-C               | LB                             | Control                        | 10                             | 2                              | 601.980550                     | -4.15156952                    | 145.00072                      | 559.102995                     | -4.14144147                    | 135.0020                       |  -9.998688                     |  -9.998688                     | 0.07930516                     | -0.49786671                    |\n",
       "| ./FinalData/SP-C_LB_Control_49 | ./FinalData/SP-C               | LB                             | Control                        | 49                             | 1                              |  12.315345                     | -0.12969024                    |  94.95969                      | 246.761529                     | -2.05634607                    | 120.0000                       |  25.040309                     |  25.040309                     | 0.07930516                     |  0.56085103                    |\n",
       "| ./FinalData/SP-C_LB_Control_9  | ./FinalData/SP-C               | LB                             | Control                        | 9                              | 1                              |   9.399524                     | -0.06715669                    | 139.96409                      |   7.595619                     | -0.05851355                    | 129.8096                       | -10.154504                     | -10.154504                     | 0.07930516                     | -0.50257474                    |\n",
       "\n"
      ],
      "text/plain": [
       "  pid                            axlab            group bounds  sno FaceLeft\n",
       "1 ./FinalData/SP-C_LB_Close_1    ./FinalData/SP-C LB    Close   1   1       \n",
       "2 ./FinalData/SP-C_LB_Close_2    ./FinalData/SP-C LB    Close   2   2       \n",
       "3 ./FinalData/SP-C_LB_Close_41   ./FinalData/SP-C LB    Close   41  1       \n",
       "4 ./FinalData/SP-C_LB_Control_10 ./FinalData/SP-C LB    Control 10  2       \n",
       "5 ./FinalData/SP-C_LB_Control_49 ./FinalData/SP-C LB    Control 49  1       \n",
       "6 ./FinalData/SP-C_LB_Control_9  ./FinalData/SP-C LB    Control 9   1       \n",
       "  t1int      t1slope     t1bound   t2int      t2slope     t2bound  bshift    \n",
       "1  13.255315 -0.10604706 124.99465 331.883309 -2.07427068 160.0000  35.005351\n",
       "2  11.370928 -0.06685196 170.09117   6.164781 -0.04109854 150.0000 -20.091171\n",
       "3  12.725637 -0.07952961 160.01131  28.549615 -0.16793889 170.0000   9.988705\n",
       "4 601.980550 -4.15156952 145.00072 559.102995 -4.14144147 135.0020  -9.998688\n",
       "5  12.315345 -0.12969024  94.95969 246.761529 -2.05634607 120.0000  25.040309\n",
       "6   9.399524 -0.06715669 139.96409   7.595619 -0.05851355 129.8096 -10.154504\n",
       "  midshift   Zmidshift  Zmsbycond  \n",
       "1  35.005351 0.07930516  0.41753304\n",
       "2 -20.091171 0.07930516 -0.38656462\n",
       "3   9.988705 0.07930516  0.05243147\n",
       "4  -9.998688 0.07930516 -0.49786671\n",
       "5  25.040309 0.07930516  0.56085103\n",
       "6 -10.154504 0.07930516 -0.50257474"
      ]
     },
     "metadata": {},
     "output_type": "display_data"
    }
   ],
   "source": [
    "pid <- paste(allpars$axlab, allpars$group, allpars$bounds, allpars$sno, sep=\"_\")\n",
    "allpars <- cbind(pid, allpars)\n",
    "allpars$pid <- as.character(pid) #convert from factor to character vector\n",
    "head(allpars)"
   ]
  },
  {
   "cell_type": "markdown",
   "metadata": {},
   "source": [
    "How many in each condition?"
   ]
  },
  {
   "cell_type": "code",
   "execution_count": 35,
   "metadata": {},
   "outputs": [
    {
     "data": {
      "text/html": [
       "<table>\n",
       "<thead><tr><th scope=col>bounds</th><th scope=col>t1bound</th></tr></thead>\n",
       "<tbody>\n",
       "\t<tr><td>Close  </td><td>33     </td></tr>\n",
       "\t<tr><td>Control</td><td>31     </td></tr>\n",
       "\t<tr><td>Dead   </td><td>32     </td></tr>\n",
       "\t<tr><td>Far    </td><td>30     </td></tr>\n",
       "\t<tr><td>Mid    </td><td>33     </td></tr>\n",
       "</tbody>\n",
       "</table>\n"
      ],
      "text/latex": [
       "\\begin{tabular}{r|ll}\n",
       " bounds & t1bound\\\\\n",
       "\\hline\n",
       "\t Close   & 33     \\\\\n",
       "\t Control & 31     \\\\\n",
       "\t Dead    & 32     \\\\\n",
       "\t Far     & 30     \\\\\n",
       "\t Mid     & 33     \\\\\n",
       "\\end{tabular}\n"
      ],
      "text/markdown": [
       "\n",
       "| bounds | t1bound |\n",
       "|---|---|\n",
       "| Close   | 33      |\n",
       "| Control | 31      |\n",
       "| Dead    | 32      |\n",
       "| Far     | 30      |\n",
       "| Mid     | 33      |\n",
       "\n"
      ],
      "text/plain": [
       "  bounds  t1bound\n",
       "1 Close   33     \n",
       "2 Control 31     \n",
       "3 Dead    32     \n",
       "4 Far     30     \n",
       "5 Mid     33     "
      ]
     },
     "metadata": {},
     "output_type": "display_data"
    }
   ],
   "source": [
    "#Reorder factor levels\n",
    "allpars$bounds <- factor(allpars$bounds, levels = levels(allpars$bounds)[c(2,1,3,5,4)])\n",
    "aggregate(t1bound~bounds, FUN =\"length\", data = allpars)"
   ]
  },
  {
   "cell_type": "markdown",
   "metadata": {},
   "source": [
    "Check for any impossible values (outside the stimulus range of 0-300)."
   ]
  },
  {
   "cell_type": "code",
   "execution_count": 36,
   "metadata": {
    "scrolled": false
   },
   "outputs": [
    {
     "data": {
      "image/png": "[encoded data removed]",
      "text/plain": [
       "plot without title"
      ]
     },
     "metadata": {},
     "output_type": "display_data"
    }
   ],
   "source": [
    "plot(allpars$t1bound, allpars$t2bound)"
   ]
  },
  {
   "cell_type": "markdown",
   "metadata": {},
   "source": [
    "Add impossible values to exclude list, then copy remaining data to \"no impossible\" (nimp) object. Check how many subjects remain in each condition."
   ]
  },
  {
   "cell_type": "code",
   "execution_count": 37,
   "metadata": {
    "scrolled": true
   },
   "outputs": [
    {
     "data": {
      "text/html": [
       "<table>\n",
       "<thead><tr><th scope=col>bounds</th><th scope=col>t1bound</th></tr></thead>\n",
       "<tbody>\n",
       "\t<tr><td>Close  </td><td>32     </td></tr>\n",
       "\t<tr><td>Control</td><td>31     </td></tr>\n",
       "\t<tr><td>Dead   </td><td>32     </td></tr>\n",
       "\t<tr><td>Far    </td><td>29     </td></tr>\n",
       "\t<tr><td>Mid    </td><td>32     </td></tr>\n",
       "</tbody>\n",
       "</table>\n"
      ],
      "text/latex": [
       "\\begin{tabular}{r|ll}\n",
       " bounds & t1bound\\\\\n",
       "\\hline\n",
       "\t Close   & 32     \\\\\n",
       "\t Control & 31     \\\\\n",
       "\t Dead    & 32     \\\\\n",
       "\t Far     & 29     \\\\\n",
       "\t Mid     & 32     \\\\\n",
       "\\end{tabular}\n"
      ],
      "text/markdown": [
       "\n",
       "| bounds | t1bound |\n",
       "|---|---|\n",
       "| Close   | 32      |\n",
       "| Control | 31      |\n",
       "| Dead    | 32      |\n",
       "| Far     | 29      |\n",
       "| Mid     | 32      |\n",
       "\n"
      ],
      "text/plain": [
       "  bounds  t1bound\n",
       "1 Close   32     \n",
       "2 Control 31     \n",
       "3 Dead    32     \n",
       "4 Far     29     \n",
       "5 Mid     32     "
      ]
     },
     "metadata": {},
     "output_type": "display_data"
    }
   ],
   "source": [
    "sjex <- as.character(allpars$pid[abs(allpars$t1bound) > 300 | abs(allpars$t2bound) > 300])\n",
    "sjex <- unique(sjex)\n",
    "nimp <- allpars[is.na(match(allpars$pid, sjex)),]\n",
    "aggregate(t1bound~bounds, FUN=\"length\", data = nimp)"
   ]
  },
  {
   "cell_type": "markdown",
   "metadata": {},
   "source": [
    "## Outlier analysis"
   ]
  },
  {
   "cell_type": "markdown",
   "metadata": {},
   "source": [
    "Check for outliers in initial grid estimate for each group."
   ]
  },
  {
   "cell_type": "code",
   "execution_count": 38,
   "metadata": {},
   "outputs": [
    {
     "data": {
      "image/png": "[encoded data removed]",
      "text/plain": [
       "plot without title"
      ]
     },
     "metadata": {},
     "output_type": "display_data"
    }
   ],
   "source": [
    "#Compute Zscores for initial boundary for people in LB and RB groups\n",
    "tmp <- nimp$t1bound\n",
    "tmp[nimp$group==\"LB\"] <- zscore(nimp$t1bound[nimp$group==\"LB\"])\n",
    "tmp[nimp$group==\"RB\"] <- zscore(nimp$t1bound[nimp$group==\"RB\"])\n",
    "\n",
    "#Plot\n",
    "plot(tmp, ylim = c(-3,3)); abline(h = c(-zthresh, zthresh))\n"
   ]
  },
  {
   "cell_type": "markdown",
   "metadata": {},
   "source": [
    "Remove these guys to create \"no outlier\" (noo) object"
   ]
  },
  {
   "cell_type": "code",
   "execution_count": 39,
   "metadata": {},
   "outputs": [
    {
     "data": {
      "text/html": [
       "<table>\n",
       "<thead><tr><th scope=col>bounds</th><th scope=col>t1bound</th></tr></thead>\n",
       "<tbody>\n",
       "\t<tr><td>Close  </td><td>31     </td></tr>\n",
       "\t<tr><td>Control</td><td>28     </td></tr>\n",
       "\t<tr><td>Dead   </td><td>32     </td></tr>\n",
       "\t<tr><td>Far    </td><td>26     </td></tr>\n",
       "\t<tr><td>Mid    </td><td>32     </td></tr>\n",
       "</tbody>\n",
       "</table>\n"
      ],
      "text/latex": [
       "\\begin{tabular}{r|ll}\n",
       " bounds & t1bound\\\\\n",
       "\\hline\n",
       "\t Close   & 31     \\\\\n",
       "\t Control & 28     \\\\\n",
       "\t Dead    & 32     \\\\\n",
       "\t Far     & 26     \\\\\n",
       "\t Mid     & 32     \\\\\n",
       "\\end{tabular}\n"
      ],
      "text/markdown": [
       "\n",
       "| bounds | t1bound |\n",
       "|---|---|\n",
       "| Close   | 31      |\n",
       "| Control | 28      |\n",
       "| Dead    | 32      |\n",
       "| Far     | 26      |\n",
       "| Mid     | 32      |\n",
       "\n"
      ],
      "text/plain": [
       "  bounds  t1bound\n",
       "1 Close   31     \n",
       "2 Control 28     \n",
       "3 Dead    32     \n",
       "4 Far     26     \n",
       "5 Mid     32     "
      ]
     },
     "metadata": {},
     "output_type": "display_data"
    }
   ],
   "source": [
    "sjex <- c(sjex, c(nimp$pid[abs(tmp) > zthresh]))\n",
    "sjex <- unique(sjex)\n",
    "noo <- allpars[is.na(match(allpars$pid, sjex)),]\n",
    "aggregate(t1bound~bounds, FUN=\"length\", data = noo)"
   ]
  },
  {
   "cell_type": "markdown",
   "metadata": {},
   "source": [
    "Now recompute conditionwise Z scores for midshift and plot these to look for outliers"
   ]
  },
  {
   "cell_type": "code",
   "execution_count": 40,
   "metadata": {},
   "outputs": [
    {
     "data": {
      "image/png": "[encoded data removed]",
      "text/plain": [
       "plot without title"
      ]
     },
     "metadata": {},
     "output_type": "display_data"
    }
   ],
   "source": [
    "clevs <- levels(noo$bounds)\n",
    "\n",
    "#Compute Zscores for each boundary condition\n",
    "for(i1 in c(1:length(clevs))){\n",
    "    noo$Zmsbycond[noo$bounds==clevs[i1]] <- \n",
    "        zscore(noo$midshift[noo$bounds==clevs[i1]])\n",
    "}\n",
    "\n",
    "#Visualize them\n",
    "plot(noo$Zmsbycond, ylim = c(-4,4), pch = 16, col = noo$bounds, ylab=\"Zscore for midline shift\")\n",
    "legend(0,4,pch=16,col=c(1:5), legend = levels(noo$bounds), cex = .7, bty = \"n\")\n",
    "abline(h=c(-zthresh,zthresh), lty=2)"
   ]
  },
  {
   "cell_type": "markdown",
   "metadata": {},
   "source": [
    "Remove subjects beyond outlier threshold and aggregate to see how man remain in each condition"
   ]
  },
  {
   "cell_type": "code",
   "execution_count": 41,
   "metadata": {},
   "outputs": [
    {
     "data": {
      "text/html": [
       "<table>\n",
       "<thead><tr><th scope=col>bounds</th><th scope=col>t1bound</th></tr></thead>\n",
       "<tbody>\n",
       "\t<tr><td>Close  </td><td>29     </td></tr>\n",
       "\t<tr><td>Control</td><td>26     </td></tr>\n",
       "\t<tr><td>Dead   </td><td>30     </td></tr>\n",
       "\t<tr><td>Far    </td><td>24     </td></tr>\n",
       "\t<tr><td>Mid    </td><td>31     </td></tr>\n",
       "</tbody>\n",
       "</table>\n"
      ],
      "text/latex": [
       "\\begin{tabular}{r|ll}\n",
       " bounds & t1bound\\\\\n",
       "\\hline\n",
       "\t Close   & 29     \\\\\n",
       "\t Control & 26     \\\\\n",
       "\t Dead    & 30     \\\\\n",
       "\t Far     & 24     \\\\\n",
       "\t Mid     & 31     \\\\\n",
       "\\end{tabular}\n"
      ],
      "text/markdown": [
       "\n",
       "| bounds | t1bound |\n",
       "|---|---|\n",
       "| Close   | 29      |\n",
       "| Control | 26      |\n",
       "| Dead    | 30      |\n",
       "| Far     | 24      |\n",
       "| Mid     | 31      |\n",
       "\n"
      ],
      "text/plain": [
       "  bounds  t1bound\n",
       "1 Close   29     \n",
       "2 Control 26     \n",
       "3 Dead    30     \n",
       "4 Far     24     \n",
       "5 Mid     31     "
      ]
     },
     "metadata": {},
     "output_type": "display_data"
    }
   ],
   "source": [
    "sjex <- c(sjex, noo$pid[abs(noo$Zmsbycond) > zthresh])\n",
    "sjex <- unique(sjex)\n",
    "noo <- allpars[is.na(match(allpars$pid, sjex)),]\n",
    "aggregate(t1bound~bounds, FUN=\"length\", data = noo)"
   ]
  },
  {
   "cell_type": "markdown",
   "metadata": {},
   "source": [
    "What proportion of subjects dropped as outliers?"
   ]
  },
  {
   "cell_type": "code",
   "execution_count": 42,
   "metadata": {},
   "outputs": [
    {
     "data": {
      "text/html": [
       "0.102564102564103"
      ],
      "text/latex": [
       "0.102564102564103"
      ],
      "text/markdown": [
       "0.102564102564103"
      ],
      "text/plain": [
       "[1] 0.1025641"
      ]
     },
     "metadata": {},
     "output_type": "display_data"
    }
   ],
   "source": [
    "1 - dim(noo)[1]/dim(nimp)[1]"
   ]
  },
  {
   "cell_type": "markdown",
   "metadata": {},
   "source": [
    "## Data analysis"
   ]
  },
  {
   "cell_type": "markdown",
   "metadata": {},
   "source": [
    "Do initial boundaries differ reliably for LB and RB groups?"
   ]
  },
  {
   "cell_type": "code",
   "execution_count": 43,
   "metadata": {},
   "outputs": [
    {
     "data": {
      "text/plain": [
       "\n",
       "\tWelch Two Sample t-test\n",
       "\n",
       "data:  t1bound by group\n",
       "t = -11.793, df = 137.27, p-value < 2.2e-16\n",
       "alternative hypothesis: true difference in means is not equal to 0\n",
       "95 percent confidence interval:\n",
       " -37.77868 -26.92877\n",
       "sample estimates:\n",
       "mean in group LB mean in group RB \n",
       "        138.2984         170.6522 \n"
      ]
     },
     "metadata": {},
     "output_type": "display_data"
    }
   ],
   "source": [
    "t.test(t1bound ~ group, data = noo)"
   ]
  },
  {
   "cell_type": "markdown",
   "metadata": {},
   "source": [
    "They do. Now Look at mean midshift by source condition"
   ]
  },
  {
   "cell_type": "code",
   "execution_count": 44,
   "metadata": {
    "scrolled": false
   },
   "outputs": [
    {
     "data": {
      "text/html": [
       "<table>\n",
       "<thead><tr><th></th><th scope=col>Mean</th><th scope=col>Var</th><th scope=col>n</th><th scope=col>SErr</th></tr></thead>\n",
       "<tbody>\n",
       "\t<tr><th scope=row>Close</th><td>18.919257</td><td>243.7597 </td><td>29       </td><td>2.899225 </td></tr>\n",
       "\t<tr><th scope=row>Control</th><td> 4.484271</td><td>661.1638 </td><td>26       </td><td>5.042755 </td></tr>\n",
       "\t<tr><th scope=row>Dead</th><td> 5.055211</td><td>489.1567 </td><td>30       </td><td>4.037972 </td></tr>\n",
       "\t<tr><th scope=row>Far</th><td>19.164846</td><td>885.2366 </td><td>24       </td><td>6.073291 </td></tr>\n",
       "\t<tr><th scope=row>Mid</th><td> 1.342433</td><td>964.4639 </td><td>31       </td><td>5.577790 </td></tr>\n",
       "</tbody>\n",
       "</table>\n"
      ],
      "text/latex": [
       "\\begin{tabular}{r|llll}\n",
       "  & Mean & Var & n & SErr\\\\\n",
       "\\hline\n",
       "\tClose & 18.919257 & 243.7597  & 29        & 2.899225 \\\\\n",
       "\tControl &  4.484271 & 661.1638  & 26        & 5.042755 \\\\\n",
       "\tDead &  5.055211 & 489.1567  & 30        & 4.037972 \\\\\n",
       "\tFar & 19.164846 & 885.2366  & 24        & 6.073291 \\\\\n",
       "\tMid &  1.342433 & 964.4639  & 31        & 5.577790 \\\\\n",
       "\\end{tabular}\n"
      ],
      "text/markdown": [
       "\n",
       "| <!--/--> | Mean | Var | n | SErr |\n",
       "|---|---|---|---|---|\n",
       "| Close | 18.919257 | 243.7597  | 29        | 2.899225  |\n",
       "| Control |  4.484271 | 661.1638  | 26        | 5.042755  |\n",
       "| Dead |  5.055211 | 489.1567  | 30        | 4.037972  |\n",
       "| Far | 19.164846 | 885.2366  | 24        | 6.073291  |\n",
       "| Mid |  1.342433 | 964.4639  | 31        | 5.577790  |\n",
       "\n"
      ],
      "text/plain": [
       "        Mean      Var      n  SErr    \n",
       "Close   18.919257 243.7597 29 2.899225\n",
       "Control  4.484271 661.1638 26 5.042755\n",
       "Dead     5.055211 489.1567 30 4.037972\n",
       "Far     19.164846 885.2366 24 6.073291\n",
       "Mid      1.342433 964.4639 31 5.577790"
      ]
     },
     "metadata": {},
     "output_type": "display_data"
    }
   ],
   "source": [
    "tmp <- aggregate(midshift ~ bounds, data = noo, FUN=\"mean\")\n",
    "msmn <- as.data.frame(tmp[,2])\n",
    "row.names(msmn) <- tmp[,1]\n",
    "\n",
    "tmp <- aggregate(midshift ~ bounds, data = noo, FUN=\"var\")\n",
    "msmn <- cbind(msmn, tmp[,2])\n",
    "\n",
    "tmp <- aggregate(midshift ~ bounds, data = noo, FUN=\"length\")\n",
    "msmn <- cbind(msmn, tmp[,2])\n",
    "msmn <- cbind(msmn, sqrt(msmn[,2])/sqrt(msmn[,3]))\n",
    "\n",
    "names(msmn) <- c(\"Mean\", \"Var\", \"n\", \"SErr\")\n",
    "\n",
    "msmn"
   ]
  },
  {
   "cell_type": "markdown",
   "metadata": {},
   "source": [
    "Test significance of difference from 0 for each condition and calculate confidence intervals"
   ]
  },
  {
   "cell_type": "code",
   "execution_count": 45,
   "metadata": {},
   "outputs": [
    {
     "data": {
      "text/plain": [
       "\n",
       "\tOne Sample t-test\n",
       "\n",
       "data:  noo$midshift[noo$bounds == \"Control\"]\n",
       "t = 0.88925, df = 25, p-value = 0.3823\n",
       "alternative hypothesis: true mean is not equal to 0\n",
       "95 percent confidence interval:\n",
       " -5.901477 14.870019\n",
       "sample estimates:\n",
       "mean of x \n",
       " 4.484271 \n"
      ]
     },
     "metadata": {},
     "output_type": "display_data"
    }
   ],
   "source": [
    "t.test(noo$midshift[noo$bounds==\"Control\"])"
   ]
  },
  {
   "cell_type": "markdown",
   "metadata": {},
   "source": [
    "No shift in control condition"
   ]
  },
  {
   "cell_type": "code",
   "execution_count": 46,
   "metadata": {},
   "outputs": [
    {
     "data": {
      "text/plain": [
       "\n",
       "\tOne Sample t-test\n",
       "\n",
       "data:  noo$midshift[noo$bounds == \"Close\"]\n",
       "t = 6.5256, df = 28, p-value = 4.503e-07\n",
       "alternative hypothesis: true mean is not equal to 0\n",
       "95 percent confidence interval:\n",
       " 12.98046 24.85805\n",
       "sample estimates:\n",
       "mean of x \n",
       " 18.91926 \n"
      ]
     },
     "metadata": {},
     "output_type": "display_data"
    }
   ],
   "source": [
    "t.test(noo$midshift[noo$bounds==\"Close\"])"
   ]
  },
  {
   "cell_type": "markdown",
   "metadata": {},
   "source": [
    "Reliable shift toward the midline when both sources are in agreement and close to midline"
   ]
  },
  {
   "cell_type": "code",
   "execution_count": 47,
   "metadata": {},
   "outputs": [
    {
     "data": {
      "text/plain": [
       "\n",
       "\tOne Sample t-test\n",
       "\n",
       "data:  noo$midshift[noo$bounds == \"Dead\"]\n",
       "t = 1.2519, df = 29, p-value = 0.2206\n",
       "alternative hypothesis: true mean is not equal to 0\n",
       "95 percent confidence interval:\n",
       " -3.20337 13.31379\n",
       "sample estimates:\n",
       "mean of x \n",
       " 5.055211 \n"
      ]
     },
     "metadata": {},
     "output_type": "display_data"
    }
   ],
   "source": [
    "t.test(noo$midshift[noo$bounds==\"Dead\"])"
   ]
  },
  {
   "cell_type": "markdown",
   "metadata": {},
   "source": [
    "No shift when sources are in moderate agreement with one another, each using a boundary \"dead on\" with one of the two initial groups. This replicates Experiment 3."
   ]
  },
  {
   "cell_type": "code",
   "execution_count": 48,
   "metadata": {},
   "outputs": [
    {
     "data": {
      "text/plain": [
       "\n",
       "\tOne Sample t-test\n",
       "\n",
       "data:  noo$midshift[noo$bounds == \"Mid\"]\n",
       "t = 0.24067, df = 30, p-value = 0.8114\n",
       "alternative hypothesis: true mean is not equal to 0\n",
       "95 percent confidence interval:\n",
       " -10.04893  12.73380\n",
       "sample estimates:\n",
       "mean of x \n",
       " 1.342433 \n"
      ]
     },
     "metadata": {},
     "output_type": "display_data"
    }
   ],
   "source": [
    "t.test(noo$midshift[noo$bounds==\"Mid\"])"
   ]
  },
  {
   "cell_type": "markdown",
   "metadata": {},
   "source": [
    "No shift when sources are in moderate disagreement, further from the midline and initial boundaries"
   ]
  },
  {
   "cell_type": "code",
   "execution_count": 49,
   "metadata": {},
   "outputs": [
    {
     "data": {
      "text/plain": [
       "\n",
       "\tOne Sample t-test\n",
       "\n",
       "data:  noo$midshift[noo$bounds == \"Far\"]\n",
       "t = 3.1556, df = 23, p-value = 0.004423\n",
       "alternative hypothesis: true mean is not equal to 0\n",
       "95 percent confidence interval:\n",
       "  6.601287 31.728405\n",
       "sample estimates:\n",
       "mean of x \n",
       " 19.16485 \n"
      ]
     },
     "metadata": {},
     "output_type": "display_data"
    }
   ],
   "source": [
    "t.test(noo$midshift[noo$bounds==\"Far\"])"
   ]
  },
  {
   "cell_type": "markdown",
   "metadata": {},
   "source": [
    "Significant shift toward the midline when sources are in extreme disagreement"
   ]
  },
  {
   "cell_type": "markdown",
   "metadata": {
    "collapsed": true
   },
   "source": [
    "## Compare initial and final boundaries for LB and RB groups"
   ]
  },
  {
   "cell_type": "markdown",
   "metadata": {},
   "source": [
    "This block of code computes summary data (means, variance,n, standard error) for the final boundary location\n",
    "for each group and condition, as well as confidence intervals for the location of the initial boundary in each group."
   ]
  },
  {
   "cell_type": "code",
   "execution_count": 50,
   "metadata": {},
   "outputs": [
    {
     "data": {
      "text/html": [
       "<table>\n",
       "<thead><tr><th scope=col>group</th><th scope=col>sources</th><th scope=col>boundary</th><th scope=col>n</th><th scope=col>Var</th><th scope=col>SErr</th></tr></thead>\n",
       "<tbody>\n",
       "\t<tr><td>LB       </td><td>Close    </td><td>159.2455 </td><td>17       </td><td> 418.4107</td><td> 4.961088</td></tr>\n",
       "\t<tr><td>RB       </td><td>Close    </td><td>148.5148 </td><td>12       </td><td> 293.3804</td><td> 4.944529</td></tr>\n",
       "\t<tr><td>LB       </td><td>Control  </td><td>133.3087 </td><td>11       </td><td> 780.5349</td><td> 8.423640</td></tr>\n",
       "\t<tr><td>RB       </td><td>Control  </td><td>167.4871 </td><td>15       </td><td> 595.8857</td><td> 6.302834</td></tr>\n",
       "\t<tr><td>LB       </td><td>Dead     </td><td>147.3383 </td><td>17       </td><td> 432.4502</td><td> 5.043635</td></tr>\n",
       "\t<tr><td>RB       </td><td>Dead     </td><td>164.9331 </td><td>13       </td><td> 217.4237</td><td> 4.089609</td></tr>\n",
       "\t<tr><td>LB       </td><td>Far      </td><td>156.3372 </td><td>13       </td><td>1006.6214</td><td> 8.799569</td></tr>\n",
       "\t<tr><td>RB       </td><td>Far      </td><td>153.0966 </td><td>11       </td><td>1414.0913</td><td>11.338155</td></tr>\n",
       "\t<tr><td>LB       </td><td>Mid      </td><td>137.2511 </td><td>17       </td><td> 847.3311</td><td> 7.059958</td></tr>\n",
       "\t<tr><td>RB       </td><td>Mid      </td><td>165.9162 </td><td>14       </td><td> 899.7840</td><td> 8.016875</td></tr>\n",
       "\t<tr><td>LB       </td><td>Initial  </td><td>138.2984 </td><td>75       </td><td> 282.2313</td><td> 1.939867</td></tr>\n",
       "\t<tr><td>RB       </td><td>Initial  </td><td>170.6522 </td><td>65       </td><td> 244.6353</td><td> 1.940005</td></tr>\n",
       "</tbody>\n",
       "</table>\n"
      ],
      "text/latex": [
       "\\begin{tabular}{r|llllll}\n",
       " group & sources & boundary & n & Var & SErr\\\\\n",
       "\\hline\n",
       "\t LB        & Close     & 159.2455  & 17        &  418.4107 &  4.961088\\\\\n",
       "\t RB        & Close     & 148.5148  & 12        &  293.3804 &  4.944529\\\\\n",
       "\t LB        & Control   & 133.3087  & 11        &  780.5349 &  8.423640\\\\\n",
       "\t RB        & Control   & 167.4871  & 15        &  595.8857 &  6.302834\\\\\n",
       "\t LB        & Dead      & 147.3383  & 17        &  432.4502 &  5.043635\\\\\n",
       "\t RB        & Dead      & 164.9331  & 13        &  217.4237 &  4.089609\\\\\n",
       "\t LB        & Far       & 156.3372  & 13        & 1006.6214 &  8.799569\\\\\n",
       "\t RB        & Far       & 153.0966  & 11        & 1414.0913 & 11.338155\\\\\n",
       "\t LB        & Mid       & 137.2511  & 17        &  847.3311 &  7.059958\\\\\n",
       "\t RB        & Mid       & 165.9162  & 14        &  899.7840 &  8.016875\\\\\n",
       "\t LB        & Initial   & 138.2984  & 75        &  282.2313 &  1.939867\\\\\n",
       "\t RB        & Initial   & 170.6522  & 65        &  244.6353 &  1.940005\\\\\n",
       "\\end{tabular}\n"
      ],
      "text/markdown": [
       "\n",
       "| group | sources | boundary | n | Var | SErr |\n",
       "|---|---|---|---|---|---|\n",
       "| LB        | Close     | 159.2455  | 17        |  418.4107 |  4.961088 |\n",
       "| RB        | Close     | 148.5148  | 12        |  293.3804 |  4.944529 |\n",
       "| LB        | Control   | 133.3087  | 11        |  780.5349 |  8.423640 |\n",
       "| RB        | Control   | 167.4871  | 15        |  595.8857 |  6.302834 |\n",
       "| LB        | Dead      | 147.3383  | 17        |  432.4502 |  5.043635 |\n",
       "| RB        | Dead      | 164.9331  | 13        |  217.4237 |  4.089609 |\n",
       "| LB        | Far       | 156.3372  | 13        | 1006.6214 |  8.799569 |\n",
       "| RB        | Far       | 153.0966  | 11        | 1414.0913 | 11.338155 |\n",
       "| LB        | Mid       | 137.2511  | 17        |  847.3311 |  7.059958 |\n",
       "| RB        | Mid       | 165.9162  | 14        |  899.7840 |  8.016875 |\n",
       "| LB        | Initial   | 138.2984  | 75        |  282.2313 |  1.939867 |\n",
       "| RB        | Initial   | 170.6522  | 65        |  244.6353 |  1.940005 |\n",
       "\n"
      ],
      "text/plain": [
       "   group sources boundary n  Var       SErr     \n",
       "1  LB    Close   159.2455 17  418.4107  4.961088\n",
       "2  RB    Close   148.5148 12  293.3804  4.944529\n",
       "3  LB    Control 133.3087 11  780.5349  8.423640\n",
       "4  RB    Control 167.4871 15  595.8857  6.302834\n",
       "5  LB    Dead    147.3383 17  432.4502  5.043635\n",
       "6  RB    Dead    164.9331 13  217.4237  4.089609\n",
       "7  LB    Far     156.3372 13 1006.6214  8.799569\n",
       "8  RB    Far     153.0966 11 1414.0913 11.338155\n",
       "9  LB    Mid     137.2511 17  847.3311  7.059958\n",
       "10 RB    Mid     165.9162 14  899.7840  8.016875\n",
       "11 LB    Initial 138.2984 75  282.2313  1.939867\n",
       "12 RB    Initial 170.6522 65  244.6353  1.940005"
      ]
     },
     "metadata": {},
     "output_type": "display_data"
    }
   ],
   "source": [
    "#Pull out mean test-2 boundary for each group and condition\n",
    "tmp <- aggregate(t2bound ~ group + bounds, data = noo, FUN=\"mean\")\n",
    "bsum <- tmp\n",
    "\n",
    "#Add number of subjects\n",
    "tmp <- aggregate(t2bound ~ group + bounds, data = noo, FUN=\"length\")\n",
    "bsum <- cbind(bsum, tmp[,3])\n",
    "\n",
    "#Add variance\n",
    "tmp <- aggregate(t2bound ~ group + bounds, data = noo, FUN=\"var\")\n",
    "bsum <- cbind(bsum, tmp[,3])\n",
    "\n",
    "#Add standard error\n",
    "bsum <- cbind(bsum, sqrt(tmp[,3])/sqrt(bsum[,4]))\n",
    "\n",
    "#Label columns\n",
    "names(bsum) <- c(\"group\",\"sources\",\"boundary\",\"n\",\"Var\", \"SErr\")\n",
    "\n",
    "#Compute same aggregate for initial boundary collapsing across condition\n",
    "tmp <- aggregate(t1bound ~ group, data = noo, FUN = \"mean\")\n",
    "t1sum <- cbind(tmp, c(\"Initial\",\"Initial\"))\n",
    "t1sum <- t1sum[,c(1,3,2)]  #Reorder columns\n",
    "\n",
    "tmp <- aggregate(t1bound ~ group, data = noo, FUN = \"length\")\n",
    "t1sum <- cbind(t1sum, tmp[,2])\n",
    "\n",
    "tmp <- aggregate(t1bound ~ group, data = noo, FUN = \"var\")\n",
    "t1sum <- cbind(t1sum, tmp[,2])\n",
    "t1sum <- cbind(t1sum, sqrt(t1sum[,5])/sqrt(t1sum[,4]))\n",
    "\n",
    "names(t1sum) <- names(bsum)\n",
    "\n",
    "bsum <- rbind(bsum, t1sum)\n",
    "bsum\n",
    "\n"
   ]
  },
  {
   "cell_type": "code",
   "execution_count": 51,
   "metadata": {},
   "outputs": [
    {
     "data": {
      "image/png": "[encoded data removed]",
      "text/plain": [
       "plot without title"
      ]
     },
     "metadata": {},
     "output_type": "display_data"
    }
   ],
   "source": [
    "plot.finalb(bsum)"
   ]
  },
  {
   "cell_type": "markdown",
   "metadata": {},
   "source": [
    "### T-tests assessing whether location of final boundary differs between left and right groups in each condition."
   ]
  },
  {
   "cell_type": "code",
   "execution_count": 52,
   "metadata": {},
   "outputs": [
    {
     "data": {
      "text/plain": [
       "\n",
       "\tWelch Two Sample t-test\n",
       "\n",
       "data:  t2bound by group\n",
       "t = -3.2487, df = 19.88, p-value = 0.004046\n",
       "alternative hypothesis: true difference in means is not equal to 0\n",
       "95 percent confidence interval:\n",
       " -56.13245 -12.22427\n",
       "sample estimates:\n",
       "mean in group LB mean in group RB \n",
       "        133.3087         167.4871 \n"
      ]
     },
     "metadata": {},
     "output_type": "display_data"
    }
   ],
   "source": [
    "t.test(t2bound~group, data = subset(noo, noo$bounds==\"Control\"))"
   ]
  },
  {
   "cell_type": "markdown",
   "metadata": {},
   "source": [
    "In the control condition, the two groups still have different beliefs about boundary location."
   ]
  },
  {
   "cell_type": "code",
   "execution_count": 53,
   "metadata": {},
   "outputs": [
    {
     "data": {
      "text/plain": [
       "\n",
       "\tWelch Two Sample t-test\n",
       "\n",
       "data:  t2bound by group\n",
       "t = 1.532, df = 26.106, p-value = 0.1376\n",
       "alternative hypothesis: true difference in means is not equal to 0\n",
       "95 percent confidence interval:\n",
       " -3.664107 25.125446\n",
       "sample estimates:\n",
       "mean in group LB mean in group RB \n",
       "        159.2455         148.5148 \n"
      ]
     },
     "metadata": {},
     "output_type": "display_data"
    }
   ],
   "source": [
    "t.test(t2bound~group, data = subset(noo, noo$bounds==\"Close\"))"
   ]
  },
  {
   "cell_type": "markdown",
   "metadata": {},
   "source": [
    "When the two sources are both close to the midline, the two groups come into agreement (no significant difference in final belief)."
   ]
  },
  {
   "cell_type": "code",
   "execution_count": 54,
   "metadata": {},
   "outputs": [
    {
     "data": {
      "text/plain": [
       "\n",
       "\tWelch Two Sample t-test\n",
       "\n",
       "data:  t2bound by group\n",
       "t = -2.7097, df = 27.884, p-value = 0.01139\n",
       "alternative hypothesis: true difference in means is not equal to 0\n",
       "95 percent confidence interval:\n",
       " -30.898149  -4.291259\n",
       "sample estimates:\n",
       "mean in group LB mean in group RB \n",
       "        147.3383         164.9331 \n"
      ]
     },
     "metadata": {},
     "output_type": "display_data"
    }
   ],
   "source": [
    "t.test(t2bound~group, data = subset(noo, noo$bounds==\"Dead\"))"
   ]
  },
  {
   "cell_type": "markdown",
   "metadata": {},
   "source": [
    "When sources are \"dead on\" with initial beliefs, the two groups retain different beliefs"
   ]
  },
  {
   "cell_type": "code",
   "execution_count": 55,
   "metadata": {
    "scrolled": true
   },
   "outputs": [
    {
     "data": {
      "text/plain": [
       "\n",
       "\tWelch Two Sample t-test\n",
       "\n",
       "data:  t2bound by group\n",
       "t = -2.6834, df = 27.53, p-value = 0.01219\n",
       "alternative hypothesis: true difference in means is not equal to 0\n",
       "95 percent confidence interval:\n",
       " -50.563903  -6.766445\n",
       "sample estimates:\n",
       "mean in group LB mean in group RB \n",
       "        137.2511         165.9162 \n"
      ]
     },
     "metadata": {},
     "output_type": "display_data"
    }
   ],
   "source": [
    "t.test(t2bound~group, data = subset(noo, noo$bounds==\"Mid\"))"
   ]
  },
  {
   "cell_type": "markdown",
   "metadata": {},
   "source": [
    "When the two sources are both still fairly close to the initial boundary, the two groups retain different beliefs."
   ]
  },
  {
   "cell_type": "code",
   "execution_count": 56,
   "metadata": {},
   "outputs": [
    {
     "data": {
      "text/plain": [
       "\n",
       "\tWelch Two Sample t-test\n",
       "\n",
       "data:  t2bound by group\n",
       "t = 0.22579, df = 19.714, p-value = 0.8237\n",
       "alternative hypothesis: true difference in means is not equal to 0\n",
       "95 percent confidence interval:\n",
       " -26.72543  33.20665\n",
       "sample estimates:\n",
       "mean in group LB mean in group RB \n",
       "        156.3372         153.0966 \n"
      ]
     },
     "metadata": {},
     "output_type": "display_data"
    }
   ],
   "source": [
    "t.test(t2bound~group, data = subset(noo, noo$bounds==\"Far\"))"
   ]
  },
  {
   "cell_type": "markdown",
   "metadata": {},
   "source": [
    "But when the sources get far enough away, the two groups come into alignment again."
   ]
  },
  {
   "cell_type": "code",
   "execution_count": 57,
   "metadata": {},
   "outputs": [
    {
     "data": {
      "text/html": [
       "<table>\n",
       "<thead><tr><th></th><th scope=col>pid</th><th scope=col>axlab</th><th scope=col>group</th><th scope=col>bounds</th><th scope=col>sno</th><th scope=col>FaceLeft</th><th scope=col>t1int</th><th scope=col>t1slope</th><th scope=col>t1bound</th><th scope=col>t2int</th><th scope=col>t2slope</th><th scope=col>t2bound</th><th scope=col>bshift</th><th scope=col>midshift</th><th scope=col>Zmidshift</th><th scope=col>Zmsbycond</th></tr></thead>\n",
       "<tbody>\n",
       "\t<tr><th scope=row>1</th><td>./FinalData/SP-C_LB_Close_1   </td><td>./FinalData/SP-C              </td><td>LB                            </td><td>Close                         </td><td>1                             </td><td>1                             </td><td> 13.255315                    </td><td>-0.10604706                   </td><td>124.9946                      </td><td>331.883309                    </td><td>-2.07427068                   </td><td>160.0000                      </td><td> 35.005351                    </td><td> 35.005351                    </td><td>0.07930516                    </td><td> 0.41753304                   </td></tr>\n",
       "\t<tr><th scope=row>2</th><td>./FinalData/SP-C_LB_Close_2   </td><td>./FinalData/SP-C              </td><td>LB                            </td><td>Close                         </td><td>2                             </td><td>2                             </td><td> 11.370928                    </td><td>-0.06685196                   </td><td>170.0912                      </td><td>  6.164781                    </td><td>-0.04109854                   </td><td>150.0000                      </td><td>-20.091171                    </td><td>-20.091171                    </td><td>0.07930516                    </td><td>-0.38656462                   </td></tr>\n",
       "\t<tr><th scope=row>3</th><td>./FinalData/SP-C_LB_Close_41  </td><td>./FinalData/SP-C              </td><td>LB                            </td><td>Close                         </td><td>41                            </td><td>1                             </td><td> 12.725637                    </td><td>-0.07952961                   </td><td>160.0113                      </td><td> 28.549615                    </td><td>-0.16793889                   </td><td>170.0000                      </td><td>  9.988705                    </td><td>  9.988705                    </td><td>0.07930516                    </td><td> 0.05243147                   </td></tr>\n",
       "\t<tr><th scope=row>4</th><td>./FinalData/SP-C_LB_Control_10</td><td>./FinalData/SP-C              </td><td>LB                            </td><td>Control                       </td><td>10                            </td><td>2                             </td><td>601.980550                    </td><td>-4.15156952                   </td><td>145.0007                      </td><td>559.102995                    </td><td>-4.14144147                   </td><td>135.0020                      </td><td> -9.998688                    </td><td> -9.998688                    </td><td>0.07930516                    </td><td>-0.49786671                   </td></tr>\n",
       "\t<tr><th scope=row>6</th><td>./FinalData/SP-C_LB_Control_9 </td><td>./FinalData/SP-C              </td><td>LB                            </td><td>Control                       </td><td>9                             </td><td>1                             </td><td>  9.399524                    </td><td>-0.06715669                   </td><td>139.9641                      </td><td>  7.595619                    </td><td>-0.05851355                   </td><td>129.8096                      </td><td>-10.154504                    </td><td>-10.154504                    </td><td>0.07930516                    </td><td>-0.50257474                   </td></tr>\n",
       "\t<tr><th scope=row>7</th><td>./FinalData/SP-C_LB_Dead_3    </td><td>./FinalData/SP-C              </td><td>LB                            </td><td>Dead                          </td><td>3                             </td><td>1                             </td><td> 21.777570                    </td><td>-0.18937026                   </td><td>114.9999                      </td><td>601.980550                    </td><td>-4.15156952                   </td><td>145.0007                      </td><td> 30.000769                    </td><td> 30.000769                    </td><td>0.07930516                    </td><td> 0.96820169                   </td></tr>\n",
       "</tbody>\n",
       "</table>\n"
      ],
      "text/latex": [
       "\\begin{tabular}{r|llllllllllllllll}\n",
       "  & pid & axlab & group & bounds & sno & FaceLeft & t1int & t1slope & t1bound & t2int & t2slope & t2bound & bshift & midshift & Zmidshift & Zmsbycond\\\\\n",
       "\\hline\n",
       "\t1 & ./FinalData/SP-C\\_LB\\_Close\\_1    & ./FinalData/SP-C                     & LB                                   & Close                                & 1                                    & 1                                    &  13.255315                           & -0.10604706                          & 124.9946                             & 331.883309                           & -2.07427068                          & 160.0000                             &  35.005351                           &  35.005351                           & 0.07930516                           &  0.41753304                         \\\\\n",
       "\t2 & ./FinalData/SP-C\\_LB\\_Close\\_2    & ./FinalData/SP-C                     & LB                                   & Close                                & 2                                    & 2                                    &  11.370928                           & -0.06685196                          & 170.0912                             &   6.164781                           & -0.04109854                          & 150.0000                             & -20.091171                           & -20.091171                           & 0.07930516                           & -0.38656462                         \\\\\n",
       "\t3 & ./FinalData/SP-C\\_LB\\_Close\\_41   & ./FinalData/SP-C                     & LB                                   & Close                                & 41                                   & 1                                    &  12.725637                           & -0.07952961                          & 160.0113                             &  28.549615                           & -0.16793889                          & 170.0000                             &   9.988705                           &   9.988705                           & 0.07930516                           &  0.05243147                         \\\\\n",
       "\t4 & ./FinalData/SP-C\\_LB\\_Control\\_10 & ./FinalData/SP-C                     & LB                                   & Control                              & 10                                   & 2                                    & 601.980550                           & -4.15156952                          & 145.0007                             & 559.102995                           & -4.14144147                          & 135.0020                             &  -9.998688                           &  -9.998688                           & 0.07930516                           & -0.49786671                         \\\\\n",
       "\t6 & ./FinalData/SP-C\\_LB\\_Control\\_9  & ./FinalData/SP-C                     & LB                                   & Control                              & 9                                    & 1                                    &   9.399524                           & -0.06715669                          & 139.9641                             &   7.595619                           & -0.05851355                          & 129.8096                             & -10.154504                           & -10.154504                           & 0.07930516                           & -0.50257474                         \\\\\n",
       "\t7 & ./FinalData/SP-C\\_LB\\_Dead\\_3     & ./FinalData/SP-C                     & LB                                   & Dead                                 & 3                                    & 1                                    &  21.777570                           & -0.18937026                          & 114.9999                             & 601.980550                           & -4.15156952                          & 145.0007                             &  30.000769                           &  30.000769                           & 0.07930516                           &  0.96820169                         \\\\\n",
       "\\end{tabular}\n"
      ],
      "text/markdown": [
       "\n",
       "| <!--/--> | pid | axlab | group | bounds | sno | FaceLeft | t1int | t1slope | t1bound | t2int | t2slope | t2bound | bshift | midshift | Zmidshift | Zmsbycond |\n",
       "|---|---|---|---|---|---|---|---|---|---|---|---|---|---|---|---|---|\n",
       "| 1 | ./FinalData/SP-C_LB_Close_1    | ./FinalData/SP-C               | LB                             | Close                          | 1                              | 1                              |  13.255315                     | -0.10604706                    | 124.9946                       | 331.883309                     | -2.07427068                    | 160.0000                       |  35.005351                     |  35.005351                     | 0.07930516                     |  0.41753304                    |\n",
       "| 2 | ./FinalData/SP-C_LB_Close_2    | ./FinalData/SP-C               | LB                             | Close                          | 2                              | 2                              |  11.370928                     | -0.06685196                    | 170.0912                       |   6.164781                     | -0.04109854                    | 150.0000                       | -20.091171                     | -20.091171                     | 0.07930516                     | -0.38656462                    |\n",
       "| 3 | ./FinalData/SP-C_LB_Close_41   | ./FinalData/SP-C               | LB                             | Close                          | 41                             | 1                              |  12.725637                     | -0.07952961                    | 160.0113                       |  28.549615                     | -0.16793889                    | 170.0000                       |   9.988705                     |   9.988705                     | 0.07930516                     |  0.05243147                    |\n",
       "| 4 | ./FinalData/SP-C_LB_Control_10 | ./FinalData/SP-C               | LB                             | Control                        | 10                             | 2                              | 601.980550                     | -4.15156952                    | 145.0007                       | 559.102995                     | -4.14144147                    | 135.0020                       |  -9.998688                     |  -9.998688                     | 0.07930516                     | -0.49786671                    |\n",
       "| 6 | ./FinalData/SP-C_LB_Control_9  | ./FinalData/SP-C               | LB                             | Control                        | 9                              | 1                              |   9.399524                     | -0.06715669                    | 139.9641                       |   7.595619                     | -0.05851355                    | 129.8096                       | -10.154504                     | -10.154504                     | 0.07930516                     | -0.50257474                    |\n",
       "| 7 | ./FinalData/SP-C_LB_Dead_3     | ./FinalData/SP-C               | LB                             | Dead                           | 3                              | 1                              |  21.777570                     | -0.18937026                    | 114.9999                       | 601.980550                     | -4.15156952                    | 145.0007                       |  30.000769                     |  30.000769                     | 0.07930516                     |  0.96820169                    |\n",
       "\n"
      ],
      "text/plain": [
       "  pid                            axlab            group bounds  sno FaceLeft\n",
       "1 ./FinalData/SP-C_LB_Close_1    ./FinalData/SP-C LB    Close   1   1       \n",
       "2 ./FinalData/SP-C_LB_Close_2    ./FinalData/SP-C LB    Close   2   2       \n",
       "3 ./FinalData/SP-C_LB_Close_41   ./FinalData/SP-C LB    Close   41  1       \n",
       "4 ./FinalData/SP-C_LB_Control_10 ./FinalData/SP-C LB    Control 10  2       \n",
       "6 ./FinalData/SP-C_LB_Control_9  ./FinalData/SP-C LB    Control 9   1       \n",
       "7 ./FinalData/SP-C_LB_Dead_3     ./FinalData/SP-C LB    Dead    3   1       \n",
       "  t1int      t1slope     t1bound  t2int      t2slope     t2bound  bshift    \n",
       "1  13.255315 -0.10604706 124.9946 331.883309 -2.07427068 160.0000  35.005351\n",
       "2  11.370928 -0.06685196 170.0912   6.164781 -0.04109854 150.0000 -20.091171\n",
       "3  12.725637 -0.07952961 160.0113  28.549615 -0.16793889 170.0000   9.988705\n",
       "4 601.980550 -4.15156952 145.0007 559.102995 -4.14144147 135.0020  -9.998688\n",
       "6   9.399524 -0.06715669 139.9641   7.595619 -0.05851355 129.8096 -10.154504\n",
       "7  21.777570 -0.18937026 114.9999 601.980550 -4.15156952 145.0007  30.000769\n",
       "  midshift   Zmidshift  Zmsbycond  \n",
       "1  35.005351 0.07930516  0.41753304\n",
       "2 -20.091171 0.07930516 -0.38656462\n",
       "3   9.988705 0.07930516  0.05243147\n",
       "4  -9.998688 0.07930516 -0.49786671\n",
       "6 -10.154504 0.07930516 -0.50257474\n",
       "7  30.000769 0.07930516  0.96820169"
      ]
     },
     "metadata": {},
     "output_type": "display_data"
    }
   ],
   "source": [
    "head(noo)"
   ]
  },
  {
   "cell_type": "markdown",
   "metadata": {},
   "source": [
    "### Compute and plot confidence intervals for midline boundary shift in each condition"
   ]
  },
  {
   "cell_type": "code",
   "execution_count": 58,
   "metadata": {},
   "outputs": [],
   "source": [
    "f <- factor(noo$bounds) #Copy condition factor to f \n",
    "l <- levels(f) #factor levels\n",
    "n <- max(summary(f)) #largest number of subjects in any condition\n",
    "o <- matrix(NA, n, length(l)) #Create output matrix populated with NA values\n",
    "for(i1 in c(1:length(l))){ #for each factor\n",
    "    tmp <- noo$midshift[noo$bounds==l[i1]] #copy midshift data for subjects in a given condition\n",
    "    length(tmp) <- n #Set the length equal to the largest condition\n",
    "    o[,i1] <- tmp}   #copy the data into the corresponding column of o\n",
    "rm(tmp, l, n)        #remove temporary objects"
   ]
  },
  {
   "cell_type": "code",
   "execution_count": 59,
   "metadata": {},
   "outputs": [
    {
     "data": {
      "image/png": "[encoded data removed]",
      "text/plain": [
       "plot without title"
      ]
     },
     "metadata": {},
     "output_type": "display_data"
    }
   ],
   "source": [
    "plot.cis(o, pcol = c(\"gray40\", \"forestgreen\",\"gold\",\"orange\",\"red\"), y.lab = \"Boundary shift\", y.lim = c(-10,30))\n",
    "abline(h=0, lty = 2)"
   ]
  },
  {
   "cell_type": "code",
   "execution_count": null,
   "metadata": {},
   "outputs": [],
   "source": []
  }
 ],
 "metadata": {
  "kernelspec": {
   "display_name": "R",
   "language": "R",
   "name": "ir"
  },
  "language_info": {
   "codemirror_mode": "r",
   "file_extension": ".r",
   "mimetype": "text/x-r-source",
   "name": "R",
   "pygments_lexer": "r",
   "version": "3.6.1"
  }
 },
 "nbformat": 4,
 "nbformat_minor": 2
}
