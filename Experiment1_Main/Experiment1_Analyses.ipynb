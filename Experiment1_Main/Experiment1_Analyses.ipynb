{
 "cells": [
  {
   "cell_type": "markdown",
   "metadata": {},
   "source": [
    "# Functions"
   ]
  },
  {
   "cell_type": "markdown",
   "metadata": {},
   "source": [
    "Useful functions for plotting and analysis defined here"
   ]
  },
  {
   "cell_type": "code",
   "execution_count": 1,
   "metadata": {},
   "outputs": [],
   "source": [
    "zscore <- dget(\"zscore.r\")\n",
    "plot.bars <- dget(\"plot_bars.r\")\n",
    "plot.cis <- dget(\"plot_cis.r\")"
   ]
  },
  {
   "cell_type": "markdown",
   "metadata": {},
   "source": [
    "# Read in data"
   ]
  },
  {
   "cell_type": "markdown",
   "metadata": {},
   "source": [
    "Data files have been pre-processed with outliers removed, in each study stand-alone directory (TwoSource_CR_Passive, OneClose15, OneClose25). Each directory has its own notebook explaining this process and preliminary analyses. The outputs for these analyses are in the \"summary\" subdirectory in each directory. I just concatenated them here in the files \"all_nimp\" (all data excluding subjects with impossible boundary value) and \"all_noo.csv\" (all data excluding impossible values and outliers).\n",
    "\n",
    "Implicit category boundaries were estimated by fitting logistic regression curves to each subject's categorization decisions across a fixed grid of stimuli and finding the stimulus point where the curve predicts equal likelihood of each category. Because this estimate can be strongly affected by a few errors or random responding near the poles, we conducted an outlier analysis that removed subjects whose boundary estimates were very far from the group mean. Outlier analysis in each case followed the same procedure: First subjects with impossible boundary values (less than 0 or greater than 300) in either test were removed. Next subjects with a test-1 boundary estimate more than 2.5 standard deviations from the mean across all subjects (since all subjects had the exact same experience to this point). From remaining subjects, I also removed those whose aligned boundary shift was more than 2.5 standard deviations from the mean.\n",
    "\n",
    "The classification parameter estimates from grid 1 and grid 2 and all additional relevant fields for data with no outliers (\"noo\") were exported as csv files and copied to the current directory. Because the data span experiments over many months, field names and orderings may be different across studies. In Excel I aligned all fields across studies, merged the data into a single csv file, and named the fields consistently."
   ]
  },
  {
   "cell_type": "code",
   "execution_count": 6,
   "metadata": {},
   "outputs": [],
   "source": [
    "zthresh=2.5 #Set threshold for outlier removal"
   ]
  },
  {
   "cell_type": "markdown",
   "metadata": {},
   "source": [
    "Read in data and plot test 1 and test 2 boundaries to make sure there are no impossible values:"
   ]
  },
  {
   "cell_type": "code",
   "execution_count": 7,
   "metadata": {
    "scrolled": false
   },
   "outputs": [
    {
     "data": {
      "image/png": "[encoded data removed]",
      "text/plain": [
       "plot without title"
      ]
     },
     "metadata": {},
     "output_type": "display_data"
    }
   ],
   "source": [
    "nimp <- read.csv(\"all_nimp.csv\", header = T)\n",
    "plot(nimp$t1bound, nimp$t2bound)"
   ]
  },
  {
   "cell_type": "markdown",
   "metadata": {},
   "source": [
    "There are no impossible values. Now look for outliers in test-1 data."
   ]
  },
  {
   "cell_type": "markdown",
   "metadata": {},
   "source": [
    "In the \"aligned\" shift data, the direction of shift was multiplied by -1 for participants whose close source was smaller (to the left) than the range midpoint, so that a positive number always indicates a shift toward the close source pole for all subjects. So, we should do the same \"flip\" on the aligned boundary shift measured for an arbitrary half of the control (no source) subjects. Here we flip the sign on the shift for odd numbered control subjects (FaceLeft = 1 for all odd-numbered subjects)."
   ]
  },
  {
   "cell_type": "code",
   "execution_count": 4,
   "metadata": {},
   "outputs": [],
   "source": [
    "nimp$alshift[is.na(nimp$closebound) & nimp$FaceLeft==1] <- -1 * nimp$alshift[is.na(nimp$closebound) & nimp$FaceLeft==1]"
   ]
  },
  {
   "cell_type": "markdown",
   "metadata": {},
   "source": [
    "Now plot to see if there are any outliers"
   ]
  },
  {
   "cell_type": "code",
   "execution_count": 8,
   "metadata": {
    "scrolled": false
   },
   "outputs": [
    {
     "data": {
      "image/png": "[encoded data removed]",
      "text/plain": [
       "plot without title"
      ]
     },
     "metadata": {},
     "output_type": "display_data"
    }
   ],
   "source": [
    "plot(zscore(nimp$t1bound), ylim = c(-4,4), ylab=\"Z-score bound 1\")\n",
    "abline(h = c(-zthresh,zthresh))"
   ]
  },
  {
   "cell_type": "markdown",
   "metadata": {},
   "source": [
    "Remove any outliers and store in \"no outlier\" (noo) object"
   ]
  },
  {
   "cell_type": "code",
   "execution_count": 9,
   "metadata": {
    "scrolled": true
   },
   "outputs": [
    {
     "data": {
      "text/html": [
       "<table>\n",
       "<thead><tr><th scope=col>cond</th><th scope=col>t1bound</th></tr></thead>\n",
       "<tbody>\n",
       "\t<tr><td>none </td><td>38   </td></tr>\n",
       "\t<tr><td>one15</td><td>35   </td></tr>\n",
       "\t<tr><td>one25</td><td>33   </td></tr>\n",
       "\t<tr><td>two15</td><td>40   </td></tr>\n",
       "</tbody>\n",
       "</table>\n"
      ],
      "text/latex": [
       "\\begin{tabular}{r|ll}\n",
       " cond & t1bound\\\\\n",
       "\\hline\n",
       "\t none  & 38   \\\\\n",
       "\t one15 & 35   \\\\\n",
       "\t one25 & 33   \\\\\n",
       "\t two15 & 40   \\\\\n",
       "\\end{tabular}\n"
      ],
      "text/markdown": [
       "\n",
       "| cond | t1bound |\n",
       "|---|---|\n",
       "| none  | 38    |\n",
       "| one15 | 35    |\n",
       "| one25 | 33    |\n",
       "| two15 | 40    |\n",
       "\n"
      ],
      "text/plain": [
       "  cond  t1bound\n",
       "1 none  38     \n",
       "2 one15 35     \n",
       "3 one25 33     \n",
       "4 two15 40     "
      ]
     },
     "metadata": {},
     "output_type": "display_data"
    }
   ],
   "source": [
    "aggregate(t1bound ~ cond, FUN=\"length\", data = nimp)"
   ]
  },
  {
   "cell_type": "code",
   "execution_count": 10,
   "metadata": {
    "scrolled": true
   },
   "outputs": [
    {
     "data": {
      "text/html": [
       "<ol class=list-inline>\n",
       "\t<li>146</li>\n",
       "\t<li>17</li>\n",
       "</ol>\n"
      ],
      "text/latex": [
       "\\begin{enumerate*}\n",
       "\\item 146\n",
       "\\item 17\n",
       "\\end{enumerate*}\n"
      ],
      "text/markdown": [
       "1. 146\n",
       "2. 17\n",
       "\n",
       "\n"
      ],
      "text/plain": [
       "[1] 146  17"
      ]
     },
     "metadata": {},
     "output_type": "display_data"
    },
    {
     "data": {
      "text/html": [
       "<ol class=list-inline>\n",
       "\t<li>144</li>\n",
       "\t<li>17</li>\n",
       "</ol>\n"
      ],
      "text/latex": [
       "\\begin{enumerate*}\n",
       "\\item 144\n",
       "\\item 17\n",
       "\\end{enumerate*}\n"
      ],
      "text/markdown": [
       "1. 144\n",
       "2. 17\n",
       "\n",
       "\n"
      ],
      "text/plain": [
       "[1] 144  17"
      ]
     },
     "metadata": {},
     "output_type": "display_data"
    }
   ],
   "source": [
    "noo <- nimp[abs(zscore(nimp$t1bound)) < zthresh,] #remove t1bound outliers\n",
    "dim(nimp)\n",
    "dim(noo)"
   ]
  },
  {
   "cell_type": "markdown",
   "metadata": {},
   "source": [
    "Now compute Z scores for aligned boundary shift for each condition and plot"
   ]
  },
  {
   "cell_type": "code",
   "execution_count": 11,
   "metadata": {},
   "outputs": [],
   "source": [
    "#Zscore aligned shift by condition\n",
    "noo$Zalshift[noo$cond==\"none\"] <- zscore(noo$alshift[noo$cond==\"none\"])\n",
    "noo$Zalshift[noo$cond==\"one25\"] <- zscore(noo$alshift[noo$cond==\"one25\"])\n",
    "noo$Zalshift[noo$cond==\"one15\"] <- zscore(noo$alshift[noo$cond==\"one15\"])\n",
    "noo$Zalshift[noo$cond==\"two15\"] <- zscore(noo$alshift[noo$cond==\"two15\"])"
   ]
  },
  {
   "cell_type": "code",
   "execution_count": 12,
   "metadata": {
    "scrolled": false
   },
   "outputs": [
    {
     "data": {
      "text/html": [
       "<ol class=list-inline>\n",
       "\t<li>-2.91148887353972</li>\n",
       "\t<li>2.86148691534694</li>\n",
       "</ol>\n"
      ],
      "text/latex": [
       "\\begin{enumerate*}\n",
       "\\item -2.91148887353972\n",
       "\\item 2.86148691534694\n",
       "\\end{enumerate*}\n"
      ],
      "text/markdown": [
       "1. -2.91148887353972\n",
       "2. 2.86148691534694\n",
       "\n",
       "\n"
      ],
      "text/plain": [
       "[1] -2.911489  2.861487"
      ]
     },
     "metadata": {},
     "output_type": "display_data"
    },
    {
     "data": {
      "image/png": "[encoded data removed]",
      "text/plain": [
       "plot without title"
      ]
     },
     "metadata": {},
     "output_type": "display_data"
    }
   ],
   "source": [
    "#plot the z-scored aligned shift\n",
    "plot(noo$Zalshift, ylim =c(-4,4), pch=16, col=noo$cond,\n",
    "     ylab=\"Aligned shift z-score by condition\")\n",
    "abline(h=c(-zthresh, zthresh))\n",
    "range(noo$Zalshift)"
   ]
  },
  {
   "cell_type": "markdown",
   "metadata": {},
   "source": [
    "Remove outliers for z-scored boundary shift"
   ]
  },
  {
   "cell_type": "code",
   "execution_count": 13,
   "metadata": {},
   "outputs": [
    {
     "data": {
      "text/html": [
       "<ol class=list-inline>\n",
       "\t<li>142</li>\n",
       "\t<li>17</li>\n",
       "</ol>\n"
      ],
      "text/latex": [
       "\\begin{enumerate*}\n",
       "\\item 142\n",
       "\\item 17\n",
       "\\end{enumerate*}\n"
      ],
      "text/markdown": [
       "1. 142\n",
       "2. 17\n",
       "\n",
       "\n"
      ],
      "text/plain": [
       "[1] 142  17"
      ]
     },
     "metadata": {},
     "output_type": "display_data"
    }
   ],
   "source": [
    "noo <- noo[abs(noo$Zalshift) < zthresh,]\n",
    "dim(noo)"
   ]
  },
  {
   "cell_type": "markdown",
   "metadata": {},
   "source": [
    "Here is the total number of subjects removed in above steps:"
   ]
  },
  {
   "cell_type": "code",
   "execution_count": 14,
   "metadata": {},
   "outputs": [
    {
     "data": {
      "text/html": [
       "4"
      ],
      "text/latex": [
       "4"
      ],
      "text/markdown": [
       "4"
      ],
      "text/plain": [
       "[1] 4"
      ]
     },
     "metadata": {},
     "output_type": "display_data"
    }
   ],
   "source": [
    "dim(nimp)[1] - dim(noo)[1]"
   ]
  },
  {
   "cell_type": "markdown",
   "metadata": {},
   "source": [
    "## Data analysis"
   ]
  },
  {
   "cell_type": "markdown",
   "metadata": {},
   "source": [
    "Where is the initial boundary on average?"
   ]
  },
  {
   "cell_type": "code",
   "execution_count": 15,
   "metadata": {
    "scrolled": true
   },
   "outputs": [
    {
     "data": {
      "text/plain": [
       "\n",
       "\tOne Sample t-test\n",
       "\n",
       "data:  noo$t1bound\n",
       "t = 131.89, df = 141, p-value < 2.2e-16\n",
       "alternative hypothesis: true mean is not equal to 0\n",
       "95 percent confidence interval:\n",
       " 156.0603 160.8099\n",
       "sample estimates:\n",
       "mean of x \n",
       " 158.4351 \n"
      ]
     },
     "metadata": {},
     "output_type": "display_data"
    }
   ],
   "source": [
    "t.test(noo$t1bound)"
   ]
  },
  {
   "cell_type": "markdown",
   "metadata": {},
   "source": [
    "Initial boundary across all subjects is shifted a little positive from the midpoint between labeled examples at 150.\n",
    "\n",
    "Is the aligned boundary shift normally distributed?"
   ]
  },
  {
   "cell_type": "code",
   "execution_count": 16,
   "metadata": {},
   "outputs": [
    {
     "data": {
      "image/png": "[encoded data removed]",
      "text/plain": [
       "Plot with title \"Normal Q-Q Plot\""
      ]
     },
     "metadata": {},
     "output_type": "display_data"
    }
   ],
   "source": [
    "qqnorm(noo$alshift)"
   ]
  },
  {
   "cell_type": "code",
   "execution_count": 17,
   "metadata": {},
   "outputs": [
    {
     "data": {
      "text/plain": [
       "\n",
       "\tShapiro-Wilk normality test\n",
       "\n",
       "data:  noo$alshift\n",
       "W = 0.98829, p-value = 0.2768\n"
      ]
     },
     "metadata": {},
     "output_type": "display_data"
    }
   ],
   "source": [
    "shapiro.test(noo$alshift)"
   ]
  },
  {
   "cell_type": "markdown",
   "metadata": {},
   "source": [
    "Aligned boundary shift is normally distributed. Does the mean shift differ in each condition relative to the \"no source\" control condition?"
   ]
  },
  {
   "cell_type": "code",
   "execution_count": 18,
   "metadata": {
    "scrolled": true
   },
   "outputs": [
    {
     "data": {
      "text/plain": [
       "\n",
       "Call:\n",
       "lm(formula = alshift ~ cond, data = noo)\n",
       "\n",
       "Residuals:\n",
       "    Min      1Q  Median      3Q     Max \n",
       "-66.724 -15.554   4.295  15.178  73.541 \n",
       "\n",
       "Coefficients:\n",
       "            Estimate Std. Error t value Pr(>|t|)    \n",
       "(Intercept)    6.459      4.062   1.590 0.114094    \n",
       "condone15      3.618      5.958   0.607 0.544621    \n",
       "condone25      8.951      6.007   1.490 0.138511    \n",
       "condtwo15    -20.904      5.707  -3.663 0.000355 ***\n",
       "---\n",
       "Signif. codes:  0 '***' 0.001 '**' 0.01 '*' 0.05 '.' 0.1 ' ' 1\n",
       "\n",
       "Residual standard error: 25.04 on 138 degrees of freedom\n",
       "Multiple R-squared:  0.179,\tAdjusted R-squared:  0.1611 \n",
       "F-statistic: 10.03 on 3 and 138 DF,  p-value: 5.071e-06\n"
      ]
     },
     "metadata": {},
     "output_type": "display_data"
    }
   ],
   "source": [
    "summary(lm(alshift ~ cond, data = noo))"
   ]
  },
  {
   "cell_type": "markdown",
   "metadata": {},
   "source": [
    "Compared to control, the one-source 25 condition shift is reliably more positive while the two-source15 condition is reliably more negative. Since the two-source15 and one-source15 are matched for the location of the close source, it is important to assess whether the shift is different in these two conditions."
   ]
  },
  {
   "cell_type": "code",
   "execution_count": 19,
   "metadata": {
    "scrolled": false
   },
   "outputs": [
    {
     "data": {
      "text/plain": [
       "\n",
       "\tWelch Two Sample t-test\n",
       "\n",
       "data:  alshift by cond\n",
       "t = 4.9954, df = 69.134, p-value = 4.233e-06\n",
       "alternative hypothesis: true difference in means is not equal to 0\n",
       "95 percent confidence interval:\n",
       " 14.72964 34.31565\n",
       "sample estimates:\n",
       "mean in group one15 mean in group two15 \n",
       "           10.07700           -14.44565 \n"
      ]
     },
     "metadata": {},
     "output_type": "display_data"
    }
   ],
   "source": [
    "t.test(alshift ~ cond, data = subset(noo, noo$cond==\"one15\" | noo$cond==\"two15\"))"
   ]
  },
  {
   "cell_type": "markdown",
   "metadata": {},
   "source": [
    "Yes, they are reliably different."
   ]
  },
  {
   "cell_type": "markdown",
   "metadata": {},
   "source": [
    "Now we can compute confidence intervals for the amount of (aligned) shift observed in each condition."
   ]
  },
  {
   "cell_type": "markdown",
   "metadata": {},
   "source": [
    "The following creates a matrix o in which each column is one experiment condition, and rows contain each subject's aligned boundary shift data, padded with NAs. This matrix can be used with plot.cis to generate confidence interval plots by condition."
   ]
  },
  {
   "cell_type": "code",
   "execution_count": 20,
   "metadata": {},
   "outputs": [],
   "source": [
    "f <- factor(noo$cond, levels = levels(noo$cond)[c(3,2,1,4)]) #Copy condition factor to f with factor levels re-ordered\n",
    "l <- levels(f) #factor levels\n",
    "n <- max(summary(f)) #largest number of subjects in any condition\n",
    "o <- matrix(NA, n, length(l)) #Create output matrix populated with NA values\n",
    "for(i1 in c(1:length(l))){ #for each factor\n",
    "    tmp <- noo$alshift[noo$cond==l[i1]] #copy aligned shift data for subjects in a given condition\n",
    "    length(tmp) <- n #Set the length equal to the largest condition\n",
    "    o[,i1] <- tmp}   #copy the data into the corresponding column of o\n",
    "rm(tmp, l, n)        #remove temporary objects"
   ]
  },
  {
   "cell_type": "markdown",
   "metadata": {},
   "source": [
    "Now each column of o contains the aligned boundary shift data for each condition, in the order: One 25, One 15, None, Two (15, -100). This object can be handed to the plot.cis function for plotting."
   ]
  },
  {
   "cell_type": "code",
   "execution_count": 21,
   "metadata": {},
   "outputs": [
    {
     "data": {
      "text/plain": [
       "\n",
       "\tOne Sample t-test\n",
       "\n",
       "data:  noo$alshift[noo$cond == \"one15\"]\n",
       "t = 3.24, df = 32, p-value = 0.002788\n",
       "alternative hypothesis: true mean is not equal to 0\n",
       "95 percent confidence interval:\n",
       "  3.741784 16.412216\n",
       "sample estimates:\n",
       "mean of x \n",
       "   10.077 \n"
      ]
     },
     "metadata": {},
     "output_type": "display_data"
    }
   ],
   "source": [
    "t.test(noo$alshift[noo$cond==\"one15\"])"
   ]
  },
  {
   "cell_type": "code",
   "execution_count": 22,
   "metadata": {
    "scrolled": false
   },
   "outputs": [
    {
     "data": {
      "image/png": "[encoded data removed]",
      "text/plain": [
       "plot without title"
      ]
     },
     "metadata": {},
     "output_type": "display_data"
    }
   ],
   "source": [
    "par(mfrow = c(1,2)) #Set plotting paramters for two columns so plot is skinny\n",
    "plot.cis(o, pcol = c(\"forestgreen\",\"gold\",\"gray40\",\"red\"), y.lab = \"Boundary shift\", y.lim = c(-45,45)) #Plot data in o\n",
    "points(c(1,2,4), c(25,15,15), pch = 16, cex = .7, col =c(\"forestgreen\",\"gold\",\"red\") )  #Add points showing close source location\n",
    "lines(c(3.9,4.1), c(-42.5, -42.5), col = \"red\") #Line segment showing midpoint between sources for two-source condition\n",
    "abline(h=0, lty=2)  #No-shift line\n",
    "mtext(side = 1, text=c(\"(25)\", \"(15)\", \"None\", \"(15, -100)\"), at = c(1:4), \n",
    "      col = c(\"forestgreen\",\"gold\",\"gray40\",\"red\"), cex = .7) #condition labels on x axis"
   ]
  },
  {
   "cell_type": "markdown",
   "metadata": {},
   "source": [
    "**Figure 1: Mean and 95% confidence intervals for boundary shift in Study 1.** Positive numbers indicate a shift toward the close source boundary. X-axis labels indicate the source boundary distances from the range midpoint, which for close sources are also plotted with a small dot. When there is only one source (green and yellow), boundaries shift reliably toward it and confidence limits on the amount of shift include the source distance from the midpoint. When no source information is provided (gray), the boundary does not shift. When a close and a far source appear (red), the boundary shifts reliably toward the far source, and differs significantly from all other conditions. The boundary does not, however, shift as far as the midpoint between sources, indicated by the red line segment."
   ]
  },
  {
   "cell_type": "markdown",
   "metadata": {
    "collapsed": true
   },
   "source": [
    "### Additional analyses"
   ]
  },
  {
   "cell_type": "markdown",
   "metadata": {},
   "source": [
    "For the one-source conditions, we can see if the distance between initial boundary and the source boundary predicts the amount of shift."
   ]
  },
  {
   "cell_type": "code",
   "execution_count": 19,
   "metadata": {},
   "outputs": [
    {
     "data": {
      "image/png": "[encoded data removed]",
      "text/plain": [
       "plot without title"
      ]
     },
     "metadata": {},
     "output_type": "display_data"
    }
   ],
   "source": [
    "plot(bshift~t1dist, data = subset(noo, cond==\"one15\" | cond==\"one25\"), col = cond, pch=16)\n",
    "m <- lm(bshift ~ t1dist, data = subset(noo, cond==\"one15\" | cond==\"one25\"))\n",
    "abline(m$coefficients)\n",
    "abline(0,1, col=4)"
   ]
  },
  {
   "cell_type": "code",
   "execution_count": 20,
   "metadata": {
    "scrolled": true
   },
   "outputs": [
    {
     "data": {
      "text/plain": [
       "\n",
       "Call:\n",
       "lm(formula = bshift ~ t1dist, data = subset(noo, cond == \"one15\" | \n",
       "    cond == \"one25\"))\n",
       "\n",
       "Residuals:\n",
       "    Min      1Q  Median      3Q     Max \n",
       "-38.717 -13.970   3.186   9.778  36.324 \n",
       "\n",
       "Coefficients:\n",
       "            Estimate Std. Error t value Pr(>|t|)    \n",
       "(Intercept)  1.90216    2.40518   0.791    0.432    \n",
       "t1dist       0.66372    0.08657   7.667 2.01e-10 ***\n",
       "---\n",
       "Signif. codes:  0 '***' 0.001 '**' 0.01 '*' 0.05 '.' 0.1 ' ' 1\n",
       "\n",
       "Residual standard error: 17.39 on 59 degrees of freedom\n",
       "Multiple R-squared:  0.4991,\tAdjusted R-squared:  0.4906 \n",
       "F-statistic: 58.78 on 1 and 59 DF,  p-value: 2.007e-10\n"
      ]
     },
     "metadata": {},
     "output_type": "display_data"
    }
   ],
   "source": [
    "summary(m)"
   ]
  },
  {
   "cell_type": "markdown",
   "metadata": {},
   "source": [
    "It does. The black line in the above scatterplot shows the least-squares regression line for all subjects. Red dots show those in the one-15 condition while green dots show those in the 1-25 condition. \n",
    "\n",
    "Our heuristic model assumes that learners move all the way to the source boundary--that is, the distance moved during learning will equal the distance between the initial and source boundaries when there is only one source. The blue line in the scatterplot shows what that slope would look like. It isn't too different from the best fit line. If we compute confidence limits on the slope:"
   ]
  },
  {
   "cell_type": "code",
   "execution_count": 21,
   "metadata": {},
   "outputs": [
    {
     "data": {
      "text/html": [
       "<table>\n",
       "<thead><tr><th></th><th scope=col>2.5 %</th><th scope=col>97.5 %</th></tr></thead>\n",
       "<tbody>\n",
       "\t<tr><th scope=row>t1dist</th><td>0.4904886</td><td>0.8369533</td></tr>\n",
       "</tbody>\n",
       "</table>\n"
      ],
      "text/latex": [
       "\\begin{tabular}{r|ll}\n",
       "  & 2.5 \\% & 97.5 \\%\\\\\n",
       "\\hline\n",
       "\tt1dist & 0.4904886 & 0.8369533\\\\\n",
       "\\end{tabular}\n"
      ],
      "text/markdown": [
       "\n",
       "| <!--/--> | 2.5 % | 97.5 % |\n",
       "|---|---|---|\n",
       "| t1dist | 0.4904886 | 0.8369533 |\n",
       "\n"
      ],
      "text/plain": [
       "       2.5 %     97.5 %   \n",
       "t1dist 0.4904886 0.8369533"
      ]
     },
     "metadata": {},
     "output_type": "display_data"
    }
   ],
   "source": [
    "confint(m,'t1dist', level=.95)"
   ]
  },
  {
   "cell_type": "markdown",
   "metadata": {},
   "source": [
    "... we can see that the slope is less than one. An alternative learning model could use the predicted shift from this model, rather than the assumed shift of 1."
   ]
  },
  {
   "cell_type": "markdown",
   "metadata": {},
   "source": [
    "## Scratch"
   ]
  },
  {
   "cell_type": "code",
   "execution_count": 24,
   "metadata": {
    "scrolled": true
   },
   "outputs": [
    {
     "ename": "ERROR",
     "evalue": "Error in read.table(file = file, header = header, sep = sep, quote = quote, : no lines available in input\n",
     "output_type": "error",
     "traceback": [
      "Error in read.table(file = file, header = header, sep = sep, quote = quote, : no lines available in input\nTraceback:\n",
      "1. read.csv(\"all_noo.csv\", header = T)",
      "2. read.table(file = file, header = header, sep = sep, quote = quote, \n .     dec = dec, fill = fill, comment.char = comment.char, ...)",
      "3. stop(\"no lines available in input\")"
     ]
    }
   ],
   "source": [
    "#read the merged no-outlier (noo) file from the independent analyses\n",
    "noo <- read.csv(\"all_noo.csv\", header = T)\n",
    "head(noo)"
   ]
  },
  {
   "cell_type": "code",
   "execution_count": null,
   "metadata": {
    "scrolled": false
   },
   "outputs": [],
   "source": [
    "dim(noo)\n",
    "aggregate(alshift~cond, data = noo, FUN=\"length\")"
   ]
  },
  {
   "cell_type": "markdown",
   "metadata": {},
   "source": [
    "138 subjects, number in each condition shown above. We counterbalance (1) which side is labeled \"raw\", (2) which side the \"close\" source is on and (2) which face gets paired with which label. Fully crossing leads to 8 cells. We aim for 4-5 subjects in each cell, so expected 32-40 subjects per condition prior to outlier analysis."
   ]
  }
 ],
 "metadata": {
  "kernelspec": {
   "display_name": "R",
   "language": "R",
   "name": "ir"
  },
  "language_info": {
   "codemirror_mode": "r",
   "file_extension": ".r",
   "mimetype": "text/x-r-source",
   "name": "R",
   "pygments_lexer": "r",
   "version": "3.6.1"
  }
 },
 "nbformat": 4,
 "nbformat_minor": 2
}
