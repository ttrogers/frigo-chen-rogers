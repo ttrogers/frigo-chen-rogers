{
 "cells": [
  {
   "cell_type": "markdown",
   "metadata": {},
   "source": [
    "# Two different initial boundaries "
   ]
  },
  {
   "cell_type": "markdown",
   "metadata": {},
   "source": [
    "This experiment began with two groups differing in their initial learning. The Left group got two initial learning items shifted toward the spiky end of the distribution (30 and 170) while the Right group got two items shifted toward the smoothe end (130 and 270). Both learning items were consistent with a true boundary lying at the range midpoint (150). After initial learning and grid test, the two groups got exactly the same feedback from two sources. Source 1 had lying at the midpoint between the labeled examples seen by the Left group (100), while Source 2 used a boundary lying at the midpoint between the labeled examples seen by the Right group (200). After 300 trials of learning, a second grid test assessed the implicit boundary shift, after which the sources were rated for knowledge, percent correct, trust, and attractivenes.\n",
    "\n",
    "Both groups got overwhelmingly similar learning experiences, all consistent with a midline boundary. The question was whether they would consequently end up with more similar boundaries, or whether the existence of a single source consistent with their starting belief would be enough to negate any boundary shift.\n",
    "\n",
    "All data, raw and processed, are stored in the Excel file DiffInitialBounds.xlsx. Cleaned raw data for the grid test are also\n",
    "stored in the text file item_grid.txt. Cleaned raw data for the face ratings are stored in Face_Items.txt.\n",
    "\n",
    "item_grid.txt can be read into R as a data frame. The function get_pars.r will then extract the grid-test metrics from this\n",
    "object--slope, intercept, and boundary for each grid test, as well as shift and midline shift measures.\n",
    "\n",
    "PARAMETERS:\n",
    "\n",
    "Subjects in the LEFT condition had labeled examples at 30 and 170, while those in the RIGHT condition had labeled examples at 130 and 270. Each subject saw 10 repetitions of each labeled items, with feedback, presented in a different permuted order for each subject.\n",
    "\n",
    "Grid tests to measure the implicit boundary ranged from 60 to 240 at intervals of 10. Each grid point was tested twice, and order was permuted independently for each subject.\n",
    "\n",
    "In the multi-source part of the study, source boundaries were at 100 and 200 for all participants.\n",
    "\n"
   ]
  },
  {
   "cell_type": "markdown",
   "metadata": {},
   "source": [
    "## Packages"
   ]
  },
  {
   "cell_type": "code",
   "execution_count": 3,
   "metadata": {
    "scrolled": false
   },
   "outputs": [
    {
     "name": "stderr",
     "output_type": "stream",
     "text": [
      "Warning message:\n",
      "\"package 'reshape' was built under R version 3.6.3\"Warning message:\n",
      "\"package 'lme4' was built under R version 3.6.3\"Loading required package: Matrix\n",
      "\n",
      "Attaching package: 'Matrix'\n",
      "\n",
      "The following object is masked from 'package:reshape':\n",
      "\n",
      "    expand\n",
      "\n"
     ]
    }
   ],
   "source": [
    "library(reshape) #Reshaping functions melt and cast\n",
    "library(lme4)"
   ]
  },
  {
   "cell_type": "markdown",
   "metadata": {},
   "source": [
    "## Useful functions and parameters"
   ]
  },
  {
   "cell_type": "code",
   "execution_count": 2,
   "metadata": {},
   "outputs": [],
   "source": [
    "get.pars <- dget(\"get_pars.r\") #Function to compute grid parameters from raw data\n",
    "plot.bars <- dget(\"plot_bars.r\")  #Function for barplots with error bars\n",
    "zscore <-function(v){(v-mean(v, na.rm=T))/(sqrt(var(v, na.rm=T)))}\n",
    "\n",
    "zthresh <- 2.0"
   ]
  },
  {
   "cell_type": "markdown",
   "metadata": {},
   "source": [
    "## Grid Data"
   ]
  },
  {
   "cell_type": "markdown",
   "metadata": {},
   "source": [
    "### First get the grid parameter estimates"
   ]
  },
  {
   "cell_type": "code",
   "execution_count": 3,
   "metadata": {},
   "outputs": [
    {
     "name": "stderr",
     "output_type": "stream",
     "text": [
      "Warning message:\n",
      "\"glm.fit: fitted probabilities numerically 0 or 1 occurred\"Warning message:\n",
      "\"glm.fit: algorithm did not converge\"Warning message:\n",
      "\"glm.fit: fitted probabilities numerically 0 or 1 occurred\"Warning message:\n",
      "\"glm.fit: fitted probabilities numerically 0 or 1 occurred\"Warning message:\n",
      "\"glm.fit: fitted probabilities numerically 0 or 1 occurred\"Warning message:\n",
      "\"glm.fit: algorithm did not converge\"Warning message:\n",
      "\"glm.fit: fitted probabilities numerically 0 or 1 occurred\"Warning message:\n",
      "\"glm.fit: algorithm did not converge\"Warning message:\n",
      "\"glm.fit: fitted probabilities numerically 0 or 1 occurred\"Warning message:\n",
      "\"glm.fit: fitted probabilities numerically 0 or 1 occurred\"Warning message:\n",
      "\"glm.fit: fitted probabilities numerically 0 or 1 occurred\"Warning message:\n",
      "\"glm.fit: fitted probabilities numerically 0 or 1 occurred\"Warning message:\n",
      "\"glm.fit: fitted probabilities numerically 0 or 1 occurred\"Warning message:\n",
      "\"glm.fit: algorithm did not converge\"Warning message:\n",
      "\"glm.fit: fitted probabilities numerically 0 or 1 occurred\"Warning message:\n",
      "\"glm.fit: fitted probabilities numerically 0 or 1 occurred\"Warning message:\n",
      "\"glm.fit: algorithm did not converge\"Warning message:\n",
      "\"glm.fit: fitted probabilities numerically 0 or 1 occurred\""
     ]
    }
   ],
   "source": [
    "tmp <- read.table(\"item_grid.txt\", header = T) #Read item grid data for all subjects into tmp object\n",
    "allpars <- get.pars(tmp)  #Compute parameters of logistic fit\n",
    "rm(tmp) #remove tmp objects"
   ]
  },
  {
   "cell_type": "markdown",
   "metadata": {},
   "source": [
    "Warnings occur when boundary is perfect, can safely ignore"
   ]
  },
  {
   "cell_type": "code",
   "execution_count": 4,
   "metadata": {},
   "outputs": [
    {
     "data": {
      "text/html": [
       "<ol class=list-inline>\n",
       "\t<li>35</li>\n",
       "\t<li>12</li>\n",
       "</ol>\n"
      ],
      "text/latex": [
       "\\begin{enumerate*}\n",
       "\\item 35\n",
       "\\item 12\n",
       "\\end{enumerate*}\n"
      ],
      "text/markdown": [
       "1. 35\n",
       "2. 12\n",
       "\n",
       "\n"
      ],
      "text/plain": [
       "[1] 35 12"
      ]
     },
     "metadata": {},
     "output_type": "display_data"
    },
    {
     "data": {
      "text/html": [
       "<table>\n",
       "<thead><tr><th scope=col>sno</th><th scope=col>axlab</th><th scope=col>group</th><th scope=col>t1int</th><th scope=col>t1slope</th><th scope=col>t1bound</th><th scope=col>t2int</th><th scope=col>t2slope</th><th scope=col>t2bound</th><th scope=col>bshift</th><th scope=col>midshift</th><th scope=col>Zmidshift</th></tr></thead>\n",
       "<tbody>\n",
       "\t<tr><td>1           </td><td>C           </td><td>L           </td><td> 29.353515  </td><td>-0.18937752 </td><td>155.0000    </td><td> 246.761529 </td><td>-2.056346072</td><td>120.0000    </td><td>-35.00000   </td><td>-35.00000   </td><td>-0.6636461  </td></tr>\n",
       "\t<tr><td>2           </td><td>C           </td><td>R           </td><td> 13.489814  </td><td>-0.07933752 </td><td>170.0307    </td><td> 758.493767 </td><td>-4.100055216</td><td>184.9960    </td><td> 14.96530   </td><td>-14.96530   </td><td>-0.2084598  </td></tr>\n",
       "\t<tr><td>3           </td><td>R           </td><td>L           </td><td> -6.164781  </td><td> 0.04109854 </td><td>150.0000    </td><td>-351.382156 </td><td> 2.066953858</td><td>170.0000    </td><td> 20.00000   </td><td> 20.00000   </td><td> 0.5859479  </td></tr>\n",
       "\t<tr><td>4           </td><td>R           </td><td>R           </td><td> 14.194606  </td><td>-0.08871362 </td><td>160.0048    </td><td>  -0.745252 </td><td> 0.004256433</td><td>175.0884    </td><td> 15.08357   </td><td>-15.08357   </td><td>-0.2111470  </td></tr>\n",
       "\t<tr><td>5           </td><td>C           </td><td>L           </td><td> 18.482418  </td><td>-0.12321612 </td><td>150.0000    </td><td>   9.817757 </td><td>-0.054386821</td><td>180.5172    </td><td> 30.51720   </td><td> 30.51720   </td><td> 0.8248974  </td></tr>\n",
       "\t<tr><td>6           </td><td>C           </td><td>R           </td><td>351.382156  </td><td>-2.06695386 </td><td>170.0000    </td><td> 794.671773 </td><td>-4.075346828</td><td>194.9949    </td><td> 24.99488   </td><td>-24.99488   </td><td>-0.4363309  </td></tr>\n",
       "</tbody>\n",
       "</table>\n"
      ],
      "text/latex": [
       "\\begin{tabular}{r|llllllllllll}\n",
       " sno & axlab & group & t1int & t1slope & t1bound & t2int & t2slope & t2bound & bshift & midshift & Zmidshift\\\\\n",
       "\\hline\n",
       "\t 1            & C            & L            &  29.353515   & -0.18937752  & 155.0000     &  246.761529  & -2.056346072 & 120.0000     & -35.00000    & -35.00000    & -0.6636461  \\\\\n",
       "\t 2            & C            & R            &  13.489814   & -0.07933752  & 170.0307     &  758.493767  & -4.100055216 & 184.9960     &  14.96530    & -14.96530    & -0.2084598  \\\\\n",
       "\t 3            & R            & L            &  -6.164781   &  0.04109854  & 150.0000     & -351.382156  &  2.066953858 & 170.0000     &  20.00000    &  20.00000    &  0.5859479  \\\\\n",
       "\t 4            & R            & R            &  14.194606   & -0.08871362  & 160.0048     &   -0.745252  &  0.004256433 & 175.0884     &  15.08357    & -15.08357    & -0.2111470  \\\\\n",
       "\t 5            & C            & L            &  18.482418   & -0.12321612  & 150.0000     &    9.817757  & -0.054386821 & 180.5172     &  30.51720    &  30.51720    &  0.8248974  \\\\\n",
       "\t 6            & C            & R            & 351.382156   & -2.06695386  & 170.0000     &  794.671773  & -4.075346828 & 194.9949     &  24.99488    & -24.99488    & -0.4363309  \\\\\n",
       "\\end{tabular}\n"
      ],
      "text/markdown": [
       "\n",
       "| sno | axlab | group | t1int | t1slope | t1bound | t2int | t2slope | t2bound | bshift | midshift | Zmidshift |\n",
       "|---|---|---|---|---|---|---|---|---|---|---|---|\n",
       "| 1            | C            | L            |  29.353515   | -0.18937752  | 155.0000     |  246.761529  | -2.056346072 | 120.0000     | -35.00000    | -35.00000    | -0.6636461   |\n",
       "| 2            | C            | R            |  13.489814   | -0.07933752  | 170.0307     |  758.493767  | -4.100055216 | 184.9960     |  14.96530    | -14.96530    | -0.2084598   |\n",
       "| 3            | R            | L            |  -6.164781   |  0.04109854  | 150.0000     | -351.382156  |  2.066953858 | 170.0000     |  20.00000    |  20.00000    |  0.5859479   |\n",
       "| 4            | R            | R            |  14.194606   | -0.08871362  | 160.0048     |   -0.745252  |  0.004256433 | 175.0884     |  15.08357    | -15.08357    | -0.2111470   |\n",
       "| 5            | C            | L            |  18.482418   | -0.12321612  | 150.0000     |    9.817757  | -0.054386821 | 180.5172     |  30.51720    |  30.51720    |  0.8248974   |\n",
       "| 6            | C            | R            | 351.382156   | -2.06695386  | 170.0000     |  794.671773  | -4.075346828 | 194.9949     |  24.99488    | -24.99488    | -0.4363309   |\n",
       "\n"
      ],
      "text/plain": [
       "  sno axlab group t1int      t1slope     t1bound  t2int       t2slope     \n",
       "1 1   C     L      29.353515 -0.18937752 155.0000  246.761529 -2.056346072\n",
       "2 2   C     R      13.489814 -0.07933752 170.0307  758.493767 -4.100055216\n",
       "3 3   R     L      -6.164781  0.04109854 150.0000 -351.382156  2.066953858\n",
       "4 4   R     R      14.194606 -0.08871362 160.0048   -0.745252  0.004256433\n",
       "5 5   C     L      18.482418 -0.12321612 150.0000    9.817757 -0.054386821\n",
       "6 6   C     R     351.382156 -2.06695386 170.0000  794.671773 -4.075346828\n",
       "  t2bound  bshift    midshift  Zmidshift \n",
       "1 120.0000 -35.00000 -35.00000 -0.6636461\n",
       "2 184.9960  14.96530 -14.96530 -0.2084598\n",
       "3 170.0000  20.00000  20.00000  0.5859479\n",
       "4 175.0884  15.08357 -15.08357 -0.2111470\n",
       "5 180.5172  30.51720  30.51720  0.8248974\n",
       "6 194.9949  24.99488 -24.99488 -0.4363309"
      ]
     },
     "metadata": {},
     "output_type": "display_data"
    }
   ],
   "source": [
    "dim(allpars)\n",
    "head(allpars)\n"
   ]
  },
  {
   "cell_type": "markdown",
   "metadata": {},
   "source": [
    "Check for impossible t1 and t2 boundaries"
   ]
  },
  {
   "cell_type": "code",
   "execution_count": 5,
   "metadata": {},
   "outputs": [
    {
     "data": {
      "image/png": "[encoded data removed]",
      "text/plain": [
       "plot without title"
      ]
     },
     "metadata": {},
     "output_type": "display_data"
    }
   ],
   "source": [
    "plot(allpars$t1bound, allpars$t2bound)"
   ]
  },
  {
   "cell_type": "markdown",
   "metadata": {},
   "source": [
    "Remove subjects with impossible boundaries"
   ]
  },
  {
   "cell_type": "code",
   "execution_count": 6,
   "metadata": {},
   "outputs": [
    {
     "data": {
      "text/html": [
       "<ol class=list-inline>\n",
       "\t<li>34</li>\n",
       "\t<li>12</li>\n",
       "</ol>\n"
      ],
      "text/latex": [
       "\\begin{enumerate*}\n",
       "\\item 34\n",
       "\\item 12\n",
       "\\end{enumerate*}\n"
      ],
      "text/markdown": [
       "1. 34\n",
       "2. 12\n",
       "\n",
       "\n"
      ],
      "text/plain": [
       "[1] 34 12"
      ]
     },
     "metadata": {},
     "output_type": "display_data"
    }
   ],
   "source": [
    "sjex <- as.character(allpars$sno[allpars$t2bound < 0]) #Add subject number to exclude list\n",
    "noo <- allpars[is.na(match(allpars$sno, sjex)),]  #Copy remaining subjects to noo object\n",
    "dim(noo) #Check that only one has been removed"
   ]
  },
  {
   "cell_type": "markdown",
   "metadata": {},
   "source": [
    "Now check for outliers in t1bounds for each group"
   ]
  },
  {
   "cell_type": "code",
   "execution_count": 7,
   "metadata": {},
   "outputs": [
    {
     "data": {
      "image/png": "[encoded data removed]",
      "text/plain": [
       "plot without title"
      ]
     },
     "metadata": {},
     "output_type": "display_data"
    }
   ],
   "source": [
    "par(mfrow = c(1,2), mar = c(2,2,1,1))\n",
    "plot(zscore(noo$t1bound[noo$group==\"L\"]), ylim = c(-3,3)); abline(h=c(-zthresh,zthresh))\n",
    "plot(zscore(noo$t1bound[noo$group==\"R\"]), ylim = c(-3,3)); abline(h=c(-zthresh, zthresh))"
   ]
  },
  {
   "cell_type": "markdown",
   "metadata": {},
   "source": [
    "Remove any outliers."
   ]
  },
  {
   "cell_type": "code",
   "execution_count": 8,
   "metadata": {
    "scrolled": true
   },
   "outputs": [
    {
     "data": {
      "text/html": [
       "<ol class=list-inline>\n",
       "\t<li>32</li>\n",
       "\t<li>12</li>\n",
       "</ol>\n"
      ],
      "text/latex": [
       "\\begin{enumerate*}\n",
       "\\item 32\n",
       "\\item 12\n",
       "\\end{enumerate*}\n"
      ],
      "text/markdown": [
       "1. 32\n",
       "2. 12\n",
       "\n",
       "\n"
      ],
      "text/plain": [
       "[1] 32 12"
      ]
     },
     "metadata": {},
     "output_type": "display_data"
    }
   ],
   "source": [
    "tmp <- rep(0, times = dim(noo)[1]) #create a placeholder for zscores\n",
    "tmp[noo$group==\"L\"] <- abs(zscore(noo$t1bound[noo$group==\"L\"]))  #put zscores for t1bound group L in\n",
    "tmp[noo$group==\"R\"] <- abs(zscore(noo$t1bound[noo$group==\"R\"]))  #put zscores for t1bound group R in\n",
    "\n",
    "sjex <- c(sjex, as.character(noo$sno[tmp > zthresh])) #Add outlier to exclude list\n",
    "sjex <- unique(sjex)  #remove accidental duplicates\n",
    "noo <- allpars[is.na(match(allpars$sno, sjex)),]  #Copy remaining subjects to noo object\n",
    "dim(noo) #Check that only one has been removed"
   ]
  },
  {
   "cell_type": "markdown",
   "metadata": {},
   "source": [
    "Now see if any boundary shifts are outliers"
   ]
  },
  {
   "cell_type": "code",
   "execution_count": 9,
   "metadata": {},
   "outputs": [
    {
     "data": {
      "image/png": "[encoded data removed]",
      "text/plain": [
       "plot without title"
      ]
     },
     "metadata": {},
     "output_type": "display_data"
    }
   ],
   "source": [
    "plot(zscore(noo$midshift), ylim = c(-3,3)); abline(h=c(-zthresh, zthresh))"
   ]
  },
  {
   "cell_type": "markdown",
   "metadata": {},
   "source": [
    "Remove any outliers."
   ]
  },
  {
   "cell_type": "code",
   "execution_count": 10,
   "metadata": {},
   "outputs": [
    {
     "data": {
      "text/html": [
       "<ol class=list-inline>\n",
       "\t<li>30</li>\n",
       "\t<li>12</li>\n",
       "</ol>\n"
      ],
      "text/latex": [
       "\\begin{enumerate*}\n",
       "\\item 30\n",
       "\\item 12\n",
       "\\end{enumerate*}\n"
      ],
      "text/markdown": [
       "1. 30\n",
       "2. 12\n",
       "\n",
       "\n"
      ],
      "text/plain": [
       "[1] 30 12"
      ]
     },
     "metadata": {},
     "output_type": "display_data"
    }
   ],
   "source": [
    "sjex <- c(sjex, as.character(noo$sno[abs(zscore(noo$midshift)) > zthresh]))  #Add subject to exclude list\n",
    "sjex <- unique(sjex)  #Remove any accidental duplicates\n",
    "noo <- allpars[is.na(match(allpars$sno, sjex)),]  #Copy remaining subjects to noo object\n",
    "dim(noo) #Check that only one has been removed"
   ]
  },
  {
   "cell_type": "markdown",
   "metadata": {},
   "source": [
    "## Analysis"
   ]
  },
  {
   "cell_type": "markdown",
   "metadata": {},
   "source": [
    "### Grid data"
   ]
  },
  {
   "cell_type": "markdown",
   "metadata": {},
   "source": [
    "Do the initial boundaries differ between the groups?"
   ]
  },
  {
   "cell_type": "code",
   "execution_count": 11,
   "metadata": {},
   "outputs": [
    {
     "data": {
      "text/plain": [
       "\n",
       "\tWelch Two Sample t-test\n",
       "\n",
       "data:  t1bound by group\n",
       "t = -7.7524, df = 27.673, p-value = 2.072e-08\n",
       "alternative hypothesis: true difference in means is not equal to 0\n",
       "95 percent confidence interval:\n",
       " -42.1922 -24.5481\n",
       "sample estimates:\n",
       "mean in group L mean in group R \n",
       "       139.2691        172.6392 \n"
      ]
     },
     "metadata": {},
     "output_type": "display_data"
    }
   ],
   "source": [
    "t.test(t1bound ~ group, data = noo)"
   ]
  },
  {
   "cell_type": "markdown",
   "metadata": {},
   "source": [
    "Yes they do."
   ]
  },
  {
   "cell_type": "markdown",
   "metadata": {},
   "source": [
    "Does the mean aligned shift differ from zero?"
   ]
  },
  {
   "cell_type": "code",
   "execution_count": 12,
   "metadata": {},
   "outputs": [
    {
     "data": {
      "text/plain": [
       "\n",
       "\tOne Sample t-test\n",
       "\n",
       "data:  noo$midshift\n",
       "t = 0.11129, df = 29, p-value = 0.9122\n",
       "alternative hypothesis: true mean is not equal to 0\n",
       "95 percent confidence interval:\n",
       " -7.471844  8.331770\n",
       "sample estimates:\n",
       "mean of x \n",
       "0.4299632 \n"
      ]
     },
     "metadata": {},
     "output_type": "display_data"
    }
   ],
   "source": [
    "t.test(noo$midshift)"
   ]
  },
  {
   "cell_type": "markdown",
   "metadata": {},
   "source": [
    "No it doesn't--in contrast to other conditions, boundary doesn't shift for either group. Does this mean that the two groups still have different beliefs after learning with the two different sources?"
   ]
  },
  {
   "cell_type": "code",
   "execution_count": 13,
   "metadata": {},
   "outputs": [
    {
     "data": {
      "text/plain": [
       "\n",
       "\tWelch Two Sample t-test\n",
       "\n",
       "data:  t2bound by group\n",
       "t = -4.2207, df = 20.945, p-value = 0.0003852\n",
       "alternative hypothesis: true difference in means is not equal to 0\n",
       "95 percent confidence interval:\n",
       " -47.99391 -16.30659\n",
       "sample estimates:\n",
       "mean in group L mean in group R \n",
       "       142.5788        174.7290 \n"
      ]
     },
     "metadata": {},
     "output_type": "display_data"
    }
   ],
   "source": [
    "t.test(t2bound ~ group, data = noo)"
   ]
  },
  {
   "cell_type": "markdown",
   "metadata": {},
   "source": [
    "Yes--even after 300 learning trials receiving the same feedback, all consistent with a boundary at around 150, the two groups retain different beliefs about the location of the category boundary."
   ]
  },
  {
   "cell_type": "markdown",
   "metadata": {},
   "source": [
    "Now let's compute the mean and confidence limits for the midline shift, separately for each group."
   ]
  },
  {
   "cell_type": "code",
   "execution_count": 14,
   "metadata": {
    "scrolled": true
   },
   "outputs": [
    {
     "data": {
      "text/plain": [
       "\n",
       "\tOne Sample t-test\n",
       "\n",
       "data:  noo$midshift[noo$group == \"L\"]\n",
       "t = 0.59649, df = 13, p-value = 0.5611\n",
       "alternative hypothesis: true mean is not equal to 0\n",
       "95 percent confidence interval:\n",
       " -8.677448 15.296910\n",
       "sample estimates:\n",
       "mean of x \n",
       " 3.309731 \n"
      ]
     },
     "metadata": {},
     "output_type": "display_data"
    }
   ],
   "source": [
    "t.test(noo$midshift[noo$group==\"L\"])\n"
   ]
  },
  {
   "cell_type": "code",
   "execution_count": 15,
   "metadata": {
    "scrolled": true
   },
   "outputs": [
    {
     "data": {
      "text/plain": [
       "\n",
       "\tOne Sample t-test\n",
       "\n",
       "data:  noo$midshift[noo$group == \"R\"]\n",
       "t = -0.38247, df = 15, p-value = 0.7075\n",
       "alternative hypothesis: true mean is not equal to 0\n",
       "95 percent confidence interval:\n",
       " -13.736103   9.556436\n",
       "sample estimates:\n",
       "mean of x \n",
       "-2.089834 \n"
      ]
     },
     "metadata": {},
     "output_type": "display_data"
    }
   ],
   "source": [
    "t.test(noo$midshift[noo$group==\"R\"])"
   ]
  },
  {
   "cell_type": "markdown",
   "metadata": {},
   "source": [
    "In both cases the shift is essentially zero--neither group alters their initial category boundary. I won't generate a plot here but will use these data to make the associated figure data."
   ]
  },
  {
   "cell_type": "markdown",
   "metadata": {},
   "source": [
    "Finally let's compute the mean and confidence intervals of the initial and final boundaries for each group."
   ]
  },
  {
   "cell_type": "code",
   "execution_count": 16,
   "metadata": {},
   "outputs": [
    {
     "data": {
      "text/plain": [
       "\n",
       "\tOne Sample t-test\n",
       "\n",
       "data:  noo$t1bound[noo$group == \"L\"]\n",
       "t = 44.933, df = 13, p-value = 1.194e-15\n",
       "alternative hypothesis: true mean is not equal to 0\n",
       "95 percent confidence interval:\n",
       " 132.5730 145.9651\n",
       "sample estimates:\n",
       "mean of x \n",
       " 139.2691 \n"
      ]
     },
     "metadata": {},
     "output_type": "display_data"
    }
   ],
   "source": [
    "t.test(noo$t1bound[noo$group==\"L\"])"
   ]
  },
  {
   "cell_type": "code",
   "execution_count": 17,
   "metadata": {},
   "outputs": [
    {
     "data": {
      "text/plain": [
       "\n",
       "\tOne Sample t-test\n",
       "\n",
       "data:  noo$t1bound[noo$group == \"R\"]\n",
       "t = 57.798, df = 15, p-value < 2.2e-16\n",
       "alternative hypothesis: true mean is not equal to 0\n",
       "95 percent confidence interval:\n",
       " 166.2727 179.0058\n",
       "sample estimates:\n",
       "mean of x \n",
       " 172.6392 \n"
      ]
     },
     "metadata": {},
     "output_type": "display_data"
    }
   ],
   "source": [
    "t.test(noo$t1bound[noo$group==\"R\"])"
   ]
  },
  {
   "cell_type": "code",
   "execution_count": 18,
   "metadata": {},
   "outputs": [
    {
     "data": {
      "text/plain": [
       "\n",
       "\tOne Sample t-test\n",
       "\n",
       "data:  noo$t2bound[noo$group == \"L\"]\n",
       "t = 21.56, df = 13, p-value = 1.47e-11\n",
       "alternative hypothesis: true mean is not equal to 0\n",
       "95 percent confidence interval:\n",
       " 128.2918 156.8658\n",
       "sample estimates:\n",
       "mean of x \n",
       " 142.5788 \n"
      ]
     },
     "metadata": {},
     "output_type": "display_data"
    }
   ],
   "source": [
    "t.test(noo$t2bound[noo$group==\"L\"])"
   ]
  },
  {
   "cell_type": "code",
   "execution_count": 19,
   "metadata": {},
   "outputs": [
    {
     "data": {
      "text/plain": [
       "\n",
       "\tOne Sample t-test\n",
       "\n",
       "data:  noo$t2bound[noo$group == \"R\"]\n",
       "t = 46.223, df = 15, p-value < 2.2e-16\n",
       "alternative hypothesis: true mean is not equal to 0\n",
       "95 percent confidence interval:\n",
       " 166.6719 182.7862\n",
       "sample estimates:\n",
       "mean of x \n",
       "  174.729 \n"
      ]
     },
     "metadata": {},
     "output_type": "display_data"
    }
   ],
   "source": [
    "t.test(noo$t2bound[noo$group==\"R\"])"
   ]
  },
  {
   "cell_type": "markdown",
   "metadata": {},
   "source": [
    "## Face Data"
   ]
  },
  {
   "cell_type": "markdown",
   "metadata": {},
   "source": [
    "## Read in the data"
   ]
  },
  {
   "cell_type": "code",
   "execution_count": 4,
   "metadata": {
    "scrolled": true
   },
   "outputs": [
    {
     "data": {
      "text/html": [
       "<table>\n",
       "<thead><tr><th scope=col>Subject</th><th scope=col>Qtype</th><th scope=col>Image</th><th scope=col>Sside</th><th scope=col>Response</th><th scope=col>AxLab</th><th scope=col>Group</th></tr></thead>\n",
       "<tbody>\n",
       "\t<tr><td>1       </td><td>3       </td><td>Adam.bmp</td><td>Lsource </td><td>50      </td><td>C       </td><td>L       </td></tr>\n",
       "\t<tr><td>1       </td><td>3       </td><td>Mark.bmp</td><td>Rsource </td><td>50      </td><td>C       </td><td>L       </td></tr>\n",
       "\t<tr><td>1       </td><td>4       </td><td>Adam.bmp</td><td>Lsource </td><td>62      </td><td>C       </td><td>L       </td></tr>\n",
       "\t<tr><td>1       </td><td>4       </td><td>Mark.bmp</td><td>Rsource </td><td>62      </td><td>C       </td><td>L       </td></tr>\n",
       "\t<tr><td>1       </td><td>5       </td><td>Adam.bmp</td><td>Lsource </td><td>50      </td><td>C       </td><td>L       </td></tr>\n",
       "\t<tr><td>1       </td><td>5       </td><td>Mark.bmp</td><td>Rsource </td><td>50      </td><td>C       </td><td>L       </td></tr>\n",
       "</tbody>\n",
       "</table>\n"
      ],
      "text/latex": [
       "\\begin{tabular}{r|lllllll}\n",
       " Subject & Qtype & Image & Sside & Response & AxLab & Group\\\\\n",
       "\\hline\n",
       "\t 1        & 3        & Adam.bmp & Lsource  & 50       & C        & L       \\\\\n",
       "\t 1        & 3        & Mark.bmp & Rsource  & 50       & C        & L       \\\\\n",
       "\t 1        & 4        & Adam.bmp & Lsource  & 62       & C        & L       \\\\\n",
       "\t 1        & 4        & Mark.bmp & Rsource  & 62       & C        & L       \\\\\n",
       "\t 1        & 5        & Adam.bmp & Lsource  & 50       & C        & L       \\\\\n",
       "\t 1        & 5        & Mark.bmp & Rsource  & 50       & C        & L       \\\\\n",
       "\\end{tabular}\n"
      ],
      "text/markdown": [
       "\n",
       "| Subject | Qtype | Image | Sside | Response | AxLab | Group |\n",
       "|---|---|---|---|---|---|---|\n",
       "| 1        | 3        | Adam.bmp | Lsource  | 50       | C        | L        |\n",
       "| 1        | 3        | Mark.bmp | Rsource  | 50       | C        | L        |\n",
       "| 1        | 4        | Adam.bmp | Lsource  | 62       | C        | L        |\n",
       "| 1        | 4        | Mark.bmp | Rsource  | 62       | C        | L        |\n",
       "| 1        | 5        | Adam.bmp | Lsource  | 50       | C        | L        |\n",
       "| 1        | 5        | Mark.bmp | Rsource  | 50       | C        | L        |\n",
       "\n"
      ],
      "text/plain": [
       "  Subject Qtype Image    Sside   Response AxLab Group\n",
       "1 1       3     Adam.bmp Lsource 50       C     L    \n",
       "2 1       3     Mark.bmp Rsource 50       C     L    \n",
       "3 1       4     Adam.bmp Lsource 62       C     L    \n",
       "4 1       4     Mark.bmp Rsource 62       C     L    \n",
       "5 1       5     Adam.bmp Lsource 50       C     L    \n",
       "6 1       5     Mark.bmp Rsource 50       C     L    "
      ]
     },
     "metadata": {},
     "output_type": "display_data"
    },
    {
     "data": {
      "text/html": [
       "35"
      ],
      "text/latex": [
       "35"
      ],
      "text/markdown": [
       "35"
      ],
      "text/plain": [
       "[1] 35"
      ]
     },
     "metadata": {},
     "output_type": "display_data"
    }
   ],
   "source": [
    "fr <- read.table(\"Face_Items.txt\", header = T)\n",
    "head(fr)\n",
    "length(unique(fr$Subject))"
   ]
  },
  {
   "cell_type": "markdown",
   "metadata": {},
   "source": [
    "# NOTE CHECK COLUMN LABELS"
   ]
  },
  {
   "cell_type": "code",
   "execution_count": 43,
   "metadata": {
    "scrolled": true
   },
   "outputs": [
    {
     "data": {
      "text/html": [
       "<table>\n",
       "<thead><tr><th scope=col>Subject</th><th scope=col>Group</th><th scope=col>KnowL</th><th scope=col>KnowR</th><th scope=col>TrustL</th><th scope=col>TrustR</th><th scope=col>AccL</th><th scope=col>AccR</th><th scope=col>AttL</th><th scope=col>AttR</th></tr></thead>\n",
       "<tbody>\n",
       "\t<tr><td>1 </td><td>L </td><td>50</td><td>50</td><td>62</td><td>62</td><td>50</td><td>50</td><td>38</td><td>42</td></tr>\n",
       "\t<tr><td>12</td><td>R </td><td>30</td><td>79</td><td>33</td><td>78</td><td>30</td><td>73</td><td> 1</td><td> 1</td></tr>\n",
       "\t<tr><td>13</td><td>L </td><td>72</td><td>64</td><td>72</td><td>62</td><td>81</td><td>50</td><td>59</td><td> 1</td></tr>\n",
       "\t<tr><td>14</td><td>R </td><td>47</td><td>82</td><td>64</td><td>90</td><td>58</td><td>72</td><td> 1</td><td> 1</td></tr>\n",
       "\t<tr><td>15</td><td>L </td><td>41</td><td>64</td><td>64</td><td>76</td><td>50</td><td>65</td><td> 1</td><td> 1</td></tr>\n",
       "\t<tr><td>16</td><td>R </td><td>41</td><td>41</td><td>44</td><td>42</td><td>44</td><td>44</td><td>42</td><td>42</td></tr>\n",
       "</tbody>\n",
       "</table>\n"
      ],
      "text/latex": [
       "\\begin{tabular}{r|llllllllll}\n",
       " Subject & Group & KnowL & KnowR & TrustL & TrustR & AccL & AccR & AttL & AttR\\\\\n",
       "\\hline\n",
       "\t 1  & L  & 50 & 50 & 62 & 62 & 50 & 50 & 38 & 42\\\\\n",
       "\t 12 & R  & 30 & 79 & 33 & 78 & 30 & 73 &  1 &  1\\\\\n",
       "\t 13 & L  & 72 & 64 & 72 & 62 & 81 & 50 & 59 &  1\\\\\n",
       "\t 14 & R  & 47 & 82 & 64 & 90 & 58 & 72 &  1 &  1\\\\\n",
       "\t 15 & L  & 41 & 64 & 64 & 76 & 50 & 65 &  1 &  1\\\\\n",
       "\t 16 & R  & 41 & 41 & 44 & 42 & 44 & 44 & 42 & 42\\\\\n",
       "\\end{tabular}\n"
      ],
      "text/markdown": [
       "\n",
       "| Subject | Group | KnowL | KnowR | TrustL | TrustR | AccL | AccR | AttL | AttR |\n",
       "|---|---|---|---|---|---|---|---|---|---|\n",
       "| 1  | L  | 50 | 50 | 62 | 62 | 50 | 50 | 38 | 42 |\n",
       "| 12 | R  | 30 | 79 | 33 | 78 | 30 | 73 |  1 |  1 |\n",
       "| 13 | L  | 72 | 64 | 72 | 62 | 81 | 50 | 59 |  1 |\n",
       "| 14 | R  | 47 | 82 | 64 | 90 | 58 | 72 |  1 |  1 |\n",
       "| 15 | L  | 41 | 64 | 64 | 76 | 50 | 65 |  1 |  1 |\n",
       "| 16 | R  | 41 | 41 | 44 | 42 | 44 | 44 | 42 | 42 |\n",
       "\n"
      ],
      "text/plain": [
       "  Subject Group KnowL KnowR TrustL TrustR AccL AccR AttL AttR\n",
       "1 1       L     50    50    62     62     50   50   38   42  \n",
       "2 12      R     30    79    33     78     30   73    1    1  \n",
       "3 13      L     72    64    72     62     81   50   59    1  \n",
       "4 14      R     47    82    64     90     58   72    1    1  \n",
       "5 15      L     41    64    64     76     50   65    1    1  \n",
       "6 16      R     41    41    44     42     44   44   42   42  "
      ]
     },
     "metadata": {},
     "output_type": "display_data"
    }
   ],
   "source": [
    "frrs <- cast(fr, Subject + Group ~ Qtype * Sside, value=\"Response\") #reshape to wide form in case that is useful\n",
    "names(frrs)[3:10] <- c(\"KnowL\", \"KnowR\", \"TrustL\",\"TrustR\",\"AccL\",\"AccR\",\"AttL\",\"AttR\") #name columns\n",
    "head(frrs)"
   ]
  },
  {
   "cell_type": "code",
   "execution_count": 44,
   "metadata": {},
   "outputs": [],
   "source": [
    "#NOTE: Two subjects have 4 or more judgments more than 2SD from condition mean\n",
    "#Excel file excludes on these bases but we will deal with individual differences using mixed models here\n",
    "#so will include all subjects\n",
    "#Following lines would exclude subjects in same way as Excel file if uncommented\n",
    "#\n",
    "#sjex <- c(7, 22) #Subjects have 4 or more judgments more than 2SD from condition mean, see Excel file\n",
    "#fr <- fr[is.na(match(fr$Subject, sjex)),]\n",
    "#fr$Subject <- factor(as.character(fr$Subject))"
   ]
  },
  {
   "cell_type": "markdown",
   "metadata": {},
   "source": [
    "Here are the means by source side, group, and question type (3 = knowledge, 4 = trust, 5 = accuracy, 6 = attractiveness)"
   ]
  },
  {
   "cell_type": "code",
   "execution_count": 45,
   "metadata": {
    "scrolled": true
   },
   "outputs": [
    {
     "data": {
      "text/html": [
       "<table>\n",
       "<thead><tr><th scope=col>Group</th><th scope=col>3_Lsource</th><th scope=col>3_Rsource</th><th scope=col>4_Lsource</th><th scope=col>4_Rsource</th><th scope=col>5_Lsource</th><th scope=col>5_Rsource</th><th scope=col>6_Lsource</th><th scope=col>6_Rsource</th></tr></thead>\n",
       "<tbody>\n",
       "\t<tr><td>L       </td><td>62.29412</td><td>55.52941</td><td>67.70588</td><td>59.05882</td><td>55.11765</td><td>53.35294</td><td>41.70588</td><td>37.05882</td></tr>\n",
       "\t<tr><td>R       </td><td>47.12500</td><td>64.56250</td><td>52.25000</td><td>69.50000</td><td>51.06250</td><td>60.31250</td><td>30.62500</td><td>36.37500</td></tr>\n",
       "</tbody>\n",
       "</table>\n"
      ],
      "text/latex": [
       "\\begin{tabular}{r|lllllllll}\n",
       " Group & 3\\_Lsource & 3\\_Rsource & 4\\_Lsource & 4\\_Rsource & 5\\_Lsource & 5\\_Rsource & 6\\_Lsource & 6\\_Rsource\\\\\n",
       "\\hline\n",
       "\t L        & 62.29412 & 55.52941 & 67.70588 & 59.05882 & 55.11765 & 53.35294 & 41.70588 & 37.05882\\\\\n",
       "\t R        & 47.12500 & 64.56250 & 52.25000 & 69.50000 & 51.06250 & 60.31250 & 30.62500 & 36.37500\\\\\n",
       "\\end{tabular}\n"
      ],
      "text/markdown": [
       "\n",
       "| Group | 3_Lsource | 3_Rsource | 4_Lsource | 4_Rsource | 5_Lsource | 5_Rsource | 6_Lsource | 6_Rsource |\n",
       "|---|---|---|---|---|---|---|---|---|\n",
       "| L        | 62.29412 | 55.52941 | 67.70588 | 59.05882 | 55.11765 | 53.35294 | 41.70588 | 37.05882 |\n",
       "| R        | 47.12500 | 64.56250 | 52.25000 | 69.50000 | 51.06250 | 60.31250 | 30.62500 | 36.37500 |\n",
       "\n"
      ],
      "text/plain": [
       "  Group 3_Lsource 3_Rsource 4_Lsource 4_Rsource 5_Lsource 5_Rsource 6_Lsource\n",
       "1 L     62.29412  55.52941  67.70588  59.05882  55.11765  53.35294  41.70588 \n",
       "2 R     47.12500  64.56250  52.25000  69.50000  51.06250  60.31250  30.62500 \n",
       "  6_Rsource\n",
       "1 37.05882 \n",
       "2 36.37500 "
      ]
     },
     "metadata": {},
     "output_type": "display_data"
    }
   ],
   "source": [
    "cast(fr, Group ~ Qtype * Sside, value = \"Response\", fun.aggregate=mean)"
   ]
  },
  {
   "cell_type": "markdown",
   "metadata": {},
   "source": [
    "The central question is whether the two groups give reliably different ratings to the left vs right sources. So for each question type we want to assess whether there is a significant interaction between source side (left or right) and participant group (left initial boundary or right initial boundary). To do this we fit a \"full\" mixed linear model that include the interaction term and a \"reduced\" mixed linear model that omits the interaction. Then we compare model fits for the reduced versus the full model. Significnatly different fits indicate that the interaction term contributes importantly to model fit--ie, the two groups differ in the ratings they give to the two sources. We will assess this for each question type.\n",
    "\n",
    "**Note:** mixed-effects models sometimes give singular-fit warnings, so all analyses were also conducted with standard general linear models as well. Both approaches yield the same results."
   ]
  },
  {
   "cell_type": "code",
   "execution_count": 46,
   "metadata": {
    "scrolled": true
   },
   "outputs": [
    {
     "name": "stderr",
     "output_type": "stream",
     "text": [
      "boundary (singular) fit: see ?isSingular\n",
      "boundary (singular) fit: see ?isSingular\n"
     ]
    },
    {
     "data": {
      "text/html": [
       "<table>\n",
       "<thead><tr><th></th><th scope=col>Df</th><th scope=col>AIC</th><th scope=col>BIC</th><th scope=col>logLik</th><th scope=col>deviance</th><th scope=col>Chisq</th><th scope=col>Chi Df</th><th scope=col>Pr(&gt;Chisq)</th></tr></thead>\n",
       "<tbody>\n",
       "\t<tr><th scope=row>mred</th><td>5          </td><td>589.2918   </td><td>600.2401   </td><td>-289.6459  </td><td>579.2918   </td><td>      NA   </td><td>NA         </td><td>         NA</td></tr>\n",
       "\t<tr><th scope=row>mfull</th><td>6          </td><td>584.6060   </td><td>597.7439   </td><td>-286.3030  </td><td>572.6060   </td><td>6.685801   </td><td> 1         </td><td>0.009718382</td></tr>\n",
       "</tbody>\n",
       "</table>\n"
      ],
      "text/latex": [
       "\\begin{tabular}{r|llllllll}\n",
       "  & Df & AIC & BIC & logLik & deviance & Chisq & Chi Df & Pr(>Chisq)\\\\\n",
       "\\hline\n",
       "\tmred & 5           & 589.2918    & 600.2401    & -289.6459   & 579.2918    &       NA    & NA          &          NA\\\\\n",
       "\tmfull & 6           & 584.6060    & 597.7439    & -286.3030   & 572.6060    & 6.685801    &  1          & 0.009718382\\\\\n",
       "\\end{tabular}\n"
      ],
      "text/markdown": [
       "\n",
       "| <!--/--> | Df | AIC | BIC | logLik | deviance | Chisq | Chi Df | Pr(>Chisq) |\n",
       "|---|---|---|---|---|---|---|---|---|\n",
       "| mred | 5           | 589.2918    | 600.2401    | -289.6459   | 579.2918    |       NA    | NA          |          NA |\n",
       "| mfull | 6           | 584.6060    | 597.7439    | -286.3030   | 572.6060    | 6.685801    |  1          | 0.009718382 |\n",
       "\n"
      ],
      "text/plain": [
       "      Df AIC      BIC      logLik    deviance Chisq    Chi Df Pr(>Chisq) \n",
       "mred  5  589.2918 600.2401 -289.6459 579.2918       NA NA              NA\n",
       "mfull 6  584.6060 597.7439 -286.3030 572.6060 6.685801  1     0.009718382"
      ]
     },
     "metadata": {},
     "output_type": "display_data"
    }
   ],
   "source": [
    "#Linear mixed-effects model\n",
    "#Knowledge\n",
    "mfull <- lmer(Response ~ Sside * Group + (1 | Subject), data = subset(fr, fr$Qtype==3), REML=F)\n",
    "mred <- lmer(Response ~ Sside + Group + (1 | Subject), data = subset(fr, fr$Qtype==3), REML=F)\n",
    "anova(mfull, mred)"
   ]
  },
  {
   "cell_type": "code",
   "execution_count": 47,
   "metadata": {},
   "outputs": [
    {
     "data": {
      "text/plain": [
       "\n",
       "Call:\n",
       "lm(formula = Response ~ Sside * Group, data = subset(fr, fr$Qtype == \n",
       "    3))\n",
       "\n",
       "Residuals:\n",
       "    Min      1Q  Median      3Q     Max \n",
       "-52.562 -12.294  -0.344  13.833  36.706 \n",
       "\n",
       "Coefficients:\n",
       "                    Estimate Std. Error t value Pr(>|t|)    \n",
       "(Intercept)           62.294      4.635  13.440   <2e-16 ***\n",
       "SsideRsource          -6.765      6.555  -1.032   0.3061    \n",
       "GroupR               -15.169      6.657  -2.279   0.0261 *  \n",
       "SsideRsource:GroupR   24.202      9.414   2.571   0.0126 *  \n",
       "---\n",
       "Signif. codes:  0 '***' 0.001 '**' 0.01 '*' 0.05 '.' 0.1 ' ' 1\n",
       "\n",
       "Residual standard error: 19.11 on 62 degrees of freedom\n",
       "Multiple R-squared:  0.1162,\tAdjusted R-squared:  0.07342 \n",
       "F-statistic: 2.717 on 3 and 62 DF,  p-value: 0.05221\n"
      ]
     },
     "metadata": {},
     "output_type": "display_data"
    }
   ],
   "source": [
    "m <- lm(Response ~ Sside * Group, data = subset(fr, fr$Qtype==3))\n",
    "summary(m)"
   ]
  },
  {
   "cell_type": "markdown",
   "metadata": {},
   "source": [
    "Interaction is reliable at p < 0.05 in both cases."
   ]
  },
  {
   "cell_type": "code",
   "execution_count": 48,
   "metadata": {},
   "outputs": [
    {
     "name": "stderr",
     "output_type": "stream",
     "text": [
      "boundary (singular) fit: see ?isSingular\n"
     ]
    },
    {
     "data": {
      "text/html": [
       "<table>\n",
       "<thead><tr><th></th><th scope=col>Df</th><th scope=col>AIC</th><th scope=col>BIC</th><th scope=col>logLik</th><th scope=col>deviance</th><th scope=col>Chisq</th><th scope=col>Chi Df</th><th scope=col>Pr(&gt;Chisq)</th></tr></thead>\n",
       "<tbody>\n",
       "\t<tr><th scope=row>mred</th><td>5           </td><td>565.4616    </td><td>576.4098    </td><td>-277.7308   </td><td>555.4616    </td><td>      NA    </td><td>NA          </td><td>          NA</td></tr>\n",
       "\t<tr><th scope=row>mfull</th><td>6           </td><td>556.0417    </td><td>569.1796    </td><td>-272.0209   </td><td>544.0417    </td><td>11.41987    </td><td> 1          </td><td>0.0007266281</td></tr>\n",
       "</tbody>\n",
       "</table>\n"
      ],
      "text/latex": [
       "\\begin{tabular}{r|llllllll}\n",
       "  & Df & AIC & BIC & logLik & deviance & Chisq & Chi Df & Pr(>Chisq)\\\\\n",
       "\\hline\n",
       "\tmred & 5            & 565.4616     & 576.4098     & -277.7308    & 555.4616     &       NA     & NA           &           NA\\\\\n",
       "\tmfull & 6            & 556.0417     & 569.1796     & -272.0209    & 544.0417     & 11.41987     &  1           & 0.0007266281\\\\\n",
       "\\end{tabular}\n"
      ],
      "text/markdown": [
       "\n",
       "| <!--/--> | Df | AIC | BIC | logLik | deviance | Chisq | Chi Df | Pr(>Chisq) |\n",
       "|---|---|---|---|---|---|---|---|---|\n",
       "| mred | 5            | 565.4616     | 576.4098     | -277.7308    | 555.4616     |       NA     | NA           |           NA |\n",
       "| mfull | 6            | 556.0417     | 569.1796     | -272.0209    | 544.0417     | 11.41987     |  1           | 0.0007266281 |\n",
       "\n"
      ],
      "text/plain": [
       "      Df AIC      BIC      logLik    deviance Chisq    Chi Df Pr(>Chisq)  \n",
       "mred  5  565.4616 576.4098 -277.7308 555.4616       NA NA               NA\n",
       "mfull 6  556.0417 569.1796 -272.0209 544.0417 11.41987  1     0.0007266281"
      ]
     },
     "metadata": {},
     "output_type": "display_data"
    }
   ],
   "source": [
    "#Trust\n",
    "mfull <- lmer(Response ~ Sside * Group + (1 | Subject), data = subset(fr, fr$Qtype==4), REML=F)\n",
    "mred <- lmer(Response ~ Sside + Group + (1 | Subject), data = subset(fr, fr$Qtype==4), REML=F)\n",
    "anova(mfull, mred)"
   ]
  },
  {
   "cell_type": "code",
   "execution_count": 49,
   "metadata": {},
   "outputs": [
    {
     "data": {
      "text/plain": [
       "\n",
       "Call:\n",
       "glm(formula = Response ~ Sside * Group, data = subset(fr, fr$Qtype == \n",
       "    4))\n",
       "\n",
       "Deviance Residuals: \n",
       "    Min       1Q   Median       3Q      Max  \n",
       "-36.250   -9.059    0.941   11.449   39.750  \n",
       "\n",
       "Coefficients:\n",
       "                    Estimate Std. Error t value Pr(>|t|)    \n",
       "(Intercept)           67.706      3.734  18.130  < 2e-16 ***\n",
       "SsideRsource          -8.647      5.281  -1.637  0.10664    \n",
       "GroupR               -15.456      5.363  -2.882  0.00543 ** \n",
       "SsideRsource:GroupR   25.897      7.585   3.414  0.00113 ** \n",
       "---\n",
       "Signif. codes:  0 '***' 0.001 '**' 0.01 '*' 0.05 '.' 0.1 ' ' 1\n",
       "\n",
       "(Dispersion parameter for gaussian family taken to be 237.0882)\n",
       "\n",
       "    Null deviance: 17819  on 65  degrees of freedom\n",
       "Residual deviance: 14699  on 62  degrees of freedom\n",
       "AIC: 554.09\n",
       "\n",
       "Number of Fisher Scoring iterations: 2\n"
      ]
     },
     "metadata": {},
     "output_type": "display_data"
    }
   ],
   "source": [
    "m <- glm(Response ~ Sside * Group, data = subset(fr, fr$Qtype==4))\n",
    "summary(m)"
   ]
  },
  {
   "cell_type": "markdown",
   "metadata": {},
   "source": [
    "Interaction is reliable at p < 0.01 in both cases."
   ]
  },
  {
   "cell_type": "code",
   "execution_count": 50,
   "metadata": {},
   "outputs": [
    {
     "name": "stderr",
     "output_type": "stream",
     "text": [
      "boundary (singular) fit: see ?isSingular\n",
      "boundary (singular) fit: see ?isSingular\n"
     ]
    },
    {
     "data": {
      "text/html": [
       "<table>\n",
       "<thead><tr><th></th><th scope=col>Df</th><th scope=col>AIC</th><th scope=col>BIC</th><th scope=col>logLik</th><th scope=col>deviance</th><th scope=col>Chisq</th><th scope=col>Chi Df</th><th scope=col>Pr(&gt;Chisq)</th></tr></thead>\n",
       "<tbody>\n",
       "\t<tr><th scope=row>mred</th><td>5        </td><td>550.0756 </td><td>561.0239 </td><td>-270.0378</td><td>540.0756 </td><td>      NA </td><td>NA       </td><td>       NA</td></tr>\n",
       "\t<tr><th scope=row>mfull</th><td>6        </td><td>549.6457 </td><td>562.7836 </td><td>-268.8228</td><td>537.6457 </td><td>2.429961 </td><td> 1       </td><td>0.1190359</td></tr>\n",
       "</tbody>\n",
       "</table>\n"
      ],
      "text/latex": [
       "\\begin{tabular}{r|llllllll}\n",
       "  & Df & AIC & BIC & logLik & deviance & Chisq & Chi Df & Pr(>Chisq)\\\\\n",
       "\\hline\n",
       "\tmred & 5         & 550.0756  & 561.0239  & -270.0378 & 540.0756  &       NA  & NA        &        NA\\\\\n",
       "\tmfull & 6         & 549.6457  & 562.7836  & -268.8228 & 537.6457  & 2.429961  &  1        & 0.1190359\\\\\n",
       "\\end{tabular}\n"
      ],
      "text/markdown": [
       "\n",
       "| <!--/--> | Df | AIC | BIC | logLik | deviance | Chisq | Chi Df | Pr(>Chisq) |\n",
       "|---|---|---|---|---|---|---|---|---|\n",
       "| mred | 5         | 550.0756  | 561.0239  | -270.0378 | 540.0756  |       NA  | NA        |        NA |\n",
       "| mfull | 6         | 549.6457  | 562.7836  | -268.8228 | 537.6457  | 2.429961  |  1        | 0.1190359 |\n",
       "\n"
      ],
      "text/plain": [
       "      Df AIC      BIC      logLik    deviance Chisq    Chi Df Pr(>Chisq)\n",
       "mred  5  550.0756 561.0239 -270.0378 540.0756       NA NA            NA \n",
       "mfull 6  549.6457 562.7836 -268.8228 537.6457 2.429961  1     0.1190359 "
      ]
     },
     "metadata": {},
     "output_type": "display_data"
    }
   ],
   "source": [
    "#Accuracy\n",
    "mfull <- lmer(Response ~ Sside * Group + (1 | Subject), data = subset(fr, fr$Qtype==5), REML=F)\n",
    "mred <- lmer(Response ~ Sside + Group + (1 | Subject), data = subset(fr, fr$Qtype==5), REML=F)\n",
    "anova(mfull, mred)"
   ]
  },
  {
   "cell_type": "code",
   "execution_count": 51,
   "metadata": {},
   "outputs": [
    {
     "data": {
      "text/plain": [
       "\n",
       "Call:\n",
       "glm(formula = Response ~ Sside * Group, data = subset(fr, fr$Qtype == \n",
       "    5))\n",
       "\n",
       "Deviance Residuals: \n",
       "    Min       1Q   Median       3Q      Max  \n",
       "-31.353   -6.812   -1.687   10.674   38.688  \n",
       "\n",
       "Coefficients:\n",
       "                    Estimate Std. Error t value Pr(>|t|)    \n",
       "(Intercept)           55.118      3.557  15.498   <2e-16 ***\n",
       "SsideRsource          -1.765      5.030  -0.351    0.727    \n",
       "GroupR                -4.055      5.108  -0.794    0.430    \n",
       "SsideRsource:GroupR   11.015      7.223   1.525    0.132    \n",
       "---\n",
       "Signif. codes:  0 '***' 0.001 '**' 0.01 '*' 0.05 '.' 0.1 ' ' 1\n",
       "\n",
       "(Dispersion parameter for gaussian family taken to be 215.0326)\n",
       "\n",
       "    Null deviance: 14078  on 65  degrees of freedom\n",
       "Residual deviance: 13332  on 62  degrees of freedom\n",
       "AIC: 547.65\n",
       "\n",
       "Number of Fisher Scoring iterations: 2\n"
      ]
     },
     "metadata": {},
     "output_type": "display_data"
    }
   ],
   "source": [
    "m <- glm(Response ~ Sside * Group, data = subset(fr, fr$Qtype==5))\n",
    "summary(m)"
   ]
  },
  {
   "cell_type": "markdown",
   "metadata": {},
   "source": [
    "Interaction is not reliable in either case."
   ]
  },
  {
   "cell_type": "code",
   "execution_count": 52,
   "metadata": {},
   "outputs": [
    {
     "data": {
      "text/html": [
       "<table>\n",
       "<thead><tr><th></th><th scope=col>Df</th><th scope=col>AIC</th><th scope=col>BIC</th><th scope=col>logLik</th><th scope=col>deviance</th><th scope=col>Chisq</th><th scope=col>Chi Df</th><th scope=col>Pr(&gt;Chisq)</th></tr></thead>\n",
       "<tbody>\n",
       "\t<tr><th scope=row>mred</th><td>5         </td><td>579.6515  </td><td>590.5998  </td><td>-284.8258 </td><td>569.6515  </td><td>      NA  </td><td>NA        </td><td>        NA</td></tr>\n",
       "\t<tr><th scope=row>mfull</th><td>6         </td><td>578.5641  </td><td>591.7020  </td><td>-283.2821 </td><td>566.5641  </td><td>3.087424  </td><td> 1        </td><td>0.07889962</td></tr>\n",
       "</tbody>\n",
       "</table>\n"
      ],
      "text/latex": [
       "\\begin{tabular}{r|llllllll}\n",
       "  & Df & AIC & BIC & logLik & deviance & Chisq & Chi Df & Pr(>Chisq)\\\\\n",
       "\\hline\n",
       "\tmred & 5          & 579.6515   & 590.5998   & -284.8258  & 569.6515   &       NA   & NA         &         NA\\\\\n",
       "\tmfull & 6          & 578.5641   & 591.7020   & -283.2821  & 566.5641   & 3.087424   &  1         & 0.07889962\\\\\n",
       "\\end{tabular}\n"
      ],
      "text/markdown": [
       "\n",
       "| <!--/--> | Df | AIC | BIC | logLik | deviance | Chisq | Chi Df | Pr(>Chisq) |\n",
       "|---|---|---|---|---|---|---|---|---|\n",
       "| mred | 5          | 579.6515   | 590.5998   | -284.8258  | 569.6515   |       NA   | NA         |         NA |\n",
       "| mfull | 6          | 578.5641   | 591.7020   | -283.2821  | 566.5641   | 3.087424   |  1         | 0.07889962 |\n",
       "\n"
      ],
      "text/plain": [
       "      Df AIC      BIC      logLik    deviance Chisq    Chi Df Pr(>Chisq)\n",
       "mred  5  579.6515 590.5998 -284.8258 569.6515       NA NA             NA\n",
       "mfull 6  578.5641 591.7020 -283.2821 566.5641 3.087424  1     0.07889962"
      ]
     },
     "metadata": {},
     "output_type": "display_data"
    }
   ],
   "source": [
    "#Attractiveness\n",
    "mfull <- lmer(Response ~ Sside * Group + (1 | Subject), data = subset(fr, fr$Qtype==6), REML=F)\n",
    "mred <- lmer(Response ~ Sside + Group + (1 | Subject), data = subset(fr, fr$Qtype==6), REML=F)\n",
    "anova(mfull, mred)"
   ]
  },
  {
   "cell_type": "code",
   "execution_count": 53,
   "metadata": {},
   "outputs": [
    {
     "data": {
      "text/plain": [
       "\n",
       "Call:\n",
       "glm(formula = Response ~ Sside * Group, data = subset(fr, fr$Qtype == \n",
       "    6))\n",
       "\n",
       "Deviance Residuals: \n",
       "    Min       1Q   Median       3Q      Max  \n",
       "-40.706  -13.206    5.283   13.625   45.625  \n",
       "\n",
       "Coefficients:\n",
       "                    Estimate Std. Error t value Pr(>|t|)    \n",
       "(Intercept)           41.706      5.158   8.086 2.81e-11 ***\n",
       "SsideRsource          -4.647      7.294  -0.637    0.526    \n",
       "GroupR               -11.081      7.407  -1.496    0.140    \n",
       "SsideRsource:GroupR   10.397     10.476   0.992    0.325    \n",
       "---\n",
       "Signif. codes:  0 '***' 0.001 '**' 0.01 '*' 0.05 '.' 0.1 ' ' 1\n",
       "\n",
       "(Dispersion parameter for gaussian family taken to be 452.2576)\n",
       "\n",
       "    Null deviance: 29058  on 65  degrees of freedom\n",
       "Residual deviance: 28040  on 62  degrees of freedom\n",
       "AIC: 596.71\n",
       "\n",
       "Number of Fisher Scoring iterations: 2\n"
      ]
     },
     "metadata": {},
     "output_type": "display_data"
    }
   ],
   "source": [
    "m <- glm(Response ~ Sside * Group, data = subset(fr, fr$Qtype==6))\n",
    "summary(m)"
   ]
  },
  {
   "cell_type": "markdown",
   "metadata": {},
   "source": [
    "Interaction is not reliable in either case."
   ]
  },
  {
   "cell_type": "markdown",
   "metadata": {},
   "source": [
    "So the interaction is significant by p-test, AIC and BIC for knowledge and for trust, but not for accuracy or attractiveness.\n",
    "\n",
    "**NOTE**: Results are the same if image and axis label are included as random effects.\n",
    "\n",
    "Finally, we could combine the three questions of interest (knowledge, accuracy, trust) into a single mean rating\n",
    "\n"
   ]
  },
  {
   "cell_type": "code",
   "execution_count": 54,
   "metadata": {},
   "outputs": [
    {
     "data": {
      "text/html": [
       "<table>\n",
       "<thead><tr><th scope=col>Subject</th><th scope=col>Group</th><th scope=col>Response</th><th scope=col>Sside</th></tr></thead>\n",
       "<tbody>\n",
       "\t<tr><td>1       </td><td>L       </td><td>54.00000</td><td>L       </td></tr>\n",
       "\t<tr><td>12      </td><td>R       </td><td>31.00000</td><td>L       </td></tr>\n",
       "\t<tr><td>13      </td><td>L       </td><td>75.00000</td><td>L       </td></tr>\n",
       "\t<tr><td>14      </td><td>R       </td><td>56.33333</td><td>L       </td></tr>\n",
       "\t<tr><td>15      </td><td>L       </td><td>51.66667</td><td>L       </td></tr>\n",
       "\t<tr><td>16      </td><td>R       </td><td>43.00000</td><td>L       </td></tr>\n",
       "</tbody>\n",
       "</table>\n"
      ],
      "text/latex": [
       "\\begin{tabular}{r|llll}\n",
       " Subject & Group & Response & Sside\\\\\n",
       "\\hline\n",
       "\t 1        & L        & 54.00000 & L       \\\\\n",
       "\t 12       & R        & 31.00000 & L       \\\\\n",
       "\t 13       & L        & 75.00000 & L       \\\\\n",
       "\t 14       & R        & 56.33333 & L       \\\\\n",
       "\t 15       & L        & 51.66667 & L       \\\\\n",
       "\t 16       & R        & 43.00000 & L       \\\\\n",
       "\\end{tabular}\n"
      ],
      "text/markdown": [
       "\n",
       "| Subject | Group | Response | Sside |\n",
       "|---|---|---|---|\n",
       "| 1        | L        | 54.00000 | L        |\n",
       "| 12       | R        | 31.00000 | L        |\n",
       "| 13       | L        | 75.00000 | L        |\n",
       "| 14       | R        | 56.33333 | L        |\n",
       "| 15       | L        | 51.66667 | L        |\n",
       "| 16       | R        | 43.00000 | L        |\n",
       "\n"
      ],
      "text/plain": [
       "  Subject Group Response Sside\n",
       "1 1       L     54.00000 L    \n",
       "2 12      R     31.00000 L    \n",
       "3 13      L     75.00000 L    \n",
       "4 14      R     56.33333 L    \n",
       "5 15      L     51.66667 L    \n",
       "6 16      R     43.00000 L    "
      ]
     },
     "metadata": {},
     "output_type": "display_data"
    }
   ],
   "source": [
    "frmn <- frrs[,1:4]\n",
    "frmn[,3:4] <- frmn[,3:4] + frrs[,5:6] + frrs[,7:8]\n",
    "frmn[,3:4] <- frmn[,3:4]/3\n",
    "\n",
    "l <- cbind(frmn[,1:3], \"L\")\n",
    "r <- cbind(frmn[,c(1,2,4)], \"R\")\n",
    "names(l) <- c(\"Subject\",\"Group\",\"Response\",\"Sside\")\n",
    "names(r) <- c(\"Subject\",\"Group\",\"Response\",\"Sside\")\n",
    "frmn <- rbind(l,r)\n",
    "head(frmn)"
   ]
  },
  {
   "cell_type": "code",
   "execution_count": 55,
   "metadata": {
    "scrolled": true
   },
   "outputs": [
    {
     "name": "stderr",
     "output_type": "stream",
     "text": [
      "boundary (singular) fit: see ?isSingular\n",
      "boundary (singular) fit: see ?isSingular\n"
     ]
    },
    {
     "data": {
      "text/html": [
       "<table>\n",
       "<thead><tr><th></th><th scope=col>Df</th><th scope=col>AIC</th><th scope=col>BIC</th><th scope=col>logLik</th><th scope=col>deviance</th><th scope=col>Chisq</th><th scope=col>Chi Df</th><th scope=col>Pr(&gt;Chisq)</th></tr></thead>\n",
       "<tbody>\n",
       "\t<tr><th scope=row>mred</th><td>5         </td><td>546.3753  </td><td>557.3236  </td><td>-268.1877 </td><td>536.3753  </td><td>      NA  </td><td>NA        </td><td>        NA</td></tr>\n",
       "\t<tr><th scope=row>mfull</th><td>6         </td><td>539.1252  </td><td>552.2631  </td><td>-263.5626 </td><td>527.1252  </td><td>9.250159  </td><td> 1        </td><td>0.00235475</td></tr>\n",
       "</tbody>\n",
       "</table>\n"
      ],
      "text/latex": [
       "\\begin{tabular}{r|llllllll}\n",
       "  & Df & AIC & BIC & logLik & deviance & Chisq & Chi Df & Pr(>Chisq)\\\\\n",
       "\\hline\n",
       "\tmred & 5          & 546.3753   & 557.3236   & -268.1877  & 536.3753   &       NA   & NA         &         NA\\\\\n",
       "\tmfull & 6          & 539.1252   & 552.2631   & -263.5626  & 527.1252   & 9.250159   &  1         & 0.00235475\\\\\n",
       "\\end{tabular}\n"
      ],
      "text/markdown": [
       "\n",
       "| <!--/--> | Df | AIC | BIC | logLik | deviance | Chisq | Chi Df | Pr(>Chisq) |\n",
       "|---|---|---|---|---|---|---|---|---|\n",
       "| mred | 5          | 546.3753   | 557.3236   | -268.1877  | 536.3753   |       NA   | NA         |         NA |\n",
       "| mfull | 6          | 539.1252   | 552.2631   | -263.5626  | 527.1252   | 9.250159   |  1         | 0.00235475 |\n",
       "\n"
      ],
      "text/plain": [
       "      Df AIC      BIC      logLik    deviance Chisq    Chi Df Pr(>Chisq)\n",
       "mred  5  546.3753 557.3236 -268.1877 536.3753       NA NA             NA\n",
       "mfull 6  539.1252 552.2631 -263.5626 527.1252 9.250159  1     0.00235475"
      ]
     },
     "metadata": {},
     "output_type": "display_data"
    }
   ],
   "source": [
    "mfull <- lmer(Response ~ Sside * Group + (1 | Subject), data = frmn, REML=F)\n",
    "mred <- lmer(Response ~ Sside + Group + (1 | Subject), data=frmn, REML=F)\n",
    "anova(mfull, mred)"
   ]
  },
  {
   "cell_type": "code",
   "execution_count": 56,
   "metadata": {},
   "outputs": [
    {
     "data": {
      "text/plain": [
       "\n",
       "Call:\n",
       "glm(formula = Response ~ Sside * Group, data = frmn)\n",
       "\n",
       "Deviance Residuals: \n",
       "    Min       1Q   Median       3Q      Max  \n",
       "-31.458   -9.474    2.186   10.922   32.542  \n",
       "\n",
       "Coefficients:\n",
       "              Estimate Std. Error t value Pr(>|t|)    \n",
       "(Intercept)     61.706      3.284  18.789  < 2e-16 ***\n",
       "SsideR          -5.725      4.644  -1.233  0.22231    \n",
       "GroupR         -11.560      4.716  -2.451  0.01708 *  \n",
       "SsideR:GroupR   20.371      6.670   3.054  0.00332 ** \n",
       "---\n",
       "Signif. codes:  0 '***' 0.001 '**' 0.01 '*' 0.05 '.' 0.1 ' ' 1\n",
       "\n",
       "(Dispersion parameter for gaussian family taken to be 183.3484)\n",
       "\n",
       "    Null deviance: 13393  on 65  degrees of freedom\n",
       "Residual deviance: 11368  on 62  degrees of freedom\n",
       "AIC: 537.13\n",
       "\n",
       "Number of Fisher Scoring iterations: 2\n"
      ]
     },
     "metadata": {},
     "output_type": "display_data"
    }
   ],
   "source": [
    "m <- glm(Response ~ Sside * Group, data = frmn)\n",
    "summary(m)"
   ]
  },
  {
   "cell_type": "markdown",
   "metadata": {},
   "source": [
    "Interaction is significant by all criteria."
   ]
  },
  {
   "cell_type": "code",
   "execution_count": 57,
   "metadata": {},
   "outputs": [
    {
     "data": {
      "image/png": "[encoded data removed]",
      "text/plain": [
       "plot without title"
      ]
     },
     "metadata": {},
     "output_type": "display_data"
    }
   ],
   "source": [
    "barplot(as.matrix(cast(frmn, Group~Sside, value = \"Response\", fun.aggregate=mean)), beside = T)"
   ]
  },
  {
   "cell_type": "markdown",
   "metadata": {
    "collapsed": true
   },
   "source": [
    "So despite almost identical learning experiences all consistent with a category boundary near 150, two groups (1) do not change their beliefs about the category boundary, (2) remain in significant disagreement as to the boundary location and (2) form different beliefs about the knowledge and accuracy (and marginally trust) of the two sources, preferring whichever provided labels most consistent with their initial belief."
   ]
  },
  {
   "cell_type": "code",
   "execution_count": null,
   "metadata": {},
   "outputs": [],
   "source": []
  }
 ],
 "metadata": {
  "kernelspec": {
   "display_name": "R",
   "language": "R",
   "name": "ir"
  },
  "language_info": {
   "codemirror_mode": "r",
   "file_extension": ".r",
   "mimetype": "text/x-r-source",
   "name": "R",
   "pygments_lexer": "r",
   "version": "3.6.1"
  }
 },
 "nbformat": 4,
 "nbformat_minor": 2
}
