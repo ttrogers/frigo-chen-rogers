{
 "cells": [
  {
   "cell_type": "markdown",
   "metadata": {},
   "source": [
    "# Active selection of source"
   ]
  },
  {
   "cell_type": "markdown",
   "metadata": {},
   "source": [
    "This notebook describes analyses of an experiment variant in which participants were allowed, on each trial, to select the source from which they wanted to receive a label. It was designed to assess whether (a) learners would increasingly prefer to select one source over another and (b) the category boundary would shift reliably toward the closer source."
   ]
  },
  {
   "cell_type": "markdown",
   "metadata": {},
   "source": [
    "## Load data"
   ]
  },
  {
   "cell_type": "markdown",
   "metadata": {},
   "source": [
    "In this earlier experiment, data were analyzed before we adopted JuPyteR notebooks. I pre-processed the data in Excel and native R, then saved the data objects. This block reads in the data."
   ]
  },
  {
   "cell_type": "code",
   "execution_count": 1,
   "metadata": {},
   "outputs": [],
   "source": [
    "allpars <- read.csv(\"allpars.csv\", header = T) #Initial and final estimates of boundary from grid\n",
    "rating <- read.csv(\"rating.csv\", header = T)   #Ratings of faces following classification task\n",
    "sourcesel <- read.csv(\"sourcesel.csv\", header = T) #Source-selection data"
   ]
  },
  {
   "cell_type": "code",
   "execution_count": 30,
   "metadata": {},
   "outputs": [
    {
     "data": {
      "text/html": [
       "<table>\n",
       "<thead><tr><th scope=col>axlab</th><th scope=col>farsource</th><th scope=col>sno</th><th scope=col>t1int</th><th scope=col>t1slope</th><th scope=col>t1bound</th><th scope=col>t2int</th><th scope=col>t2slope</th><th scope=col>t2bound</th><th scope=col>bshift</th><th scope=col>closepos</th><th scope=col>Zclosepos</th><th scope=col>cond</th></tr></thead>\n",
       "<tbody>\n",
       "\t<tr><td>SP-C       </td><td>C          </td><td>SP-C_C1    </td><td> 11.370928 </td><td>-0.06685196</td><td>170.0912   </td><td> 17.552066 </td><td>-0.08995508</td><td>195.12035  </td><td> 25.02918  </td><td> 25.02918  </td><td> 0.9061107 </td><td>C          </td></tr>\n",
       "\t<tr><td>SP-C       </td><td>C          </td><td>SP-C_C10   </td><td>643.490304 </td><td>-4.15156951</td><td>154.9993   </td><td>351.382156 </td><td>-2.06695386</td><td>170.00000  </td><td> 15.00072  </td><td> 15.00072  </td><td> 0.5379886 </td><td>C          </td></tr>\n",
       "\t<tr><td>SP-C       </td><td>C          </td><td>SP-C_C2    </td><td>  6.945626 </td><td>-0.04476881</td><td>155.1443   </td><td>  3.603997 </td><td>-0.03798525</td><td> 94.87886  </td><td>-60.26547  </td><td>-60.26547  </td><td>-2.2248619 </td><td>C          </td></tr>\n",
       "\t<tr><td>SP-C       </td><td>C          </td><td>SP-C_C3    </td><td> 26.870491 </td><td>-0.16794057</td><td>160.0000   </td><td>  7.166546 </td><td>-0.05523562</td><td>129.74500  </td><td>-30.25500  </td><td>-30.25500  </td><td>-1.1232458 </td><td>C          </td></tr>\n",
       "\t<tr><td>SP-C       </td><td>C          </td><td>SP-C_C4    </td><td> 23.511679 </td><td>-0.16794057</td><td>140.0000   </td><td>441.814737 </td><td>-2.00824880</td><td>220.00000  </td><td> 80.00000  </td><td> 80.00000  </td><td> 2.9239646 </td><td>C          </td></tr>\n",
       "\t<tr><td>SP-C       </td><td>C          </td><td>SP-C_C5    </td><td> 26.870491 </td><td>-0.16794057</td><td>160.0000   </td><td>  7.571491 </td><td>-0.04045877</td><td>187.14092  </td><td> 27.14092  </td><td> 27.14092  </td><td> 0.9836278 </td><td>C          </td></tr>\n",
       "</tbody>\n",
       "</table>\n"
      ],
      "text/latex": [
       "\\begin{tabular}{r|lllllllllllll}\n",
       " axlab & farsource & sno & t1int & t1slope & t1bound & t2int & t2slope & t2bound & bshift & closepos & Zclosepos & cond\\\\\n",
       "\\hline\n",
       "\t SP-C        & C           & SP-C\\_C1   &  11.370928  & -0.06685196 & 170.0912    &  17.552066  & -0.08995508 & 195.12035   &  25.02918   &  25.02918   &  0.9061107  & C          \\\\\n",
       "\t SP-C        & C           & SP-C\\_C10  & 643.490304  & -4.15156951 & 154.9993    & 351.382156  & -2.06695386 & 170.00000   &  15.00072   &  15.00072   &  0.5379886  & C          \\\\\n",
       "\t SP-C        & C           & SP-C\\_C2   &   6.945626  & -0.04476881 & 155.1443    &   3.603997  & -0.03798525 &  94.87886   & -60.26547   & -60.26547   & -2.2248619  & C          \\\\\n",
       "\t SP-C        & C           & SP-C\\_C3   &  26.870491  & -0.16794057 & 160.0000    &   7.166546  & -0.05523562 & 129.74500   & -30.25500   & -30.25500   & -1.1232458  & C          \\\\\n",
       "\t SP-C        & C           & SP-C\\_C4   &  23.511679  & -0.16794057 & 140.0000    & 441.814737  & -2.00824880 & 220.00000   &  80.00000   &  80.00000   &  2.9239646  & C          \\\\\n",
       "\t SP-C        & C           & SP-C\\_C5   &  26.870491  & -0.16794057 & 160.0000    &   7.571491  & -0.04045877 & 187.14092   &  27.14092   &  27.14092   &  0.9836278  & C          \\\\\n",
       "\\end{tabular}\n"
      ],
      "text/markdown": [
       "\n",
       "| axlab | farsource | sno | t1int | t1slope | t1bound | t2int | t2slope | t2bound | bshift | closepos | Zclosepos | cond |\n",
       "|---|---|---|---|---|---|---|---|---|---|---|---|---|\n",
       "| SP-C        | C           | SP-C_C1     |  11.370928  | -0.06685196 | 170.0912    |  17.552066  | -0.08995508 | 195.12035   |  25.02918   |  25.02918   |  0.9061107  | C           |\n",
       "| SP-C        | C           | SP-C_C10    | 643.490304  | -4.15156951 | 154.9993    | 351.382156  | -2.06695386 | 170.00000   |  15.00072   |  15.00072   |  0.5379886  | C           |\n",
       "| SP-C        | C           | SP-C_C2     |   6.945626  | -0.04476881 | 155.1443    |   3.603997  | -0.03798525 |  94.87886   | -60.26547   | -60.26547   | -2.2248619  | C           |\n",
       "| SP-C        | C           | SP-C_C3     |  26.870491  | -0.16794057 | 160.0000    |   7.166546  | -0.05523562 | 129.74500   | -30.25500   | -30.25500   | -1.1232458  | C           |\n",
       "| SP-C        | C           | SP-C_C4     |  23.511679  | -0.16794057 | 140.0000    | 441.814737  | -2.00824880 | 220.00000   |  80.00000   |  80.00000   |  2.9239646  | C           |\n",
       "| SP-C        | C           | SP-C_C5     |  26.870491  | -0.16794057 | 160.0000    |   7.571491  | -0.04045877 | 187.14092   |  27.14092   |  27.14092   |  0.9836278  | C           |\n",
       "\n"
      ],
      "text/plain": [
       "  axlab farsource sno      t1int      t1slope     t1bound  t2int     \n",
       "1 SP-C  C         SP-C_C1   11.370928 -0.06685196 170.0912  17.552066\n",
       "2 SP-C  C         SP-C_C10 643.490304 -4.15156951 154.9993 351.382156\n",
       "3 SP-C  C         SP-C_C2    6.945626 -0.04476881 155.1443   3.603997\n",
       "4 SP-C  C         SP-C_C3   26.870491 -0.16794057 160.0000   7.166546\n",
       "5 SP-C  C         SP-C_C4   23.511679 -0.16794057 140.0000 441.814737\n",
       "6 SP-C  C         SP-C_C5   26.870491 -0.16794057 160.0000   7.571491\n",
       "  t2slope     t2bound   bshift    closepos  Zclosepos  cond\n",
       "1 -0.08995508 195.12035  25.02918  25.02918  0.9061107 C   \n",
       "2 -2.06695386 170.00000  15.00072  15.00072  0.5379886 C   \n",
       "3 -0.03798525  94.87886 -60.26547 -60.26547 -2.2248619 C   \n",
       "4 -0.05523562 129.74500 -30.25500 -30.25500 -1.1232458 C   \n",
       "5 -2.00824880 220.00000  80.00000  80.00000  2.9239646 C   \n",
       "6 -0.04045877 187.14092  27.14092  27.14092  0.9836278 C   "
      ]
     },
     "metadata": {},
     "output_type": "display_data"
    }
   ],
   "source": [
    "head(allpars)"
   ]
  },
  {
   "cell_type": "markdown",
   "metadata": {},
   "source": [
    "In this early study, boundary shift was encoded so that positive numbers indicate a shift toward the closer source. In all other studies, however, we coded so that positive numbers indicate a shift toward the *far* source. So, I will flip the direction and rename the fields correspondingly:"
   ]
  },
  {
   "cell_type": "code",
   "execution_count": 32,
   "metadata": {},
   "outputs": [],
   "source": [
    "allpars$closepos <- -1 * allpars$closepos\n",
    "allpars$Zclosepos <- -1 * allpars$Zclosepos\n",
    "names(allpars)[11:12] <- c(\"farpos\", \"Zfarpos\")\n"
   ]
  },
  {
   "cell_type": "code",
   "execution_count": 33,
   "metadata": {},
   "outputs": [
    {
     "data": {
      "text/html": [
       "<table>\n",
       "<thead><tr><th scope=col>axlab</th><th scope=col>farsource</th><th scope=col>sno</th><th scope=col>t1int</th><th scope=col>t1slope</th><th scope=col>t1bound</th><th scope=col>t2int</th><th scope=col>t2slope</th><th scope=col>t2bound</th><th scope=col>bshift</th><th scope=col>farpos</th><th scope=col>Zfarpos</th><th scope=col>cond</th></tr></thead>\n",
       "<tbody>\n",
       "\t<tr><td>SP-C       </td><td>C          </td><td>SP-C_C1    </td><td> 11.370928 </td><td>-0.06685196</td><td>170.0912   </td><td> 17.552066 </td><td>-0.08995508</td><td>195.12035  </td><td> 25.02918  </td><td>-25.02918  </td><td>-0.9061107 </td><td>C          </td></tr>\n",
       "\t<tr><td>SP-C       </td><td>C          </td><td>SP-C_C10   </td><td>643.490304 </td><td>-4.15156951</td><td>154.9993   </td><td>351.382156 </td><td>-2.06695386</td><td>170.00000  </td><td> 15.00072  </td><td>-15.00072  </td><td>-0.5379886 </td><td>C          </td></tr>\n",
       "\t<tr><td>SP-C       </td><td>C          </td><td>SP-C_C2    </td><td>  6.945626 </td><td>-0.04476881</td><td>155.1443   </td><td>  3.603997 </td><td>-0.03798525</td><td> 94.87886  </td><td>-60.26547  </td><td> 60.26547  </td><td> 2.2248619 </td><td>C          </td></tr>\n",
       "\t<tr><td>SP-C       </td><td>C          </td><td>SP-C_C3    </td><td> 26.870491 </td><td>-0.16794057</td><td>160.0000   </td><td>  7.166546 </td><td>-0.05523562</td><td>129.74500  </td><td>-30.25500  </td><td> 30.25500  </td><td> 1.1232458 </td><td>C          </td></tr>\n",
       "\t<tr><td>SP-C       </td><td>C          </td><td>SP-C_C4    </td><td> 23.511679 </td><td>-0.16794057</td><td>140.0000   </td><td>441.814737 </td><td>-2.00824880</td><td>220.00000  </td><td> 80.00000  </td><td>-80.00000  </td><td>-2.9239646 </td><td>C          </td></tr>\n",
       "\t<tr><td>SP-C       </td><td>C          </td><td>SP-C_C5    </td><td> 26.870491 </td><td>-0.16794057</td><td>160.0000   </td><td>  7.571491 </td><td>-0.04045877</td><td>187.14092  </td><td> 27.14092  </td><td>-27.14092  </td><td>-0.9836278 </td><td>C          </td></tr>\n",
       "</tbody>\n",
       "</table>\n"
      ],
      "text/latex": [
       "\\begin{tabular}{r|lllllllllllll}\n",
       " axlab & farsource & sno & t1int & t1slope & t1bound & t2int & t2slope & t2bound & bshift & farpos & Zfarpos & cond\\\\\n",
       "\\hline\n",
       "\t SP-C        & C           & SP-C\\_C1   &  11.370928  & -0.06685196 & 170.0912    &  17.552066  & -0.08995508 & 195.12035   &  25.02918   & -25.02918   & -0.9061107  & C          \\\\\n",
       "\t SP-C        & C           & SP-C\\_C10  & 643.490304  & -4.15156951 & 154.9993    & 351.382156  & -2.06695386 & 170.00000   &  15.00072   & -15.00072   & -0.5379886  & C          \\\\\n",
       "\t SP-C        & C           & SP-C\\_C2   &   6.945626  & -0.04476881 & 155.1443    &   3.603997  & -0.03798525 &  94.87886   & -60.26547   &  60.26547   &  2.2248619  & C          \\\\\n",
       "\t SP-C        & C           & SP-C\\_C3   &  26.870491  & -0.16794057 & 160.0000    &   7.166546  & -0.05523562 & 129.74500   & -30.25500   &  30.25500   &  1.1232458  & C          \\\\\n",
       "\t SP-C        & C           & SP-C\\_C4   &  23.511679  & -0.16794057 & 140.0000    & 441.814737  & -2.00824880 & 220.00000   &  80.00000   & -80.00000   & -2.9239646  & C          \\\\\n",
       "\t SP-C        & C           & SP-C\\_C5   &  26.870491  & -0.16794057 & 160.0000    &   7.571491  & -0.04045877 & 187.14092   &  27.14092   & -27.14092   & -0.9836278  & C          \\\\\n",
       "\\end{tabular}\n"
      ],
      "text/markdown": [
       "\n",
       "| axlab | farsource | sno | t1int | t1slope | t1bound | t2int | t2slope | t2bound | bshift | farpos | Zfarpos | cond |\n",
       "|---|---|---|---|---|---|---|---|---|---|---|---|---|\n",
       "| SP-C        | C           | SP-C_C1     |  11.370928  | -0.06685196 | 170.0912    |  17.552066  | -0.08995508 | 195.12035   |  25.02918   | -25.02918   | -0.9061107  | C           |\n",
       "| SP-C        | C           | SP-C_C10    | 643.490304  | -4.15156951 | 154.9993    | 351.382156  | -2.06695386 | 170.00000   |  15.00072   | -15.00072   | -0.5379886  | C           |\n",
       "| SP-C        | C           | SP-C_C2     |   6.945626  | -0.04476881 | 155.1443    |   3.603997  | -0.03798525 |  94.87886   | -60.26547   |  60.26547   |  2.2248619  | C           |\n",
       "| SP-C        | C           | SP-C_C3     |  26.870491  | -0.16794057 | 160.0000    |   7.166546  | -0.05523562 | 129.74500   | -30.25500   |  30.25500   |  1.1232458  | C           |\n",
       "| SP-C        | C           | SP-C_C4     |  23.511679  | -0.16794057 | 140.0000    | 441.814737  | -2.00824880 | 220.00000   |  80.00000   | -80.00000   | -2.9239646  | C           |\n",
       "| SP-C        | C           | SP-C_C5     |  26.870491  | -0.16794057 | 160.0000    |   7.571491  | -0.04045877 | 187.14092   |  27.14092   | -27.14092   | -0.9836278  | C           |\n",
       "\n"
      ],
      "text/plain": [
       "  axlab farsource sno      t1int      t1slope     t1bound  t2int     \n",
       "1 SP-C  C         SP-C_C1   11.370928 -0.06685196 170.0912  17.552066\n",
       "2 SP-C  C         SP-C_C10 643.490304 -4.15156951 154.9993 351.382156\n",
       "3 SP-C  C         SP-C_C2    6.945626 -0.04476881 155.1443   3.603997\n",
       "4 SP-C  C         SP-C_C3   26.870491 -0.16794057 160.0000   7.166546\n",
       "5 SP-C  C         SP-C_C4   23.511679 -0.16794057 140.0000 441.814737\n",
       "6 SP-C  C         SP-C_C5   26.870491 -0.16794057 160.0000   7.571491\n",
       "  t2slope     t2bound   bshift    farpos    Zfarpos    cond\n",
       "1 -0.08995508 195.12035  25.02918 -25.02918 -0.9061107 C   \n",
       "2 -2.06695386 170.00000  15.00072 -15.00072 -0.5379886 C   \n",
       "3 -0.03798525  94.87886 -60.26547  60.26547  2.2248619 C   \n",
       "4 -0.05523562 129.74500 -30.25500  30.25500  1.1232458 C   \n",
       "5 -2.00824880 220.00000  80.00000 -80.00000 -2.9239646 C   \n",
       "6 -0.04045877 187.14092  27.14092 -27.14092 -0.9836278 C   "
      ]
     },
     "metadata": {},
     "output_type": "display_data"
    }
   ],
   "source": [
    "head(allpars)"
   ]
  },
  {
   "cell_type": "code",
   "execution_count": 38,
   "metadata": {},
   "outputs": [],
   "source": [
    "#Rename sno column to have the same label as other data files (SID)\n",
    "names(allpars)[3] <- \"SID\""
   ]
  },
  {
   "cell_type": "markdown",
   "metadata": {},
   "source": [
    "## Define functions"
   ]
  },
  {
   "cell_type": "code",
   "execution_count": 2,
   "metadata": {},
   "outputs": [],
   "source": [
    "zscore <- function(v) {(v-mean(v))/sqrt(var(v))}"
   ]
  },
  {
   "cell_type": "markdown",
   "metadata": {},
   "source": [
    "## Source selection"
   ]
  },
  {
   "cell_type": "markdown",
   "metadata": {},
   "source": [
    "We first assessed whether people grew more likely to choose the source that agreed with them as the learnin phase of the experiment progressed. In preprocessing we divided the 301 learning trials into blocks of 50 (51 in final block), and for each block computed the proportion of trials for which the participant selected the source with the closer boundary. The questions are (1) are people more likely to choose the closer source on average across all trials, (2) do people grow more likely to choose the closer source over time and (3) do people who are more likely to choose the closer source *less* likely to shift their boundary toward the far source."
   ]
  },
  {
   "cell_type": "markdown",
   "metadata": {},
   "source": [
    "First let's look at the mean proportion of \"closer source\" choices made by all subjects:"
   ]
  },
  {
   "cell_type": "code",
   "execution_count": 92,
   "metadata": {},
   "outputs": [
    {
     "data": {
      "image/png": "[encoded data removed]",
      "text/plain": [
       "plot without title"
      ]
     },
     "metadata": {},
     "output_type": "display_data"
    }
   ],
   "source": [
    "mnprop <- rowMeans(sourcesel[,2:7]) #Vector of mean proportions\n",
    "plot(mnprop, ylim = c(0,1), pch=16, col=as.numeric(abs(zscore(mnprop))>2)+1, ylab=\"Subject\")\n",
    "abline(h=.5)"
   ]
  },
  {
   "cell_type": "code",
   "execution_count": 93,
   "metadata": {},
   "outputs": [
    {
     "data": {
      "text/html": [
       "<ol class=list-inline>\n",
       "\t<li>-1.85451248747078</li>\n",
       "\t<li>-1.7578830535265</li>\n",
       "\t<li>-1.04245359066986</li>\n",
       "\t<li>-0.849566374450334</li>\n",
       "\t<li>-0.664855494949165</li>\n",
       "\t<li>-0.570827622688008</li>\n",
       "\t<li>-0.551501735899152</li>\n",
       "\t<li>-0.532175849110297</li>\n",
       "\t<li>-0.531804197441281</li>\n",
       "\t<li>-0.531432545772265</li>\n",
       "\t<li>-0.530317590765216</li>\n",
       "\t<li>-0.493895727201605</li>\n",
       "\t<li>-0.436289718504057</li>\n",
       "\t<li>-0.419937045067335</li>\n",
       "\t<li>-0.380541968151592</li>\n",
       "\t<li>-0.344120104587982</li>\n",
       "\t<li>-0.342261846242899</li>\n",
       "\t<li>-0.324794217799127</li>\n",
       "\t<li>-0.309556499369453</li>\n",
       "\t<li>-0.285399140883384</li>\n",
       "\t<li>-0.190627965284194</li>\n",
       "\t<li>-0.172417033502388</li>\n",
       "\t<li>-0.134136911593695</li>\n",
       "\t<li>-0.119270844833037</li>\n",
       "\t<li>-0.0579483194453256</li>\n",
       "\t<li>-0.0237563658958139</li>\n",
       "\t<li>0.0866241798020674</li>\n",
       "\t<li>0.149061660196828</li>\n",
       "\t<li>0.204809410549294</li>\n",
       "\t<li>0.261672115908808</li>\n",
       "\t<li>0.370937706599641</li>\n",
       "\t<li>0.77343646414444</li>\n",
       "\t<li>0.79536391261641</li>\n",
       "\t<li>1.85011134928505</li>\n",
       "\t<li>2.03742379046934</li>\n",
       "\t<li>2.20689695154083</li>\n",
       "\t<li>2.28234224035117</li>\n",
       "\t<li>2.43360446964086</li>\n",
       "</ol>\n"
      ],
      "text/latex": [
       "\\begin{enumerate*}\n",
       "\\item -1.85451248747078\n",
       "\\item -1.7578830535265\n",
       "\\item -1.04245359066986\n",
       "\\item -0.849566374450334\n",
       "\\item -0.664855494949165\n",
       "\\item -0.570827622688008\n",
       "\\item -0.551501735899152\n",
       "\\item -0.532175849110297\n",
       "\\item -0.531804197441281\n",
       "\\item -0.531432545772265\n",
       "\\item -0.530317590765216\n",
       "\\item -0.493895727201605\n",
       "\\item -0.436289718504057\n",
       "\\item -0.419937045067335\n",
       "\\item -0.380541968151592\n",
       "\\item -0.344120104587982\n",
       "\\item -0.342261846242899\n",
       "\\item -0.324794217799127\n",
       "\\item -0.309556499369453\n",
       "\\item -0.285399140883384\n",
       "\\item -0.190627965284194\n",
       "\\item -0.172417033502388\n",
       "\\item -0.134136911593695\n",
       "\\item -0.119270844833037\n",
       "\\item -0.0579483194453256\n",
       "\\item -0.0237563658958139\n",
       "\\item 0.0866241798020674\n",
       "\\item 0.149061660196828\n",
       "\\item 0.204809410549294\n",
       "\\item 0.261672115908808\n",
       "\\item 0.370937706599641\n",
       "\\item 0.77343646414444\n",
       "\\item 0.79536391261641\n",
       "\\item 1.85011134928505\n",
       "\\item 2.03742379046934\n",
       "\\item 2.20689695154083\n",
       "\\item 2.28234224035117\n",
       "\\item 2.43360446964086\n",
       "\\end{enumerate*}\n"
      ],
      "text/markdown": [
       "1. -1.85451248747078\n",
       "2. -1.7578830535265\n",
       "3. -1.04245359066986\n",
       "4. -0.849566374450334\n",
       "5. -0.664855494949165\n",
       "6. -0.570827622688008\n",
       "7. -0.551501735899152\n",
       "8. -0.532175849110297\n",
       "9. -0.531804197441281\n",
       "10. -0.531432545772265\n",
       "11. -0.530317590765216\n",
       "12. -0.493895727201605\n",
       "13. -0.436289718504057\n",
       "14. -0.419937045067335\n",
       "15. -0.380541968151592\n",
       "16. -0.344120104587982\n",
       "17. -0.342261846242899\n",
       "18. -0.324794217799127\n",
       "19. -0.309556499369453\n",
       "20. -0.285399140883384\n",
       "21. -0.190627965284194\n",
       "22. -0.172417033502388\n",
       "23. -0.134136911593695\n",
       "24. -0.119270844833037\n",
       "25. -0.0579483194453256\n",
       "26. -0.0237563658958139\n",
       "27. 0.0866241798020674\n",
       "28. 0.149061660196828\n",
       "29. 0.204809410549294\n",
       "30. 0.261672115908808\n",
       "31. 0.370937706599641\n",
       "32. 0.77343646414444\n",
       "33. 0.79536391261641\n",
       "34. 1.85011134928505\n",
       "35. 2.03742379046934\n",
       "36. 2.20689695154083\n",
       "37. 2.28234224035117\n",
       "38. 2.43360446964086\n",
       "\n",
       "\n"
      ],
      "text/plain": [
       " [1] -1.85451249 -1.75788305 -1.04245359 -0.84956637 -0.66485549 -0.57082762\n",
       " [7] -0.55150174 -0.53217585 -0.53180420 -0.53143255 -0.53031759 -0.49389573\n",
       "[13] -0.43628972 -0.41993705 -0.38054197 -0.34412010 -0.34226185 -0.32479422\n",
       "[19] -0.30955650 -0.28539914 -0.19062797 -0.17241703 -0.13413691 -0.11927084\n",
       "[25] -0.05794832 -0.02375637  0.08662418  0.14906166  0.20480941  0.26167212\n",
       "[31]  0.37093771  0.77343646  0.79536391  1.85011135  2.03742379  2.20689695\n",
       "[37]  2.28234224  2.43360447"
      ]
     },
     "metadata": {},
     "output_type": "display_data"
    }
   ],
   "source": [
    "sort(zscore(mnprop))"
   ]
  },
  {
   "cell_type": "markdown",
   "metadata": {},
   "source": [
    "Figure shows, across all trials, the proportion of times each student selected the source with the closer boundary. Red dots indicate outliers greater than 2 standard deviations from the mean. Five participants almost always selected the closer source; four of these count as outliers by our inclusion criteria.\n",
    "\n",
    "We next consider whether the mean proportion differs reliably from chance (0.5) with and without the outliers."
   ]
  },
  {
   "cell_type": "code",
   "execution_count": 13,
   "metadata": {},
   "outputs": [
    {
     "data": {
      "text/plain": [
       "\n",
       "\tOne Sample t-test\n",
       "\n",
       "data:  mnprop - 0.5\n",
       "t = 2.174, df = 37, p-value = 0.03618\n",
       "alternative hypothesis: true mean is not equal to 0\n",
       "95 percent confidence interval:\n",
       " 0.00421652 0.11982545\n",
       "sample estimates:\n",
       " mean of x \n",
       "0.06202098 \n"
      ]
     },
     "metadata": {},
     "output_type": "display_data"
    }
   ],
   "source": [
    "#With all data:\n",
    "t.test(mnprop-.5)"
   ]
  },
  {
   "cell_type": "markdown",
   "metadata": {},
   "source": [
    "On average all subjects choose the closer source 56% of the time, reliably above chance. This appears to be due solely to the fours outliers, however:"
   ]
  },
  {
   "cell_type": "code",
   "execution_count": 15,
   "metadata": {},
   "outputs": [
    {
     "data": {
      "text/plain": [
       "\n",
       "\tOne Sample t-test\n",
       "\n",
       "data:  mnprop.noo - 0.5\n",
       "t = 0.78443, df = 33, p-value = 0.4384\n",
       "alternative hypothesis: true mean is not equal to 0\n",
       "95 percent confidence interval:\n",
       " -0.02497948  0.05632897\n",
       "sample estimates:\n",
       " mean of x \n",
       "0.01567474 \n"
      ]
     },
     "metadata": {},
     "output_type": "display_data"
    }
   ],
   "source": [
    "mnprop.noo <- mnprop[abs(zscore(mnprop)) <= 2.0]\n",
    "t.test(mnprop.noo-.5)"
   ]
  },
  {
   "cell_type": "markdown",
   "metadata": {},
   "source": [
    "With the four outliers removed, mean proportion selecting closer source is 51.6%, not reliably different from chance. Does this mean that 4-5 participants showed \"confirmation bias\" and the majority did not? To answer this question, we looked at whether the probability of selecting the closer source increased over the course of learning. We computed the probability of selecting the closer source for each subject in each of 6 successive blocks of 50 trials."
   ]
  },
  {
   "cell_type": "code",
   "execution_count": 26,
   "metadata": {},
   "outputs": [
    {
     "data": {
      "image/png": "[encoded data removed]",
      "text/plain": [
       "plot without title"
      ]
     },
     "metadata": {},
     "output_type": "display_data"
    }
   ],
   "source": [
    "plot(0,0,type =\"n\", ylim = c(0,1), xlim = c(1,6), ylab=\"p(closer)\", xlab=\"Block\")\n",
    "tmp <- sourcesel[abs(zscore(mnprop)) <= 2.0,2:7]\n",
    "tmpout <- sourcesel[abs(zscore(mnprop)) > 2.0,2:7]\n",
    "for(i in c(1:dim(tmp)[1])) lines(c(1:6), tmp[i,], type = \"o\", pch=16, col=gray(.8))\n",
    "for(i in c(1:dim(tmpout)[1])) lines(c(1:6), tmpout[i,], type = \"o\", pch=16, col=hsv(0,1,1,.35))\n",
    "\n",
    "lines(c(1:6), colMeans(tmp), pch=16, cex=2, type=\"o\")\n",
    "abline(h=.5)"
   ]
  },
  {
   "cell_type": "markdown",
   "metadata": {},
   "source": [
    "This Figure shows mean probability of choosing the closer source for each subject at each block og 50 trials. The four outliers are shown in red, all other subjects in gray. Black circles/lines show the mean across subjects excluding outliers. Note:\n",
    "\n",
    "- Mean is near chance across all blocks\n",
    "- Mean probability does not increase over time as people learn more about the sources\n",
    "- The four outliers choose the closer source from the very first block--so likely just stick with their first choice.\n",
    "\n",
    "**Note:** Sources provide different labels for 65 of the 301 items, or about 21%, so in the first 50 trials the two sources differ on an expected 10 trials. Outlying subjects chose the far source on, at most, 20% of the trials in the first block--so they have contradictory evidence from the far source on about 2 trials. It seems unlikely that this is enough to generate a confirmation bias in these participants.\n",
    "\n",
    "We can check whether the probability differs from chance in the first block where the mean probability is highest:"
   ]
  },
  {
   "cell_type": "code",
   "execution_count": 34,
   "metadata": {},
   "outputs": [
    {
     "data": {
      "text/plain": [
       "\n",
       "\tOne Sample t-test\n",
       "\n",
       "data:  tmp[, 1] - 0.5\n",
       "t = 1.8665, df = 33, p-value = 0.07088\n",
       "alternative hypothesis: true mean is not equal to 0\n",
       "95 percent confidence interval:\n",
       " -0.003283092  0.076224268\n",
       "sample estimates:\n",
       " mean of x \n",
       "0.03647059 \n"
      ]
     },
     "metadata": {},
     "output_type": "display_data"
    }
   ],
   "source": [
    "t.test(tmp[,1]-.5)"
   ]
  },
  {
   "cell_type": "markdown",
   "metadata": {},
   "source": [
    "For this contrast $t(33) =~ 1.87$, p = n.s. All other tests also not significant."
   ]
  },
  {
   "cell_type": "markdown",
   "metadata": {},
   "source": [
    "## Relationship between source selection and boundary shift"
   ]
  },
  {
   "cell_type": "markdown",
   "metadata": {},
   "source": [
    "If boundary-shift data are influenced by biased information selection as suggested by classic confirmation bias, then subjects who are more likely to choose the closer source should also show less shift toward the far source. We therefore looked at the coorelation between the probability of choosing the closer source and the amount of shift."
   ]
  },
  {
   "cell_type": "code",
   "execution_count": 73,
   "metadata": {},
   "outputs": [
    {
     "data": {
      "text/html": [
       "<table>\n",
       "<thead><tr><th scope=col>SID</th><th scope=col>axlab</th><th scope=col>farsource</th><th scope=col>t1int</th><th scope=col>t1slope</th><th scope=col>t1bound</th><th scope=col>t2int</th><th scope=col>t2slope</th><th scope=col>t2bound</th><th scope=col>bshift</th><th scope=col>...</th><th scope=col>Zfarpos</th><th scope=col>cond</th><th scope=col>B1</th><th scope=col>B2</th><th scope=col>B3</th><th scope=col>B4</th><th scope=col>B5</th><th scope=col>B6</th><th scope=col>Group.1</th><th scope=col>All</th></tr></thead>\n",
       "<tbody>\n",
       "\t<tr><td>SP-C_L1     </td><td>SP-C        </td><td>L           </td><td> 31.247262  </td><td>-0.18937734 </td><td>165.0000    </td><td>18.482418   </td><td>-0.12321612 </td><td>150.0000    </td><td>-15.00000120</td><td>...         </td><td> 0.56326945 </td><td>E           </td><td>0.48        </td><td>0.52        </td><td>0.52        </td><td>0.36        </td><td>0.4313725   </td><td>0.50        </td><td>SP-C_L1     </td><td>0.4684385   </td></tr>\n",
       "\t<tr><td>SP-C_L10    </td><td>SP-C        </td><td>L           </td><td> 11.000974  </td><td>-0.08149840 </td><td>134.9839    </td><td> 7.595619   </td><td>-0.05851355 </td><td>129.8096    </td><td> -5.17433505</td><td>...         </td><td> 0.20259160 </td><td>E           </td><td>0.58        </td><td>0.54        </td><td>0.34        </td><td>0.42        </td><td>0.4705882   </td><td>0.32        </td><td>SP-C_L10    </td><td>0.4451827   </td></tr>\n",
       "\t<tr><td>SP-C_L2     </td><td>SP-C        </td><td>L           </td><td> 15.060435  </td><td>-0.08858359 </td><td>170.0138    </td><td>26.870491   </td><td>-0.16794057 </td><td>160.0000    </td><td>-10.01382421</td><td>...         </td><td> 0.38023823 </td><td>E           </td><td>0.44        </td><td>0.40        </td><td>0.54        </td><td>0.46        </td><td>0.8235294   </td><td>0.80        </td><td>SP-C_L2     </td><td>0.5780731   </td></tr>\n",
       "\t<tr><td>SP-C_L3     </td><td>SP-C        </td><td>L           </td><td>601.980550  </td><td>-4.15156952 </td><td>145.0007    </td><td> 8.194707   </td><td>-0.05653345 </td><td>144.9533    </td><td> -0.04745426</td><td>...         </td><td> 0.01439547 </td><td>E           </td><td>0.52        </td><td>0.38        </td><td>0.12        </td><td>0.26        </td><td>0.1372549   </td><td>0.10        </td><td>SP-C_L3     </td><td>0.2524917   </td></tr>\n",
       "\t<tr><td>SP-C_L4     </td><td>SP-C        </td><td>L           </td><td>  9.429957  </td><td>-0.05890858 </td><td>160.0778    </td><td> 2.588508   </td><td>-0.01078987 </td><td>239.9017    </td><td> 79.82385083</td><td>...         </td><td>-2.91749844 </td><td>E           </td><td>0.52        </td><td>0.48        </td><td>0.46        </td><td>0.46        </td><td>0.4705882   </td><td>0.42        </td><td>SP-C_L4     </td><td>0.4684385   </td></tr>\n",
       "\t<tr><td>SP-C_L5     </td><td>SP-C        </td><td>L           </td><td>311.533714  </td><td>-2.07689143 </td><td>150.0000    </td><td> 4.178769   </td><td>-0.03134237 </td><td>133.3265    </td><td>-16.67350361</td><td>...         </td><td> 0.62469991 </td><td>E           </td><td>0.36        </td><td>0.44        </td><td>0.48        </td><td>0.56        </td><td>0.5490196   </td><td>0.54        </td><td>SP-C_L5     </td><td>0.4883721   </td></tr>\n",
       "</tbody>\n",
       "</table>\n"
      ],
      "text/latex": [
       "\\begin{tabular}{r|lllllllllllllllllllll}\n",
       " SID & axlab & farsource & t1int & t1slope & t1bound & t2int & t2slope & t2bound & bshift & ... & Zfarpos & cond & B1 & B2 & B3 & B4 & B5 & B6 & Group.1 & All\\\\\n",
       "\\hline\n",
       "\t SP-C\\_L1    & SP-C         & L            &  31.247262   & -0.18937734  & 165.0000     & 18.482418    & -0.12321612  & 150.0000     & -15.00000120 & ...          &  0.56326945  & E            & 0.48         & 0.52         & 0.52         & 0.36         & 0.4313725    & 0.50         & SP-C\\_L1    & 0.4684385   \\\\\n",
       "\t SP-C\\_L10   & SP-C         & L            &  11.000974   & -0.08149840  & 134.9839     &  7.595619    & -0.05851355  & 129.8096     &  -5.17433505 & ...          &  0.20259160  & E            & 0.58         & 0.54         & 0.34         & 0.42         & 0.4705882    & 0.32         & SP-C\\_L10   & 0.4451827   \\\\\n",
       "\t SP-C\\_L2    & SP-C         & L            &  15.060435   & -0.08858359  & 170.0138     & 26.870491    & -0.16794057  & 160.0000     & -10.01382421 & ...          &  0.38023823  & E            & 0.44         & 0.40         & 0.54         & 0.46         & 0.8235294    & 0.80         & SP-C\\_L2    & 0.5780731   \\\\\n",
       "\t SP-C\\_L3    & SP-C         & L            & 601.980550   & -4.15156952  & 145.0007     &  8.194707    & -0.05653345  & 144.9533     &  -0.04745426 & ...          &  0.01439547  & E            & 0.52         & 0.38         & 0.12         & 0.26         & 0.1372549    & 0.10         & SP-C\\_L3    & 0.2524917   \\\\\n",
       "\t SP-C\\_L4    & SP-C         & L            &   9.429957   & -0.05890858  & 160.0778     &  2.588508    & -0.01078987  & 239.9017     &  79.82385083 & ...          & -2.91749844  & E            & 0.52         & 0.48         & 0.46         & 0.46         & 0.4705882    & 0.42         & SP-C\\_L4    & 0.4684385   \\\\\n",
       "\t SP-C\\_L5    & SP-C         & L            & 311.533714   & -2.07689143  & 150.0000     &  4.178769    & -0.03134237  & 133.3265     & -16.67350361 & ...          &  0.62469991  & E            & 0.36         & 0.44         & 0.48         & 0.56         & 0.5490196    & 0.54         & SP-C\\_L5    & 0.4883721   \\\\\n",
       "\\end{tabular}\n"
      ],
      "text/markdown": [
       "\n",
       "| SID | axlab | farsource | t1int | t1slope | t1bound | t2int | t2slope | t2bound | bshift | ... | Zfarpos | cond | B1 | B2 | B3 | B4 | B5 | B6 | Group.1 | All |\n",
       "|---|---|---|---|---|---|---|---|---|---|---|---|---|---|---|---|---|---|---|---|---|\n",
       "| SP-C_L1      | SP-C         | L            |  31.247262   | -0.18937734  | 165.0000     | 18.482418    | -0.12321612  | 150.0000     | -15.00000120 | ...          |  0.56326945  | E            | 0.48         | 0.52         | 0.52         | 0.36         | 0.4313725    | 0.50         | SP-C_L1      | 0.4684385    |\n",
       "| SP-C_L10     | SP-C         | L            |  11.000974   | -0.08149840  | 134.9839     |  7.595619    | -0.05851355  | 129.8096     |  -5.17433505 | ...          |  0.20259160  | E            | 0.58         | 0.54         | 0.34         | 0.42         | 0.4705882    | 0.32         | SP-C_L10     | 0.4451827    |\n",
       "| SP-C_L2      | SP-C         | L            |  15.060435   | -0.08858359  | 170.0138     | 26.870491    | -0.16794057  | 160.0000     | -10.01382421 | ...          |  0.38023823  | E            | 0.44         | 0.40         | 0.54         | 0.46         | 0.8235294    | 0.80         | SP-C_L2      | 0.5780731    |\n",
       "| SP-C_L3      | SP-C         | L            | 601.980550   | -4.15156952  | 145.0007     |  8.194707    | -0.05653345  | 144.9533     |  -0.04745426 | ...          |  0.01439547  | E            | 0.52         | 0.38         | 0.12         | 0.26         | 0.1372549    | 0.10         | SP-C_L3      | 0.2524917    |\n",
       "| SP-C_L4      | SP-C         | L            |   9.429957   | -0.05890858  | 160.0778     |  2.588508    | -0.01078987  | 239.9017     |  79.82385083 | ...          | -2.91749844  | E            | 0.52         | 0.48         | 0.46         | 0.46         | 0.4705882    | 0.42         | SP-C_L4      | 0.4684385    |\n",
       "| SP-C_L5      | SP-C         | L            | 311.533714   | -2.07689143  | 150.0000     |  4.178769    | -0.03134237  | 133.3265     | -16.67350361 | ...          |  0.62469991  | E            | 0.36         | 0.44         | 0.48         | 0.56         | 0.5490196    | 0.54         | SP-C_L5      | 0.4883721    |\n",
       "\n"
      ],
      "text/plain": [
       "  SID      axlab farsource t1int      t1slope     t1bound  t2int    \n",
       "1 SP-C_L1  SP-C  L          31.247262 -0.18937734 165.0000 18.482418\n",
       "2 SP-C_L10 SP-C  L          11.000974 -0.08149840 134.9839  7.595619\n",
       "3 SP-C_L2  SP-C  L          15.060435 -0.08858359 170.0138 26.870491\n",
       "4 SP-C_L3  SP-C  L         601.980550 -4.15156952 145.0007  8.194707\n",
       "5 SP-C_L4  SP-C  L           9.429957 -0.05890858 160.0778  2.588508\n",
       "6 SP-C_L5  SP-C  L         311.533714 -2.07689143 150.0000  4.178769\n",
       "  t2slope     t2bound  bshift       ... Zfarpos     cond B1   B2   B3   B4  \n",
       "1 -0.12321612 150.0000 -15.00000120 ...  0.56326945 E    0.48 0.52 0.52 0.36\n",
       "2 -0.05851355 129.8096  -5.17433505 ...  0.20259160 E    0.58 0.54 0.34 0.42\n",
       "3 -0.16794057 160.0000 -10.01382421 ...  0.38023823 E    0.44 0.40 0.54 0.46\n",
       "4 -0.05653345 144.9533  -0.04745426 ...  0.01439547 E    0.52 0.38 0.12 0.26\n",
       "5 -0.01078987 239.9017  79.82385083 ... -2.91749844 E    0.52 0.48 0.46 0.46\n",
       "6 -0.03134237 133.3265 -16.67350361 ...  0.62469991 E    0.36 0.44 0.48 0.56\n",
       "  B5        B6   Group.1  All      \n",
       "1 0.4313725 0.50 SP-C_L1  0.4684385\n",
       "2 0.4705882 0.32 SP-C_L10 0.4451827\n",
       "3 0.8235294 0.80 SP-C_L2  0.5780731\n",
       "4 0.1372549 0.10 SP-C_L3  0.2524917\n",
       "5 0.4705882 0.42 SP-C_L4  0.4684385\n",
       "6 0.5490196 0.54 SP-C_L5  0.4883721"
      ]
     },
     "metadata": {},
     "output_type": "display_data"
    }
   ],
   "source": [
    "tmp <- allpars[allpars$farsource!=\"C\",] #Discard controls since they did not get labels from sources\n",
    "exp <- merge(tmp, sourcesel, by=\"SID\") #Merge source-selection and boundary shift data\n",
    "head(exp)"
   ]
  },
  {
   "cell_type": "code",
   "execution_count": 91,
   "metadata": {},
   "outputs": [
    {
     "data": {
      "image/png": "[encoded data removed]",
      "text/plain": [
       "Plot with title \"All trials\""
      ]
     },
     "metadata": {},
     "output_type": "display_data"
    }
   ],
   "source": [
    "plot(exp$farpos, exp$All, pch=16, col = as.numeric(abs(zscore(exp$All)) > 2.0)+1,\n",
    "     ylab=\"p(Closer)\", xlab=\"Boundary shift\", main=\"All trials\", ylim = c(0,1))\n",
    "abline(h=.5, v=0, lty=2)\n"
   ]
  },
  {
   "cell_type": "code",
   "execution_count": 90,
   "metadata": {},
   "outputs": [
    {
     "data": {
      "image/png": "[encoded data removed]",
      "text/plain": [
       "Plot with title \"Final block\""
      ]
     },
     "metadata": {},
     "output_type": "display_data"
    }
   ],
   "source": [
    "plot(exp$farpos, exp$B6, pch=16, col = as.numeric(abs(zscore(exp$All)) > 2.0)+1,\n",
    "     ylab=\"p(Closer)\", xlab=\"Boundary shift\", main=\"Final block\", ylim = c(0,1))\n",
    "abline(h=.5, v=0, lty=2)\n"
   ]
  },
  {
   "cell_type": "markdown",
   "metadata": {},
   "source": [
    "Figure shows probability of selecting the closer source plotted against the boundary shift. Positive numbers indicate a boundary shift toward the *far* source. If boundary shift was influenced by information selection as predicted by confirmation bias, these variable should show a negative correlation. Instead no correlation is observed:"
   ]
  },
  {
   "cell_type": "code",
   "execution_count": 76,
   "metadata": {},
   "outputs": [
    {
     "data": {
      "text/plain": [
       "\n",
       "Call:\n",
       "lm(formula = farpos ~ All, data = exp)\n",
       "\n",
       "Residuals:\n",
       "    Min      1Q  Median      3Q     Max \n",
       "-83.775  -7.850   3.257  12.745  44.474 \n",
       "\n",
       "Coefficients:\n",
       "            Estimate Std. Error t value Pr(>|t|)\n",
       "(Intercept)    10.15      13.77   0.737    0.466\n",
       "All           -13.24      23.42  -0.565    0.575\n",
       "\n",
       "Residual standard error: 25.05 on 36 degrees of freedom\n",
       "Multiple R-squared:  0.008804,\tAdjusted R-squared:  -0.01873 \n",
       "F-statistic: 0.3197 on 1 and 36 DF,  p-value: 0.5753\n"
      ]
     },
     "metadata": {},
     "output_type": "display_data"
    }
   ],
   "source": [
    "summary(lm(farpos~All, data=exp))"
   ]
  },
  {
   "cell_type": "code",
   "execution_count": 77,
   "metadata": {},
   "outputs": [
    {
     "data": {
      "text/plain": [
       "\n",
       "Call:\n",
       "lm(formula = farpos ~ B6, data = exp)\n",
       "\n",
       "Residuals:\n",
       "    Min      1Q  Median      3Q     Max \n",
       "-83.142  -9.113   3.010  13.424  46.752 \n",
       "\n",
       "Coefficients:\n",
       "            Estimate Std. Error t value Pr(>|t|)\n",
       "(Intercept)    5.178     11.443   0.452    0.654\n",
       "B6            -4.428     19.200  -0.231    0.819\n",
       "\n",
       "Residual standard error: 25.14 on 36 degrees of freedom\n",
       "Multiple R-squared:  0.001475,\tAdjusted R-squared:  -0.02626 \n",
       "F-statistic: 0.05319 on 1 and 36 DF,  p-value: 0.8189\n"
      ]
     },
     "metadata": {},
     "output_type": "display_data"
    }
   ],
   "source": [
    "summary(lm(farpos~B6, data=exp))"
   ]
  },
  {
   "cell_type": "markdown",
   "metadata": {},
   "source": [
    "The outlying subjects who almost always chose the closer source did not differ from the rest of the group in their boundary shift, while the two participants who showed a strong shift toward the closer source showed approximately chance likelihood of choosing the closer versus the farther source in both the final block and across all trials. So, there is no evidence that the direction and amount of boundary shift is related to the participants' proability of choosing the closer source."
   ]
  },
  {
   "cell_type": "markdown",
   "metadata": {},
   "source": [
    "## Assessing boundary shift"
   ]
  },
  {
   "cell_type": "markdown",
   "metadata": {},
   "source": [
    "Finally, we considered how the boundary shifted in this experiment, using the same approach as in the main paper. First we checked for outliers in the initial boundary and in the amount of boundary shift:"
   ]
  },
  {
   "cell_type": "code",
   "execution_count": 78,
   "metadata": {},
   "outputs": [
    {
     "data": {
      "image/png": "[encoded data removed]",
      "text/plain": [
       "plot without title"
      ]
     },
     "metadata": {},
     "output_type": "display_data"
    }
   ],
   "source": [
    "plot(zscore(exp$t1bound), zscore(exp$farpos), xlim = c(-3.5,3.5), pch=16,\n",
    "     ylim = c(-3.5,3.5), xlab = \"Initial boundary\", ylab=\"Boundary shift\")\n",
    "abline(h=c(-2,2), v=c(-2,2))"
   ]
  },
  {
   "cell_type": "markdown",
   "metadata": {},
   "source": [
    "Remove the three outliers:"
   ]
  },
  {
   "cell_type": "code",
   "execution_count": 79,
   "metadata": {},
   "outputs": [
    {
     "data": {
      "text/html": [
       "<ol class=list-inline>\n",
       "\t<li>35</li>\n",
       "\t<li>21</li>\n",
       "</ol>\n"
      ],
      "text/latex": [
       "\\begin{enumerate*}\n",
       "\\item 35\n",
       "\\item 21\n",
       "\\end{enumerate*}\n"
      ],
      "text/markdown": [
       "1. 35\n",
       "2. 21\n",
       "\n",
       "\n"
      ],
      "text/plain": [
       "[1] 35 21"
      ]
     },
     "metadata": {},
     "output_type": "display_data"
    }
   ],
   "source": [
    "exp.noo <- exp[abs(zscore(exp$t1bound)) <= 2.0 & abs(zscore(exp$farpos)) <= 2.0,]\n",
    "dim(exp.noo)"
   ]
  },
  {
   "cell_type": "markdown",
   "metadata": {},
   "source": [
    "Does the boundary shift differ from zero, and if so, in what direction?"
   ]
  },
  {
   "cell_type": "code",
   "execution_count": 72,
   "metadata": {},
   "outputs": [
    {
     "data": {
      "text/plain": [
       "\n",
       "\tOne Sample t-test\n",
       "\n",
       "data:  tmp.noo$farpos\n",
       "t = 1.968, df = 34, p-value = 0.05726\n",
       "alternative hypothesis: true mean is not equal to 0\n",
       "95 percent confidence interval:\n",
       " -0.1887101 11.7535384\n",
       "sample estimates:\n",
       "mean of x \n",
       " 5.782414 \n"
      ]
     },
     "metadata": {},
     "output_type": "display_data"
    }
   ],
   "source": [
    "t.test(tmp.noo$farpos)"
   ]
  },
  {
   "cell_type": "markdown",
   "metadata": {},
   "source": [
    "There is a marginally significant shift toward the *far* source, similar to Experiment 1 but smaller in magnitude. Does the experimental condition differ from the control condition?"
   ]
  },
  {
   "cell_type": "code",
   "execution_count": 81,
   "metadata": {},
   "outputs": [
    {
     "data": {
      "image/png": "[encoded data removed]",
      "text/plain": [
       "plot without title"
      ]
     },
     "metadata": {},
     "output_type": "display_data"
    }
   ],
   "source": [
    "plot(zscore(cntrl$t1bound), zscore(cntrl$farpos), xlim = c(-3.5,3.5), pch=16,\n",
    "     ylim = c(-3.5,3.5), xlab = \"Initial boundary\", ylab=\"Boundary shift\")\n",
    "abline(h=c(-2,2), v=c(-2,2))"
   ]
  },
  {
   "cell_type": "markdown",
   "metadata": {},
   "source": [
    "Remove outliers from control sample:"
   ]
  },
  {
   "cell_type": "code",
   "execution_count": 82,
   "metadata": {},
   "outputs": [
    {
     "data": {
      "text/html": [
       "<ol class=list-inline>\n",
       "\t<li>17</li>\n",
       "\t<li>13</li>\n",
       "</ol>\n"
      ],
      "text/latex": [
       "\\begin{enumerate*}\n",
       "\\item 17\n",
       "\\item 13\n",
       "\\end{enumerate*}\n"
      ],
      "text/markdown": [
       "1. 17\n",
       "2. 13\n",
       "\n",
       "\n"
      ],
      "text/plain": [
       "[1] 17 13"
      ]
     },
     "metadata": {},
     "output_type": "display_data"
    }
   ],
   "source": [
    "cntrl.noo <- cntrl[abs(zscore(cntrl$t1bound)) <= 2.0 & abs(zscore(cntrl$farpos)) <= 2.0,]\n",
    "dim(cntrl.noo)"
   ]
  },
  {
   "cell_type": "code",
   "execution_count": 84,
   "metadata": {},
   "outputs": [
    {
     "data": {
      "text/plain": [
       "\n",
       "\tWelch Two Sample t-test\n",
       "\n",
       "data:  cntrl.noo$farpos and exp.noo$farpos\n",
       "t = -1.9346, df = 25.925, p-value = 0.06402\n",
       "alternative hypothesis: true difference in means is not equal to 0\n",
       "95 percent confidence interval:\n",
       " -24.4218888   0.7418541\n",
       "sample estimates:\n",
       "mean of x mean of y \n",
       "-6.057603  5.782414 \n"
      ]
     },
     "metadata": {},
     "output_type": "display_data"
    }
   ],
   "source": [
    "t.test(cntrl.noo$farpos, exp.noo$farpos)"
   ]
  },
  {
   "cell_type": "markdown",
   "metadata": {},
   "source": [
    "Again, marginally significant difference between control and experimental conditions. "
   ]
  },
  {
   "cell_type": "markdown",
   "metadata": {},
   "source": [
    "## Summary"
   ]
  },
  {
   "cell_type": "markdown",
   "metadata": {},
   "source": [
    "On average people did not preferntially select the closer source and did not grow increasingly likely to do so over time. The few individuals who did preferentially select the closer source did not differ from other participants in their boundary-shift behavior. The observed boundary shift was smaller than in Experiment 1, but if anything boundaries still shifted toward the far source. The smaller degree of shift is consistent with the fact that participants received only half as many labels as in the original experiment. In general this study provides little support to the hypothesis that Experiment 1 results arise from biased information selection."
   ]
  },
  {
   "cell_type": "code",
   "execution_count": null,
   "metadata": {},
   "outputs": [],
   "source": []
  }
 ],
 "metadata": {
  "kernelspec": {
   "display_name": "R",
   "language": "R",
   "name": "ir"
  },
  "language_info": {
   "codemirror_mode": "r",
   "file_extension": ".r",
   "mimetype": "text/x-r-source",
   "name": "R",
   "pygments_lexer": "r",
   "version": "3.6.1"
  }
 },
 "nbformat": 4,
 "nbformat_minor": 2
}
