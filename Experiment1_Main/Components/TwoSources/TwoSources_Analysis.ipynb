{
 "cells": [
  {
   "cell_type": "markdown",
   "metadata": {},
   "source": [
    "# Two sources and control data pre-processing and analysis"
   ]
  },
  {
   "cell_type": "markdown",
   "metadata": {},
   "source": [
    "This notebook documents analysis of the initial \"two source\" study in the crazy beliefs project. This was among the earliest studies run so the data is in a different format than that employed in more recent studies. This workbook reads in the logistic classification parameters from grid 1 and grid 2 for each subject in both experimental (sources at 135/250 and 165/50) and control conditions (no source labels), as well as explicit boundary labels and source rating data. "
   ]
  },
  {
   "cell_type": "markdown",
   "metadata": {},
   "source": [
    "## Functions"
   ]
  },
  {
   "cell_type": "markdown",
   "metadata": {},
   "source": [
    "Define or read functions here"
   ]
  },
  {
   "cell_type": "code",
   "execution_count": 1,
   "metadata": {},
   "outputs": [],
   "source": [
    "zscore <- function(v){\n",
    "    #Z-scores values in a numeric vector v, ignoring NA entries\n",
    "    (v-mean(v, na.rm=T))/sqrt(var(v, na.rm=T))\n",
    "}"
   ]
  },
  {
   "cell_type": "code",
   "execution_count": 37,
   "metadata": {},
   "outputs": [],
   "source": [
    "get.pars <- dget(\"get_pars.r\")\n",
    "plot.bars <- dget(\"plot_bars.r\")\n",
    "plot.cis <- dget(\"plot_cis.r\")\n",
    "get.mv.bnd <- dget(\"get_mvbound.r\")"
   ]
  },
  {
   "cell_type": "markdown",
   "metadata": {},
   "source": [
    "## Read data"
   ]
  },
  {
   "cell_type": "code",
   "execution_count": 3,
   "metadata": {
    "scrolled": true
   },
   "outputs": [
    {
     "data": {
      "text/html": [
       "<table>\n",
       "<thead><tr><th scope=col>PID</th><th scope=col>cond</th><th scope=col>axlab</th><th scope=col>closebound</th><th scope=col>cbside</th><th scope=col>sno</th><th scope=col>FaceLeft</th><th scope=col>t1int</th><th scope=col>t1slope</th><th scope=col>t1bound</th><th scope=col>t2int</th><th scope=col>t2slope</th><th scope=col>t2bound</th><th scope=col>bshift</th><th scope=col>AlShift</th><th scope=col>ZAlShift</th><th scope=col>t1dist</th></tr></thead>\n",
       "<tbody>\n",
       "\t<tr><td>none_C_pass_11 </td><td>none           </td><td>C              </td><td>NA             </td><td>control        </td><td> 11            </td><td>1              </td><td> 11.370928     </td><td>-0.06685196    </td><td>170.0912       </td><td> 17.552066     </td><td>-0.08995508    </td><td>195.12035      </td><td> 25.02918      </td><td> 25.02918      </td><td>-0.1251598     </td><td>NA             </td></tr>\n",
       "\t<tr><td>none_C_pass_110</td><td>none           </td><td>C              </td><td>NA             </td><td>control        </td><td>110            </td><td>2              </td><td>643.490304     </td><td>-4.15156952    </td><td>154.9993       </td><td>351.382156     </td><td>-2.06695386    </td><td>170.00000      </td><td> 15.00072      </td><td> 15.00072      </td><td>-0.1768209     </td><td>NA             </td></tr>\n",
       "\t<tr><td>none_C_pass_12 </td><td>none           </td><td>C              </td><td>NA             </td><td>control        </td><td> 12            </td><td>2              </td><td>  6.945626     </td><td>-0.04476881    </td><td>155.1443       </td><td>  3.603997     </td><td>-0.03798525    </td><td> 94.87886      </td><td>-60.26547      </td><td>-60.26547      </td><td>-0.5645507     </td><td>NA             </td></tr>\n",
       "\t<tr><td>none_C_pass_13 </td><td>none           </td><td>C              </td><td>NA             </td><td>control        </td><td> 13            </td><td>1              </td><td> 26.870491     </td><td>-0.16794057    </td><td>160.0000       </td><td>  7.166546     </td><td>-0.05523562    </td><td>129.74500      </td><td>-30.25500      </td><td>-30.25500      </td><td>-0.4099533     </td><td>NA             </td></tr>\n",
       "\t<tr><td>none_C_pass_14 </td><td>none           </td><td>C              </td><td>NA             </td><td>control        </td><td> 14            </td><td>2              </td><td> 23.511679     </td><td>-0.16794057    </td><td>140.0000       </td><td>441.814737     </td><td>-2.00824880    </td><td>220.00000      </td><td> 80.00000      </td><td> 80.00000      </td><td> 0.1580195     </td><td>NA             </td></tr>\n",
       "\t<tr><td>none_C_pass_15 </td><td>none           </td><td>C              </td><td>NA             </td><td>control        </td><td> 15            </td><td>1              </td><td> 26.870491     </td><td>-0.16794057    </td><td>160.0000       </td><td>  7.571491     </td><td>-0.04045877    </td><td>187.14092      </td><td> 27.14092      </td><td> 27.14092      </td><td>-0.1142813     </td><td>NA             </td></tr>\n",
       "</tbody>\n",
       "</table>\n"
      ],
      "text/latex": [
       "\\begin{tabular}{r|lllllllllllllllll}\n",
       " PID & cond & axlab & closebound & cbside & sno & FaceLeft & t1int & t1slope & t1bound & t2int & t2slope & t2bound & bshift & AlShift & ZAlShift & t1dist\\\\\n",
       "\\hline\n",
       "\t none\\_C\\_pass\\_11  & none                  & C                     & NA                    & control               &  11                   & 1                     &  11.370928            & -0.06685196           & 170.0912              &  17.552066            & -0.08995508           & 195.12035             &  25.02918             &  25.02918             & -0.1251598            & NA                   \\\\\n",
       "\t none\\_C\\_pass\\_110 & none                  & C                     & NA                    & control               & 110                   & 2                     & 643.490304            & -4.15156952           & 154.9993              & 351.382156            & -2.06695386           & 170.00000             &  15.00072             &  15.00072             & -0.1768209            & NA                   \\\\\n",
       "\t none\\_C\\_pass\\_12  & none                  & C                     & NA                    & control               &  12                   & 2                     &   6.945626            & -0.04476881           & 155.1443              &   3.603997            & -0.03798525           &  94.87886             & -60.26547             & -60.26547             & -0.5645507            & NA                   \\\\\n",
       "\t none\\_C\\_pass\\_13  & none                  & C                     & NA                    & control               &  13                   & 1                     &  26.870491            & -0.16794057           & 160.0000              &   7.166546            & -0.05523562           & 129.74500             & -30.25500             & -30.25500             & -0.4099533            & NA                   \\\\\n",
       "\t none\\_C\\_pass\\_14  & none                  & C                     & NA                    & control               &  14                   & 2                     &  23.511679            & -0.16794057           & 140.0000              & 441.814737            & -2.00824880           & 220.00000             &  80.00000             &  80.00000             &  0.1580195            & NA                   \\\\\n",
       "\t none\\_C\\_pass\\_15  & none                  & C                     & NA                    & control               &  15                   & 1                     &  26.870491            & -0.16794057           & 160.0000              &   7.571491            & -0.04045877           & 187.14092             &  27.14092             &  27.14092             & -0.1142813            & NA                   \\\\\n",
       "\\end{tabular}\n"
      ],
      "text/markdown": [
       "\n",
       "| PID | cond | axlab | closebound | cbside | sno | FaceLeft | t1int | t1slope | t1bound | t2int | t2slope | t2bound | bshift | AlShift | ZAlShift | t1dist |\n",
       "|---|---|---|---|---|---|---|---|---|---|---|---|---|---|---|---|---|\n",
       "| none_C_pass_11  | none            | C               | NA              | control         |  11             | 1               |  11.370928      | -0.06685196     | 170.0912        |  17.552066      | -0.08995508     | 195.12035       |  25.02918       |  25.02918       | -0.1251598      | NA              |\n",
       "| none_C_pass_110 | none            | C               | NA              | control         | 110             | 2               | 643.490304      | -4.15156952     | 154.9993        | 351.382156      | -2.06695386     | 170.00000       |  15.00072       |  15.00072       | -0.1768209      | NA              |\n",
       "| none_C_pass_12  | none            | C               | NA              | control         |  12             | 2               |   6.945626      | -0.04476881     | 155.1443        |   3.603997      | -0.03798525     |  94.87886       | -60.26547       | -60.26547       | -0.5645507      | NA              |\n",
       "| none_C_pass_13  | none            | C               | NA              | control         |  13             | 1               |  26.870491      | -0.16794057     | 160.0000        |   7.166546      | -0.05523562     | 129.74500       | -30.25500       | -30.25500       | -0.4099533      | NA              |\n",
       "| none_C_pass_14  | none            | C               | NA              | control         |  14             | 2               |  23.511679      | -0.16794057     | 140.0000        | 441.814737      | -2.00824880     | 220.00000       |  80.00000       |  80.00000       |  0.1580195      | NA              |\n",
       "| none_C_pass_15  | none            | C               | NA              | control         |  15             | 1               |  26.870491      | -0.16794057     | 160.0000        |   7.571491      | -0.04045877     | 187.14092       |  27.14092       |  27.14092       | -0.1142813      | NA              |\n",
       "\n"
      ],
      "text/plain": [
       "  PID             cond axlab closebound cbside  sno FaceLeft t1int     \n",
       "1 none_C_pass_11  none C     NA         control  11 1         11.370928\n",
       "2 none_C_pass_110 none C     NA         control 110 2        643.490304\n",
       "3 none_C_pass_12  none C     NA         control  12 2          6.945626\n",
       "4 none_C_pass_13  none C     NA         control  13 1         26.870491\n",
       "5 none_C_pass_14  none C     NA         control  14 2         23.511679\n",
       "6 none_C_pass_15  none C     NA         control  15 1         26.870491\n",
       "  t1slope     t1bound  t2int      t2slope     t2bound   bshift    AlShift  \n",
       "1 -0.06685196 170.0912  17.552066 -0.08995508 195.12035  25.02918  25.02918\n",
       "2 -4.15156952 154.9993 351.382156 -2.06695386 170.00000  15.00072  15.00072\n",
       "3 -0.04476881 155.1443   3.603997 -0.03798525  94.87886 -60.26547 -60.26547\n",
       "4 -0.16794057 160.0000   7.166546 -0.05523562 129.74500 -30.25500 -30.25500\n",
       "5 -0.16794057 140.0000 441.814737 -2.00824880 220.00000  80.00000  80.00000\n",
       "6 -0.16794057 160.0000   7.571491 -0.04045877 187.14092  27.14092  27.14092\n",
       "  ZAlShift   t1dist\n",
       "1 -0.1251598 NA    \n",
       "2 -0.1768209 NA    \n",
       "3 -0.5645507 NA    \n",
       "4 -0.4099533 NA    \n",
       "5  0.1580195 NA    \n",
       "6 -0.1142813 NA    "
      ]
     },
     "metadata": {},
     "output_type": "display_data"
    }
   ],
   "source": [
    "#Read in the grid data:\n",
    "d <- read.csv(\"two15_and_allcont_grid_pars.csv\", header = T)\n",
    "head(d)"
   ]
  },
  {
   "cell_type": "markdown",
   "metadata": {},
   "source": [
    "How many subjects in each condition?"
   ]
  },
  {
   "cell_type": "code",
   "execution_count": 4,
   "metadata": {},
   "outputs": [
    {
     "data": {
      "text/html": [
       "<table>\n",
       "<thead><tr><th scope=col>cbside</th><th scope=col>t1bound</th></tr></thead>\n",
       "<tbody>\n",
       "\t<tr><td>control</td><td>39     </td></tr>\n",
       "\t<tr><td>left   </td><td>20     </td></tr>\n",
       "\t<tr><td>right  </td><td>20     </td></tr>\n",
       "</tbody>\n",
       "</table>\n"
      ],
      "text/latex": [
       "\\begin{tabular}{r|ll}\n",
       " cbside & t1bound\\\\\n",
       "\\hline\n",
       "\t control & 39     \\\\\n",
       "\t left    & 20     \\\\\n",
       "\t right   & 20     \\\\\n",
       "\\end{tabular}\n"
      ],
      "text/markdown": [
       "\n",
       "| cbside | t1bound |\n",
       "|---|---|\n",
       "| control | 39      |\n",
       "| left    | 20      |\n",
       "| right   | 20      |\n",
       "\n"
      ],
      "text/plain": [
       "  cbside  t1bound\n",
       "1 control 39     \n",
       "2 left    20     \n",
       "3 right   20     "
      ]
     },
     "metadata": {},
     "output_type": "display_data"
    }
   ],
   "source": [
    "aggregate(t1bound~cbside, data = d, FUN=\"length\")"
   ]
  },
  {
   "cell_type": "markdown",
   "metadata": {},
   "source": [
    "## Outlier removal"
   ]
  },
  {
   "cell_type": "markdown",
   "metadata": {},
   "source": [
    "The grid analyses involve using logistic regression to predict binary category decisions from the continuous 1D variable that indicates the object shape, for the initial and the final boundary. This measure can be strongly influenced by a few errors or patches of random responding. We therefore remove subjects with extreme boundary or boundary-shift estimates as follows.\n",
    "\n",
    "First we remove subjects with estimated boundaries outside the stimulus range (less than 0, more than 300) in either test 1 or test 2. Next, since all subjects have the same experience through to test 1, we use all subjects to estimate the mean and standard error of the test 1 boundary estimate, and remove subjects with an extreme estimate (more than 2.5 SD from mean). Finally we compute means and standard deviations for the aligned boundary shift estimate, separately for control and experimental conditions (since these have different expected shifts), and remove subjects more than 2.5 SDs from the respective mean."
   ]
  },
  {
   "cell_type": "code",
   "execution_count": 5,
   "metadata": {},
   "outputs": [],
   "source": [
    "zthresh <- 2.0"
   ]
  },
  {
   "cell_type": "markdown",
   "metadata": {},
   "source": [
    "Check for impossible values in t1bound and t2bound"
   ]
  },
  {
   "cell_type": "code",
   "execution_count": 6,
   "metadata": {
    "scrolled": false
   },
   "outputs": [
    {
     "data": {
      "image/png": "[encoded data removed]",
      "text/plain": [
       "plot without title"
      ]
     },
     "metadata": {},
     "output_type": "display_data"
    }
   ],
   "source": [
    "plot(d$t1bound, d$t2bound)"
   ]
  },
  {
   "cell_type": "markdown",
   "metadata": {},
   "source": [
    "There is one impossible value for t2bound so add this subject to the exclusion list and remove from the data"
   ]
  },
  {
   "cell_type": "code",
   "execution_count": 7,
   "metadata": {
    "scrolled": true
   },
   "outputs": [
    {
     "data": {
      "text/html": [
       "<ol class=list-inline>\n",
       "\t<li>79</li>\n",
       "\t<li>17</li>\n",
       "</ol>\n"
      ],
      "text/latex": [
       "\\begin{enumerate*}\n",
       "\\item 79\n",
       "\\item 17\n",
       "\\end{enumerate*}\n"
      ],
      "text/markdown": [
       "1. 79\n",
       "2. 17\n",
       "\n",
       "\n"
      ],
      "text/plain": [
       "[1] 79 17"
      ]
     },
     "metadata": {},
     "output_type": "display_data"
    },
    {
     "data": {
      "text/html": [
       "<ol class=list-inline>\n",
       "\t<li>78</li>\n",
       "\t<li>17</li>\n",
       "</ol>\n"
      ],
      "text/latex": [
       "\\begin{enumerate*}\n",
       "\\item 78\n",
       "\\item 17\n",
       "\\end{enumerate*}\n"
      ],
      "text/markdown": [
       "1. 78\n",
       "2. 17\n",
       "\n",
       "\n"
      ],
      "text/plain": [
       "[1] 78 17"
      ]
     },
     "metadata": {},
     "output_type": "display_data"
    }
   ],
   "source": [
    "dim(d)\n",
    "sjex <- as.character(d$PID[d$t2bound > 300]) #Add subject number to exclude list for sj with a boundary outside the allowable range\n",
    "noo <- d[is.na(match(d$PID, sjex)),]  #Remove all subjects on exclude list from no-outlier object\n",
    "dim(noo)   #Look how many left to make sure only one was removed"
   ]
  },
  {
   "cell_type": "markdown",
   "metadata": {},
   "source": [
    "Write \"no impossible\" (nimp) file for later agglomeration in mega data"
   ]
  },
  {
   "cell_type": "code",
   "execution_count": 8,
   "metadata": {},
   "outputs": [],
   "source": [
    "write.csv(noo, \"summary/two15_allcont_grid_nimp.csv\", row.names=F, quote=F)"
   ]
  },
  {
   "cell_type": "markdown",
   "metadata": {},
   "source": [
    "Look for outliers in t1bound"
   ]
  },
  {
   "cell_type": "code",
   "execution_count": 9,
   "metadata": {
    "scrolled": false
   },
   "outputs": [
    {
     "data": {
      "image/png": "[encoded data removed]",
      "text/plain": [
       "plot without title"
      ]
     },
     "metadata": {},
     "output_type": "display_data"
    }
   ],
   "source": [
    "plot(zscore(d$t1bound), ylim = c(-3,3))\n",
    "abline(h=c(-zthresh,0,zthresh))"
   ]
  },
  {
   "cell_type": "markdown",
   "metadata": {},
   "source": [
    "Add any outliers to exclude list and remove from noo object"
   ]
  },
  {
   "cell_type": "code",
   "execution_count": 10,
   "metadata": {},
   "outputs": [
    {
     "data": {
      "text/html": [
       "<ol class=list-inline>\n",
       "\t<li>74</li>\n",
       "\t<li>17</li>\n",
       "</ol>\n"
      ],
      "text/latex": [
       "\\begin{enumerate*}\n",
       "\\item 74\n",
       "\\item 17\n",
       "\\end{enumerate*}\n"
      ],
      "text/markdown": [
       "1. 74\n",
       "2. 17\n",
       "\n",
       "\n"
      ],
      "text/plain": [
       "[1] 74 17"
      ]
     },
     "metadata": {},
     "output_type": "display_data"
    }
   ],
   "source": [
    "sjex <- c(sjex, as.character(noo$PID[abs(zscore(noo$t1bound)) > zthresh])) #add outliers to exclude list\n",
    "noo <- unique(noo) #remove any accidental outliers\n",
    "noo <- noo[is.na(match(noo$PID, sjex)),] #remove from noo object\n",
    "dim(noo)"
   ]
  },
  {
   "cell_type": "code",
   "execution_count": 11,
   "metadata": {
    "scrolled": false
   },
   "outputs": [
    {
     "data": {
      "image/png": "[encoded data removed]",
      "text/plain": [
       "plot without title"
      ]
     },
     "metadata": {},
     "output_type": "display_data"
    }
   ],
   "source": [
    "par(mfrow = c(1,2), mar = c(3,3,1,1)) #Prepare 2=panel plot\n",
    "noo$ZAlShift[noo$cond==\"none\"] <- zscore(noo$AlShift[noo$cond==\"none\"]) #compute zscores for control condition\n",
    "noo$ZAlShift[noo$cond==\"two15\"] <- zscore(noo$AlShift[noo$cond==\"two15\"]) #compute zscores for experimental condition\n",
    "plot(noo$ZAlShift[noo$cond==\"none\"], pch=16, ylim = c(-3,3)) #For control condition\n",
    "abline(h=c(zthresh,-zthresh))\n",
    "plot(noo$ZAlShift[noo$cond==\"two15\"], pch=16, ylim = c(-3,3)) #For control condition\n",
    "abline(h=c(zthresh,-zthresh))"
   ]
  },
  {
   "cell_type": "markdown",
   "metadata": {},
   "source": [
    "Add any outliers to exclude list and remove from data"
   ]
  },
  {
   "cell_type": "code",
   "execution_count": 12,
   "metadata": {},
   "outputs": [
    {
     "data": {
      "text/html": [
       "<ol class=list-inline>\n",
       "\t<li>68</li>\n",
       "\t<li>17</li>\n",
       "</ol>\n"
      ],
      "text/latex": [
       "\\begin{enumerate*}\n",
       "\\item 68\n",
       "\\item 17\n",
       "\\end{enumerate*}\n"
      ],
      "text/markdown": [
       "1. 68\n",
       "2. 17\n",
       "\n",
       "\n"
      ],
      "text/plain": [
       "[1] 68 17"
      ]
     },
     "metadata": {},
     "output_type": "display_data"
    }
   ],
   "source": [
    "sjex <- c(sjex, as.character(noo$PID[abs(noo$ZAlShift)>zthresh]))  #Remove subjects with boundary shift > 2 SD from mean\n",
    "sjex <- unique(sjex)   # Remove any duplicates in exclusion list\n",
    "noo <- d[is.na(match(d$PID, sjex)),]  #Remove all subjects on exclude list from data and assign to no-outlier object\n",
    "dim(noo)  #CHeck number left to make sure two were removed"
   ]
  },
  {
   "cell_type": "markdown",
   "metadata": {},
   "source": [
    "## Data analysis"
   ]
  },
  {
   "cell_type": "markdown",
   "metadata": {},
   "source": [
    "Compute confidence interval for aligned boundary shift and ttest against zero for control condition"
   ]
  },
  {
   "cell_type": "code",
   "execution_count": 13,
   "metadata": {},
   "outputs": [
    {
     "data": {
      "text/plain": [
       "\n",
       "\tOne Sample t-test\n",
       "\n",
       "data:  noo$AlShift[noo$cond == \"none\"]\n",
       "t = 1.6204, df = 33, p-value = 0.1147\n",
       "alternative hypothesis: true mean is not equal to 0\n",
       "95 percent confidence interval:\n",
       " -1.548003 13.663209\n",
       "sample estimates:\n",
       "mean of x \n",
       " 6.057603 \n"
      ]
     },
     "metadata": {},
     "output_type": "display_data"
    }
   ],
   "source": [
    "t.test(noo$AlShift[noo$cond==\"none\"])"
   ]
  },
  {
   "cell_type": "markdown",
   "metadata": {},
   "source": [
    "Mean shift does not differ from zero for control condition. Now compute CI and ttest for experimental condition:"
   ]
  },
  {
   "cell_type": "code",
   "execution_count": 14,
   "metadata": {},
   "outputs": [
    {
     "data": {
      "text/plain": [
       "\n",
       "\tOne Sample t-test\n",
       "\n",
       "data:  noo$AlShift[noo$cond == \"two15\"]\n",
       "t = -3.9949, df = 33, p-value = 0.0003414\n",
       "alternative hypothesis: true mean is not equal to 0\n",
       "95 percent confidence interval:\n",
       " -20.353764  -6.617731\n",
       "sample estimates:\n",
       "mean of x \n",
       "-13.48575 \n"
      ]
     },
     "metadata": {},
     "output_type": "display_data"
    }
   ],
   "source": [
    "t.test(noo$AlShift[noo$cond==\"two15\"])"
   ]
  },
  {
   "cell_type": "markdown",
   "metadata": {},
   "source": [
    "Shift in experimental condition is reliably negative (toward far source), p < 0.001"
   ]
  },
  {
   "cell_type": "markdown",
   "metadata": {},
   "source": [
    "Now we should check whether experimental and control conditions differ."
   ]
  },
  {
   "cell_type": "code",
   "execution_count": 15,
   "metadata": {},
   "outputs": [
    {
     "data": {
      "text/plain": [
       "\n",
       "\tWelch Two Sample t-test\n",
       "\n",
       "data:  AlShift by cond\n",
       "t = 3.88, df = 65.325, p-value = 0.0002455\n",
       "alternative hypothesis: true difference in means is not equal to 0\n",
       "95 percent confidence interval:\n",
       "  9.484889 29.601813\n",
       "sample estimates:\n",
       " mean in group none mean in group two15 \n",
       "           6.057603          -13.485747 \n"
      ]
     },
     "metadata": {},
     "output_type": "display_data"
    }
   ],
   "source": [
    "#T test to see if control and experimental conditions have different mean shifts\n",
    "t.test(AlShift ~ cond, data=noo)\n"
   ]
  },
  {
   "cell_type": "markdown",
   "metadata": {},
   "source": [
    "Experimental and control conditions differ reliably."
   ]
  },
  {
   "cell_type": "markdown",
   "metadata": {},
   "source": [
    "Now let's see if the initial boundaries differ by group:"
   ]
  },
  {
   "cell_type": "code",
   "execution_count": 16,
   "metadata": {
    "scrolled": true
   },
   "outputs": [
    {
     "data": {
      "text/plain": [
       "\n",
       "Call:\n",
       "lm(formula = t1bound ~ cbside, data = noo)\n",
       "\n",
       "Residuals:\n",
       "    Min      1Q  Median      3Q     Max \n",
       "-24.097  -8.533   1.467   8.883  21.467 \n",
       "\n",
       "Coefficients:\n",
       "            Estimate Std. Error t value Pr(>|t|)    \n",
       "(Intercept)  158.533      1.966  80.649   <2e-16 ***\n",
       "cbsideleft    -2.415      3.341  -0.723    0.472    \n",
       "cbsideright    0.566      3.475   0.163    0.871    \n",
       "---\n",
       "Signif. codes:  0 '***' 0.001 '**' 0.01 '*' 0.05 '.' 0.1 ' ' 1\n",
       "\n",
       "Residual standard error: 11.46 on 65 degrees of freedom\n",
       "Multiple R-squared:  0.01074,\tAdjusted R-squared:  -0.0197 \n",
       "F-statistic: 0.3529 on 2 and 65 DF,  p-value: 0.704\n"
      ]
     },
     "metadata": {},
     "output_type": "display_data"
    }
   ],
   "source": [
    "summary(lm(t1bound ~ cbside, data = noo))"
   ]
  },
  {
   "cell_type": "markdown",
   "metadata": {},
   "source": [
    "Neither experimental group differs from the control condition. Do they differ from one another?"
   ]
  },
  {
   "cell_type": "code",
   "execution_count": 17,
   "metadata": {
    "scrolled": true
   },
   "outputs": [
    {
     "data": {
      "text/plain": [
       "\n",
       "\tWelch Two Sample t-test\n",
       "\n",
       "data:  t1bound by closebound\n",
       "t = -0.76871, df = 30.589, p-value = 0.448\n",
       "alternative hypothesis: true difference in means is not equal to 0\n",
       "95 percent confidence interval:\n",
       " -10.895984   4.933095\n",
       "sample estimates:\n",
       "mean in group 135 mean in group 165 \n",
       "         156.1180          159.0994 \n"
      ]
     },
     "metadata": {},
     "output_type": "display_data"
    }
   ],
   "source": [
    "t.test(t1bound~closebound, data = noo) #Controls are excluded here b/c closeboudn is NA for these"
   ]
  },
  {
   "cell_type": "markdown",
   "metadata": {},
   "source": [
    "No they don't. For the record, let's compute the confidence intervals for the initial boundary across all subjects."
   ]
  },
  {
   "cell_type": "code",
   "execution_count": 18,
   "metadata": {},
   "outputs": [
    {
     "data": {
      "text/plain": [
       "\n",
       "\tOne Sample t-test\n",
       "\n",
       "data:  noo$t1bound\n",
       "t = 114.81, df = 67, p-value < 2.2e-16\n",
       "alternative hypothesis: true mean is not equal to 0\n",
       "95 percent confidence interval:\n",
       " 155.2797 160.7746\n",
       "sample estimates:\n",
       "mean of x \n",
       " 158.0272 \n"
      ]
     },
     "metadata": {},
     "output_type": "display_data"
    }
   ],
   "source": [
    "t.test(noo$t1bound)"
   ]
  },
  {
   "cell_type": "markdown",
   "metadata": {},
   "source": [
    "The initial boundary is a bit shifted compared to the midpoint between labeled examples at 150.  \n",
    "\n",
    "What about at test 2?"
   ]
  },
  {
   "cell_type": "code",
   "execution_count": 19,
   "metadata": {
    "scrolled": true
   },
   "outputs": [
    {
     "data": {
      "text/plain": [
       "\n",
       "\tWelch Two Sample t-test\n",
       "\n",
       "data:  t2bound by closebound\n",
       "t = 4.096, df = 29.259, p-value = 0.0003041\n",
       "alternative hypothesis: true difference in means is not equal to 0\n",
       "95 percent confidence interval:\n",
       " 12.10261 36.22402\n",
       "sample estimates:\n",
       "mean in group 135 mean in group 165 \n",
       "         168.2176          144.0543 \n"
      ]
     },
     "metadata": {},
     "output_type": "display_data"
    }
   ],
   "source": [
    "t.test(t2bound~closebound, data = noo)"
   ]
  },
  {
   "cell_type": "markdown",
   "metadata": {},
   "source": [
    "At test 2 the boundary estimates for the two experimental groups differ with p < 0.001. In other words, the two groups start off in agreement about the location of the category boundary, but end up disagreeing. What are the confidence intervals for the group means?"
   ]
  },
  {
   "cell_type": "code",
   "execution_count": 20,
   "metadata": {
    "scrolled": true
   },
   "outputs": [
    {
     "data": {
      "text/plain": [
       "\n",
       "\tOne Sample t-test\n",
       "\n",
       "data:  noo$t2bound[noo$closebound == 165]\n",
       "t = 30.975, df = 15, p-value = 5.183e-15\n",
       "alternative hypothesis: true mean is not equal to 0\n",
       "95 percent confidence interval:\n",
       " 134.1417 153.9669\n",
       "sample estimates:\n",
       "mean of x \n",
       " 144.0543 \n"
      ]
     },
     "metadata": {},
     "output_type": "display_data"
    }
   ],
   "source": [
    "t.test(noo$t2bound[noo$closebound==165]) #Mean and intervals for sources at 165, 50"
   ]
  },
  {
   "cell_type": "code",
   "execution_count": 21,
   "metadata": {
    "scrolled": false
   },
   "outputs": [
    {
     "data": {
      "text/plain": [
       "\n",
       "\tOne Sample t-test\n",
       "\n",
       "data:  noo$t2bound[noo$closebound == 135]\n",
       "t = 46.348, df = 17, p-value < 2.2e-16\n",
       "alternative hypothesis: true mean is not equal to 0\n",
       "95 percent confidence interval:\n",
       " 160.5601 175.8751\n",
       "sample estimates:\n",
       "mean of x \n",
       " 168.2176 \n"
      ]
     },
     "metadata": {},
     "output_type": "display_data"
    }
   ],
   "source": [
    "t.test(noo$t2bound[noo$closebound==135]) #Mean and intervals for sources at 135, 250"
   ]
  },
  {
   "cell_type": "markdown",
   "metadata": {},
   "source": [
    "In both cases the confidence limits for the t2bound exclude the location of the close source (165 for L and 135 for R) and the midpoint between the initial boundary and the far source (at ~106 for L and ~203 for R). So the boundary appears to move away from the close source, toward the far source, but not to the midpoint between these."
   ]
  },
  {
   "cell_type": "markdown",
   "metadata": {},
   "source": [
    "### Summary"
   ]
  },
  {
   "cell_type": "markdown",
   "metadata": {},
   "source": [
    "The three groups form boundaries in the same zone. When no additional labels are provided by the sources, the boundary does not shift. When learners receive labels from two sources, one using a boundary close to the learner's initial belief and one quite far, the learner's boundary shifts reliably away from the closer source and toward the further source, but not all the way to the midpoint between these as might be expected if both sources were given equal weighting."
   ]
  },
  {
   "cell_type": "markdown",
   "metadata": {},
   "source": [
    "### Write csv files"
   ]
  },
  {
   "cell_type": "code",
   "execution_count": 22,
   "metadata": {},
   "outputs": [],
   "source": [
    "write.csv(noo, paste(\"two15_allcont_noo_z\", zthresh*10,\".csv\",sep=\"\"), row.names=F, quote=F)"
   ]
  },
  {
   "cell_type": "markdown",
   "metadata": {},
   "source": [
    "## Analysis of explicit source ratings"
   ]
  },
  {
   "cell_type": "markdown",
   "metadata": {},
   "source": [
    "Next we want to see whether participants explicitly rate the two sources differently in their overall knowledge, accuracy, trustworthiness, and as a control, attractiveness. Subjects rated each face on a 100-point Likert scale for each question. The central question is whether ratings differ for the face paired with the closer category boundary versus the face paired with the farther boundary. Exactly which face image was paired with \"close\" vs \"far\" was counterbalanced across participants.\n",
    "\n",
    "Face ratings were also collected for the control (no source) condition. Control participants viewed the two face images on every trial, but without any associated category label. At the end they completed the same ratings questions. This allowed us to assess, in the experimental group, whether ratings of a given face image (\"Mark\" or \"John\") were generally higher, lower, or the same relative to control, depending on whether the face was paired with the close or far category boundary. To do this, ratings for participants in the experimental condition were Z-scored based on the scores provided for a given face and question in the control condition. For each question we computed the mean and standard deviation of the ratings for each image from the control data. For each participant in the experimental condition, we computed the Z-score of the participant's rating for a given image relative to the control distribution for the same image and question. We then looked to see whether these Z-scored ratings differed reliably depending on whether the face was paired with the \"close\" or the \"far\" boundary."
   ]
  },
  {
   "cell_type": "code",
   "execution_count": 23,
   "metadata": {},
   "outputs": [
    {
     "data": {
      "text/html": [
       "<ol class=list-inline>\n",
       "\t<li>34</li>\n",
       "\t<li>40</li>\n",
       "</ol>\n"
      ],
      "text/latex": [
       "\\begin{enumerate*}\n",
       "\\item 34\n",
       "\\item 40\n",
       "\\end{enumerate*}\n"
      ],
      "text/markdown": [
       "1. 34\n",
       "2. 40\n",
       "\n",
       "\n"
      ],
      "text/plain": [
       "[1] 34 40"
      ]
     },
     "metadata": {},
     "output_type": "display_data"
    }
   ],
   "source": [
    "d <- read.csv(\"allpars.csv\", header = T) #Read all data from orig experiment\n",
    "noo <- d[is.na(match(d$PID, sjex)),]   #Remove any outlying subject from prior analysis\n",
    "e <- noo[noo$cbside!=\"control\",] #Take just subjects in the experimental condition\n",
    "dim(e)"
   ]
  },
  {
   "cell_type": "code",
   "execution_count": 24,
   "metadata": {
    "scrolled": true
   },
   "outputs": [
    {
     "data": {
      "text/plain": [
       "\n",
       "\tPaired t-test\n",
       "\n",
       "data:  e$ZKnowClose and e$ZKnowFar\n",
       "t = 3.2772, df = 28, p-value = 0.002798\n",
       "alternative hypothesis: true difference in means is not equal to 0\n",
       "95 percent confidence interval:\n",
       " 0.4031262 1.7471025\n",
       "sample estimates:\n",
       "mean of the differences \n",
       "               1.075114 \n"
      ]
     },
     "metadata": {},
     "output_type": "display_data"
    }
   ],
   "source": [
    "t.test(e$ZKnowClose, e$ZKnowFar, paired=T) #Ttest for knowledge"
   ]
  },
  {
   "cell_type": "code",
   "execution_count": 25,
   "metadata": {},
   "outputs": [
    {
     "data": {
      "text/plain": [
       "\n",
       "\tPaired t-test\n",
       "\n",
       "data:  e$ZAccClose and e$ZAccFar\n",
       "t = 3.3313, df = 28, p-value = 0.002437\n",
       "alternative hypothesis: true difference in means is not equal to 0\n",
       "95 percent confidence interval:\n",
       " 0.4133866 1.7334985\n",
       "sample estimates:\n",
       "mean of the differences \n",
       "               1.073443 \n"
      ]
     },
     "metadata": {},
     "output_type": "display_data"
    }
   ],
   "source": [
    "t.test(e$ZAccClose, e$ZAccFar, paired=T) #Ttest for accuracy"
   ]
  },
  {
   "cell_type": "code",
   "execution_count": 26,
   "metadata": {},
   "outputs": [
    {
     "data": {
      "text/plain": [
       "\n",
       "\tPaired t-test\n",
       "\n",
       "data:  e$ZTrustClose and e$ZTrustFar\n",
       "t = 3.5995, df = 28, p-value = 0.001216\n",
       "alternative hypothesis: true difference in means is not equal to 0\n",
       "95 percent confidence interval:\n",
       " 0.4428714 1.6126174\n",
       "sample estimates:\n",
       "mean of the differences \n",
       "               1.027744 \n"
      ]
     },
     "metadata": {},
     "output_type": "display_data"
    }
   ],
   "source": [
    "t.test(e$ZTrustClose, e$ZTrustFar, paired=T) #Ttest for trust"
   ]
  },
  {
   "cell_type": "code",
   "execution_count": 27,
   "metadata": {},
   "outputs": [
    {
     "data": {
      "text/plain": [
       "\n",
       "\tPaired t-test\n",
       "\n",
       "data:  e$ZAttClose and e$ZAttFar\n",
       "t = -0.67507, df = 28, p-value = 0.5052\n",
       "alternative hypothesis: true difference in means is not equal to 0\n",
       "95 percent confidence interval:\n",
       " -0.6529631  0.3292635\n",
       "sample estimates:\n",
       "mean of the differences \n",
       "             -0.1618498 \n"
      ]
     },
     "metadata": {},
     "output_type": "display_data"
    }
   ],
   "source": [
    "t.test(e$ZAttClose, e$ZAttFar, paired=T) #Ttest for attractiveness"
   ]
  },
  {
   "cell_type": "markdown",
   "metadata": {},
   "source": [
    "Ratings for close source are reliably higher than far source for knowledge, trust, and accuracy, but not attractiveness."
   ]
  },
  {
   "cell_type": "markdown",
   "metadata": {},
   "source": [
    "Now pull out mean Z scores for ratings in experimental condition"
   ]
  },
  {
   "cell_type": "code",
   "execution_count": 28,
   "metadata": {},
   "outputs": [
    {
     "data": {
      "text/html": [
       "<table>\n",
       "<thead><tr><th></th><th scope=col>Close</th><th scope=col>Far</th></tr></thead>\n",
       "<tbody>\n",
       "\t<tr><th scope=row>Know</th><td>1.052073  </td><td>-0.3638304</td></tr>\n",
       "\t<tr><th scope=row>Trust</th><td>0.790683  </td><td>-0.6207192</td></tr>\n",
       "\t<tr><th scope=row>Acc</th><td>1.095651  </td><td>-0.6153223</td></tr>\n",
       "\t<tr><th scope=row>Attr</th><td>-0.06120225</td><td>0.2826366  </td></tr>\n",
       "</tbody>\n",
       "</table>\n"
      ],
      "text/latex": [
       "\\begin{tabular}{r|ll}\n",
       "  & Close & Far\\\\\n",
       "\\hline\n",
       "\tKnow & 1.052073   & -0.3638304\\\\\n",
       "\tTrust & 0.790683   & -0.6207192\\\\\n",
       "\tAcc & 1.095651   & -0.6153223\\\\\n",
       "\tAttr & -0.06120225 & 0.2826366  \\\\\n",
       "\\end{tabular}\n"
      ],
      "text/markdown": [
       "\n",
       "| <!--/--> | Close | Far |\n",
       "|---|---|---|\n",
       "| Know | 1.052073   | -0.3638304 |\n",
       "| Trust | 0.790683   | -0.6207192 |\n",
       "| Acc | 1.095651   | -0.6153223 |\n",
       "| Attr | -0.06120225 | 0.2826366   |\n",
       "\n"
      ],
      "text/plain": [
       "      Close       Far       \n",
       "Know  1.052073    -0.3638304\n",
       "Trust 0.790683    -0.6207192\n",
       "Acc   1.095651    -0.6153223\n",
       "Attr  -0.06120225 0.2826366 "
      ]
     },
     "metadata": {},
     "output_type": "display_data"
    }
   ],
   "source": [
    "#Pull out means, stopre in tmp object\n",
    "tmp <- aggregate(ZKnowClose ~ cbside, data=e, FUN=\"mean\")\n",
    "tmp <- cbind(tmp, aggregate(ZKnowFar ~ cbside, data=e, FUN=\"mean\")[,2])\n",
    "tmp <- cbind(tmp, aggregate(ZTrustClose ~ cbside, data=e, FUN=\"mean\")[,2])\n",
    "tmp <- cbind(tmp, aggregate(ZTrustFar ~ cbside, data=e, FUN=\"mean\")[,2])\n",
    "tmp <- cbind(tmp, aggregate(ZAccClose ~ cbside, data=e, FUN=\"mean\")[,2])\n",
    "tmp <- cbind(tmp, aggregate(ZAccFar ~ cbside, data=e, FUN=\"mean\")[,2])\n",
    "tmp <- cbind(tmp, aggregate(ZAttClose ~ cbside, data=e, FUN=\"mean\")[,2])\n",
    "tmp <- cbind(tmp, aggregate(ZAttFar ~ cbside, data=e, FUN=\"mean\")[,2])\n",
    "row.names(tmp)<-c(\"Cont\",\"Exp\")\n",
    "tmp <- tmp[,2:9]\n",
    "facezmn <- as.data.frame(matrix(tmp[2,], 4, 2, byrow=T))\n",
    "names(facezmn)<-c(\"Close\",\"Far\")\n",
    "row.names(facezmn)<-c(\"Know\",\"Trust\",\"Acc\",\"Attr\")\n",
    "facezmn"
   ]
  },
  {
   "cell_type": "markdown",
   "metadata": {},
   "source": [
    "Plot ratings for close and far sources in experimental condition, with standard error bars"
   ]
  },
  {
   "cell_type": "code",
   "execution_count": 29,
   "metadata": {},
   "outputs": [
    {
     "data": {
      "text/html": [
       "<table>\n",
       "<thead><tr><th></th><th scope=col>ExpShift</th><th scope=col>AlExShift</th><th scope=col>ZAlExShift</th><th scope=col>sjnum</th><th scope=col>KnowClose</th><th scope=col>KnowFar</th><th scope=col>TrustClose</th><th scope=col>TrustFar</th></tr></thead>\n",
       "<tbody>\n",
       "\t<tr><th scope=row>11</th><td>  NA      </td><td>  NA      </td><td>        NA</td><td> 11       </td><td>NA        </td><td>NA        </td><td>NA        </td><td>NA        </td></tr>\n",
       "\t<tr><th scope=row>12</th><td>  13      </td><td>  13      </td><td> 0.3658374</td><td>110       </td><td>98        </td><td>21        </td><td>95        </td><td>28        </td></tr>\n",
       "\t<tr><th scope=row>13</th><td>-134      </td><td>-134      </td><td>-1.4898104</td><td> 12       </td><td>74        </td><td>35        </td><td>72        </td><td>38        </td></tr>\n",
       "\t<tr><th scope=row>14</th><td>  40      </td><td>  40      </td><td> 0.7066707</td><td> 13       </td><td>64        </td><td>70        </td><td>66        </td><td>36        </td></tr>\n",
       "\t<tr><th scope=row>15</th><td> -27      </td><td> -27      </td><td>-0.1391008</td><td> 14       </td><td>61        </td><td>38        </td><td>96        </td><td>32        </td></tr>\n",
       "\t<tr><th scope=row>16</th><td>  NA      </td><td>  NA      </td><td>        NA</td><td> 15       </td><td>NA        </td><td>NA        </td><td>NA        </td><td>NA        </td></tr>\n",
       "</tbody>\n",
       "</table>\n"
      ],
      "text/latex": [
       "\\begin{tabular}{r|llllllll}\n",
       "  & ExpShift & AlExShift & ZAlExShift & sjnum & KnowClose & KnowFar & TrustClose & TrustFar\\\\\n",
       "\\hline\n",
       "\t11 &   NA       &   NA       &         NA &  11        & NA         & NA         & NA         & NA        \\\\\n",
       "\t12 &   13       &   13       &  0.3658374 & 110        & 98         & 21         & 95         & 28        \\\\\n",
       "\t13 & -134       & -134       & -1.4898104 &  12        & 74         & 35         & 72         & 38        \\\\\n",
       "\t14 &   40       &   40       &  0.7066707 &  13        & 64         & 70         & 66         & 36        \\\\\n",
       "\t15 &  -27       &  -27       & -0.1391008 &  14        & 61         & 38         & 96         & 32        \\\\\n",
       "\t16 &   NA       &   NA       &         NA &  15        & NA         & NA         & NA         & NA        \\\\\n",
       "\\end{tabular}\n"
      ],
      "text/markdown": [
       "\n",
       "| <!--/--> | ExpShift | AlExShift | ZAlExShift | sjnum | KnowClose | KnowFar | TrustClose | TrustFar |\n",
       "|---|---|---|---|---|---|---|---|---|\n",
       "| 11 |   NA       |   NA       |         NA |  11        | NA         | NA         | NA         | NA         |\n",
       "| 12 |   13       |   13       |  0.3658374 | 110        | 98         | 21         | 95         | 28         |\n",
       "| 13 | -134       | -134       | -1.4898104 |  12        | 74         | 35         | 72         | 38         |\n",
       "| 14 |   40       |   40       |  0.7066707 |  13        | 64         | 70         | 66         | 36         |\n",
       "| 15 |  -27       |  -27       | -0.1391008 |  14        | 61         | 38         | 96         | 32         |\n",
       "| 16 |   NA       |   NA       |         NA |  15        | NA         | NA         | NA         | NA         |\n",
       "\n"
      ],
      "text/plain": [
       "   ExpShift AlExShift ZAlExShift sjnum KnowClose KnowFar TrustClose TrustFar\n",
       "11   NA       NA              NA  11   NA        NA      NA         NA      \n",
       "12   13       13       0.3658374 110   98        21      95         28      \n",
       "13 -134     -134      -1.4898104  12   74        35      72         38      \n",
       "14   40       40       0.7066707  13   64        70      66         36      \n",
       "15  -27      -27      -0.1391008  14   61        38      96         32      \n",
       "16   NA       NA              NA  15   NA        NA      NA         NA      "
      ]
     },
     "metadata": {},
     "output_type": "display_data"
    }
   ],
   "source": [
    "head(e[,20:27])"
   ]
  },
  {
   "cell_type": "code",
   "execution_count": 30,
   "metadata": {
    "scrolled": false
   },
   "outputs": [
    {
     "data": {
      "image/png": "[encoded data removed]",
      "text/plain": [
       "plot without title"
      ]
     },
     "metadata": {},
     "output_type": "display_data"
    }
   ],
   "source": [
    "rface <- as.matrix(e[,24:31])  #Un-normalized face ratings\n",
    "plot.bars(rface, c(1,2), y.lim = c(0,100), y.lab=\"Rating\")"
   ]
  },
  {
   "cell_type": "markdown",
   "metadata": {},
   "source": [
    "Plot confidence intervals for z-scored ratings in experimental condition"
   ]
  },
  {
   "cell_type": "code",
   "execution_count": 31,
   "metadata": {
    "scrolled": false
   },
   "outputs": [
    {
     "data": {
      "image/png": "[encoded data removed]",
      "text/plain": [
       "plot without title"
      ]
     },
     "metadata": {},
     "output_type": "display_data"
    }
   ],
   "source": [
    "zface <- as.matrix(noo[,32:39])\n",
    "plot.cis(zface, pcol=c(1,2), x=c(1,2,4,5,7,8,10,11), y.lab=\"Rating Z-score\")\n",
    "mtext(side = 1, line=.5, at = c(1.5, 4.5, 7.5,10.5), text=c(\"Knowledge\",\"Trust\",\"Accuracy\",\"Attractiveness\"))\n",
    "abline(h=0, lty=2)\n",
    "text(c(11,11), c(1,.9), labels=c(\"Close\",\"Far\"), col=c(1,2), adj=0)"
   ]
  },
  {
   "cell_type": "markdown",
   "metadata": {},
   "source": [
    "So close sources receive higher ratings of knowledge, accuracy, and trust but not attractiveness relative to controls, but far sources don't receive lower ratings, except possibly for trust. "
   ]
  },
  {
   "cell_type": "markdown",
   "metadata": {},
   "source": [
    "## Scratch"
   ]
  },
  {
   "cell_type": "code",
   "execution_count": 32,
   "metadata": {},
   "outputs": [
    {
     "data": {
      "text/html": [
       "<table>\n",
       "<thead><tr><th scope=col>Spiky</th><th scope=col>Pno</th><th scope=col>PID</th><th scope=col>KnowAdam</th><th scope=col>KnowMark</th><th scope=col>TrustAdam</th><th scope=col>TrustMark</th><th scope=col>AccAdam</th><th scope=col>AccMark</th><th scope=col>AttAdam</th><th scope=col>AttMark</th></tr></thead>\n",
       "<tbody>\n",
       "\t<tr><td>C </td><td>1 </td><td>C1</td><td>50</td><td>54</td><td>27</td><td>27</td><td>55</td><td>52</td><td>38</td><td>65</td></tr>\n",
       "\t<tr><td>C </td><td>2 </td><td>C2</td><td>11</td><td>20</td><td>39</td><td>45</td><td>65</td><td>56</td><td>35</td><td>67</td></tr>\n",
       "\t<tr><td>C </td><td>3 </td><td>C3</td><td>81</td><td>43</td><td>50</td><td>50</td><td>35</td><td>65</td><td>50</td><td>44</td></tr>\n",
       "\t<tr><td>C </td><td>4 </td><td>C4</td><td>38</td><td>65</td><td>17</td><td>13</td><td>59</td><td>59</td><td>59</td><td>38</td></tr>\n",
       "\t<tr><td>C </td><td>5 </td><td>C5</td><td>36</td><td>81</td><td>76</td><td>14</td><td>26</td><td>28</td><td>19</td><td>35</td></tr>\n",
       "\t<tr><td>C </td><td>6 </td><td>C6</td><td>19</td><td>76</td><td>46</td><td>80</td><td>19</td><td>10</td><td>42</td><td>53</td></tr>\n",
       "</tbody>\n",
       "</table>\n"
      ],
      "text/latex": [
       "\\begin{tabular}{r|lllllllllll}\n",
       " Spiky & Pno & PID & KnowAdam & KnowMark & TrustAdam & TrustMark & AccAdam & AccMark & AttAdam & AttMark\\\\\n",
       "\\hline\n",
       "\t C  & 1  & C1 & 50 & 54 & 27 & 27 & 55 & 52 & 38 & 65\\\\\n",
       "\t C  & 2  & C2 & 11 & 20 & 39 & 45 & 65 & 56 & 35 & 67\\\\\n",
       "\t C  & 3  & C3 & 81 & 43 & 50 & 50 & 35 & 65 & 50 & 44\\\\\n",
       "\t C  & 4  & C4 & 38 & 65 & 17 & 13 & 59 & 59 & 59 & 38\\\\\n",
       "\t C  & 5  & C5 & 36 & 81 & 76 & 14 & 26 & 28 & 19 & 35\\\\\n",
       "\t C  & 6  & C6 & 19 & 76 & 46 & 80 & 19 & 10 & 42 & 53\\\\\n",
       "\\end{tabular}\n"
      ],
      "text/markdown": [
       "\n",
       "| Spiky | Pno | PID | KnowAdam | KnowMark | TrustAdam | TrustMark | AccAdam | AccMark | AttAdam | AttMark |\n",
       "|---|---|---|---|---|---|---|---|---|---|---|\n",
       "| C  | 1  | C1 | 50 | 54 | 27 | 27 | 55 | 52 | 38 | 65 |\n",
       "| C  | 2  | C2 | 11 | 20 | 39 | 45 | 65 | 56 | 35 | 67 |\n",
       "| C  | 3  | C3 | 81 | 43 | 50 | 50 | 35 | 65 | 50 | 44 |\n",
       "| C  | 4  | C4 | 38 | 65 | 17 | 13 | 59 | 59 | 59 | 38 |\n",
       "| C  | 5  | C5 | 36 | 81 | 76 | 14 | 26 | 28 | 19 | 35 |\n",
       "| C  | 6  | C6 | 19 | 76 | 46 | 80 | 19 | 10 | 42 | 53 |\n",
       "\n"
      ],
      "text/plain": [
       "  Spiky Pno PID KnowAdam KnowMark TrustAdam TrustMark AccAdam AccMark AttAdam\n",
       "1 C     1   C1  50       54       27        27        55      52      38     \n",
       "2 C     2   C2  11       20       39        45        65      56      35     \n",
       "3 C     3   C3  81       43       50        50        35      65      50     \n",
       "4 C     4   C4  38       65       17        13        59      59      59     \n",
       "5 C     5   C5  36       81       76        14        26      28      19     \n",
       "6 C     6   C6  19       76       46        80        19      10      42     \n",
       "  AttMark\n",
       "1 65     \n",
       "2 67     \n",
       "3 44     \n",
       "4 38     \n",
       "5 35     \n",
       "6 53     "
      ]
     },
     "metadata": {},
     "output_type": "display_data"
    }
   ],
   "source": [
    "cf <- read.csv(\"control_face_ratings.csv\", header = T)\n",
    "head(cf)"
   ]
  },
  {
   "cell_type": "code",
   "execution_count": 33,
   "metadata": {},
   "outputs": [
    {
     "data": {
      "text/plain": [
       "\n",
       "\tPaired t-test\n",
       "\n",
       "data:  cf$KnowMark and cf$KnowAdam\n",
       "t = 0.067256, df = 18, p-value = 0.9471\n",
       "alternative hypothesis: true difference in means is not equal to 0\n",
       "95 percent confidence interval:\n",
       " -14.32321  15.27057\n",
       "sample estimates:\n",
       "mean of the differences \n",
       "              0.4736842 \n"
      ]
     },
     "metadata": {},
     "output_type": "display_data"
    }
   ],
   "source": [
    "t.test(cf$KnowMark, cf$KnowAdam, paired=T)\n"
   ]
  },
  {
   "cell_type": "code",
   "execution_count": 34,
   "metadata": {},
   "outputs": [
    {
     "data": {
      "text/plain": [
       "\n",
       "\tPaired t-test\n",
       "\n",
       "data:  cf$TrustMark and cf$TrustAdam\n",
       "t = 0.10905, df = 18, p-value = 0.9144\n",
       "alternative hypothesis: true difference in means is not equal to 0\n",
       "95 percent confidence interval:\n",
       " -13.45953  14.93321\n",
       "sample estimates:\n",
       "mean of the differences \n",
       "              0.7368421 \n"
      ]
     },
     "metadata": {},
     "output_type": "display_data"
    }
   ],
   "source": [
    "t.test(cf$TrustMark, cf$TrustAdam, paired=T)"
   ]
  },
  {
   "cell_type": "code",
   "execution_count": 35,
   "metadata": {},
   "outputs": [
    {
     "data": {
      "text/plain": [
       "\n",
       "\tPaired t-test\n",
       "\n",
       "data:  cf$AccMark and cf$AccAdam\n",
       "t = -0.97679, df = 18, p-value = 0.3416\n",
       "alternative hypothesis: true difference in means is not equal to 0\n",
       "95 percent confidence interval:\n",
       " -22.221729   8.116466\n",
       "sample estimates:\n",
       "mean of the differences \n",
       "              -7.052632 \n"
      ]
     },
     "metadata": {},
     "output_type": "display_data"
    }
   ],
   "source": [
    "t.test(cf$AccMark, cf$AccAdam, paired=T)"
   ]
  },
  {
   "cell_type": "code",
   "execution_count": 36,
   "metadata": {},
   "outputs": [
    {
     "data": {
      "text/plain": [
       "\n",
       "\tPaired t-test\n",
       "\n",
       "data:  cf$AttMark and cf$AttAdam\n",
       "t = -0.39394, df = 18, p-value = 0.6983\n",
       "alternative hypothesis: true difference in means is not equal to 0\n",
       "95 percent confidence interval:\n",
       " -16.99937  11.63095\n",
       "sample estimates:\n",
       "mean of the differences \n",
       "              -2.684211 \n"
      ]
     },
     "metadata": {},
     "output_type": "display_data"
    }
   ],
   "source": [
    "t.test(cf$AttMark, cf$AttAdam, paired=T)"
   ]
  },
  {
   "cell_type": "markdown",
   "metadata": {},
   "source": [
    "## Further analyses"
   ]
  },
  {
   "cell_type": "code",
   "execution_count": 38,
   "metadata": {},
   "outputs": [
    {
     "ename": "ERROR",
     "evalue": "Error in eval(expr, envir, enclos): object 'alldat' not found\n",
     "output_type": "error",
     "traceback": [
      "Error in eval(expr, envir, enclos): object 'alldat' not found\nTraceback:\n"
     ]
    }
   ],
   "source": [
    "nsj <- length(alldat)    #Number of subjects is length of alldat object\n",
    "mvbnd <- matrix(0, nsj, 301)  #Initialize matrix of 0s to hold boundary-movement data, with 301 windows\n",
    "for(i1 in c(1:nsj)) mvbnd[i1,] <- get.mv.bound(alldat, sj=i1) #Compute move data for each sj and store in matrix rows\n"
   ]
  },
  {
   "cell_type": "code",
   "execution_count": null,
   "metadata": {},
   "outputs": [],
   "source": []
  }
 ],
 "metadata": {
  "kernelspec": {
   "display_name": "R",
   "language": "R",
   "name": "ir"
  },
  "language_info": {
   "codemirror_mode": "r",
   "file_extension": ".r",
   "mimetype": "text/x-r-source",
   "name": "R",
   "pygments_lexer": "r",
   "version": "3.6.1"
  }
 },
 "nbformat": 4,
 "nbformat_minor": 2
}
