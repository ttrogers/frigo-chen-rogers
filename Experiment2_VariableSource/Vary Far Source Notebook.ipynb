{
 "cells": [
  {
   "cell_type": "markdown",
   "metadata": {},
   "source": [
    "# This notebook describes analysis of data from Crazy Beliefs experiment 2"
   ]
  },
  {
   "cell_type": "markdown",
   "metadata": {},
   "source": [
    "## Varying the location of one source boundary across participants"
   ]
  },
  {
   "cell_type": "markdown",
   "metadata": {},
   "source": [
    "This study assesses how the weight given to one source varies as the distance between the source and the learner's initial boundary changes.\n",
    "\n",
    "All participants first learn with labeled examples at 100 and 200 and are then assessed on a grid, without feedback, to determine the location of their initial implicit boundary $b_1$. All participants then complete 300 trials (all stimuli appear once in permuted order) and, following their decision, view labels provided by two sources. For all participants one of the sources uses a boundary 15 units from the midpoint (the FIXED source $b_f$ at either 135 or 165). The other VARYING source boundary $b_v$ is sampled at random for each subject with uniform probability from the stimulus range opposite the FIXED source (ie, $b_v \\in [0,149]$ if $b_f = 165$ or $b_v \\in [151,300]$ if $b_f = 135$). After these trials we again assess behavior on a grid to estimate the learner's final implicit boundary $b_2$, then ask learners to rate the two sources for their knowledge, trustworthiness, accuracy, and attractiveness. \n",
    "\n",
    "From the two boundary estimates we compute the shift $s = b_2 - b_1$. We model the shift as a proportional weighted sum of the difference, for each source, between the source boundary and the learner's initial boundary:\n",
    "\n",
    "$$s = p_v d_v + (1 - p_v) d_f$$\n",
    "\n",
    "...where $p_v$ is the proportional weight given to the varying source, $d_v$ is the difference between the varying source boundary and the learner's initial boundary $(b_v - b_1)$, and $d_f$ is the difference between the fixed source boundary and the learner's initial boundary $(b_f - b_1)$. This allows us to estimate the proportional weight given to the varying source as follows:\n",
    "\n",
    "$$p_v = \\frac{s - d_f}{d_v - d_f}$$\n",
    "\n",
    "Since these estimates are noisy they occasionally exceed the limits of 1.0 and 0.0, so we then clip such estimates at 1.0 or 0.0. The central question concerns whether/how the proportional weight given to the varying source in each subject depends on the distance between the far source boundary and the learner's initial boundary. That is, what is the function by which $p_v ~ d_v$. Finally, we also consider whether/how the explicit ratings of the two sources relate to the estimate of the weight they are given. \n",
    "\n",
    "The rest of the notebook reads in the data and describes the analysis assessing this question. Note that the raw data have been pre-processed to compute the relevant boundary and shift information.\n"
   ]
  },
  {
   "cell_type": "markdown",
   "metadata": {},
   "source": [
    "# Functions"
   ]
  },
  {
   "cell_type": "markdown",
   "metadata": {},
   "source": [
    "Useful functions defined or read in here."
   ]
  },
  {
   "cell_type": "code",
   "execution_count": 1,
   "metadata": {},
   "outputs": [],
   "source": [
    "get.pwt <- function(x, s, i=0, p=1){\n",
    "    #Function that returns the proportional weight of a source given the\n",
    "    #source's distance from the learner's boundary\n",
    "    #and parameters for the offset and slope\n",
    "    #x = vector of source distances for which weights should be returned\n",
    "    #s = constant determining slope of decay\n",
    "    #i = \"intercept\" or offset term that shifts curve left/right\n",
    "    #p = experimental parameter, don't use\n",
    "    #o = output vector of weights\n",
    "    ###########\n",
    "    \n",
    "    x <- x-i\n",
    "    o <- 1 - (x/(x + s))\n",
    "    o <- o^p\n",
    "    o[o>1] <- 1.0\n",
    "    o\n",
    "}\n"
   ]
  },
  {
   "cell_type": "code",
   "execution_count": 2,
   "metadata": {},
   "outputs": [],
   "source": [
    "zscore <- function(v, sigd = 2){\n",
    "    #Zscores the data in a vector after removing NA cells\n",
    "    #v = numeric vector of data\n",
    "    #output is rounded to sigd significant digits\n",
    "    round((v - mean(v, na.rm=T))/sqrt(var(v, na.rm=T)),sigd)\n",
    "    }\n"
   ]
  },
  {
   "cell_type": "code",
   "execution_count": 3,
   "metadata": {},
   "outputs": [],
   "source": [
    "plot.pfit <- function(noo, s=25, o=4.5){\n",
    "    #Plots weight estimate against source distance along with a curve generated\n",
    "    #by get.pwt, using the parameters specified by s and o\n",
    "    #inc: subjects to include; removes items flagged as outliers by default\n",
    "    #s = slope of the curve\n",
    "    #o = offset of the curve\n",
    "    ###########\n",
    "    dmat.noo <- noo\n",
    "    \n",
    "    #Scatterplot\n",
    "    plot(dmat.noo$AlVar, dmat.noo$VarPClip,  pch=16, xlab = \"Distance of varying  source\", \n",
    "        ylab = \"Weight of varying source\",  xlim = c(0,165), ylim = c(0,1))\n",
    "    \n",
    "    #Add line indicating model prediction\n",
    "    lines(c(0:165), get.pwt(c(0:165), s, o),  col=2, lwd=2)\n",
    "\n",
    "    #Text indicating the model\n",
    "    modtext <- paste(\"pWt_var = 1 - (Dvar - \", o, \")/(Dvar - \", o, \" + \", s, \")\", sep=\"\")\n",
    "    text(70,1,labels = modtext, col=2, adj = 0)\n",
    "\n",
    "    #Text indicating the model fit\n",
    "    sse <- sum((dmat.noo$VarPClip - get.pwt(dmat.noo$AlVar,  s, o))^2)\n",
    "    toterr <- sum((dmat.noo$VarPClip - mean(dmat.noo$VarPClip))^2)\n",
    "    fittext <- paste(\"r^2 = \", round(1-(sse/toterr),2),  sep=\"\")\n",
    "    text(70,.95,labels = fittext, col=2, adj = 0)\n",
    "}\n"
   ]
  },
  {
   "cell_type": "markdown",
   "metadata": {},
   "source": [
    "## Data"
   ]
  },
  {
   "cell_type": "markdown",
   "metadata": {},
   "source": [
    "Threshold for outlier analysis"
   ]
  },
  {
   "cell_type": "code",
   "execution_count": 5,
   "metadata": {},
   "outputs": [],
   "source": [
    "zthresh <- 2.0"
   ]
  },
  {
   "cell_type": "code",
   "execution_count": 6,
   "metadata": {},
   "outputs": [
    {
     "data": {
      "text/html": [
       "<table>\n",
       "<thead><tr><th scope=col>Oord</th><th scope=col>C_R</th><th scope=col>L_R</th><th scope=col>Sno</th><th scope=col>SID</th><th scope=col>FixSrcBnd</th><th scope=col>VarSrcBnd</th><th scope=col>B1</th><th scope=col>B2</th><th scope=col>DirShift</th><th scope=col>...</th><th scope=col>TrustFixed</th><th scope=col>AccVary</th><th scope=col>AccFixed</th><th scope=col>AttVary</th><th scope=col>AttFixed</th><th scope=col>Kdiff</th><th scope=col>Tdiff</th><th scope=col>AccDiff</th><th scope=col>AttDiff</th><th scope=col>MnDiff</th></tr></thead>\n",
       "<tbody>\n",
       "\t<tr><td>1    </td><td>C    </td><td>LB   </td><td>1    </td><td>CLB1 </td><td>165  </td><td> 43  </td><td>154  </td><td>153  </td><td>  0  </td><td>...  </td><td>76   </td><td>68   </td><td>81   </td><td>56   </td><td>58   </td><td> 17  </td><td>  8  </td><td> 13  </td><td>  2  </td><td> 12.7</td></tr>\n",
       "\t<tr><td>2    </td><td>C    </td><td>LB   </td><td>2    </td><td>CLB2 </td><td>165  </td><td> 91  </td><td>154  </td><td>171  </td><td> 17  </td><td>...  </td><td>50   </td><td>50   </td><td>50   </td><td> 1   </td><td> 1   </td><td>  0  </td><td>  0  </td><td>  0  </td><td>  0  </td><td>  0.0</td></tr>\n",
       "\t<tr><td>3    </td><td>C    </td><td>LB   </td><td>3    </td><td>CLB3 </td><td>165  </td><td> 49  </td><td>169  </td><td>136  </td><td>-33  </td><td>...  </td><td>52   </td><td>65   </td><td>53   </td><td>58   </td><td>36   </td><td>-32  </td><td>-23  </td><td>-12  </td><td>-22  </td><td>-22.3</td></tr>\n",
       "\t<tr><td>4    </td><td>C    </td><td>LB   </td><td>4    </td><td>CLB4 </td><td>165  </td><td>114  </td><td>207  </td><td>154  </td><td>-53  </td><td>...  </td><td>55   </td><td>53   </td><td>50   </td><td>50   </td><td>50   </td><td> 11  </td><td> -3  </td><td> -3  </td><td>  0  </td><td>  1.7</td></tr>\n",
       "\t<tr><td>5    </td><td>C    </td><td>LB   </td><td>5    </td><td>CLB5 </td><td>165  </td><td> 57  </td><td>146  </td><td>146  </td><td>  0  </td><td>...  </td><td>79   </td><td>55   </td><td>73   </td><td>72   </td><td>53   </td><td> 17  </td><td> 18  </td><td> 18  </td><td>-19  </td><td> 17.7</td></tr>\n",
       "\t<tr><td>6    </td><td>C    </td><td>LB   </td><td>6    </td><td>CLB6 </td><td>165  </td><td> 92  </td><td>154  </td><td>154  </td><td>  0  </td><td>...  </td><td>96   </td><td>96   </td><td>96   </td><td>64   </td><td>15   </td><td> 15  </td><td> 18  </td><td>  0  </td><td>-49  </td><td> 11.0</td></tr>\n",
       "</tbody>\n",
       "</table>\n"
      ],
      "text/latex": [
       "\\begin{tabular}{r|llllllllllllllllllllllllllllllll}\n",
       " Oord & C\\_R & L\\_R & Sno & SID & FixSrcBnd & VarSrcBnd & B1 & B2 & DirShift & ... & TrustFixed & AccVary & AccFixed & AttVary & AttFixed & Kdiff & Tdiff & AccDiff & AttDiff & MnDiff\\\\\n",
       "\\hline\n",
       "\t 1     & C     & LB    & 1     & CLB1  & 165   &  43   & 154   & 153   &   0   & ...   & 76    & 68    & 81    & 56    & 58    &  17   &   8   &  13   &   2   &  12.7\\\\\n",
       "\t 2     & C     & LB    & 2     & CLB2  & 165   &  91   & 154   & 171   &  17   & ...   & 50    & 50    & 50    &  1    &  1    &   0   &   0   &   0   &   0   &   0.0\\\\\n",
       "\t 3     & C     & LB    & 3     & CLB3  & 165   &  49   & 169   & 136   & -33   & ...   & 52    & 65    & 53    & 58    & 36    & -32   & -23   & -12   & -22   & -22.3\\\\\n",
       "\t 4     & C     & LB    & 4     & CLB4  & 165   & 114   & 207   & 154   & -53   & ...   & 55    & 53    & 50    & 50    & 50    &  11   &  -3   &  -3   &   0   &   1.7\\\\\n",
       "\t 5     & C     & LB    & 5     & CLB5  & 165   &  57   & 146   & 146   &   0   & ...   & 79    & 55    & 73    & 72    & 53    &  17   &  18   &  18   & -19   &  17.7\\\\\n",
       "\t 6     & C     & LB    & 6     & CLB6  & 165   &  92   & 154   & 154   &   0   & ...   & 96    & 96    & 96    & 64    & 15    &  15   &  18   &   0   & -49   &  11.0\\\\\n",
       "\\end{tabular}\n"
      ],
      "text/markdown": [
       "\n",
       "| Oord | C_R | L_R | Sno | SID | FixSrcBnd | VarSrcBnd | B1 | B2 | DirShift | ... | TrustFixed | AccVary | AccFixed | AttVary | AttFixed | Kdiff | Tdiff | AccDiff | AttDiff | MnDiff |\n",
       "|---|---|---|---|---|---|---|---|---|---|---|---|---|---|---|---|---|---|---|---|---|\n",
       "| 1     | C     | LB    | 1     | CLB1  | 165   |  43   | 154   | 153   |   0   | ...   | 76    | 68    | 81    | 56    | 58    |  17   |   8   |  13   |   2   |  12.7 |\n",
       "| 2     | C     | LB    | 2     | CLB2  | 165   |  91   | 154   | 171   |  17   | ...   | 50    | 50    | 50    |  1    |  1    |   0   |   0   |   0   |   0   |   0.0 |\n",
       "| 3     | C     | LB    | 3     | CLB3  | 165   |  49   | 169   | 136   | -33   | ...   | 52    | 65    | 53    | 58    | 36    | -32   | -23   | -12   | -22   | -22.3 |\n",
       "| 4     | C     | LB    | 4     | CLB4  | 165   | 114   | 207   | 154   | -53   | ...   | 55    | 53    | 50    | 50    | 50    |  11   |  -3   |  -3   |   0   |   1.7 |\n",
       "| 5     | C     | LB    | 5     | CLB5  | 165   |  57   | 146   | 146   |   0   | ...   | 79    | 55    | 73    | 72    | 53    |  17   |  18   |  18   | -19   |  17.7 |\n",
       "| 6     | C     | LB    | 6     | CLB6  | 165   |  92   | 154   | 154   |   0   | ...   | 96    | 96    | 96    | 64    | 15    |  15   |  18   |   0   | -49   |  11.0 |\n",
       "\n"
      ],
      "text/plain": [
       "  Oord C_R L_R Sno SID  FixSrcBnd VarSrcBnd B1  B2  DirShift ... TrustFixed\n",
       "1 1    C   LB  1   CLB1 165        43       154 153   0      ... 76        \n",
       "2 2    C   LB  2   CLB2 165        91       154 171  17      ... 50        \n",
       "3 3    C   LB  3   CLB3 165        49       169 136 -33      ... 52        \n",
       "4 4    C   LB  4   CLB4 165       114       207 154 -53      ... 55        \n",
       "5 5    C   LB  5   CLB5 165        57       146 146   0      ... 79        \n",
       "6 6    C   LB  6   CLB6 165        92       154 154   0      ... 96        \n",
       "  AccVary AccFixed AttVary AttFixed Kdiff Tdiff AccDiff AttDiff MnDiff\n",
       "1 68      81       56      58        17     8    13       2      12.7 \n",
       "2 50      50        1       1         0     0     0       0       0.0 \n",
       "3 65      53       58      36       -32   -23   -12     -22     -22.3 \n",
       "4 53      50       50      50        11    -3    -3       0       1.7 \n",
       "5 55      73       72      53        17    18    18     -19      17.7 \n",
       "6 96      96       64      15        15    18     0     -49      11.0 "
      ]
     },
     "metadata": {},
     "output_type": "display_data"
    }
   ],
   "source": [
    "alldat <- read.csv(\"all_data.csv\", header = T)\n",
    "head(alldat)"
   ]
  },
  {
   "cell_type": "markdown",
   "metadata": {},
   "source": [
    "The alldat.csv file contains all the relevant estimates for each of 64 participants. Fields are as follows:\n",
    "\n",
    "*Subjects and conditions*\n",
    "\n",
    "Oord: Original ordering\n",
    "C_R: Is the spiky end of the spectrum labeled Raw or Cooked?\n",
    "L_R: Is the varying source toward the left (spiky end) or right (smooth end) of the spectrum?\n",
    "Sno: Subject number within condition\n",
    "SID: Unique subject ID\n",
    "FixSrcBnd: Location of the fixed source boundary\n",
    "VarSrcBnd: Location of the varying source boundary\n",
    "\n",
    "*Data*\n",
    "\n",
    "B1: Initial implicit boundary\n",
    "B2: Final implicit boundary\n",
    "\n",
    "DirShift: Final - initial implicit boundary, not aligned for which side the varying side is on\n",
    "DirFix: Fixed - initial boundary, not aligned\n",
    "DirVar: Varying - initial boundary, not aligned\n",
    "\n",
    "**Note:** These are the raw differences, not taking into account which end of the axis (spiky/smooth) was labeled with the fixed source and which with the varying source. So for hald the subjects, the difference DirVar (for instance) will be negative and for half it will be positive. We want to do the analysis on data that have been \\emph{aligned} so that a negative number indicates a distance or movement toward the pole nearest the \\emph{varying} source---hence the next three fields, which simply flip these numbers around the origin for cases where the round (positive) end of the spectrum was labeled with the varying source.\n",
    "\n",
    "AlShift: Amount of shift aligned so that negative numbers indicate a shift toward the varying source boundary\n",
    "AlFix: Aligned distance from initial to fixed boundary ($d_f$)\n",
    "AlVar: Aligned distance from initial to varying boundary  ($d_v$)\n",
    "VarP: Proportional weight given to varying source ($p_v$)\n",
    "VarPClip: Values of VArP > 1 replaced with 1, < 0 replaced with 0.\n",
    "Outlier: Indicates an outlier, defined as cases where the amount of shift is greater than 2.5 standard deviations from the mean over subjects.\n",
    "\n",
    "*Face data fields*\n",
    "\n",
    "Kvary, Kfixed: Knowledge rating for the varying and the fixed source.\n",
    "TrustVary, TrustFixed: Trust rating for the varying and fixed source.\n",
    "AccVary, AccFixed: Accuracy estimate for the varing and fixed source.\n",
    "AttVary, AttFixed: Attractiveness estimate for the varying and fixed source.\n",
    "\n",
    "Kdiff: Fixed rating - Varying rating for knowledge, positive numbers favor fixed source\n",
    "Tdiff: Fixed rating - Varying rating for trust \n",
    "AccDiff: Fixed rating - Varying rating for accuracy\n",
    "AttDiff: Fixed rating - Varying rating for attractiveness\n",
    "\n",
    "**Note:** Odd subject numbers had Adam as the fixed source and Mark as the varying source, even numbers received the reverse pairing.\n",
    "\n"
   ]
  },
  {
   "cell_type": "markdown",
   "metadata": {},
   "source": [
    "# Outlier analysis"
   ]
  },
  {
   "cell_type": "markdown",
   "metadata": {},
   "source": [
    "As in Study 1, we first remove any subjects with impossible boundary values in test 1 or test 2 (likely reflecting random responding). Across all subjects, we compute Zscores for the initial boundary and remove any with v unusual starting boundaries (Z more than 2.5 standard deviations from mean). Finally, we compute aligned shift scores from the remaining and remove any subjects with very unusual shift scores (more than 2.5 standard deviations from the mean)."
   ]
  },
  {
   "cell_type": "code",
   "execution_count": 7,
   "metadata": {},
   "outputs": [
    {
     "data": {
      "image/png": "[encoded data removed]",
      "text/plain": [
       "plot without title"
      ]
     },
     "metadata": {},
     "output_type": "display_data"
    }
   ],
   "source": [
    "plot(alldat$B1, alldat$B2)"
   ]
  },
  {
   "cell_type": "markdown",
   "metadata": {},
   "source": [
    "There are no impossible values in either test, so now check the initial boundary estimate for outliers"
   ]
  },
  {
   "cell_type": "code",
   "execution_count": 8,
   "metadata": {
    "scrolled": false
   },
   "outputs": [
    {
     "data": {
      "image/png": "[encoded data removed]",
      "text/plain": [
       "plot without title"
      ]
     },
     "metadata": {},
     "output_type": "display_data"
    }
   ],
   "source": [
    "plot(zscore(alldat$B1)); abline(h=c(zthresh,-zthresh))"
   ]
  },
  {
   "cell_type": "markdown",
   "metadata": {},
   "source": [
    "Add outliers to exclude list and remove from \"no outlier\" object"
   ]
  },
  {
   "cell_type": "code",
   "execution_count": 9,
   "metadata": {
    "scrolled": true
   },
   "outputs": [
    {
     "data": {
      "text/html": [
       "<ol class=list-inline>\n",
       "\t<li>64</li>\n",
       "\t<li>32</li>\n",
       "</ol>\n"
      ],
      "text/latex": [
       "\\begin{enumerate*}\n",
       "\\item 64\n",
       "\\item 32\n",
       "\\end{enumerate*}\n"
      ],
      "text/markdown": [
       "1. 64\n",
       "2. 32\n",
       "\n",
       "\n"
      ],
      "text/plain": [
       "[1] 64 32"
      ]
     },
     "metadata": {},
     "output_type": "display_data"
    },
    {
     "data": {
      "text/html": [
       "<ol class=list-inline>\n",
       "\t<li>61</li>\n",
       "\t<li>32</li>\n",
       "</ol>\n"
      ],
      "text/latex": [
       "\\begin{enumerate*}\n",
       "\\item 61\n",
       "\\item 32\n",
       "\\end{enumerate*}\n"
      ],
      "text/markdown": [
       "1. 61\n",
       "2. 32\n",
       "\n",
       "\n"
      ],
      "text/plain": [
       "[1] 61 32"
      ]
     },
     "metadata": {},
     "output_type": "display_data"
    }
   ],
   "source": [
    "sjex <- as.character(alldat$SID[abs(zscore(alldat$B1)) > zthresh]) #Add outlier SIDs to exlcude list\n",
    "noo <- alldat[is.na(match(alldat$SID, sjex)),] #Copy all other subjects to noo object\n",
    "dim(alldat) #Check original size of dataset\n",
    "dim(noo)    #Check reduced data to make sure 2 were removed"
   ]
  },
  {
   "cell_type": "markdown",
   "metadata": {},
   "source": [
    "Now check the aligned boundary shift data for extreme values "
   ]
  },
  {
   "cell_type": "code",
   "execution_count": 10,
   "metadata": {
    "scrolled": false
   },
   "outputs": [
    {
     "data": {
      "image/png": "[encoded data removed]",
      "text/plain": [
       "plot without title"
      ]
     },
     "metadata": {},
     "output_type": "display_data"
    }
   ],
   "source": [
    "plot(zscore(noo$AlShift), ylim = c(-4,4), xlab=\"\", ylab=\"Z-scored boundary shift (aligned)\",\n",
    "     pch=16, col = 2)\n",
    "abline(h=c(-zthresh, zthresh))"
   ]
  },
  {
   "cell_type": "markdown",
   "metadata": {},
   "source": [
    "Remove any outliers."
   ]
  },
  {
   "cell_type": "code",
   "execution_count": 11,
   "metadata": {},
   "outputs": [
    {
     "data": {
      "text/html": [
       "<ol class=list-inline>\n",
       "\t<li>57</li>\n",
       "\t<li>32</li>\n",
       "</ol>\n"
      ],
      "text/latex": [
       "\\begin{enumerate*}\n",
       "\\item 57\n",
       "\\item 32\n",
       "\\end{enumerate*}\n"
      ],
      "text/markdown": [
       "1. 57\n",
       "2. 32\n",
       "\n",
       "\n"
      ],
      "text/plain": [
       "[1] 57 32"
      ]
     },
     "metadata": {},
     "output_type": "display_data"
    }
   ],
   "source": [
    "sjex <- c(sjex, as.character(noo$SID[abs(zscore(noo$AlShift))>zthresh]))\n",
    "sjex <- unique(sjex)\n",
    "noo <- alldat[is.na(match(alldat$SID, sjex)),]\n",
    "dim(noo)"
   ]
  },
  {
   "cell_type": "markdown",
   "metadata": {},
   "source": [
    "## Analysis"
   ]
  },
  {
   "cell_type": "markdown",
   "metadata": {},
   "source": [
    "Now double-check that the data are normally distributed and that the location of the initial boundary makes sense:"
   ]
  },
  {
   "cell_type": "code",
   "execution_count": 12,
   "metadata": {
    "scrolled": false
   },
   "outputs": [
    {
     "data": {
      "text/plain": [
       "\n",
       "\tShapiro-Wilk normality test\n",
       "\n",
       "data:  noo$B1\n",
       "W = 0.98062, p-value = 0.4906\n"
      ]
     },
     "metadata": {},
     "output_type": "display_data"
    },
    {
     "data": {
      "image/png": "[encoded data removed]",
      "text/plain": [
       "Plot with title \"Normal Q-Q Plot\""
      ]
     },
     "metadata": {},
     "output_type": "display_data"
    }
   ],
   "source": [
    "qqnorm(noo$B1)\n",
    "shapiro.test(noo$B1)"
   ]
  },
  {
   "cell_type": "markdown",
   "metadata": {},
   "source": [
    "The initial boundary location is normally distributed."
   ]
  },
  {
   "cell_type": "markdown",
   "metadata": {},
   "source": [
    "### Initial boundary location and mean shift\n",
    "\n",
    "First assess confidence limits on location of initial boundary:"
   ]
  },
  {
   "cell_type": "code",
   "execution_count": 13,
   "metadata": {
    "scrolled": true
   },
   "outputs": [
    {
     "data": {
      "text/plain": [
       "\n",
       "\tOne Sample t-test\n",
       "\n",
       "data:  noo$B1\n",
       "t = 124.06, df = 56, p-value < 2.2e-16\n",
       "alternative hypothesis: true mean is not equal to 0\n",
       "95 percent confidence interval:\n",
       " 146.5596 151.3702\n",
       "sample estimates:\n",
       "mean of x \n",
       " 148.9649 \n"
      ]
     },
     "metadata": {},
     "output_type": "display_data"
    }
   ],
   "source": [
    "t.test(noo$B1)"
   ]
  },
  {
   "cell_type": "markdown",
   "metadata": {},
   "source": [
    "Next look at the mean shift across all subjects, ignoring the location of the varying source. We look at the aligned shift, so that positive numbers indicate a shift toward the \"fixed-source\" side of the spectrum and a negative number indicates a shift toward the \"varying-source\" side for all subjects:"
   ]
  },
  {
   "cell_type": "code",
   "execution_count": 14,
   "metadata": {},
   "outputs": [
    {
     "data": {
      "text/plain": [
       "\n",
       "\tOne Sample t-test\n",
       "\n",
       "data:  noo$AlShift\n",
       "t = -4.44, df = 56, p-value = 4.279e-05\n",
       "alternative hypothesis: true mean is not equal to 0\n",
       "95 percent confidence interval:\n",
       " -11.889511  -4.496454\n",
       "sample estimates:\n",
       "mean of x \n",
       "-8.192982 \n"
      ]
     },
     "metadata": {},
     "output_type": "display_data"
    }
   ],
   "source": [
    "t.test(noo$AlShift)"
   ]
  },
  {
   "cell_type": "markdown",
   "metadata": {},
   "source": [
    "The boundary shifts reliably away from the fixed source and toward the varying source."
   ]
  },
  {
   "cell_type": "markdown",
   "metadata": {},
   "source": [
    "### Estimating weight given to varying source.\n",
    "\n",
    "\n",
    "Now let's look at how the estimated weight on the varying source varies with the distance of the varying source. The estimated weight for each participant was computed using the formulas and get.pwt function defined at the beginning of the notebook. We then sought to predict this weight as a function of the distance from the participant's initial boundary and the variable source. We looked at a linear model, a logistic model, and the _heuristic evidence-weighting model_ described in the paper."
   ]
  },
  {
   "cell_type": "code",
   "execution_count": 15,
   "metadata": {
    "scrolled": true
   },
   "outputs": [
    {
     "data": {
      "text/plain": [
       "\n",
       "Call:\n",
       "lm(formula = VarPClip ~ AlVar, data = noo)\n",
       "\n",
       "Residuals:\n",
       "     Min       1Q   Median       3Q      Max \n",
       "-0.44563 -0.12646 -0.01942  0.13555  0.42993 \n",
       "\n",
       "Coefficients:\n",
       "              Estimate Std. Error t value Pr(>|t|)    \n",
       "(Intercept)  0.6339217  0.0603631  10.502 9.38e-15 ***\n",
       "AlVar       -0.0046746  0.0008291  -5.638 6.13e-07 ***\n",
       "---\n",
       "Signif. codes:  0 '***' 0.001 '**' 0.01 '*' 0.05 '.' 0.1 ' ' 1\n",
       "\n",
       "Residual standard error: 0.1869 on 55 degrees of freedom\n",
       "Multiple R-squared:  0.3663,\tAdjusted R-squared:  0.3548 \n",
       "F-statistic: 31.79 on 1 and 55 DF,  p-value: 6.133e-07\n"
      ]
     },
     "metadata": {},
     "output_type": "display_data"
    }
   ],
   "source": [
    "#First try a linear model\n",
    "m1 <- lm(VarPClip ~ AlVar, data = noo)\n",
    "summary(m1)"
   ]
  },
  {
   "cell_type": "code",
   "execution_count": 16,
   "metadata": {
    "scrolled": false
   },
   "outputs": [
    {
     "name": "stderr",
     "output_type": "stream",
     "text": [
      "Warning message in eval(family$initialize):\n",
      "\"non-integer #successes in a binomial glm!\""
     ]
    },
    {
     "data": {
      "text/plain": [
       "\n",
       "Call:\n",
       "glm(formula = VarPClip ~ AlVar, family = \"binomial\", data = noo)\n",
       "\n",
       "Deviance Residuals: \n",
       "     Min        1Q    Median        3Q       Max  \n",
       "-1.04623  -0.26236  -0.08551   0.29883   0.92150  \n",
       "\n",
       "Coefficients:\n",
       "            Estimate Std. Error z value Pr(>|z|)  \n",
       "(Intercept)  0.75425    0.71689   1.052   0.2927  \n",
       "AlVar       -0.02379    0.01102  -2.160   0.0308 *\n",
       "---\n",
       "Signif. codes:  0 '***' 0.001 '**' 0.01 '*' 0.05 '.' 0.1 ' ' 1\n",
       "\n",
       "(Dispersion parameter for binomial family taken to be 1)\n",
       "\n",
       "    Null deviance: 15.0969  on 56  degrees of freedom\n",
       "Residual deviance:  9.7281  on 55  degrees of freedom\n",
       "AIC: 58.878\n",
       "\n",
       "Number of Fisher Scoring iterations: 4\n"
      ]
     },
     "metadata": {},
     "output_type": "display_data"
    }
   ],
   "source": [
    "#Next try a logistic model\n",
    "m2 <- glm(VarPClip ~ AlVar, data = noo, family=\"binomial\")\n",
    "summary(m2)"
   ]
  },
  {
   "cell_type": "code",
   "execution_count": 17,
   "metadata": {},
   "outputs": [
    {
     "data": {
      "text/html": [
       "0.366282408448395"
      ],
      "text/latex": [
       "0.366282408448395"
      ],
      "text/markdown": [
       "0.366282408448395"
      ],
      "text/plain": [
       "[1] 0.3662824"
      ]
     },
     "metadata": {},
     "output_type": "display_data"
    }
   ],
   "source": [
    "#Estimate model r-squared:\n",
    "cor(predict(m2, noo), noo$VarPClip)^2"
   ]
  },
  {
   "cell_type": "markdown",
   "metadata": {},
   "source": [
    "**Note:** Warning occurs because the dependent variable is not an integer, but the best fitting line will be the same if the dependent variable is a proportion as it is here."
   ]
  },
  {
   "cell_type": "markdown",
   "metadata": {},
   "source": [
    "How do we find good parameters for the HEW model? Probably we could do this analytically, but I conducted a grid search---I chose a bunch of possible values for the intercept and slope parameters of the curve, and for each, I measured the sum-squared error with the data, then looked for the values that minimized that error, as follows:"
   ]
  },
  {
   "cell_type": "code",
   "execution_count": 18,
   "metadata": {},
   "outputs": [],
   "source": [
    "igrid <- c(0:30)/2 #grid of intercept parameters from 0-15 in steps of 0.5\n",
    "sgrid <- c(0:30) #grid of slope parameters from 0-30 in steps of 1\n",
    "mfit <- matrix(0, length(igrid), length(sgrid)) #matrix to contain the fit (sse) estimates for each parameter pair\n",
    "\n",
    "tmp <- noo #Copy no-outlier object to tmp object\n",
    "\n",
    "for(i in c(1:length(igrid))){#iterate over intercept grid\n",
    "    for(s in c(1:length(sgrid))){ #iterate over slope grid\n",
    "        tmp1 <- get.pwt(tmp$AlVar, i=igrid[i], s=sgrid[s]) #Get model predictions at this grid point\n",
    "        mfit[i,s] <- sum((tmp1 - tmp$VarPClip)^2) #Compute model SSE at this grid point\n",
    "        }\n",
    "    }\n",
    "mfit[is.na(mfit)] <- max(mfit, na.rm=T) #Replace any NA values with the grid maximum\n",
    "mfit[mfit==Inf] <- max(mfit[mfit!=Inf]) #Replace any infinite values with real grid maximum"
   ]
  },
  {
   "cell_type": "code",
   "execution_count": 19,
   "metadata": {},
   "outputs": [
    {
     "data": {
      "image/png": "[encoded data removed]",
      "text/plain": [
       "plot without title"
      ]
     },
     "metadata": {},
     "output_type": "display_data"
    }
   ],
   "source": [
    "#mfit now contains model error at each grid point, let's plot\n",
    "plot(0,0,type = \"n\", xlab = \"Slope\", ylab=\"SSE\", xlim = c(0,30), ylim = c(0,5)) #Empty plot\n",
    "\n",
    "lowesto <- 0 #initialize lowest offset variable\n",
    "\n",
    "for(i1 in c(1:31)){ #For each offset\n",
    "    if(min(mfit[i1,], na.rm=T) == min(mfit, na.rm=T)) lowesto <- i1 #set lowesto to i1 if it has the lowest error\n",
    "    ppts <- c(1:31)[mfit[i1,] < 6]  #Only include points where line is lwaa than ylim max to make plot prettier\n",
    "    lines(sgrid[ppts], mfit[i1,ppts], col=hsv((i1-1)/40,1,1), lwd = 5) #Plot a line showing curve at this offset over slopes\n",
    "    }\n",
    "lines(sgrid, mfit[lowesto,], lwd = 3, col = 1) #Plot the offset curve that produces lower error\n",
    "text(15,5, labels=paste(\"Best offset = \", igrid[lowesto]), adj=0) #Print this offset value\n",
    "lowests <- sgrid[mfit[lowesto,]==min(mfit, na.rm=T)] #Find slope that produces lowest error at this offset\n",
    "abline(v=lowests, lty=2) #Plot dotted line showing that slope\n",
    "text(15,4.7, labels=paste(\"Best slope =\", lowests), adj=0)\n",
    "bests <- lowests\n",
    "besto <- igrid[lowesto]"
   ]
  },
  {
   "cell_type": "markdown",
   "metadata": {},
   "source": [
    "The Figure shows the sum squared error between a curve (each defined by one offset/slope parameter pair) and the data. The curves are each plotted in a different rainbow color ranging from red to purple as the offset parameter increases. The black curve shows the offset that produces the lowest error overall, the the dotted line shows the slope at which that error occurs. The best pair of parameters are shown at the top.\n",
    "\n",
    "We can compute the proportion of variance accounted for by this curve ($r^2$) by taking the sum-squared error for the curve and dividing it by the total sum squared error (ie sum of squared differences from the mean):"
   ]
  },
  {
   "cell_type": "code",
   "execution_count": 20,
   "metadata": {},
   "outputs": [
    {
     "data": {
      "text/html": [
       "0.413293319711217"
      ],
      "text/latex": [
       "0.413293319711217"
      ],
      "text/markdown": [
       "0.413293319711217"
      ],
      "text/plain": [
       "[1] 0.4132933"
      ]
     },
     "metadata": {},
     "output_type": "display_data"
    }
   ],
   "source": [
    "p <- get.pwt(noo$AlVar, s=bests, i=besto)  #predicted p for variable source\n",
    "sse <- sum((p - noo$VarPClip)^2)      #sum squared error from the regression line\n",
    "toterr <- sum((noo$VarPClip - mean(noo$VarPClip))^2)   #Sum squared error from the mean\n",
    "1 - sse/toterr    #Proportion of total error explained by the regression line"
   ]
  },
  {
   "cell_type": "markdown",
   "metadata": {},
   "source": [
    "So HEW model accounts for more variance than either logistic or linear model.\n",
    "\n",
    "Here we can look at plot of residuals:"
   ]
  },
  {
   "cell_type": "code",
   "execution_count": 21,
   "metadata": {},
   "outputs": [
    {
     "data": {
      "image/png": "[encoded data removed]",
      "text/plain": [
       "plot without title"
      ]
     },
     "metadata": {},
     "output_type": "display_data"
    }
   ],
   "source": [
    "tmp <- get.pwt(noo$AlVar, s=24, i=5) - noo$VarPClip #HEW model residuals\n",
    "plot(zscore(tmp), ylim = c(-4,4)); \n",
    "abline(h=c(-zthresh, zthresh))"
   ]
  },
  {
   "cell_type": "code",
   "execution_count": 22,
   "metadata": {
    "scrolled": false
   },
   "outputs": [
    {
     "data": {
      "text/plain": [
       "\n",
       "\tShapiro-Wilk normality test\n",
       "\n",
       "data:  tmp\n",
       "W = 0.96178, p-value = 0.06903\n"
      ]
     },
     "metadata": {},
     "output_type": "display_data"
    },
    {
     "data": {
      "image/png": "[encoded data removed]",
      "text/plain": [
       "Plot with title \"Normal Q-Q Plot\""
      ]
     },
     "metadata": {},
     "output_type": "display_data"
    }
   ],
   "source": [
    "qqnorm(tmp)\n",
    "shapiro.test(tmp)"
   ]
  },
  {
   "cell_type": "markdown",
   "metadata": {},
   "source": [
    "Residuals look slightly leptokurtic but still not reliably different from zero."
   ]
  },
  {
   "cell_type": "markdown",
   "metadata": {},
   "source": [
    "The following block of code removes items with residuals outside the outlier cutoff for a less conservative view of model fit. We have left it commented out in final analysis."
   ]
  },
  {
   "cell_type": "code",
   "execution_count": 23,
   "metadata": {},
   "outputs": [],
   "source": [
    "#sjex <- c(sjex, as.character(noo$SID[abs(zscore(tmp)) > zthresh])) #Add residual outliers to exclude list\n",
    "#sjex <- unique(sjex) #Remove any accidental repeats from exclude list\n",
    "#noo <- noo[is.na(match(noo$SID, sjex)), ]  #Remove from noo object\n",
    "#dim(noo)"
   ]
  },
  {
   "cell_type": "markdown",
   "metadata": {},
   "source": [
    "Now plot the estimated weight for the distal source against the amount of boundary shift, and show fitted lines for the three models. Optionally also show the linear (green) and logistic (blue) regression lines, and the HEW curve that would be observed if participant boundaries did not shift (red dotted)."
   ]
  },
  {
   "cell_type": "code",
   "execution_count": 24,
   "metadata": {
    "scrolled": false
   },
   "outputs": [
    {
     "data": {
      "image/png": "[encoded data removed]",
      "text/plain": [
       "plot without title"
      ]
     },
     "metadata": {},
     "output_type": "display_data"
    }
   ],
   "source": [
    "plot.pfit(noo, s = bests, o = besto)   #Plot with HEW curve\n",
    "lines(0:165, get.pwt(0:165, s=15, i=4.5), lty = 2, col = 2) #Add HEW curve that predicts 0 change\n",
    "abline(m1$coefficients, col = 3)  #Line from linear model\n",
    "lines(0:165, 1/(1 + exp(-1 * (0.54 - 0.019743 * c(0:165)))), col = 4)    #Add curve from sigmoid model\n"
   ]
  },
  {
   "cell_type": "markdown",
   "metadata": {},
   "source": [
    "**The plot shows,** for each subject, the distance between the initial boundary and far source (X axis) and the estimate of the proportional weight given to the far source (Y axis). The green line shows the linear fit; the blue line shows the logistic fit. Neither is as good as the HEW function shown by the solid red line. The dotted red line indicates what the estimated weight would be when $s=15$, the value that would produce no boundary change on average. The curve estimated from the data always gives more weight to the varying source.\n"
   ]
  },
  {
   "cell_type": "markdown",
   "metadata": {},
   "source": [
    "## Additional analyses"
   ]
  },
  {
   "cell_type": "markdown",
   "metadata": {},
   "source": [
    "Below are some additional analyses not discussed in the paper."
   ]
  },
  {
   "cell_type": "markdown",
   "metadata": {},
   "source": [
    "### Source ratings"
   ]
  },
  {
   "cell_type": "markdown",
   "metadata": {},
   "source": [
    "Now let's look at the relationship between performance on the categorization task and ratings of the two sources for knowledge, trust, accuracy, and attractiveness. For each attribute we will plot the *fixed-source advantage*, that is, the rating of the fixed source minus the rating of the varying source. When this is positive, people rated the fixed source more highly; when negative, they rated the varying source more highly. First let's consider how this fixed-source advantage varies with the weight given to the varying source."
   ]
  },
  {
   "cell_type": "code",
   "execution_count": 50,
   "metadata": {},
   "outputs": [
    {
     "data": {
      "image/png": "[encoded data removed]",
      "text/plain": [
       "Plot with title \"Attractiveness\""
      ]
     },
     "metadata": {},
     "output_type": "display_data"
    }
   ],
   "source": [
    "par(mfrow = c(2,2), mar = c(3,3,1,1), oma = c(1,1,1,1))\n",
    "tmp <- noo #Copy no outlier object to tmp object\n",
    "\n",
    "#For knowledge\n",
    "m <- lm(Kdiff ~ VarPClip, data = tmp) #Fit linear model\n",
    "inc <- (cooks.distance(m) < 4/dim(tmp)[1]) #Exclude high-leverage points\n",
    "plot(tmp$VarPClip, tmp$Kdiff, pch = 16, xlab=\"Varying source weight\", ylab=\"Fixed advantage\",\n",
    "     col = 2 - as.numeric(inc)) #Plot with high-leverage points in red\n",
    "title(\"Knowledge\")\n",
    "abline(lm(Kdiff ~ VarPClip, data = tmp)$coefficients, col=2, lty=2) #Line including high-leverage\n",
    "abline(lm(Kdiff ~ VarPClip, data = tmp[inc==1,])$coefficients) #Line excluding high-leverage\n",
    "\n",
    "m <- lm(Tdiff ~ VarPClip, data = tmp) #Fit linear model\n",
    "inc <- (cooks.distance(m) < 4/dim(tmp)[1]) #Exclude high-leverage points\n",
    "plot(tmp$VarPClip, tmp$Tdiff, pch = 16, xlab=\"Varying source weight\", ylab=\"Fixed advantage\",\n",
    "     col = 2 - as.numeric(inc)) #Plot with high-leverage points in red\n",
    "abline(lm(Tdiff ~ VarPClip, data = tmp)$coefficients, col=2, lty = 2)\n",
    "abline(lm(Tdiff ~ VarPClip, data = tmp[inc==1,])$coefficients)\n",
    "title(\"Trust\")\n",
    "\n",
    "m <- lm(AccDiff ~ VarPClip, data = tmp) #Fit linear model\n",
    "inc <- (cooks.distance(m) < 4/dim(tmp)[1]) #Exclude high-leverage points\n",
    "plot(tmp$VarPClip, tmp$AccDiff, pch = 16, xlab=\"Varying source weight\", ylab=\"Fixed advantage\",\n",
    "     col = 2 - as.numeric(inc)) #Plot with high-leverage points in red\n",
    "abline(lm(AccDiff ~ VarPClip, data = tmp)$coefficients, col=2, lty=2) #Line including high-leverage\n",
    "abline(lm(AccDiff ~ VarPClip, data = tmp[inc==1,])$coefficients)\n",
    "title(\"Accuracy\")\n",
    "\n",
    "m <- lm(AttDiff ~ VarPClip, data = tmp) #Fit linear model\n",
    "inc <- (cooks.distance(m) < 4/dim(tmp)[1]) #Exclude high-leverage points\n",
    "plot(tmp$VarPClip, tmp$AttDiff, pch = 16, xlab=\"Varying source weight\", ylab=\"Fixed advantage\",\n",
    "    col = 2 - as.numeric(inc)) #Plot with high-leverage points in red \n",
    "abline(lm(AttDiff ~ VarPClip, data = tmp)$coefficients, col=2, lty=2) #Line including high-leverage\n",
    "abline(lm(AttDiff ~ VarPClip, data = tmp[inc==1,])$coefficients)\n",
    "title(\"Attractiveness\")\n"
   ]
  },
  {
   "cell_type": "markdown",
   "metadata": {},
   "source": [
    "Red indicates high-leverage points, ie, points whose inclusion significantly affects the slope of the regression line. The solid black line shows the best fit excluding high-leverage points; red indicates best fit including high-leverage points. The correlation is significant for Knowledge and Trust when the high-leverage points are excluded"
   ]
  },
  {
   "cell_type": "code",
   "execution_count": 74,
   "metadata": {},
   "outputs": [
    {
     "data": {
      "text/plain": [
       "\n",
       "Call:\n",
       "lm(formula = Kdiff ~ VarPClip, data = tmp[inc == 1, ])\n",
       "\n",
       "Residuals:\n",
       "    Min      1Q  Median      3Q     Max \n",
       "-52.870 -14.589   0.493  16.248  67.838 \n",
       "\n",
       "Coefficients:\n",
       "            Estimate Std. Error t value Pr(>|t|)  \n",
       "(Intercept)    15.19       6.78   2.241   0.0294 *\n",
       "VarPClip      -30.10      18.37  -1.639   0.1073  \n",
       "---\n",
       "Signif. codes:  0 '***' 0.001 '**' 0.01 '*' 0.05 '.' 0.1 ' ' 1\n",
       "\n",
       "Residual standard error: 27.62 on 52 degrees of freedom\n",
       "Multiple R-squared:  0.0491,\tAdjusted R-squared:  0.03081 \n",
       "F-statistic: 2.685 on 1 and 52 DF,  p-value: 0.1073\n"
      ]
     },
     "metadata": {},
     "output_type": "display_data"
    }
   ],
   "source": [
    "tmp <- noo #Remove outliers from data\n",
    "\n",
    "#For knowledge\n",
    "m <- lm(Kdiff ~ VarPClip, data = tmp) #Fit linear model\n",
    "inc <- (cooks.distance(m) < 4/dim(tmp)[1]) #Exclude high-leverage points\n",
    "summary(lm(Kdiff ~ VarPClip, data = tmp[inc==1,]))"
   ]
  },
  {
   "cell_type": "code",
   "execution_count": 75,
   "metadata": {
    "scrolled": true
   },
   "outputs": [
    {
     "data": {
      "text/plain": [
       "\n",
       "Call:\n",
       "lm(formula = Tdiff ~ VarPClip, data = tmp[inc == 1, ])\n",
       "\n",
       "Residuals:\n",
       "    Min      1Q  Median      3Q     Max \n",
       "-44.869 -12.403  -1.458  11.295  53.981 \n",
       "\n",
       "Coefficients:\n",
       "            Estimate Std. Error t value Pr(>|t|)  \n",
       "(Intercept)   12.663      5.597   2.263    0.028 *\n",
       "VarPClip     -26.027     14.422  -1.805    0.077 .\n",
       "---\n",
       "Signif. codes:  0 '***' 0.001 '**' 0.01 '*' 0.05 '.' 0.1 ' ' 1\n",
       "\n",
       "Residual standard error: 22.4 on 51 degrees of freedom\n",
       "Multiple R-squared:  0.06003,\tAdjusted R-squared:  0.0416 \n",
       "F-statistic: 3.257 on 1 and 51 DF,  p-value: 0.07703\n"
      ]
     },
     "metadata": {},
     "output_type": "display_data"
    }
   ],
   "source": [
    "tmp <- noo #Remove outliers from data\n",
    "\n",
    "#For knowledge\n",
    "m <- lm(Tdiff ~ VarPClip, data = tmp) #Fit linear model\n",
    "inc <- (cooks.distance(m) < 4/dim(tmp)[1]) #Exclude high-leverage points\n",
    "summary(lm(Tdiff ~ VarPClip, data = tmp[inc==1,]))"
   ]
  },
  {
   "cell_type": "markdown",
   "metadata": {},
   "source": [
    "The regression is not significant for Accuracy or Attractiveness"
   ]
  },
  {
   "cell_type": "code",
   "execution_count": null,
   "metadata": {
    "collapsed": true
   },
   "outputs": [],
   "source": []
  }
 ],
 "metadata": {
  "kernelspec": {
   "display_name": "R",
   "language": "R",
   "name": "ir"
  },
  "language_info": {
   "codemirror_mode": "r",
   "file_extension": ".r",
   "mimetype": "text/x-r-source",
   "name": "R",
   "pygments_lexer": "r",
   "version": "3.6.1"
  }
 },
 "nbformat": 4,
 "nbformat_minor": 2
}
